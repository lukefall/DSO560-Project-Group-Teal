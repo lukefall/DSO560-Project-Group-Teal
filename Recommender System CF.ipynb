{
  "nbformat": 4,
  "nbformat_minor": 0,
  "metadata": {
    "kernelspec": {
      "display_name": "Python 3",
      "language": "python",
      "name": "python3"
    },
    "language_info": {
      "codemirror_mode": {
        "name": "ipython",
        "version": 3
      },
      "file_extension": ".py",
      "mimetype": "text/x-python",
      "name": "python",
      "nbconvert_exporter": "python",
      "pygments_lexer": "ipython3",
      "version": "3.7.6"
    },
    "colab": {
      "name": "Matrix Factorization.ipynb",
      "provenance": [],
      "collapsed_sections": [
        "oX0JBm-uhLlH",
        "idZ6W7cUhQQq",
        "olDU3YX9JOmR",
        "OPzba4z0hBo3",
        "nBPTGKp_JCvW",
        "pb9KckyCAVS7",
        "mbyr_2-O9b0-",
        "QYVyrJitk4zA"
      ]
    },
    "widgets": {
      "application/vnd.jupyter.widget-state+json": {
        "6400c8faddb74b61b3e7d3199a1cf953": {
          "model_module": "@jupyter-widgets/controls",
          "model_name": "HBoxModel",
          "state": {
            "_view_name": "HBoxView",
            "_dom_classes": [],
            "_model_name": "HBoxModel",
            "_view_module": "@jupyter-widgets/controls",
            "_model_module_version": "1.5.0",
            "_view_count": null,
            "_view_module_version": "1.5.0",
            "box_style": "",
            "layout": "IPY_MODEL_e0fe66ac3d6440f9a8fcc4cb0ed572e7",
            "_model_module": "@jupyter-widgets/controls",
            "children": [
              "IPY_MODEL_f6b0e02778ba4c2894e1cba5f26dce60",
              "IPY_MODEL_696e5772037b486e978d13335e36bb28"
            ]
          }
        },
        "e0fe66ac3d6440f9a8fcc4cb0ed572e7": {
          "model_module": "@jupyter-widgets/base",
          "model_name": "LayoutModel",
          "state": {
            "_view_name": "LayoutView",
            "grid_template_rows": null,
            "right": null,
            "justify_content": null,
            "_view_module": "@jupyter-widgets/base",
            "overflow": null,
            "_model_module_version": "1.2.0",
            "_view_count": null,
            "flex_flow": null,
            "width": null,
            "min_width": null,
            "border": null,
            "align_items": null,
            "bottom": null,
            "_model_module": "@jupyter-widgets/base",
            "top": null,
            "grid_column": null,
            "overflow_y": null,
            "overflow_x": null,
            "grid_auto_flow": null,
            "grid_area": null,
            "grid_template_columns": null,
            "flex": null,
            "_model_name": "LayoutModel",
            "justify_items": null,
            "grid_row": null,
            "max_height": null,
            "align_content": null,
            "visibility": null,
            "align_self": null,
            "height": null,
            "min_height": null,
            "padding": null,
            "grid_auto_rows": null,
            "grid_gap": null,
            "max_width": null,
            "order": null,
            "_view_module_version": "1.2.0",
            "grid_template_areas": null,
            "object_position": null,
            "object_fit": null,
            "grid_auto_columns": null,
            "margin": null,
            "display": null,
            "left": null
          }
        },
        "f6b0e02778ba4c2894e1cba5f26dce60": {
          "model_module": "@jupyter-widgets/controls",
          "model_name": "FloatProgressModel",
          "state": {
            "_view_name": "ProgressView",
            "style": "IPY_MODEL_4410545e0c324dc9bc2c047e71c75c11",
            "_dom_classes": [],
            "description": "100%",
            "_model_name": "FloatProgressModel",
            "bar_style": "success",
            "max": 50,
            "_view_module": "@jupyter-widgets/controls",
            "_model_module_version": "1.5.0",
            "value": 50,
            "_view_count": null,
            "_view_module_version": "1.5.0",
            "orientation": "horizontal",
            "min": 0,
            "description_tooltip": null,
            "_model_module": "@jupyter-widgets/controls",
            "layout": "IPY_MODEL_821c144169fe48559734325878fbaa72"
          }
        },
        "696e5772037b486e978d13335e36bb28": {
          "model_module": "@jupyter-widgets/controls",
          "model_name": "HTMLModel",
          "state": {
            "_view_name": "HTMLView",
            "style": "IPY_MODEL_c7faf6160a3a46b0a64ed1211991c30a",
            "_dom_classes": [],
            "description": "",
            "_model_name": "HTMLModel",
            "placeholder": "​",
            "_view_module": "@jupyter-widgets/controls",
            "_model_module_version": "1.5.0",
            "value": " 50/50 [00:14&lt;00:00,  3.36it/s]",
            "_view_count": null,
            "_view_module_version": "1.5.0",
            "description_tooltip": null,
            "_model_module": "@jupyter-widgets/controls",
            "layout": "IPY_MODEL_dfbfb8dbc7ce4f39b621fca6a9d37b65"
          }
        },
        "4410545e0c324dc9bc2c047e71c75c11": {
          "model_module": "@jupyter-widgets/controls",
          "model_name": "ProgressStyleModel",
          "state": {
            "_view_name": "StyleView",
            "_model_name": "ProgressStyleModel",
            "description_width": "initial",
            "_view_module": "@jupyter-widgets/base",
            "_model_module_version": "1.5.0",
            "_view_count": null,
            "_view_module_version": "1.2.0",
            "bar_color": null,
            "_model_module": "@jupyter-widgets/controls"
          }
        },
        "821c144169fe48559734325878fbaa72": {
          "model_module": "@jupyter-widgets/base",
          "model_name": "LayoutModel",
          "state": {
            "_view_name": "LayoutView",
            "grid_template_rows": null,
            "right": null,
            "justify_content": null,
            "_view_module": "@jupyter-widgets/base",
            "overflow": null,
            "_model_module_version": "1.2.0",
            "_view_count": null,
            "flex_flow": null,
            "width": null,
            "min_width": null,
            "border": null,
            "align_items": null,
            "bottom": null,
            "_model_module": "@jupyter-widgets/base",
            "top": null,
            "grid_column": null,
            "overflow_y": null,
            "overflow_x": null,
            "grid_auto_flow": null,
            "grid_area": null,
            "grid_template_columns": null,
            "flex": null,
            "_model_name": "LayoutModel",
            "justify_items": null,
            "grid_row": null,
            "max_height": null,
            "align_content": null,
            "visibility": null,
            "align_self": null,
            "height": null,
            "min_height": null,
            "padding": null,
            "grid_auto_rows": null,
            "grid_gap": null,
            "max_width": null,
            "order": null,
            "_view_module_version": "1.2.0",
            "grid_template_areas": null,
            "object_position": null,
            "object_fit": null,
            "grid_auto_columns": null,
            "margin": null,
            "display": null,
            "left": null
          }
        },
        "c7faf6160a3a46b0a64ed1211991c30a": {
          "model_module": "@jupyter-widgets/controls",
          "model_name": "DescriptionStyleModel",
          "state": {
            "_view_name": "StyleView",
            "_model_name": "DescriptionStyleModel",
            "description_width": "",
            "_view_module": "@jupyter-widgets/base",
            "_model_module_version": "1.5.0",
            "_view_count": null,
            "_view_module_version": "1.2.0",
            "_model_module": "@jupyter-widgets/controls"
          }
        },
        "dfbfb8dbc7ce4f39b621fca6a9d37b65": {
          "model_module": "@jupyter-widgets/base",
          "model_name": "LayoutModel",
          "state": {
            "_view_name": "LayoutView",
            "grid_template_rows": null,
            "right": null,
            "justify_content": null,
            "_view_module": "@jupyter-widgets/base",
            "overflow": null,
            "_model_module_version": "1.2.0",
            "_view_count": null,
            "flex_flow": null,
            "width": null,
            "min_width": null,
            "border": null,
            "align_items": null,
            "bottom": null,
            "_model_module": "@jupyter-widgets/base",
            "top": null,
            "grid_column": null,
            "overflow_y": null,
            "overflow_x": null,
            "grid_auto_flow": null,
            "grid_area": null,
            "grid_template_columns": null,
            "flex": null,
            "_model_name": "LayoutModel",
            "justify_items": null,
            "grid_row": null,
            "max_height": null,
            "align_content": null,
            "visibility": null,
            "align_self": null,
            "height": null,
            "min_height": null,
            "padding": null,
            "grid_auto_rows": null,
            "grid_gap": null,
            "max_width": null,
            "order": null,
            "_view_module_version": "1.2.0",
            "grid_template_areas": null,
            "object_position": null,
            "object_fit": null,
            "grid_auto_columns": null,
            "margin": null,
            "display": null,
            "left": null
          }
        },
        "38317259824b419b8bdc195b4924946a": {
          "model_module": "@jupyter-widgets/controls",
          "model_name": "HBoxModel",
          "state": {
            "_view_name": "HBoxView",
            "_dom_classes": [],
            "_model_name": "HBoxModel",
            "_view_module": "@jupyter-widgets/controls",
            "_model_module_version": "1.5.0",
            "_view_count": null,
            "_view_module_version": "1.5.0",
            "box_style": "",
            "layout": "IPY_MODEL_1303bc8df1aa418e88ee626160792af4",
            "_model_module": "@jupyter-widgets/controls",
            "children": [
              "IPY_MODEL_51f8665290f14cdba1c2e69c63a6f17a",
              "IPY_MODEL_ecb76325b0464a59962fe996f8765a51"
            ]
          }
        },
        "1303bc8df1aa418e88ee626160792af4": {
          "model_module": "@jupyter-widgets/base",
          "model_name": "LayoutModel",
          "state": {
            "_view_name": "LayoutView",
            "grid_template_rows": null,
            "right": null,
            "justify_content": null,
            "_view_module": "@jupyter-widgets/base",
            "overflow": null,
            "_model_module_version": "1.2.0",
            "_view_count": null,
            "flex_flow": null,
            "width": null,
            "min_width": null,
            "border": null,
            "align_items": null,
            "bottom": null,
            "_model_module": "@jupyter-widgets/base",
            "top": null,
            "grid_column": null,
            "overflow_y": null,
            "overflow_x": null,
            "grid_auto_flow": null,
            "grid_area": null,
            "grid_template_columns": null,
            "flex": null,
            "_model_name": "LayoutModel",
            "justify_items": null,
            "grid_row": null,
            "max_height": null,
            "align_content": null,
            "visibility": null,
            "align_self": null,
            "height": null,
            "min_height": null,
            "padding": null,
            "grid_auto_rows": null,
            "grid_gap": null,
            "max_width": null,
            "order": null,
            "_view_module_version": "1.2.0",
            "grid_template_areas": null,
            "object_position": null,
            "object_fit": null,
            "grid_auto_columns": null,
            "margin": null,
            "display": null,
            "left": null
          }
        },
        "51f8665290f14cdba1c2e69c63a6f17a": {
          "model_module": "@jupyter-widgets/controls",
          "model_name": "FloatProgressModel",
          "state": {
            "_view_name": "ProgressView",
            "style": "IPY_MODEL_1433a550d22d4faa9626326592ec5e7e",
            "_dom_classes": [],
            "description": "100%",
            "_model_name": "FloatProgressModel",
            "bar_style": "success",
            "max": 50,
            "_view_module": "@jupyter-widgets/controls",
            "_model_module_version": "1.5.0",
            "value": 50,
            "_view_count": null,
            "_view_module_version": "1.5.0",
            "orientation": "horizontal",
            "min": 0,
            "description_tooltip": null,
            "_model_module": "@jupyter-widgets/controls",
            "layout": "IPY_MODEL_5f9f6db2400a47769f27c7a61384262a"
          }
        },
        "ecb76325b0464a59962fe996f8765a51": {
          "model_module": "@jupyter-widgets/controls",
          "model_name": "HTMLModel",
          "state": {
            "_view_name": "HTMLView",
            "style": "IPY_MODEL_4b6a9fae4a0849509cd68843c0d56f2b",
            "_dom_classes": [],
            "description": "",
            "_model_name": "HTMLModel",
            "placeholder": "​",
            "_view_module": "@jupyter-widgets/controls",
            "_model_module_version": "1.5.0",
            "value": " 50/50 [00:09&lt;00:00,  5.43it/s]",
            "_view_count": null,
            "_view_module_version": "1.5.0",
            "description_tooltip": null,
            "_model_module": "@jupyter-widgets/controls",
            "layout": "IPY_MODEL_212135e61107408ba3e0b24740a9acea"
          }
        },
        "1433a550d22d4faa9626326592ec5e7e": {
          "model_module": "@jupyter-widgets/controls",
          "model_name": "ProgressStyleModel",
          "state": {
            "_view_name": "StyleView",
            "_model_name": "ProgressStyleModel",
            "description_width": "initial",
            "_view_module": "@jupyter-widgets/base",
            "_model_module_version": "1.5.0",
            "_view_count": null,
            "_view_module_version": "1.2.0",
            "bar_color": null,
            "_model_module": "@jupyter-widgets/controls"
          }
        },
        "5f9f6db2400a47769f27c7a61384262a": {
          "model_module": "@jupyter-widgets/base",
          "model_name": "LayoutModel",
          "state": {
            "_view_name": "LayoutView",
            "grid_template_rows": null,
            "right": null,
            "justify_content": null,
            "_view_module": "@jupyter-widgets/base",
            "overflow": null,
            "_model_module_version": "1.2.0",
            "_view_count": null,
            "flex_flow": null,
            "width": null,
            "min_width": null,
            "border": null,
            "align_items": null,
            "bottom": null,
            "_model_module": "@jupyter-widgets/base",
            "top": null,
            "grid_column": null,
            "overflow_y": null,
            "overflow_x": null,
            "grid_auto_flow": null,
            "grid_area": null,
            "grid_template_columns": null,
            "flex": null,
            "_model_name": "LayoutModel",
            "justify_items": null,
            "grid_row": null,
            "max_height": null,
            "align_content": null,
            "visibility": null,
            "align_self": null,
            "height": null,
            "min_height": null,
            "padding": null,
            "grid_auto_rows": null,
            "grid_gap": null,
            "max_width": null,
            "order": null,
            "_view_module_version": "1.2.0",
            "grid_template_areas": null,
            "object_position": null,
            "object_fit": null,
            "grid_auto_columns": null,
            "margin": null,
            "display": null,
            "left": null
          }
        },
        "4b6a9fae4a0849509cd68843c0d56f2b": {
          "model_module": "@jupyter-widgets/controls",
          "model_name": "DescriptionStyleModel",
          "state": {
            "_view_name": "StyleView",
            "_model_name": "DescriptionStyleModel",
            "description_width": "",
            "_view_module": "@jupyter-widgets/base",
            "_model_module_version": "1.5.0",
            "_view_count": null,
            "_view_module_version": "1.2.0",
            "_model_module": "@jupyter-widgets/controls"
          }
        },
        "212135e61107408ba3e0b24740a9acea": {
          "model_module": "@jupyter-widgets/base",
          "model_name": "LayoutModel",
          "state": {
            "_view_name": "LayoutView",
            "grid_template_rows": null,
            "right": null,
            "justify_content": null,
            "_view_module": "@jupyter-widgets/base",
            "overflow": null,
            "_model_module_version": "1.2.0",
            "_view_count": null,
            "flex_flow": null,
            "width": null,
            "min_width": null,
            "border": null,
            "align_items": null,
            "bottom": null,
            "_model_module": "@jupyter-widgets/base",
            "top": null,
            "grid_column": null,
            "overflow_y": null,
            "overflow_x": null,
            "grid_auto_flow": null,
            "grid_area": null,
            "grid_template_columns": null,
            "flex": null,
            "_model_name": "LayoutModel",
            "justify_items": null,
            "grid_row": null,
            "max_height": null,
            "align_content": null,
            "visibility": null,
            "align_self": null,
            "height": null,
            "min_height": null,
            "padding": null,
            "grid_auto_rows": null,
            "grid_gap": null,
            "max_width": null,
            "order": null,
            "_view_module_version": "1.2.0",
            "grid_template_areas": null,
            "object_position": null,
            "object_fit": null,
            "grid_auto_columns": null,
            "margin": null,
            "display": null,
            "left": null
          }
        },
        "5ce8cb7310eb4b1db7af2daa7d483bc0": {
          "model_module": "@jupyter-widgets/controls",
          "model_name": "HBoxModel",
          "state": {
            "_view_name": "HBoxView",
            "_dom_classes": [],
            "_model_name": "HBoxModel",
            "_view_module": "@jupyter-widgets/controls",
            "_model_module_version": "1.5.0",
            "_view_count": null,
            "_view_module_version": "1.5.0",
            "box_style": "",
            "layout": "IPY_MODEL_c374195875864edfbef6e41e9dd503bf",
            "_model_module": "@jupyter-widgets/controls",
            "children": [
              "IPY_MODEL_77e7fd60bb8c47e3b082786bcd2765a8",
              "IPY_MODEL_d71b2bf452e145008a105779993ac3c4"
            ]
          }
        },
        "c374195875864edfbef6e41e9dd503bf": {
          "model_module": "@jupyter-widgets/base",
          "model_name": "LayoutModel",
          "state": {
            "_view_name": "LayoutView",
            "grid_template_rows": null,
            "right": null,
            "justify_content": null,
            "_view_module": "@jupyter-widgets/base",
            "overflow": null,
            "_model_module_version": "1.2.0",
            "_view_count": null,
            "flex_flow": null,
            "width": null,
            "min_width": null,
            "border": null,
            "align_items": null,
            "bottom": null,
            "_model_module": "@jupyter-widgets/base",
            "top": null,
            "grid_column": null,
            "overflow_y": null,
            "overflow_x": null,
            "grid_auto_flow": null,
            "grid_area": null,
            "grid_template_columns": null,
            "flex": null,
            "_model_name": "LayoutModel",
            "justify_items": null,
            "grid_row": null,
            "max_height": null,
            "align_content": null,
            "visibility": null,
            "align_self": null,
            "height": null,
            "min_height": null,
            "padding": null,
            "grid_auto_rows": null,
            "grid_gap": null,
            "max_width": null,
            "order": null,
            "_view_module_version": "1.2.0",
            "grid_template_areas": null,
            "object_position": null,
            "object_fit": null,
            "grid_auto_columns": null,
            "margin": null,
            "display": null,
            "left": null
          }
        },
        "77e7fd60bb8c47e3b082786bcd2765a8": {
          "model_module": "@jupyter-widgets/controls",
          "model_name": "FloatProgressModel",
          "state": {
            "_view_name": "ProgressView",
            "style": "IPY_MODEL_fd2ac97baa7c46f7ae529ba85d286f8e",
            "_dom_classes": [],
            "description": "100%",
            "_model_name": "FloatProgressModel",
            "bar_style": "success",
            "max": 50,
            "_view_module": "@jupyter-widgets/controls",
            "_model_module_version": "1.5.0",
            "value": 50,
            "_view_count": null,
            "_view_module_version": "1.5.0",
            "orientation": "horizontal",
            "min": 0,
            "description_tooltip": null,
            "_model_module": "@jupyter-widgets/controls",
            "layout": "IPY_MODEL_b0ea276fdc5e4fce9fce2357222f9253"
          }
        },
        "d71b2bf452e145008a105779993ac3c4": {
          "model_module": "@jupyter-widgets/controls",
          "model_name": "HTMLModel",
          "state": {
            "_view_name": "HTMLView",
            "style": "IPY_MODEL_ab193062213a4561849ef7ba612149cc",
            "_dom_classes": [],
            "description": "",
            "_model_name": "HTMLModel",
            "placeholder": "​",
            "_view_module": "@jupyter-widgets/controls",
            "_model_module_version": "1.5.0",
            "value": " 50/50 [00:10&lt;00:00,  4.61it/s]",
            "_view_count": null,
            "_view_module_version": "1.5.0",
            "description_tooltip": null,
            "_model_module": "@jupyter-widgets/controls",
            "layout": "IPY_MODEL_5e8b8116349f452c8771e14d85c94b15"
          }
        },
        "fd2ac97baa7c46f7ae529ba85d286f8e": {
          "model_module": "@jupyter-widgets/controls",
          "model_name": "ProgressStyleModel",
          "state": {
            "_view_name": "StyleView",
            "_model_name": "ProgressStyleModel",
            "description_width": "initial",
            "_view_module": "@jupyter-widgets/base",
            "_model_module_version": "1.5.0",
            "_view_count": null,
            "_view_module_version": "1.2.0",
            "bar_color": null,
            "_model_module": "@jupyter-widgets/controls"
          }
        },
        "b0ea276fdc5e4fce9fce2357222f9253": {
          "model_module": "@jupyter-widgets/base",
          "model_name": "LayoutModel",
          "state": {
            "_view_name": "LayoutView",
            "grid_template_rows": null,
            "right": null,
            "justify_content": null,
            "_view_module": "@jupyter-widgets/base",
            "overflow": null,
            "_model_module_version": "1.2.0",
            "_view_count": null,
            "flex_flow": null,
            "width": null,
            "min_width": null,
            "border": null,
            "align_items": null,
            "bottom": null,
            "_model_module": "@jupyter-widgets/base",
            "top": null,
            "grid_column": null,
            "overflow_y": null,
            "overflow_x": null,
            "grid_auto_flow": null,
            "grid_area": null,
            "grid_template_columns": null,
            "flex": null,
            "_model_name": "LayoutModel",
            "justify_items": null,
            "grid_row": null,
            "max_height": null,
            "align_content": null,
            "visibility": null,
            "align_self": null,
            "height": null,
            "min_height": null,
            "padding": null,
            "grid_auto_rows": null,
            "grid_gap": null,
            "max_width": null,
            "order": null,
            "_view_module_version": "1.2.0",
            "grid_template_areas": null,
            "object_position": null,
            "object_fit": null,
            "grid_auto_columns": null,
            "margin": null,
            "display": null,
            "left": null
          }
        },
        "ab193062213a4561849ef7ba612149cc": {
          "model_module": "@jupyter-widgets/controls",
          "model_name": "DescriptionStyleModel",
          "state": {
            "_view_name": "StyleView",
            "_model_name": "DescriptionStyleModel",
            "description_width": "",
            "_view_module": "@jupyter-widgets/base",
            "_model_module_version": "1.5.0",
            "_view_count": null,
            "_view_module_version": "1.2.0",
            "_model_module": "@jupyter-widgets/controls"
          }
        },
        "5e8b8116349f452c8771e14d85c94b15": {
          "model_module": "@jupyter-widgets/base",
          "model_name": "LayoutModel",
          "state": {
            "_view_name": "LayoutView",
            "grid_template_rows": null,
            "right": null,
            "justify_content": null,
            "_view_module": "@jupyter-widgets/base",
            "overflow": null,
            "_model_module_version": "1.2.0",
            "_view_count": null,
            "flex_flow": null,
            "width": null,
            "min_width": null,
            "border": null,
            "align_items": null,
            "bottom": null,
            "_model_module": "@jupyter-widgets/base",
            "top": null,
            "grid_column": null,
            "overflow_y": null,
            "overflow_x": null,
            "grid_auto_flow": null,
            "grid_area": null,
            "grid_template_columns": null,
            "flex": null,
            "_model_name": "LayoutModel",
            "justify_items": null,
            "grid_row": null,
            "max_height": null,
            "align_content": null,
            "visibility": null,
            "align_self": null,
            "height": null,
            "min_height": null,
            "padding": null,
            "grid_auto_rows": null,
            "grid_gap": null,
            "max_width": null,
            "order": null,
            "_view_module_version": "1.2.0",
            "grid_template_areas": null,
            "object_position": null,
            "object_fit": null,
            "grid_auto_columns": null,
            "margin": null,
            "display": null,
            "left": null
          }
        },
        "bb5b3dccaf894cd5972413ac0a29da85": {
          "model_module": "@jupyter-widgets/controls",
          "model_name": "HBoxModel",
          "state": {
            "_view_name": "HBoxView",
            "_dom_classes": [],
            "_model_name": "HBoxModel",
            "_view_module": "@jupyter-widgets/controls",
            "_model_module_version": "1.5.0",
            "_view_count": null,
            "_view_module_version": "1.5.0",
            "box_style": "",
            "layout": "IPY_MODEL_33b1ef9a35924fe9bc78c258f4dfc620",
            "_model_module": "@jupyter-widgets/controls",
            "children": [
              "IPY_MODEL_d24653c2ce2f45b5899309b2dc51a5a8",
              "IPY_MODEL_79cdd0a3754749f58fdc329de6c82749"
            ]
          }
        },
        "33b1ef9a35924fe9bc78c258f4dfc620": {
          "model_module": "@jupyter-widgets/base",
          "model_name": "LayoutModel",
          "state": {
            "_view_name": "LayoutView",
            "grid_template_rows": null,
            "right": null,
            "justify_content": null,
            "_view_module": "@jupyter-widgets/base",
            "overflow": null,
            "_model_module_version": "1.2.0",
            "_view_count": null,
            "flex_flow": null,
            "width": null,
            "min_width": null,
            "border": null,
            "align_items": null,
            "bottom": null,
            "_model_module": "@jupyter-widgets/base",
            "top": null,
            "grid_column": null,
            "overflow_y": null,
            "overflow_x": null,
            "grid_auto_flow": null,
            "grid_area": null,
            "grid_template_columns": null,
            "flex": null,
            "_model_name": "LayoutModel",
            "justify_items": null,
            "grid_row": null,
            "max_height": null,
            "align_content": null,
            "visibility": null,
            "align_self": null,
            "height": null,
            "min_height": null,
            "padding": null,
            "grid_auto_rows": null,
            "grid_gap": null,
            "max_width": null,
            "order": null,
            "_view_module_version": "1.2.0",
            "grid_template_areas": null,
            "object_position": null,
            "object_fit": null,
            "grid_auto_columns": null,
            "margin": null,
            "display": null,
            "left": null
          }
        },
        "d24653c2ce2f45b5899309b2dc51a5a8": {
          "model_module": "@jupyter-widgets/controls",
          "model_name": "FloatProgressModel",
          "state": {
            "_view_name": "ProgressView",
            "style": "IPY_MODEL_72d77d84a2df43169f3cdefaa53a6c87",
            "_dom_classes": [],
            "description": "100%",
            "_model_name": "FloatProgressModel",
            "bar_style": "success",
            "max": 50,
            "_view_module": "@jupyter-widgets/controls",
            "_model_module_version": "1.5.0",
            "value": 50,
            "_view_count": null,
            "_view_module_version": "1.5.0",
            "orientation": "horizontal",
            "min": 0,
            "description_tooltip": null,
            "_model_module": "@jupyter-widgets/controls",
            "layout": "IPY_MODEL_9419bedb74794c1a954391d829cfb9a8"
          }
        },
        "79cdd0a3754749f58fdc329de6c82749": {
          "model_module": "@jupyter-widgets/controls",
          "model_name": "HTMLModel",
          "state": {
            "_view_name": "HTMLView",
            "style": "IPY_MODEL_dd59d7d18ca44dbcbd4bb44ea58881d8",
            "_dom_classes": [],
            "description": "",
            "_model_name": "HTMLModel",
            "placeholder": "​",
            "_view_module": "@jupyter-widgets/controls",
            "_model_module_version": "1.5.0",
            "value": " 50/50 [00:09&lt;00:00,  5.01it/s]",
            "_view_count": null,
            "_view_module_version": "1.5.0",
            "description_tooltip": null,
            "_model_module": "@jupyter-widgets/controls",
            "layout": "IPY_MODEL_da4f4d96303341fa95792d816a349bef"
          }
        },
        "72d77d84a2df43169f3cdefaa53a6c87": {
          "model_module": "@jupyter-widgets/controls",
          "model_name": "ProgressStyleModel",
          "state": {
            "_view_name": "StyleView",
            "_model_name": "ProgressStyleModel",
            "description_width": "initial",
            "_view_module": "@jupyter-widgets/base",
            "_model_module_version": "1.5.0",
            "_view_count": null,
            "_view_module_version": "1.2.0",
            "bar_color": null,
            "_model_module": "@jupyter-widgets/controls"
          }
        },
        "9419bedb74794c1a954391d829cfb9a8": {
          "model_module": "@jupyter-widgets/base",
          "model_name": "LayoutModel",
          "state": {
            "_view_name": "LayoutView",
            "grid_template_rows": null,
            "right": null,
            "justify_content": null,
            "_view_module": "@jupyter-widgets/base",
            "overflow": null,
            "_model_module_version": "1.2.0",
            "_view_count": null,
            "flex_flow": null,
            "width": null,
            "min_width": null,
            "border": null,
            "align_items": null,
            "bottom": null,
            "_model_module": "@jupyter-widgets/base",
            "top": null,
            "grid_column": null,
            "overflow_y": null,
            "overflow_x": null,
            "grid_auto_flow": null,
            "grid_area": null,
            "grid_template_columns": null,
            "flex": null,
            "_model_name": "LayoutModel",
            "justify_items": null,
            "grid_row": null,
            "max_height": null,
            "align_content": null,
            "visibility": null,
            "align_self": null,
            "height": null,
            "min_height": null,
            "padding": null,
            "grid_auto_rows": null,
            "grid_gap": null,
            "max_width": null,
            "order": null,
            "_view_module_version": "1.2.0",
            "grid_template_areas": null,
            "object_position": null,
            "object_fit": null,
            "grid_auto_columns": null,
            "margin": null,
            "display": null,
            "left": null
          }
        },
        "dd59d7d18ca44dbcbd4bb44ea58881d8": {
          "model_module": "@jupyter-widgets/controls",
          "model_name": "DescriptionStyleModel",
          "state": {
            "_view_name": "StyleView",
            "_model_name": "DescriptionStyleModel",
            "description_width": "",
            "_view_module": "@jupyter-widgets/base",
            "_model_module_version": "1.5.0",
            "_view_count": null,
            "_view_module_version": "1.2.0",
            "_model_module": "@jupyter-widgets/controls"
          }
        },
        "da4f4d96303341fa95792d816a349bef": {
          "model_module": "@jupyter-widgets/base",
          "model_name": "LayoutModel",
          "state": {
            "_view_name": "LayoutView",
            "grid_template_rows": null,
            "right": null,
            "justify_content": null,
            "_view_module": "@jupyter-widgets/base",
            "overflow": null,
            "_model_module_version": "1.2.0",
            "_view_count": null,
            "flex_flow": null,
            "width": null,
            "min_width": null,
            "border": null,
            "align_items": null,
            "bottom": null,
            "_model_module": "@jupyter-widgets/base",
            "top": null,
            "grid_column": null,
            "overflow_y": null,
            "overflow_x": null,
            "grid_auto_flow": null,
            "grid_area": null,
            "grid_template_columns": null,
            "flex": null,
            "_model_name": "LayoutModel",
            "justify_items": null,
            "grid_row": null,
            "max_height": null,
            "align_content": null,
            "visibility": null,
            "align_self": null,
            "height": null,
            "min_height": null,
            "padding": null,
            "grid_auto_rows": null,
            "grid_gap": null,
            "max_width": null,
            "order": null,
            "_view_module_version": "1.2.0",
            "grid_template_areas": null,
            "object_position": null,
            "object_fit": null,
            "grid_auto_columns": null,
            "margin": null,
            "display": null,
            "left": null
          }
        },
        "072f4de543fa458a9a1c6a835b201c14": {
          "model_module": "@jupyter-widgets/controls",
          "model_name": "HBoxModel",
          "state": {
            "_view_name": "HBoxView",
            "_dom_classes": [],
            "_model_name": "HBoxModel",
            "_view_module": "@jupyter-widgets/controls",
            "_model_module_version": "1.5.0",
            "_view_count": null,
            "_view_module_version": "1.5.0",
            "box_style": "",
            "layout": "IPY_MODEL_72c3e67d0b024ea2a1ff7f6e7166256d",
            "_model_module": "@jupyter-widgets/controls",
            "children": [
              "IPY_MODEL_c82be2edda82429ba3b094cd7685a47f",
              "IPY_MODEL_6b56fe3c2ffd4ffa807bdaf0276f3556"
            ]
          }
        },
        "72c3e67d0b024ea2a1ff7f6e7166256d": {
          "model_module": "@jupyter-widgets/base",
          "model_name": "LayoutModel",
          "state": {
            "_view_name": "LayoutView",
            "grid_template_rows": null,
            "right": null,
            "justify_content": null,
            "_view_module": "@jupyter-widgets/base",
            "overflow": null,
            "_model_module_version": "1.2.0",
            "_view_count": null,
            "flex_flow": null,
            "width": null,
            "min_width": null,
            "border": null,
            "align_items": null,
            "bottom": null,
            "_model_module": "@jupyter-widgets/base",
            "top": null,
            "grid_column": null,
            "overflow_y": null,
            "overflow_x": null,
            "grid_auto_flow": null,
            "grid_area": null,
            "grid_template_columns": null,
            "flex": null,
            "_model_name": "LayoutModel",
            "justify_items": null,
            "grid_row": null,
            "max_height": null,
            "align_content": null,
            "visibility": null,
            "align_self": null,
            "height": null,
            "min_height": null,
            "padding": null,
            "grid_auto_rows": null,
            "grid_gap": null,
            "max_width": null,
            "order": null,
            "_view_module_version": "1.2.0",
            "grid_template_areas": null,
            "object_position": null,
            "object_fit": null,
            "grid_auto_columns": null,
            "margin": null,
            "display": null,
            "left": null
          }
        },
        "c82be2edda82429ba3b094cd7685a47f": {
          "model_module": "@jupyter-widgets/controls",
          "model_name": "FloatProgressModel",
          "state": {
            "_view_name": "ProgressView",
            "style": "IPY_MODEL_6d49dfe0ee744f81821c45d89e518953",
            "_dom_classes": [],
            "description": "100%",
            "_model_name": "FloatProgressModel",
            "bar_style": "success",
            "max": 50,
            "_view_module": "@jupyter-widgets/controls",
            "_model_module_version": "1.5.0",
            "value": 50,
            "_view_count": null,
            "_view_module_version": "1.5.0",
            "orientation": "horizontal",
            "min": 0,
            "description_tooltip": null,
            "_model_module": "@jupyter-widgets/controls",
            "layout": "IPY_MODEL_73f9746a8cc64999b62a7b5a58302102"
          }
        },
        "6b56fe3c2ffd4ffa807bdaf0276f3556": {
          "model_module": "@jupyter-widgets/controls",
          "model_name": "HTMLModel",
          "state": {
            "_view_name": "HTMLView",
            "style": "IPY_MODEL_d0f2ad5021bb46039874f1fa0e9cec9a",
            "_dom_classes": [],
            "description": "",
            "_model_name": "HTMLModel",
            "placeholder": "​",
            "_view_module": "@jupyter-widgets/controls",
            "_model_module_version": "1.5.0",
            "value": " 50/50 [01:03&lt;00:00,  1.27s/it, correct=50.71%, skipped=1.04%]",
            "_view_count": null,
            "_view_module_version": "1.5.0",
            "description_tooltip": null,
            "_model_module": "@jupyter-widgets/controls",
            "layout": "IPY_MODEL_02a46930ca994b45800e1b9a1f2d0da1"
          }
        },
        "6d49dfe0ee744f81821c45d89e518953": {
          "model_module": "@jupyter-widgets/controls",
          "model_name": "ProgressStyleModel",
          "state": {
            "_view_name": "StyleView",
            "_model_name": "ProgressStyleModel",
            "description_width": "initial",
            "_view_module": "@jupyter-widgets/base",
            "_model_module_version": "1.5.0",
            "_view_count": null,
            "_view_module_version": "1.2.0",
            "bar_color": null,
            "_model_module": "@jupyter-widgets/controls"
          }
        },
        "73f9746a8cc64999b62a7b5a58302102": {
          "model_module": "@jupyter-widgets/base",
          "model_name": "LayoutModel",
          "state": {
            "_view_name": "LayoutView",
            "grid_template_rows": null,
            "right": null,
            "justify_content": null,
            "_view_module": "@jupyter-widgets/base",
            "overflow": null,
            "_model_module_version": "1.2.0",
            "_view_count": null,
            "flex_flow": null,
            "width": null,
            "min_width": null,
            "border": null,
            "align_items": null,
            "bottom": null,
            "_model_module": "@jupyter-widgets/base",
            "top": null,
            "grid_column": null,
            "overflow_y": null,
            "overflow_x": null,
            "grid_auto_flow": null,
            "grid_area": null,
            "grid_template_columns": null,
            "flex": null,
            "_model_name": "LayoutModel",
            "justify_items": null,
            "grid_row": null,
            "max_height": null,
            "align_content": null,
            "visibility": null,
            "align_self": null,
            "height": null,
            "min_height": null,
            "padding": null,
            "grid_auto_rows": null,
            "grid_gap": null,
            "max_width": null,
            "order": null,
            "_view_module_version": "1.2.0",
            "grid_template_areas": null,
            "object_position": null,
            "object_fit": null,
            "grid_auto_columns": null,
            "margin": null,
            "display": null,
            "left": null
          }
        },
        "d0f2ad5021bb46039874f1fa0e9cec9a": {
          "model_module": "@jupyter-widgets/controls",
          "model_name": "DescriptionStyleModel",
          "state": {
            "_view_name": "StyleView",
            "_model_name": "DescriptionStyleModel",
            "description_width": "",
            "_view_module": "@jupyter-widgets/base",
            "_model_module_version": "1.5.0",
            "_view_count": null,
            "_view_module_version": "1.2.0",
            "_model_module": "@jupyter-widgets/controls"
          }
        },
        "02a46930ca994b45800e1b9a1f2d0da1": {
          "model_module": "@jupyter-widgets/base",
          "model_name": "LayoutModel",
          "state": {
            "_view_name": "LayoutView",
            "grid_template_rows": null,
            "right": null,
            "justify_content": null,
            "_view_module": "@jupyter-widgets/base",
            "overflow": null,
            "_model_module_version": "1.2.0",
            "_view_count": null,
            "flex_flow": null,
            "width": null,
            "min_width": null,
            "border": null,
            "align_items": null,
            "bottom": null,
            "_model_module": "@jupyter-widgets/base",
            "top": null,
            "grid_column": null,
            "overflow_y": null,
            "overflow_x": null,
            "grid_auto_flow": null,
            "grid_area": null,
            "grid_template_columns": null,
            "flex": null,
            "_model_name": "LayoutModel",
            "justify_items": null,
            "grid_row": null,
            "max_height": null,
            "align_content": null,
            "visibility": null,
            "align_self": null,
            "height": null,
            "min_height": null,
            "padding": null,
            "grid_auto_rows": null,
            "grid_gap": null,
            "max_width": null,
            "order": null,
            "_view_module_version": "1.2.0",
            "grid_template_areas": null,
            "object_position": null,
            "object_fit": null,
            "grid_auto_columns": null,
            "margin": null,
            "display": null,
            "left": null
          }
        },
        "83138350855345408e65a2f69a267a7f": {
          "model_module": "@jupyter-widgets/controls",
          "model_name": "HBoxModel",
          "state": {
            "_view_name": "HBoxView",
            "_dom_classes": [],
            "_model_name": "HBoxModel",
            "_view_module": "@jupyter-widgets/controls",
            "_model_module_version": "1.5.0",
            "_view_count": null,
            "_view_module_version": "1.5.0",
            "box_style": "",
            "layout": "IPY_MODEL_c1e82f9f63ad43a98fefa4845afb901d",
            "_model_module": "@jupyter-widgets/controls",
            "children": [
              "IPY_MODEL_f578c9249cd44002a3b11b210a685729",
              "IPY_MODEL_0ae85d0013ef434aa9ec8e1d453022e4"
            ]
          }
        },
        "c1e82f9f63ad43a98fefa4845afb901d": {
          "model_module": "@jupyter-widgets/base",
          "model_name": "LayoutModel",
          "state": {
            "_view_name": "LayoutView",
            "grid_template_rows": null,
            "right": null,
            "justify_content": null,
            "_view_module": "@jupyter-widgets/base",
            "overflow": null,
            "_model_module_version": "1.2.0",
            "_view_count": null,
            "flex_flow": null,
            "width": null,
            "min_width": null,
            "border": null,
            "align_items": null,
            "bottom": null,
            "_model_module": "@jupyter-widgets/base",
            "top": null,
            "grid_column": null,
            "overflow_y": null,
            "overflow_x": null,
            "grid_auto_flow": null,
            "grid_area": null,
            "grid_template_columns": null,
            "flex": null,
            "_model_name": "LayoutModel",
            "justify_items": null,
            "grid_row": null,
            "max_height": null,
            "align_content": null,
            "visibility": null,
            "align_self": null,
            "height": null,
            "min_height": null,
            "padding": null,
            "grid_auto_rows": null,
            "grid_gap": null,
            "max_width": null,
            "order": null,
            "_view_module_version": "1.2.0",
            "grid_template_areas": null,
            "object_position": null,
            "object_fit": null,
            "grid_auto_columns": null,
            "margin": null,
            "display": null,
            "left": null
          }
        },
        "f578c9249cd44002a3b11b210a685729": {
          "model_module": "@jupyter-widgets/controls",
          "model_name": "FloatProgressModel",
          "state": {
            "_view_name": "ProgressView",
            "style": "IPY_MODEL_deabac033c654bb1a65b9cec0f81b4eb",
            "_dom_classes": [],
            "description": "100%",
            "_model_name": "FloatProgressModel",
            "bar_style": "success",
            "max": 50,
            "_view_module": "@jupyter-widgets/controls",
            "_model_module_version": "1.5.0",
            "value": 50,
            "_view_count": null,
            "_view_module_version": "1.5.0",
            "orientation": "horizontal",
            "min": 0,
            "description_tooltip": null,
            "_model_module": "@jupyter-widgets/controls",
            "layout": "IPY_MODEL_cde261e3e53248899b573d15360e6d3a"
          }
        },
        "0ae85d0013ef434aa9ec8e1d453022e4": {
          "model_module": "@jupyter-widgets/controls",
          "model_name": "HTMLModel",
          "state": {
            "_view_name": "HTMLView",
            "style": "IPY_MODEL_50c08dce91c340979d7b09c74f4dc8ee",
            "_dom_classes": [],
            "description": "",
            "_model_name": "HTMLModel",
            "placeholder": "​",
            "_view_module": "@jupyter-widgets/controls",
            "_model_module_version": "1.5.0",
            "value": " 50/50 [00:01&lt;00:00, 48.70it/s]",
            "_view_count": null,
            "_view_module_version": "1.5.0",
            "description_tooltip": null,
            "_model_module": "@jupyter-widgets/controls",
            "layout": "IPY_MODEL_3f5b8c6d6ede4a8cb8c4f9517070706f"
          }
        },
        "deabac033c654bb1a65b9cec0f81b4eb": {
          "model_module": "@jupyter-widgets/controls",
          "model_name": "ProgressStyleModel",
          "state": {
            "_view_name": "StyleView",
            "_model_name": "ProgressStyleModel",
            "description_width": "initial",
            "_view_module": "@jupyter-widgets/base",
            "_model_module_version": "1.5.0",
            "_view_count": null,
            "_view_module_version": "1.2.0",
            "bar_color": null,
            "_model_module": "@jupyter-widgets/controls"
          }
        },
        "cde261e3e53248899b573d15360e6d3a": {
          "model_module": "@jupyter-widgets/base",
          "model_name": "LayoutModel",
          "state": {
            "_view_name": "LayoutView",
            "grid_template_rows": null,
            "right": null,
            "justify_content": null,
            "_view_module": "@jupyter-widgets/base",
            "overflow": null,
            "_model_module_version": "1.2.0",
            "_view_count": null,
            "flex_flow": null,
            "width": null,
            "min_width": null,
            "border": null,
            "align_items": null,
            "bottom": null,
            "_model_module": "@jupyter-widgets/base",
            "top": null,
            "grid_column": null,
            "overflow_y": null,
            "overflow_x": null,
            "grid_auto_flow": null,
            "grid_area": null,
            "grid_template_columns": null,
            "flex": null,
            "_model_name": "LayoutModel",
            "justify_items": null,
            "grid_row": null,
            "max_height": null,
            "align_content": null,
            "visibility": null,
            "align_self": null,
            "height": null,
            "min_height": null,
            "padding": null,
            "grid_auto_rows": null,
            "grid_gap": null,
            "max_width": null,
            "order": null,
            "_view_module_version": "1.2.0",
            "grid_template_areas": null,
            "object_position": null,
            "object_fit": null,
            "grid_auto_columns": null,
            "margin": null,
            "display": null,
            "left": null
          }
        },
        "50c08dce91c340979d7b09c74f4dc8ee": {
          "model_module": "@jupyter-widgets/controls",
          "model_name": "DescriptionStyleModel",
          "state": {
            "_view_name": "StyleView",
            "_model_name": "DescriptionStyleModel",
            "description_width": "",
            "_view_module": "@jupyter-widgets/base",
            "_model_module_version": "1.5.0",
            "_view_count": null,
            "_view_module_version": "1.2.0",
            "_model_module": "@jupyter-widgets/controls"
          }
        },
        "3f5b8c6d6ede4a8cb8c4f9517070706f": {
          "model_module": "@jupyter-widgets/base",
          "model_name": "LayoutModel",
          "state": {
            "_view_name": "LayoutView",
            "grid_template_rows": null,
            "right": null,
            "justify_content": null,
            "_view_module": "@jupyter-widgets/base",
            "overflow": null,
            "_model_module_version": "1.2.0",
            "_view_count": null,
            "flex_flow": null,
            "width": null,
            "min_width": null,
            "border": null,
            "align_items": null,
            "bottom": null,
            "_model_module": "@jupyter-widgets/base",
            "top": null,
            "grid_column": null,
            "overflow_y": null,
            "overflow_x": null,
            "grid_auto_flow": null,
            "grid_area": null,
            "grid_template_columns": null,
            "flex": null,
            "_model_name": "LayoutModel",
            "justify_items": null,
            "grid_row": null,
            "max_height": null,
            "align_content": null,
            "visibility": null,
            "align_self": null,
            "height": null,
            "min_height": null,
            "padding": null,
            "grid_auto_rows": null,
            "grid_gap": null,
            "max_width": null,
            "order": null,
            "_view_module_version": "1.2.0",
            "grid_template_areas": null,
            "object_position": null,
            "object_fit": null,
            "grid_auto_columns": null,
            "margin": null,
            "display": null,
            "left": null
          }
        },
        "d6022119d9544664b4c8d1511e39c3c9": {
          "model_module": "@jupyter-widgets/controls",
          "model_name": "HBoxModel",
          "state": {
            "_view_name": "HBoxView",
            "_dom_classes": [],
            "_model_name": "HBoxModel",
            "_view_module": "@jupyter-widgets/controls",
            "_model_module_version": "1.5.0",
            "_view_count": null,
            "_view_module_version": "1.5.0",
            "box_style": "",
            "layout": "IPY_MODEL_22040221dbc2424e85482ca4f0562e75",
            "_model_module": "@jupyter-widgets/controls",
            "children": [
              "IPY_MODEL_1b0d558f761d49b7bc82531f3aa6dd68",
              "IPY_MODEL_41432c5c7063408992f61da67bd9bea0"
            ]
          }
        },
        "22040221dbc2424e85482ca4f0562e75": {
          "model_module": "@jupyter-widgets/base",
          "model_name": "LayoutModel",
          "state": {
            "_view_name": "LayoutView",
            "grid_template_rows": null,
            "right": null,
            "justify_content": null,
            "_view_module": "@jupyter-widgets/base",
            "overflow": null,
            "_model_module_version": "1.2.0",
            "_view_count": null,
            "flex_flow": null,
            "width": null,
            "min_width": null,
            "border": null,
            "align_items": null,
            "bottom": null,
            "_model_module": "@jupyter-widgets/base",
            "top": null,
            "grid_column": null,
            "overflow_y": null,
            "overflow_x": null,
            "grid_auto_flow": null,
            "grid_area": null,
            "grid_template_columns": null,
            "flex": null,
            "_model_name": "LayoutModel",
            "justify_items": null,
            "grid_row": null,
            "max_height": null,
            "align_content": null,
            "visibility": null,
            "align_self": null,
            "height": null,
            "min_height": null,
            "padding": null,
            "grid_auto_rows": null,
            "grid_gap": null,
            "max_width": null,
            "order": null,
            "_view_module_version": "1.2.0",
            "grid_template_areas": null,
            "object_position": null,
            "object_fit": null,
            "grid_auto_columns": null,
            "margin": null,
            "display": null,
            "left": null
          }
        },
        "1b0d558f761d49b7bc82531f3aa6dd68": {
          "model_module": "@jupyter-widgets/controls",
          "model_name": "FloatProgressModel",
          "state": {
            "_view_name": "ProgressView",
            "style": "IPY_MODEL_8878491a26b14693a61e4c3ba79fd9ff",
            "_dom_classes": [],
            "description": "100%",
            "_model_name": "FloatProgressModel",
            "bar_style": "success",
            "max": 50,
            "_view_module": "@jupyter-widgets/controls",
            "_model_module_version": "1.5.0",
            "value": 50,
            "_view_count": null,
            "_view_module_version": "1.5.0",
            "orientation": "horizontal",
            "min": 0,
            "description_tooltip": null,
            "_model_module": "@jupyter-widgets/controls",
            "layout": "IPY_MODEL_5539123569314e4fb75760c91b7b66e1"
          }
        },
        "41432c5c7063408992f61da67bd9bea0": {
          "model_module": "@jupyter-widgets/controls",
          "model_name": "HTMLModel",
          "state": {
            "_view_name": "HTMLView",
            "style": "IPY_MODEL_77775bdcef124a20823eafa971537a49",
            "_dom_classes": [],
            "description": "",
            "_model_name": "HTMLModel",
            "placeholder": "​",
            "_view_module": "@jupyter-widgets/controls",
            "_model_module_version": "1.5.0",
            "value": " 50/50 [00:09&lt;00:00,  5.21it/s]",
            "_view_count": null,
            "_view_module_version": "1.5.0",
            "description_tooltip": null,
            "_model_module": "@jupyter-widgets/controls",
            "layout": "IPY_MODEL_f6a1f87e89ac4456a94549d9e3151570"
          }
        },
        "8878491a26b14693a61e4c3ba79fd9ff": {
          "model_module": "@jupyter-widgets/controls",
          "model_name": "ProgressStyleModel",
          "state": {
            "_view_name": "StyleView",
            "_model_name": "ProgressStyleModel",
            "description_width": "initial",
            "_view_module": "@jupyter-widgets/base",
            "_model_module_version": "1.5.0",
            "_view_count": null,
            "_view_module_version": "1.2.0",
            "bar_color": null,
            "_model_module": "@jupyter-widgets/controls"
          }
        },
        "5539123569314e4fb75760c91b7b66e1": {
          "model_module": "@jupyter-widgets/base",
          "model_name": "LayoutModel",
          "state": {
            "_view_name": "LayoutView",
            "grid_template_rows": null,
            "right": null,
            "justify_content": null,
            "_view_module": "@jupyter-widgets/base",
            "overflow": null,
            "_model_module_version": "1.2.0",
            "_view_count": null,
            "flex_flow": null,
            "width": null,
            "min_width": null,
            "border": null,
            "align_items": null,
            "bottom": null,
            "_model_module": "@jupyter-widgets/base",
            "top": null,
            "grid_column": null,
            "overflow_y": null,
            "overflow_x": null,
            "grid_auto_flow": null,
            "grid_area": null,
            "grid_template_columns": null,
            "flex": null,
            "_model_name": "LayoutModel",
            "justify_items": null,
            "grid_row": null,
            "max_height": null,
            "align_content": null,
            "visibility": null,
            "align_self": null,
            "height": null,
            "min_height": null,
            "padding": null,
            "grid_auto_rows": null,
            "grid_gap": null,
            "max_width": null,
            "order": null,
            "_view_module_version": "1.2.0",
            "grid_template_areas": null,
            "object_position": null,
            "object_fit": null,
            "grid_auto_columns": null,
            "margin": null,
            "display": null,
            "left": null
          }
        },
        "77775bdcef124a20823eafa971537a49": {
          "model_module": "@jupyter-widgets/controls",
          "model_name": "DescriptionStyleModel",
          "state": {
            "_view_name": "StyleView",
            "_model_name": "DescriptionStyleModel",
            "description_width": "",
            "_view_module": "@jupyter-widgets/base",
            "_model_module_version": "1.5.0",
            "_view_count": null,
            "_view_module_version": "1.2.0",
            "_model_module": "@jupyter-widgets/controls"
          }
        },
        "f6a1f87e89ac4456a94549d9e3151570": {
          "model_module": "@jupyter-widgets/base",
          "model_name": "LayoutModel",
          "state": {
            "_view_name": "LayoutView",
            "grid_template_rows": null,
            "right": null,
            "justify_content": null,
            "_view_module": "@jupyter-widgets/base",
            "overflow": null,
            "_model_module_version": "1.2.0",
            "_view_count": null,
            "flex_flow": null,
            "width": null,
            "min_width": null,
            "border": null,
            "align_items": null,
            "bottom": null,
            "_model_module": "@jupyter-widgets/base",
            "top": null,
            "grid_column": null,
            "overflow_y": null,
            "overflow_x": null,
            "grid_auto_flow": null,
            "grid_area": null,
            "grid_template_columns": null,
            "flex": null,
            "_model_name": "LayoutModel",
            "justify_items": null,
            "grid_row": null,
            "max_height": null,
            "align_content": null,
            "visibility": null,
            "align_self": null,
            "height": null,
            "min_height": null,
            "padding": null,
            "grid_auto_rows": null,
            "grid_gap": null,
            "max_width": null,
            "order": null,
            "_view_module_version": "1.2.0",
            "grid_template_areas": null,
            "object_position": null,
            "object_fit": null,
            "grid_auto_columns": null,
            "margin": null,
            "display": null,
            "left": null
          }
        },
        "4b17182b242f4291a07e6c94900ef975": {
          "model_module": "@jupyter-widgets/controls",
          "model_name": "HBoxModel",
          "state": {
            "_view_name": "HBoxView",
            "_dom_classes": [],
            "_model_name": "HBoxModel",
            "_view_module": "@jupyter-widgets/controls",
            "_model_module_version": "1.5.0",
            "_view_count": null,
            "_view_module_version": "1.5.0",
            "box_style": "",
            "layout": "IPY_MODEL_affce582daf24539a4dc9e42545aa76b",
            "_model_module": "@jupyter-widgets/controls",
            "children": [
              "IPY_MODEL_95434d34d97e49f9a091463798ba04fb",
              "IPY_MODEL_0c19fe9b076647de9bd3e569dc39a6ea"
            ]
          }
        },
        "affce582daf24539a4dc9e42545aa76b": {
          "model_module": "@jupyter-widgets/base",
          "model_name": "LayoutModel",
          "state": {
            "_view_name": "LayoutView",
            "grid_template_rows": null,
            "right": null,
            "justify_content": null,
            "_view_module": "@jupyter-widgets/base",
            "overflow": null,
            "_model_module_version": "1.2.0",
            "_view_count": null,
            "flex_flow": null,
            "width": null,
            "min_width": null,
            "border": null,
            "align_items": null,
            "bottom": null,
            "_model_module": "@jupyter-widgets/base",
            "top": null,
            "grid_column": null,
            "overflow_y": null,
            "overflow_x": null,
            "grid_auto_flow": null,
            "grid_area": null,
            "grid_template_columns": null,
            "flex": null,
            "_model_name": "LayoutModel",
            "justify_items": null,
            "grid_row": null,
            "max_height": null,
            "align_content": null,
            "visibility": null,
            "align_self": null,
            "height": null,
            "min_height": null,
            "padding": null,
            "grid_auto_rows": null,
            "grid_gap": null,
            "max_width": null,
            "order": null,
            "_view_module_version": "1.2.0",
            "grid_template_areas": null,
            "object_position": null,
            "object_fit": null,
            "grid_auto_columns": null,
            "margin": null,
            "display": null,
            "left": null
          }
        },
        "95434d34d97e49f9a091463798ba04fb": {
          "model_module": "@jupyter-widgets/controls",
          "model_name": "FloatProgressModel",
          "state": {
            "_view_name": "ProgressView",
            "style": "IPY_MODEL_2f4bbf9614b04815b54355643034c36e",
            "_dom_classes": [],
            "description": "100%",
            "_model_name": "FloatProgressModel",
            "bar_style": "success",
            "max": 50,
            "_view_module": "@jupyter-widgets/controls",
            "_model_module_version": "1.5.0",
            "value": 50,
            "_view_count": null,
            "_view_module_version": "1.5.0",
            "orientation": "horizontal",
            "min": 0,
            "description_tooltip": null,
            "_model_module": "@jupyter-widgets/controls",
            "layout": "IPY_MODEL_ae059d18b3ed4f96b3ed8683a8861285"
          }
        },
        "0c19fe9b076647de9bd3e569dc39a6ea": {
          "model_module": "@jupyter-widgets/controls",
          "model_name": "HTMLModel",
          "state": {
            "_view_name": "HTMLView",
            "style": "IPY_MODEL_810e88ea012f446092881fe4d8e507e7",
            "_dom_classes": [],
            "description": "",
            "_model_name": "HTMLModel",
            "placeholder": "​",
            "_view_module": "@jupyter-widgets/controls",
            "_model_module_version": "1.5.0",
            "value": " 50/50 [00:15&lt;00:00,  3.16it/s]",
            "_view_count": null,
            "_view_module_version": "1.5.0",
            "description_tooltip": null,
            "_model_module": "@jupyter-widgets/controls",
            "layout": "IPY_MODEL_dc860ab5935a41a39c3fce4115dba825"
          }
        },
        "2f4bbf9614b04815b54355643034c36e": {
          "model_module": "@jupyter-widgets/controls",
          "model_name": "ProgressStyleModel",
          "state": {
            "_view_name": "StyleView",
            "_model_name": "ProgressStyleModel",
            "description_width": "initial",
            "_view_module": "@jupyter-widgets/base",
            "_model_module_version": "1.5.0",
            "_view_count": null,
            "_view_module_version": "1.2.0",
            "bar_color": null,
            "_model_module": "@jupyter-widgets/controls"
          }
        },
        "ae059d18b3ed4f96b3ed8683a8861285": {
          "model_module": "@jupyter-widgets/base",
          "model_name": "LayoutModel",
          "state": {
            "_view_name": "LayoutView",
            "grid_template_rows": null,
            "right": null,
            "justify_content": null,
            "_view_module": "@jupyter-widgets/base",
            "overflow": null,
            "_model_module_version": "1.2.0",
            "_view_count": null,
            "flex_flow": null,
            "width": null,
            "min_width": null,
            "border": null,
            "align_items": null,
            "bottom": null,
            "_model_module": "@jupyter-widgets/base",
            "top": null,
            "grid_column": null,
            "overflow_y": null,
            "overflow_x": null,
            "grid_auto_flow": null,
            "grid_area": null,
            "grid_template_columns": null,
            "flex": null,
            "_model_name": "LayoutModel",
            "justify_items": null,
            "grid_row": null,
            "max_height": null,
            "align_content": null,
            "visibility": null,
            "align_self": null,
            "height": null,
            "min_height": null,
            "padding": null,
            "grid_auto_rows": null,
            "grid_gap": null,
            "max_width": null,
            "order": null,
            "_view_module_version": "1.2.0",
            "grid_template_areas": null,
            "object_position": null,
            "object_fit": null,
            "grid_auto_columns": null,
            "margin": null,
            "display": null,
            "left": null
          }
        },
        "810e88ea012f446092881fe4d8e507e7": {
          "model_module": "@jupyter-widgets/controls",
          "model_name": "DescriptionStyleModel",
          "state": {
            "_view_name": "StyleView",
            "_model_name": "DescriptionStyleModel",
            "description_width": "",
            "_view_module": "@jupyter-widgets/base",
            "_model_module_version": "1.5.0",
            "_view_count": null,
            "_view_module_version": "1.2.0",
            "_model_module": "@jupyter-widgets/controls"
          }
        },
        "dc860ab5935a41a39c3fce4115dba825": {
          "model_module": "@jupyter-widgets/base",
          "model_name": "LayoutModel",
          "state": {
            "_view_name": "LayoutView",
            "grid_template_rows": null,
            "right": null,
            "justify_content": null,
            "_view_module": "@jupyter-widgets/base",
            "overflow": null,
            "_model_module_version": "1.2.0",
            "_view_count": null,
            "flex_flow": null,
            "width": null,
            "min_width": null,
            "border": null,
            "align_items": null,
            "bottom": null,
            "_model_module": "@jupyter-widgets/base",
            "top": null,
            "grid_column": null,
            "overflow_y": null,
            "overflow_x": null,
            "grid_auto_flow": null,
            "grid_area": null,
            "grid_template_columns": null,
            "flex": null,
            "_model_name": "LayoutModel",
            "justify_items": null,
            "grid_row": null,
            "max_height": null,
            "align_content": null,
            "visibility": null,
            "align_self": null,
            "height": null,
            "min_height": null,
            "padding": null,
            "grid_auto_rows": null,
            "grid_gap": null,
            "max_width": null,
            "order": null,
            "_view_module_version": "1.2.0",
            "grid_template_areas": null,
            "object_position": null,
            "object_fit": null,
            "grid_auto_columns": null,
            "margin": null,
            "display": null,
            "left": null
          }
        },
        "6f62923363e74931a4a0a02d9ffe6695": {
          "model_module": "@jupyter-widgets/controls",
          "model_name": "HBoxModel",
          "state": {
            "_view_name": "HBoxView",
            "_dom_classes": [],
            "_model_name": "HBoxModel",
            "_view_module": "@jupyter-widgets/controls",
            "_model_module_version": "1.5.0",
            "_view_count": null,
            "_view_module_version": "1.5.0",
            "box_style": "",
            "layout": "IPY_MODEL_957a875fba6b45e48f9b854c98835f41",
            "_model_module": "@jupyter-widgets/controls",
            "children": [
              "IPY_MODEL_8c6581bef9e047d4a4866bc6f6f61003",
              "IPY_MODEL_d3c18075c1af426bbb17b3dd88cf1de8"
            ]
          }
        },
        "957a875fba6b45e48f9b854c98835f41": {
          "model_module": "@jupyter-widgets/base",
          "model_name": "LayoutModel",
          "state": {
            "_view_name": "LayoutView",
            "grid_template_rows": null,
            "right": null,
            "justify_content": null,
            "_view_module": "@jupyter-widgets/base",
            "overflow": null,
            "_model_module_version": "1.2.0",
            "_view_count": null,
            "flex_flow": null,
            "width": null,
            "min_width": null,
            "border": null,
            "align_items": null,
            "bottom": null,
            "_model_module": "@jupyter-widgets/base",
            "top": null,
            "grid_column": null,
            "overflow_y": null,
            "overflow_x": null,
            "grid_auto_flow": null,
            "grid_area": null,
            "grid_template_columns": null,
            "flex": null,
            "_model_name": "LayoutModel",
            "justify_items": null,
            "grid_row": null,
            "max_height": null,
            "align_content": null,
            "visibility": null,
            "align_self": null,
            "height": null,
            "min_height": null,
            "padding": null,
            "grid_auto_rows": null,
            "grid_gap": null,
            "max_width": null,
            "order": null,
            "_view_module_version": "1.2.0",
            "grid_template_areas": null,
            "object_position": null,
            "object_fit": null,
            "grid_auto_columns": null,
            "margin": null,
            "display": null,
            "left": null
          }
        },
        "8c6581bef9e047d4a4866bc6f6f61003": {
          "model_module": "@jupyter-widgets/controls",
          "model_name": "FloatProgressModel",
          "state": {
            "_view_name": "ProgressView",
            "style": "IPY_MODEL_a7393069516340b4b1ad87f24b7d34ae",
            "_dom_classes": [],
            "description": "100%",
            "_model_name": "FloatProgressModel",
            "bar_style": "success",
            "max": 50,
            "_view_module": "@jupyter-widgets/controls",
            "_model_module_version": "1.5.0",
            "value": 50,
            "_view_count": null,
            "_view_module_version": "1.5.0",
            "orientation": "horizontal",
            "min": 0,
            "description_tooltip": null,
            "_model_module": "@jupyter-widgets/controls",
            "layout": "IPY_MODEL_117a2509bac347e0a6de7b2c5169775c"
          }
        },
        "d3c18075c1af426bbb17b3dd88cf1de8": {
          "model_module": "@jupyter-widgets/controls",
          "model_name": "HTMLModel",
          "state": {
            "_view_name": "HTMLView",
            "style": "IPY_MODEL_4da89fe659374e73a0e971ee4f65a13b",
            "_dom_classes": [],
            "description": "",
            "_model_name": "HTMLModel",
            "placeholder": "​",
            "_view_module": "@jupyter-widgets/controls",
            "_model_module_version": "1.5.0",
            "value": " 50/50 [00:16&lt;00:00,  3.04it/s]",
            "_view_count": null,
            "_view_module_version": "1.5.0",
            "description_tooltip": null,
            "_model_module": "@jupyter-widgets/controls",
            "layout": "IPY_MODEL_ddd07f0a65dd4046bf1cdd69d85eb5f1"
          }
        },
        "a7393069516340b4b1ad87f24b7d34ae": {
          "model_module": "@jupyter-widgets/controls",
          "model_name": "ProgressStyleModel",
          "state": {
            "_view_name": "StyleView",
            "_model_name": "ProgressStyleModel",
            "description_width": "initial",
            "_view_module": "@jupyter-widgets/base",
            "_model_module_version": "1.5.0",
            "_view_count": null,
            "_view_module_version": "1.2.0",
            "bar_color": null,
            "_model_module": "@jupyter-widgets/controls"
          }
        },
        "117a2509bac347e0a6de7b2c5169775c": {
          "model_module": "@jupyter-widgets/base",
          "model_name": "LayoutModel",
          "state": {
            "_view_name": "LayoutView",
            "grid_template_rows": null,
            "right": null,
            "justify_content": null,
            "_view_module": "@jupyter-widgets/base",
            "overflow": null,
            "_model_module_version": "1.2.0",
            "_view_count": null,
            "flex_flow": null,
            "width": null,
            "min_width": null,
            "border": null,
            "align_items": null,
            "bottom": null,
            "_model_module": "@jupyter-widgets/base",
            "top": null,
            "grid_column": null,
            "overflow_y": null,
            "overflow_x": null,
            "grid_auto_flow": null,
            "grid_area": null,
            "grid_template_columns": null,
            "flex": null,
            "_model_name": "LayoutModel",
            "justify_items": null,
            "grid_row": null,
            "max_height": null,
            "align_content": null,
            "visibility": null,
            "align_self": null,
            "height": null,
            "min_height": null,
            "padding": null,
            "grid_auto_rows": null,
            "grid_gap": null,
            "max_width": null,
            "order": null,
            "_view_module_version": "1.2.0",
            "grid_template_areas": null,
            "object_position": null,
            "object_fit": null,
            "grid_auto_columns": null,
            "margin": null,
            "display": null,
            "left": null
          }
        },
        "4da89fe659374e73a0e971ee4f65a13b": {
          "model_module": "@jupyter-widgets/controls",
          "model_name": "DescriptionStyleModel",
          "state": {
            "_view_name": "StyleView",
            "_model_name": "DescriptionStyleModel",
            "description_width": "",
            "_view_module": "@jupyter-widgets/base",
            "_model_module_version": "1.5.0",
            "_view_count": null,
            "_view_module_version": "1.2.0",
            "_model_module": "@jupyter-widgets/controls"
          }
        },
        "ddd07f0a65dd4046bf1cdd69d85eb5f1": {
          "model_module": "@jupyter-widgets/base",
          "model_name": "LayoutModel",
          "state": {
            "_view_name": "LayoutView",
            "grid_template_rows": null,
            "right": null,
            "justify_content": null,
            "_view_module": "@jupyter-widgets/base",
            "overflow": null,
            "_model_module_version": "1.2.0",
            "_view_count": null,
            "flex_flow": null,
            "width": null,
            "min_width": null,
            "border": null,
            "align_items": null,
            "bottom": null,
            "_model_module": "@jupyter-widgets/base",
            "top": null,
            "grid_column": null,
            "overflow_y": null,
            "overflow_x": null,
            "grid_auto_flow": null,
            "grid_area": null,
            "grid_template_columns": null,
            "flex": null,
            "_model_name": "LayoutModel",
            "justify_items": null,
            "grid_row": null,
            "max_height": null,
            "align_content": null,
            "visibility": null,
            "align_self": null,
            "height": null,
            "min_height": null,
            "padding": null,
            "grid_auto_rows": null,
            "grid_gap": null,
            "max_width": null,
            "order": null,
            "_view_module_version": "1.2.0",
            "grid_template_areas": null,
            "object_position": null,
            "object_fit": null,
            "grid_auto_columns": null,
            "margin": null,
            "display": null,
            "left": null
          }
        },
        "13ce915662784822a43015be41de991c": {
          "model_module": "@jupyter-widgets/controls",
          "model_name": "HBoxModel",
          "state": {
            "_view_name": "HBoxView",
            "_dom_classes": [],
            "_model_name": "HBoxModel",
            "_view_module": "@jupyter-widgets/controls",
            "_model_module_version": "1.5.0",
            "_view_count": null,
            "_view_module_version": "1.5.0",
            "box_style": "",
            "layout": "IPY_MODEL_b579424eade84a4196508f9182a76a11",
            "_model_module": "@jupyter-widgets/controls",
            "children": [
              "IPY_MODEL_01aca5b8d55a486aae81aa981e7302ac",
              "IPY_MODEL_fdd827bcab8c4eb38cbdbab211b9042d"
            ]
          }
        },
        "b579424eade84a4196508f9182a76a11": {
          "model_module": "@jupyter-widgets/base",
          "model_name": "LayoutModel",
          "state": {
            "_view_name": "LayoutView",
            "grid_template_rows": null,
            "right": null,
            "justify_content": null,
            "_view_module": "@jupyter-widgets/base",
            "overflow": null,
            "_model_module_version": "1.2.0",
            "_view_count": null,
            "flex_flow": null,
            "width": null,
            "min_width": null,
            "border": null,
            "align_items": null,
            "bottom": null,
            "_model_module": "@jupyter-widgets/base",
            "top": null,
            "grid_column": null,
            "overflow_y": null,
            "overflow_x": null,
            "grid_auto_flow": null,
            "grid_area": null,
            "grid_template_columns": null,
            "flex": null,
            "_model_name": "LayoutModel",
            "justify_items": null,
            "grid_row": null,
            "max_height": null,
            "align_content": null,
            "visibility": null,
            "align_self": null,
            "height": null,
            "min_height": null,
            "padding": null,
            "grid_auto_rows": null,
            "grid_gap": null,
            "max_width": null,
            "order": null,
            "_view_module_version": "1.2.0",
            "grid_template_areas": null,
            "object_position": null,
            "object_fit": null,
            "grid_auto_columns": null,
            "margin": null,
            "display": null,
            "left": null
          }
        },
        "01aca5b8d55a486aae81aa981e7302ac": {
          "model_module": "@jupyter-widgets/controls",
          "model_name": "FloatProgressModel",
          "state": {
            "_view_name": "ProgressView",
            "style": "IPY_MODEL_940a4dec264c4d8ab893852ba6fecb64",
            "_dom_classes": [],
            "description": "100%",
            "_model_name": "FloatProgressModel",
            "bar_style": "success",
            "max": 50,
            "_view_module": "@jupyter-widgets/controls",
            "_model_module_version": "1.5.0",
            "value": 50,
            "_view_count": null,
            "_view_module_version": "1.5.0",
            "orientation": "horizontal",
            "min": 0,
            "description_tooltip": null,
            "_model_module": "@jupyter-widgets/controls",
            "layout": "IPY_MODEL_641efadb4f804b31abad955e3c379c91"
          }
        },
        "fdd827bcab8c4eb38cbdbab211b9042d": {
          "model_module": "@jupyter-widgets/controls",
          "model_name": "HTMLModel",
          "state": {
            "_view_name": "HTMLView",
            "style": "IPY_MODEL_d025bee381d04d0fb4bb63aefd729e8f",
            "_dom_classes": [],
            "description": "",
            "_model_name": "HTMLModel",
            "placeholder": "​",
            "_view_module": "@jupyter-widgets/controls",
            "_model_module_version": "1.5.0",
            "value": " 50/50 [00:12&lt;00:00,  4.08it/s]",
            "_view_count": null,
            "_view_module_version": "1.5.0",
            "description_tooltip": null,
            "_model_module": "@jupyter-widgets/controls",
            "layout": "IPY_MODEL_c34386d6350b4b5b8d9653a1de1de193"
          }
        },
        "940a4dec264c4d8ab893852ba6fecb64": {
          "model_module": "@jupyter-widgets/controls",
          "model_name": "ProgressStyleModel",
          "state": {
            "_view_name": "StyleView",
            "_model_name": "ProgressStyleModel",
            "description_width": "initial",
            "_view_module": "@jupyter-widgets/base",
            "_model_module_version": "1.5.0",
            "_view_count": null,
            "_view_module_version": "1.2.0",
            "bar_color": null,
            "_model_module": "@jupyter-widgets/controls"
          }
        },
        "641efadb4f804b31abad955e3c379c91": {
          "model_module": "@jupyter-widgets/base",
          "model_name": "LayoutModel",
          "state": {
            "_view_name": "LayoutView",
            "grid_template_rows": null,
            "right": null,
            "justify_content": null,
            "_view_module": "@jupyter-widgets/base",
            "overflow": null,
            "_model_module_version": "1.2.0",
            "_view_count": null,
            "flex_flow": null,
            "width": null,
            "min_width": null,
            "border": null,
            "align_items": null,
            "bottom": null,
            "_model_module": "@jupyter-widgets/base",
            "top": null,
            "grid_column": null,
            "overflow_y": null,
            "overflow_x": null,
            "grid_auto_flow": null,
            "grid_area": null,
            "grid_template_columns": null,
            "flex": null,
            "_model_name": "LayoutModel",
            "justify_items": null,
            "grid_row": null,
            "max_height": null,
            "align_content": null,
            "visibility": null,
            "align_self": null,
            "height": null,
            "min_height": null,
            "padding": null,
            "grid_auto_rows": null,
            "grid_gap": null,
            "max_width": null,
            "order": null,
            "_view_module_version": "1.2.0",
            "grid_template_areas": null,
            "object_position": null,
            "object_fit": null,
            "grid_auto_columns": null,
            "margin": null,
            "display": null,
            "left": null
          }
        },
        "d025bee381d04d0fb4bb63aefd729e8f": {
          "model_module": "@jupyter-widgets/controls",
          "model_name": "DescriptionStyleModel",
          "state": {
            "_view_name": "StyleView",
            "_model_name": "DescriptionStyleModel",
            "description_width": "",
            "_view_module": "@jupyter-widgets/base",
            "_model_module_version": "1.5.0",
            "_view_count": null,
            "_view_module_version": "1.2.0",
            "_model_module": "@jupyter-widgets/controls"
          }
        },
        "c34386d6350b4b5b8d9653a1de1de193": {
          "model_module": "@jupyter-widgets/base",
          "model_name": "LayoutModel",
          "state": {
            "_view_name": "LayoutView",
            "grid_template_rows": null,
            "right": null,
            "justify_content": null,
            "_view_module": "@jupyter-widgets/base",
            "overflow": null,
            "_model_module_version": "1.2.0",
            "_view_count": null,
            "flex_flow": null,
            "width": null,
            "min_width": null,
            "border": null,
            "align_items": null,
            "bottom": null,
            "_model_module": "@jupyter-widgets/base",
            "top": null,
            "grid_column": null,
            "overflow_y": null,
            "overflow_x": null,
            "grid_auto_flow": null,
            "grid_area": null,
            "grid_template_columns": null,
            "flex": null,
            "_model_name": "LayoutModel",
            "justify_items": null,
            "grid_row": null,
            "max_height": null,
            "align_content": null,
            "visibility": null,
            "align_self": null,
            "height": null,
            "min_height": null,
            "padding": null,
            "grid_auto_rows": null,
            "grid_gap": null,
            "max_width": null,
            "order": null,
            "_view_module_version": "1.2.0",
            "grid_template_areas": null,
            "object_position": null,
            "object_fit": null,
            "grid_auto_columns": null,
            "margin": null,
            "display": null,
            "left": null
          }
        },
        "1dc78d711556460a8944f96f83f461f8": {
          "model_module": "@jupyter-widgets/controls",
          "model_name": "HBoxModel",
          "state": {
            "_view_name": "HBoxView",
            "_dom_classes": [],
            "_model_name": "HBoxModel",
            "_view_module": "@jupyter-widgets/controls",
            "_model_module_version": "1.5.0",
            "_view_count": null,
            "_view_module_version": "1.5.0",
            "box_style": "",
            "layout": "IPY_MODEL_c90c2d3a079c4221a1a95a4fbcb05910",
            "_model_module": "@jupyter-widgets/controls",
            "children": [
              "IPY_MODEL_bb5abb8a2d38408ca81e06ca78b936b2",
              "IPY_MODEL_7f5d5d3078404e19a136cc72d96ec6df"
            ]
          }
        },
        "c90c2d3a079c4221a1a95a4fbcb05910": {
          "model_module": "@jupyter-widgets/base",
          "model_name": "LayoutModel",
          "state": {
            "_view_name": "LayoutView",
            "grid_template_rows": null,
            "right": null,
            "justify_content": null,
            "_view_module": "@jupyter-widgets/base",
            "overflow": null,
            "_model_module_version": "1.2.0",
            "_view_count": null,
            "flex_flow": null,
            "width": null,
            "min_width": null,
            "border": null,
            "align_items": null,
            "bottom": null,
            "_model_module": "@jupyter-widgets/base",
            "top": null,
            "grid_column": null,
            "overflow_y": null,
            "overflow_x": null,
            "grid_auto_flow": null,
            "grid_area": null,
            "grid_template_columns": null,
            "flex": null,
            "_model_name": "LayoutModel",
            "justify_items": null,
            "grid_row": null,
            "max_height": null,
            "align_content": null,
            "visibility": null,
            "align_self": null,
            "height": null,
            "min_height": null,
            "padding": null,
            "grid_auto_rows": null,
            "grid_gap": null,
            "max_width": null,
            "order": null,
            "_view_module_version": "1.2.0",
            "grid_template_areas": null,
            "object_position": null,
            "object_fit": null,
            "grid_auto_columns": null,
            "margin": null,
            "display": null,
            "left": null
          }
        },
        "bb5abb8a2d38408ca81e06ca78b936b2": {
          "model_module": "@jupyter-widgets/controls",
          "model_name": "FloatProgressModel",
          "state": {
            "_view_name": "ProgressView",
            "style": "IPY_MODEL_d67cf3f8be9c42d19a04d018a99b9e4a",
            "_dom_classes": [],
            "description": "100%",
            "_model_name": "FloatProgressModel",
            "bar_style": "success",
            "max": 50,
            "_view_module": "@jupyter-widgets/controls",
            "_model_module_version": "1.5.0",
            "value": 50,
            "_view_count": null,
            "_view_module_version": "1.5.0",
            "orientation": "horizontal",
            "min": 0,
            "description_tooltip": null,
            "_model_module": "@jupyter-widgets/controls",
            "layout": "IPY_MODEL_10fd4491717549e99e0a066a727413b0"
          }
        },
        "7f5d5d3078404e19a136cc72d96ec6df": {
          "model_module": "@jupyter-widgets/controls",
          "model_name": "HTMLModel",
          "state": {
            "_view_name": "HTMLView",
            "style": "IPY_MODEL_eb37a0ec942a478db3ca7ad735391c88",
            "_dom_classes": [],
            "description": "",
            "_model_name": "HTMLModel",
            "placeholder": "​",
            "_view_module": "@jupyter-widgets/controls",
            "_model_module_version": "1.5.0",
            "value": " 50/50 [00:12&lt;00:00,  4.04it/s]",
            "_view_count": null,
            "_view_module_version": "1.5.0",
            "description_tooltip": null,
            "_model_module": "@jupyter-widgets/controls",
            "layout": "IPY_MODEL_cd223ba20600468dbb70eda5039b577a"
          }
        },
        "d67cf3f8be9c42d19a04d018a99b9e4a": {
          "model_module": "@jupyter-widgets/controls",
          "model_name": "ProgressStyleModel",
          "state": {
            "_view_name": "StyleView",
            "_model_name": "ProgressStyleModel",
            "description_width": "initial",
            "_view_module": "@jupyter-widgets/base",
            "_model_module_version": "1.5.0",
            "_view_count": null,
            "_view_module_version": "1.2.0",
            "bar_color": null,
            "_model_module": "@jupyter-widgets/controls"
          }
        },
        "10fd4491717549e99e0a066a727413b0": {
          "model_module": "@jupyter-widgets/base",
          "model_name": "LayoutModel",
          "state": {
            "_view_name": "LayoutView",
            "grid_template_rows": null,
            "right": null,
            "justify_content": null,
            "_view_module": "@jupyter-widgets/base",
            "overflow": null,
            "_model_module_version": "1.2.0",
            "_view_count": null,
            "flex_flow": null,
            "width": null,
            "min_width": null,
            "border": null,
            "align_items": null,
            "bottom": null,
            "_model_module": "@jupyter-widgets/base",
            "top": null,
            "grid_column": null,
            "overflow_y": null,
            "overflow_x": null,
            "grid_auto_flow": null,
            "grid_area": null,
            "grid_template_columns": null,
            "flex": null,
            "_model_name": "LayoutModel",
            "justify_items": null,
            "grid_row": null,
            "max_height": null,
            "align_content": null,
            "visibility": null,
            "align_self": null,
            "height": null,
            "min_height": null,
            "padding": null,
            "grid_auto_rows": null,
            "grid_gap": null,
            "max_width": null,
            "order": null,
            "_view_module_version": "1.2.0",
            "grid_template_areas": null,
            "object_position": null,
            "object_fit": null,
            "grid_auto_columns": null,
            "margin": null,
            "display": null,
            "left": null
          }
        },
        "eb37a0ec942a478db3ca7ad735391c88": {
          "model_module": "@jupyter-widgets/controls",
          "model_name": "DescriptionStyleModel",
          "state": {
            "_view_name": "StyleView",
            "_model_name": "DescriptionStyleModel",
            "description_width": "",
            "_view_module": "@jupyter-widgets/base",
            "_model_module_version": "1.5.0",
            "_view_count": null,
            "_view_module_version": "1.2.0",
            "_model_module": "@jupyter-widgets/controls"
          }
        },
        "cd223ba20600468dbb70eda5039b577a": {
          "model_module": "@jupyter-widgets/base",
          "model_name": "LayoutModel",
          "state": {
            "_view_name": "LayoutView",
            "grid_template_rows": null,
            "right": null,
            "justify_content": null,
            "_view_module": "@jupyter-widgets/base",
            "overflow": null,
            "_model_module_version": "1.2.0",
            "_view_count": null,
            "flex_flow": null,
            "width": null,
            "min_width": null,
            "border": null,
            "align_items": null,
            "bottom": null,
            "_model_module": "@jupyter-widgets/base",
            "top": null,
            "grid_column": null,
            "overflow_y": null,
            "overflow_x": null,
            "grid_auto_flow": null,
            "grid_area": null,
            "grid_template_columns": null,
            "flex": null,
            "_model_name": "LayoutModel",
            "justify_items": null,
            "grid_row": null,
            "max_height": null,
            "align_content": null,
            "visibility": null,
            "align_self": null,
            "height": null,
            "min_height": null,
            "padding": null,
            "grid_auto_rows": null,
            "grid_gap": null,
            "max_width": null,
            "order": null,
            "_view_module_version": "1.2.0",
            "grid_template_areas": null,
            "object_position": null,
            "object_fit": null,
            "grid_auto_columns": null,
            "margin": null,
            "display": null,
            "left": null
          }
        },
        "d10a030bf4014d4eb953c9420df8f0b3": {
          "model_module": "@jupyter-widgets/controls",
          "model_name": "HBoxModel",
          "state": {
            "_view_name": "HBoxView",
            "_dom_classes": [],
            "_model_name": "HBoxModel",
            "_view_module": "@jupyter-widgets/controls",
            "_model_module_version": "1.5.0",
            "_view_count": null,
            "_view_module_version": "1.5.0",
            "box_style": "",
            "layout": "IPY_MODEL_cbb8212d9fe342538c2d03bbee52bc4d",
            "_model_module": "@jupyter-widgets/controls",
            "children": [
              "IPY_MODEL_d8beecd6582e45d3ab1608e78a4177c9",
              "IPY_MODEL_8bb10d3fc9134a549ce43a32cdb9ee92"
            ]
          }
        },
        "cbb8212d9fe342538c2d03bbee52bc4d": {
          "model_module": "@jupyter-widgets/base",
          "model_name": "LayoutModel",
          "state": {
            "_view_name": "LayoutView",
            "grid_template_rows": null,
            "right": null,
            "justify_content": null,
            "_view_module": "@jupyter-widgets/base",
            "overflow": null,
            "_model_module_version": "1.2.0",
            "_view_count": null,
            "flex_flow": null,
            "width": null,
            "min_width": null,
            "border": null,
            "align_items": null,
            "bottom": null,
            "_model_module": "@jupyter-widgets/base",
            "top": null,
            "grid_column": null,
            "overflow_y": null,
            "overflow_x": null,
            "grid_auto_flow": null,
            "grid_area": null,
            "grid_template_columns": null,
            "flex": null,
            "_model_name": "LayoutModel",
            "justify_items": null,
            "grid_row": null,
            "max_height": null,
            "align_content": null,
            "visibility": null,
            "align_self": null,
            "height": null,
            "min_height": null,
            "padding": null,
            "grid_auto_rows": null,
            "grid_gap": null,
            "max_width": null,
            "order": null,
            "_view_module_version": "1.2.0",
            "grid_template_areas": null,
            "object_position": null,
            "object_fit": null,
            "grid_auto_columns": null,
            "margin": null,
            "display": null,
            "left": null
          }
        },
        "d8beecd6582e45d3ab1608e78a4177c9": {
          "model_module": "@jupyter-widgets/controls",
          "model_name": "FloatProgressModel",
          "state": {
            "_view_name": "ProgressView",
            "style": "IPY_MODEL_145dd3e39614410b85ec575d7aa3add7",
            "_dom_classes": [],
            "description": "100%",
            "_model_name": "FloatProgressModel",
            "bar_style": "success",
            "max": 50,
            "_view_module": "@jupyter-widgets/controls",
            "_model_module_version": "1.5.0",
            "value": 50,
            "_view_count": null,
            "_view_module_version": "1.5.0",
            "orientation": "horizontal",
            "min": 0,
            "description_tooltip": null,
            "_model_module": "@jupyter-widgets/controls",
            "layout": "IPY_MODEL_280b28f391e24ee5a7c430e9d44cabd4"
          }
        },
        "8bb10d3fc9134a549ce43a32cdb9ee92": {
          "model_module": "@jupyter-widgets/controls",
          "model_name": "HTMLModel",
          "state": {
            "_view_name": "HTMLView",
            "style": "IPY_MODEL_350efe4b68bb451a82e7e97158dbab59",
            "_dom_classes": [],
            "description": "",
            "_model_name": "HTMLModel",
            "placeholder": "​",
            "_view_module": "@jupyter-widgets/controls",
            "_model_module_version": "1.5.0",
            "value": " 50/50 [00:04&lt;00:00, 11.87it/s, correct=98.50%, skipped=1.23%]",
            "_view_count": null,
            "_view_module_version": "1.5.0",
            "description_tooltip": null,
            "_model_module": "@jupyter-widgets/controls",
            "layout": "IPY_MODEL_11d9e97739b340dcbb7af62387b774cb"
          }
        },
        "145dd3e39614410b85ec575d7aa3add7": {
          "model_module": "@jupyter-widgets/controls",
          "model_name": "ProgressStyleModel",
          "state": {
            "_view_name": "StyleView",
            "_model_name": "ProgressStyleModel",
            "description_width": "initial",
            "_view_module": "@jupyter-widgets/base",
            "_model_module_version": "1.5.0",
            "_view_count": null,
            "_view_module_version": "1.2.0",
            "bar_color": null,
            "_model_module": "@jupyter-widgets/controls"
          }
        },
        "280b28f391e24ee5a7c430e9d44cabd4": {
          "model_module": "@jupyter-widgets/base",
          "model_name": "LayoutModel",
          "state": {
            "_view_name": "LayoutView",
            "grid_template_rows": null,
            "right": null,
            "justify_content": null,
            "_view_module": "@jupyter-widgets/base",
            "overflow": null,
            "_model_module_version": "1.2.0",
            "_view_count": null,
            "flex_flow": null,
            "width": null,
            "min_width": null,
            "border": null,
            "align_items": null,
            "bottom": null,
            "_model_module": "@jupyter-widgets/base",
            "top": null,
            "grid_column": null,
            "overflow_y": null,
            "overflow_x": null,
            "grid_auto_flow": null,
            "grid_area": null,
            "grid_template_columns": null,
            "flex": null,
            "_model_name": "LayoutModel",
            "justify_items": null,
            "grid_row": null,
            "max_height": null,
            "align_content": null,
            "visibility": null,
            "align_self": null,
            "height": null,
            "min_height": null,
            "padding": null,
            "grid_auto_rows": null,
            "grid_gap": null,
            "max_width": null,
            "order": null,
            "_view_module_version": "1.2.0",
            "grid_template_areas": null,
            "object_position": null,
            "object_fit": null,
            "grid_auto_columns": null,
            "margin": null,
            "display": null,
            "left": null
          }
        },
        "350efe4b68bb451a82e7e97158dbab59": {
          "model_module": "@jupyter-widgets/controls",
          "model_name": "DescriptionStyleModel",
          "state": {
            "_view_name": "StyleView",
            "_model_name": "DescriptionStyleModel",
            "description_width": "",
            "_view_module": "@jupyter-widgets/base",
            "_model_module_version": "1.5.0",
            "_view_count": null,
            "_view_module_version": "1.2.0",
            "_model_module": "@jupyter-widgets/controls"
          }
        },
        "11d9e97739b340dcbb7af62387b774cb": {
          "model_module": "@jupyter-widgets/base",
          "model_name": "LayoutModel",
          "state": {
            "_view_name": "LayoutView",
            "grid_template_rows": null,
            "right": null,
            "justify_content": null,
            "_view_module": "@jupyter-widgets/base",
            "overflow": null,
            "_model_module_version": "1.2.0",
            "_view_count": null,
            "flex_flow": null,
            "width": null,
            "min_width": null,
            "border": null,
            "align_items": null,
            "bottom": null,
            "_model_module": "@jupyter-widgets/base",
            "top": null,
            "grid_column": null,
            "overflow_y": null,
            "overflow_x": null,
            "grid_auto_flow": null,
            "grid_area": null,
            "grid_template_columns": null,
            "flex": null,
            "_model_name": "LayoutModel",
            "justify_items": null,
            "grid_row": null,
            "max_height": null,
            "align_content": null,
            "visibility": null,
            "align_self": null,
            "height": null,
            "min_height": null,
            "padding": null,
            "grid_auto_rows": null,
            "grid_gap": null,
            "max_width": null,
            "order": null,
            "_view_module_version": "1.2.0",
            "grid_template_areas": null,
            "object_position": null,
            "object_fit": null,
            "grid_auto_columns": null,
            "margin": null,
            "display": null,
            "left": null
          }
        },
        "d1543838b09e45bbb8858133c4397f71": {
          "model_module": "@jupyter-widgets/controls",
          "model_name": "HBoxModel",
          "state": {
            "_view_name": "HBoxView",
            "_dom_classes": [],
            "_model_name": "HBoxModel",
            "_view_module": "@jupyter-widgets/controls",
            "_model_module_version": "1.5.0",
            "_view_count": null,
            "_view_module_version": "1.5.0",
            "box_style": "",
            "layout": "IPY_MODEL_9790d298f89b48d0a67c012352be7ed9",
            "_model_module": "@jupyter-widgets/controls",
            "children": [
              "IPY_MODEL_b627f4746f0a44cbaa9b0ff79f331a8b",
              "IPY_MODEL_d23d082c13ae4f7cbbe400bbf17787b9"
            ]
          }
        },
        "9790d298f89b48d0a67c012352be7ed9": {
          "model_module": "@jupyter-widgets/base",
          "model_name": "LayoutModel",
          "state": {
            "_view_name": "LayoutView",
            "grid_template_rows": null,
            "right": null,
            "justify_content": null,
            "_view_module": "@jupyter-widgets/base",
            "overflow": null,
            "_model_module_version": "1.2.0",
            "_view_count": null,
            "flex_flow": null,
            "width": null,
            "min_width": null,
            "border": null,
            "align_items": null,
            "bottom": null,
            "_model_module": "@jupyter-widgets/base",
            "top": null,
            "grid_column": null,
            "overflow_y": null,
            "overflow_x": null,
            "grid_auto_flow": null,
            "grid_area": null,
            "grid_template_columns": null,
            "flex": null,
            "_model_name": "LayoutModel",
            "justify_items": null,
            "grid_row": null,
            "max_height": null,
            "align_content": null,
            "visibility": null,
            "align_self": null,
            "height": null,
            "min_height": null,
            "padding": null,
            "grid_auto_rows": null,
            "grid_gap": null,
            "max_width": null,
            "order": null,
            "_view_module_version": "1.2.0",
            "grid_template_areas": null,
            "object_position": null,
            "object_fit": null,
            "grid_auto_columns": null,
            "margin": null,
            "display": null,
            "left": null
          }
        },
        "b627f4746f0a44cbaa9b0ff79f331a8b": {
          "model_module": "@jupyter-widgets/controls",
          "model_name": "FloatProgressModel",
          "state": {
            "_view_name": "ProgressView",
            "style": "IPY_MODEL_13d590fa61624df8b4620eded0feabe6",
            "_dom_classes": [],
            "description": "100%",
            "_model_name": "FloatProgressModel",
            "bar_style": "success",
            "max": 50,
            "_view_module": "@jupyter-widgets/controls",
            "_model_module_version": "1.5.0",
            "value": 50,
            "_view_count": null,
            "_view_module_version": "1.5.0",
            "orientation": "horizontal",
            "min": 0,
            "description_tooltip": null,
            "_model_module": "@jupyter-widgets/controls",
            "layout": "IPY_MODEL_af8d5f677ae947f0b57ab8e292d3f490"
          }
        },
        "d23d082c13ae4f7cbbe400bbf17787b9": {
          "model_module": "@jupyter-widgets/controls",
          "model_name": "HTMLModel",
          "state": {
            "_view_name": "HTMLView",
            "style": "IPY_MODEL_3b195297ede740c19df06dd82db20443",
            "_dom_classes": [],
            "description": "",
            "_model_name": "HTMLModel",
            "placeholder": "​",
            "_view_module": "@jupyter-widgets/controls",
            "_model_module_version": "1.5.0",
            "value": " 50/50 [00:03&lt;00:00, 13.23it/s]",
            "_view_count": null,
            "_view_module_version": "1.5.0",
            "description_tooltip": null,
            "_model_module": "@jupyter-widgets/controls",
            "layout": "IPY_MODEL_7f61299e6e1b48ac8e7c48da33742c4e"
          }
        },
        "13d590fa61624df8b4620eded0feabe6": {
          "model_module": "@jupyter-widgets/controls",
          "model_name": "ProgressStyleModel",
          "state": {
            "_view_name": "StyleView",
            "_model_name": "ProgressStyleModel",
            "description_width": "initial",
            "_view_module": "@jupyter-widgets/base",
            "_model_module_version": "1.5.0",
            "_view_count": null,
            "_view_module_version": "1.2.0",
            "bar_color": null,
            "_model_module": "@jupyter-widgets/controls"
          }
        },
        "af8d5f677ae947f0b57ab8e292d3f490": {
          "model_module": "@jupyter-widgets/base",
          "model_name": "LayoutModel",
          "state": {
            "_view_name": "LayoutView",
            "grid_template_rows": null,
            "right": null,
            "justify_content": null,
            "_view_module": "@jupyter-widgets/base",
            "overflow": null,
            "_model_module_version": "1.2.0",
            "_view_count": null,
            "flex_flow": null,
            "width": null,
            "min_width": null,
            "border": null,
            "align_items": null,
            "bottom": null,
            "_model_module": "@jupyter-widgets/base",
            "top": null,
            "grid_column": null,
            "overflow_y": null,
            "overflow_x": null,
            "grid_auto_flow": null,
            "grid_area": null,
            "grid_template_columns": null,
            "flex": null,
            "_model_name": "LayoutModel",
            "justify_items": null,
            "grid_row": null,
            "max_height": null,
            "align_content": null,
            "visibility": null,
            "align_self": null,
            "height": null,
            "min_height": null,
            "padding": null,
            "grid_auto_rows": null,
            "grid_gap": null,
            "max_width": null,
            "order": null,
            "_view_module_version": "1.2.0",
            "grid_template_areas": null,
            "object_position": null,
            "object_fit": null,
            "grid_auto_columns": null,
            "margin": null,
            "display": null,
            "left": null
          }
        },
        "3b195297ede740c19df06dd82db20443": {
          "model_module": "@jupyter-widgets/controls",
          "model_name": "DescriptionStyleModel",
          "state": {
            "_view_name": "StyleView",
            "_model_name": "DescriptionStyleModel",
            "description_width": "",
            "_view_module": "@jupyter-widgets/base",
            "_model_module_version": "1.5.0",
            "_view_count": null,
            "_view_module_version": "1.2.0",
            "_model_module": "@jupyter-widgets/controls"
          }
        },
        "7f61299e6e1b48ac8e7c48da33742c4e": {
          "model_module": "@jupyter-widgets/base",
          "model_name": "LayoutModel",
          "state": {
            "_view_name": "LayoutView",
            "grid_template_rows": null,
            "right": null,
            "justify_content": null,
            "_view_module": "@jupyter-widgets/base",
            "overflow": null,
            "_model_module_version": "1.2.0",
            "_view_count": null,
            "flex_flow": null,
            "width": null,
            "min_width": null,
            "border": null,
            "align_items": null,
            "bottom": null,
            "_model_module": "@jupyter-widgets/base",
            "top": null,
            "grid_column": null,
            "overflow_y": null,
            "overflow_x": null,
            "grid_auto_flow": null,
            "grid_area": null,
            "grid_template_columns": null,
            "flex": null,
            "_model_name": "LayoutModel",
            "justify_items": null,
            "grid_row": null,
            "max_height": null,
            "align_content": null,
            "visibility": null,
            "align_self": null,
            "height": null,
            "min_height": null,
            "padding": null,
            "grid_auto_rows": null,
            "grid_gap": null,
            "max_width": null,
            "order": null,
            "_view_module_version": "1.2.0",
            "grid_template_areas": null,
            "object_position": null,
            "object_fit": null,
            "grid_auto_columns": null,
            "margin": null,
            "display": null,
            "left": null
          }
        }
      }
    }
  },
  "cells": [
    {
      "cell_type": "markdown",
      "metadata": {
        "id": "JF0s60hchGLu",
        "colab_type": "text"
      },
      "source": [
        "# Outfit Recommendation For USERS (Collaborative Filtering)"
      ]
    },
    {
      "cell_type": "markdown",
      "metadata": {
        "id": "oX0JBm-uhLlH",
        "colab_type": "text"
      },
      "source": [
        "# Cleaning + Exploration"
      ]
    },
    {
      "cell_type": "code",
      "metadata": {
        "id": "MLbGKRSgatoC",
        "colab_type": "code",
        "outputId": "35718c48-7bbb-4486-f10a-92a9bcce12a5",
        "colab": {
          "base_uri": "https://localhost:8080/",
          "height": 136
        }
      },
      "source": [
        "import pandas as pd\n",
        "import numpy as np\n",
        "import scipy.sparse as sparse\n",
        "!pip install implicit\n",
        "import implicit\n",
        "from sklearn.utils.extmath import randomized_svd\n",
        "\n",
        "import string\n",
        "from nltk.stem import WordNetLemmatizer\n",
        "import nltk\n",
        "nltk.download('wordnet')\n",
        "import gensim\n",
        "from gensim.test.utils import common_texts\n",
        "from gensim.models.doc2vec import Doc2Vec, TaggedDocument\n",
        "from gensim.parsing.preprocessing import remove_stopwords\n",
        "from sklearn.metrics.pairwise import cosine_similarity\n",
        "!pip install fuzzywuzzy\n",
        "from fuzzywuzzy import fuzz"
      ],
      "execution_count": 149,
      "outputs": [
        {
          "output_type": "stream",
          "text": [
            "Requirement already satisfied: implicit in /usr/local/lib/python3.6/dist-packages (0.4.2)\n",
            "Requirement already satisfied: scipy>=0.16 in /usr/local/lib/python3.6/dist-packages (from implicit) (1.4.1)\n",
            "Requirement already satisfied: tqdm>=4.27 in /usr/local/lib/python3.6/dist-packages (from implicit) (4.41.1)\n",
            "Requirement already satisfied: numpy in /usr/local/lib/python3.6/dist-packages (from implicit) (1.18.4)\n",
            "[nltk_data] Downloading package wordnet to /root/nltk_data...\n",
            "[nltk_data]   Package wordnet is already up-to-date!\n",
            "Requirement already satisfied: fuzzywuzzy in /usr/local/lib/python3.6/dist-packages (0.18.0)\n"
          ],
          "name": "stdout"
        }
      ]
    },
    {
      "cell_type": "code",
      "metadata": {
        "id": "MqRvTLa_atoG",
        "colab_type": "code",
        "outputId": "719150ec-3364-4ab1-b517-b6e00176c01f",
        "colab": {
          "base_uri": "https://localhost:8080/",
          "height": 669
        }
      },
      "source": [
        "outfit_combination_df = pd.read_csv('outfit_combinations_clean_type.csv')\n",
        "outfit_combination_df.head(20)"
      ],
      "execution_count": 150,
      "outputs": [
        {
          "output_type": "execute_result",
          "data": {
            "text/html": [
              "<div>\n",
              "<style scoped>\n",
              "    .dataframe tbody tr th:only-of-type {\n",
              "        vertical-align: middle;\n",
              "    }\n",
              "\n",
              "    .dataframe tbody tr th {\n",
              "        vertical-align: top;\n",
              "    }\n",
              "\n",
              "    .dataframe thead th {\n",
              "        text-align: right;\n",
              "    }\n",
              "</style>\n",
              "<table border=\"1\" class=\"dataframe\">\n",
              "  <thead>\n",
              "    <tr style=\"text-align: right;\">\n",
              "      <th></th>\n",
              "      <th>Unnamed: 0</th>\n",
              "      <th>outfit_id</th>\n",
              "      <th>product_id</th>\n",
              "      <th>outfit_item_type</th>\n",
              "      <th>brand</th>\n",
              "      <th>product_full_name</th>\n",
              "    </tr>\n",
              "  </thead>\n",
              "  <tbody>\n",
              "    <tr>\n",
              "      <th>0</th>\n",
              "      <td>0</td>\n",
              "      <td>01DDBHC62ES5K80P0KYJ56AM2T</td>\n",
              "      <td>01DMBRYVA2P5H24WK0HTK4R0A1</td>\n",
              "      <td>bottom</td>\n",
              "      <td>Eileen Fisher</td>\n",
              "      <td>Slim Knit Skirt</td>\n",
              "    </tr>\n",
              "    <tr>\n",
              "      <th>1</th>\n",
              "      <td>1</td>\n",
              "      <td>01DDBHC62ES5K80P0KYJ56AM2T</td>\n",
              "      <td>01DMBRYVA2PEPWFTT7RMP5AA1T</td>\n",
              "      <td>top</td>\n",
              "      <td>Eileen Fisher</td>\n",
              "      <td>Rib Mock Neck Tank</td>\n",
              "    </tr>\n",
              "    <tr>\n",
              "      <th>2</th>\n",
              "      <td>2</td>\n",
              "      <td>01DDBHC62ES5K80P0KYJ56AM2T</td>\n",
              "      <td>01DMBRYVA2S5T9W793F4CY41HE</td>\n",
              "      <td>accessory</td>\n",
              "      <td>kate spade new york</td>\n",
              "      <td>medium margaux leather satchel</td>\n",
              "    </tr>\n",
              "    <tr>\n",
              "      <th>3</th>\n",
              "      <td>3</td>\n",
              "      <td>01DDBHC62ES5K80P0KYJ56AM2T</td>\n",
              "      <td>01DMBRYVA2ZFDYRYY5TRQZJTBD</td>\n",
              "      <td>shoe</td>\n",
              "      <td>Tory Burch</td>\n",
              "      <td>Penelope Mid Cap Toe Pump</td>\n",
              "    </tr>\n",
              "    <tr>\n",
              "      <th>4</th>\n",
              "      <td>4</td>\n",
              "      <td>01DMHCX50CFX5YNG99F3Y65GQW</td>\n",
              "      <td>01DMBRYVA2P5H24WK0HTK4R0A1</td>\n",
              "      <td>bottom</td>\n",
              "      <td>Eileen Fisher</td>\n",
              "      <td>Slim Knit Skirt</td>\n",
              "    </tr>\n",
              "    <tr>\n",
              "      <th>5</th>\n",
              "      <td>5</td>\n",
              "      <td>01DMHCX50CFX5YNG99F3Y65GQW</td>\n",
              "      <td>01DMBRYVA2PEPWFTT7RMP5AA1T</td>\n",
              "      <td>top</td>\n",
              "      <td>Eileen Fisher</td>\n",
              "      <td>Rib Mock Neck Tank</td>\n",
              "    </tr>\n",
              "    <tr>\n",
              "      <th>6</th>\n",
              "      <td>6</td>\n",
              "      <td>01DMHCX50CFX5YNG99F3Y65GQW</td>\n",
              "      <td>01DMBRYVA2ZFDYRYY5TRQZJTBD</td>\n",
              "      <td>shoe</td>\n",
              "      <td>Tory Burch</td>\n",
              "      <td>Penelope Mid Cap Toe Pump</td>\n",
              "    </tr>\n",
              "    <tr>\n",
              "      <th>7</th>\n",
              "      <td>7</td>\n",
              "      <td>01DMHCX50CFX5YNG99F3Y65GQW</td>\n",
              "      <td>01DMHCNT41E14QWP503V7CT9G6</td>\n",
              "      <td>accessory</td>\n",
              "      <td>Nina</td>\n",
              "      <td>Crystal Clutch</td>\n",
              "    </tr>\n",
              "    <tr>\n",
              "      <th>8</th>\n",
              "      <td>8</td>\n",
              "      <td>01DMHRX35M2DPVYVQ1PNER4S4B</td>\n",
              "      <td>01DMBRYVA2Q2ST7MNYR6EEY4TK</td>\n",
              "      <td>onepiece</td>\n",
              "      <td>Equipment</td>\n",
              "      <td>Chemelle Midi Dress</td>\n",
              "    </tr>\n",
              "    <tr>\n",
              "      <th>9</th>\n",
              "      <td>9</td>\n",
              "      <td>01DMHRX35M2DPVYVQ1PNER4S4B</td>\n",
              "      <td>01DMBRYVA2ZFDYRYY5TRQZJTBD</td>\n",
              "      <td>shoe</td>\n",
              "      <td>Tory Burch</td>\n",
              "      <td>Penelope Mid Cap Toe Pump</td>\n",
              "    </tr>\n",
              "    <tr>\n",
              "      <th>10</th>\n",
              "      <td>10</td>\n",
              "      <td>01DMHRX35M2DPVYVQ1PNER4S4B</td>\n",
              "      <td>01DMHCNT41E14QWP503V7CT9G6</td>\n",
              "      <td>accessory</td>\n",
              "      <td>Nina</td>\n",
              "      <td>Crystal Clutch</td>\n",
              "    </tr>\n",
              "    <tr>\n",
              "      <th>11</th>\n",
              "      <td>11</td>\n",
              "      <td>01DMHRYZDTF2NBJ13ZEARKHA3T</td>\n",
              "      <td>01DMBRYVA2Q2ST7MNYR6EEY4TK</td>\n",
              "      <td>onepiece</td>\n",
              "      <td>Equipment</td>\n",
              "      <td>Chemelle Midi Dress</td>\n",
              "    </tr>\n",
              "    <tr>\n",
              "      <th>12</th>\n",
              "      <td>12</td>\n",
              "      <td>01DMHRYZDTF2NBJ13ZEARKHA3T</td>\n",
              "      <td>01DMBRYVA2S5T9W793F4CY41HE</td>\n",
              "      <td>accessory</td>\n",
              "      <td>kate spade new york</td>\n",
              "      <td>medium margaux leather satchel</td>\n",
              "    </tr>\n",
              "    <tr>\n",
              "      <th>13</th>\n",
              "      <td>13</td>\n",
              "      <td>01DMHRYZDTF2NBJ13ZEARKHA3T</td>\n",
              "      <td>01DMBRYVA2ZFDYRYY5TRQZJTBD</td>\n",
              "      <td>shoe</td>\n",
              "      <td>Tory Burch</td>\n",
              "      <td>Penelope Mid Cap Toe Pump</td>\n",
              "    </tr>\n",
              "    <tr>\n",
              "      <th>14</th>\n",
              "      <td>14</td>\n",
              "      <td>01DQ63P636Q4BQVCKT6Z4S41G5</td>\n",
              "      <td>01DPCRZWX4S2Z8Q5HYDFM4HNEG</td>\n",
              "      <td>shoe</td>\n",
              "      <td>J.Crew</td>\n",
              "      <td>Pointed-toe flats in suede</td>\n",
              "    </tr>\n",
              "    <tr>\n",
              "      <th>15</th>\n",
              "      <td>15</td>\n",
              "      <td>01DQ63P636Q4BQVCKT6Z4S41G5</td>\n",
              "      <td>01DPET2NWSA221STZF740BZ9SW</td>\n",
              "      <td>top</td>\n",
              "      <td>Veronica Beard</td>\n",
              "      <td>Ashlynn Blouse</td>\n",
              "    </tr>\n",
              "    <tr>\n",
              "      <th>16</th>\n",
              "      <td>16</td>\n",
              "      <td>01DQ63P636Q4BQVCKT6Z4S41G5</td>\n",
              "      <td>01DPKMGJ33SDFXM7XHGPQJWQ12</td>\n",
              "      <td>bottom</td>\n",
              "      <td>Reformation</td>\n",
              "      <td>Benson Skirt</td>\n",
              "    </tr>\n",
              "    <tr>\n",
              "      <th>17</th>\n",
              "      <td>17</td>\n",
              "      <td>01DQ86EH3GMXAVKNECH2Z6FCSV</td>\n",
              "      <td>01DPGTXH6QTM161M660N9W7C3S</td>\n",
              "      <td>shoe</td>\n",
              "      <td>J.Crew</td>\n",
              "      <td>Block-heel pumps in suede</td>\n",
              "    </tr>\n",
              "    <tr>\n",
              "      <th>18</th>\n",
              "      <td>18</td>\n",
              "      <td>01DQ86EH3GMXAVKNECH2Z6FCSV</td>\n",
              "      <td>01DPGWYTS97KK213K1QNJV6610</td>\n",
              "      <td>accessory</td>\n",
              "      <td>J.Crew</td>\n",
              "      <td>Bembien® Jeanne leather woven market tote bag</td>\n",
              "    </tr>\n",
              "    <tr>\n",
              "      <th>19</th>\n",
              "      <td>19</td>\n",
              "      <td>01DQ86EH3GMXAVKNECH2Z6FCSV</td>\n",
              "      <td>01DPKNJ6J1NQPQ1D3DBKWK5ARS</td>\n",
              "      <td>onepiece</td>\n",
              "      <td>Reformation</td>\n",
              "      <td>Rosamund Dress</td>\n",
              "    </tr>\n",
              "  </tbody>\n",
              "</table>\n",
              "</div>"
            ],
            "text/plain": [
              "    Unnamed: 0  ...                              product_full_name\n",
              "0            0  ...                                Slim Knit Skirt\n",
              "1            1  ...                             Rib Mock Neck Tank\n",
              "2            2  ...                 medium margaux leather satchel\n",
              "3            3  ...                      Penelope Mid Cap Toe Pump\n",
              "4            4  ...                                Slim Knit Skirt\n",
              "5            5  ...                             Rib Mock Neck Tank\n",
              "6            6  ...                      Penelope Mid Cap Toe Pump\n",
              "7            7  ...                                 Crystal Clutch\n",
              "8            8  ...                            Chemelle Midi Dress\n",
              "9            9  ...                      Penelope Mid Cap Toe Pump\n",
              "10          10  ...                                 Crystal Clutch\n",
              "11          11  ...                            Chemelle Midi Dress\n",
              "12          12  ...                 medium margaux leather satchel\n",
              "13          13  ...                      Penelope Mid Cap Toe Pump\n",
              "14          14  ...                     Pointed-toe flats in suede\n",
              "15          15  ...                                 Ashlynn Blouse\n",
              "16          16  ...                                   Benson Skirt\n",
              "17          17  ...                      Block-heel pumps in suede\n",
              "18          18  ...  Bembien® Jeanne leather woven market tote bag\n",
              "19          19  ...                                 Rosamund Dress\n",
              "\n",
              "[20 rows x 6 columns]"
            ]
          },
          "metadata": {
            "tags": []
          },
          "execution_count": 150
        }
      ]
    },
    {
      "cell_type": "code",
      "metadata": {
        "id": "QIaNGmaLatoJ",
        "colab_type": "code",
        "outputId": "432f152a-be50-4f79-a9c9-b2aec857370c",
        "colab": {
          "base_uri": "https://localhost:8080/",
          "height": 34
        }
      },
      "source": [
        "# check for unique item types\n",
        "outfit_combination_df.outfit_item_type.unique()"
      ],
      "execution_count": 152,
      "outputs": [
        {
          "output_type": "execute_result",
          "data": {
            "text/plain": [
              "array(['bottom', 'top', 'accessory', 'shoe', 'onepiece'], dtype=object)"
            ]
          },
          "metadata": {
            "tags": []
          },
          "execution_count": 152
        }
      ]
    },
    {
      "cell_type": "code",
      "metadata": {
        "id": "plugR3LMatoL",
        "colab_type": "code",
        "outputId": "088c41db-922f-4e3f-c998-313b7129e546",
        "colab": {
          "base_uri": "https://localhost:8080/",
          "height": 34
        }
      },
      "source": [
        "# check for duplicated recommendations\n",
        "outfit_combination_df.duplicated().sum()"
      ],
      "execution_count": 153,
      "outputs": [
        {
          "output_type": "execute_result",
          "data": {
            "text/plain": [
              "0"
            ]
          },
          "metadata": {
            "tags": []
          },
          "execution_count": 153
        }
      ]
    },
    {
      "cell_type": "code",
      "metadata": {
        "id": "VjwBWG8batoP",
        "colab_type": "code",
        "colab": {}
      },
      "source": [
        "# create lookup tables/dicts\n",
        "item_lookup_tb = outfit_combination_df[['product_id', 'outfit_item_type', 'brand', 'product_full_name']].drop_duplicates()\n",
        "outfit_ids = {num:outfit_id for num, outfit_id in enumerate(outfit_combination_df.outfit_id.unique())}\n",
        "product_ids = {num:product_id for num, product_id in enumerate(outfit_combination_df.product_id.unique())}\n",
        "product_ids_num = {product_id:num for num, product_id in enumerate(outfit_combination_df.product_id.unique())}\n",
        "product_type_lookup = outfit_combination_df[['product_id', 'outfit_item_type']].drop_duplicates().set_index('product_id')['outfit_item_type']\n",
        "product_name_lookup = outfit_combination_df[['product_id', 'product_full_name']].drop_duplicates().set_index('product_id')['product_full_name'].to_dict()\n",
        "product_brand_lookup = outfit_combination_df[['product_id', 'brand']].drop_duplicates().set_index('product_id')['brand'].to_dict()"
      ],
      "execution_count": 0,
      "outputs": []
    },
    {
      "cell_type": "code",
      "metadata": {
        "id": "PWFtHgI3RdYU",
        "colab_type": "code",
        "colab": {}
      },
      "source": [
        "def factorize(outfit):\n",
        "    products = outfit_combination_df[outfit_combination_df.outfit_id == outfit.name].product_id\n",
        "    for product in products:\n",
        "        outfit.loc[product] = 1\n",
        "    return outfit"
      ],
      "execution_count": 0,
      "outputs": []
    },
    {
      "cell_type": "code",
      "metadata": {
        "id": "5oNGgOkZatoV",
        "colab_type": "code",
        "colab": {}
      },
      "source": [
        "# construct sparse matrix\n",
        "sparse_outfit_matrix = pd.DataFrame(\n",
        "    0,\n",
        "    columns=product_ids.values(),\n",
        "    index=outfit_ids.values()).apply(factorize,axis=1).T"
      ],
      "execution_count": 0,
      "outputs": []
    },
    {
      "cell_type": "code",
      "metadata": {
        "id": "_luncRgDatoX",
        "colab_type": "code",
        "outputId": "55519b62-52e2-4a61-9334-9b8a88f906c5",
        "colab": {
          "base_uri": "https://localhost:8080/",
          "height": 34
        }
      },
      "source": [
        "#sanity check\n",
        "sparse_outfit_matrix.loc['01DMBRYVA2P5H24WK0HTK4R0A1','01DMHCX50CFX5YNG99F3Y65GQW']"
      ],
      "execution_count": 157,
      "outputs": [
        {
          "output_type": "execute_result",
          "data": {
            "text/plain": [
              "1"
            ]
          },
          "metadata": {
            "tags": []
          },
          "execution_count": 157
        }
      ]
    },
    {
      "cell_type": "code",
      "metadata": {
        "id": "CKqpu4WGeOlM",
        "colab_type": "code",
        "outputId": "cfe8f61e-0835-4229-cb45-d6b6c24001e5",
        "colab": {
          "base_uri": "https://localhost:8080/",
          "height": 34
        }
      },
      "source": [
        "# check for sparsity\n",
        "print('Sparsity: {:4.3f}%'.format(float(sparse_outfit_matrix.shape[0])/float(len(outfit_ids)*len(product_ids))*100))"
      ],
      "execution_count": 158,
      "outputs": [
        {
          "output_type": "stream",
          "text": [
            "Sparsity: 0.088%\n"
          ],
          "name": "stdout"
        }
      ]
    },
    {
      "cell_type": "markdown",
      "metadata": {
        "id": "idZ6W7cUhQQq",
        "colab_type": "text"
      },
      "source": [
        "# Classic Factorization Models"
      ]
    },
    {
      "cell_type": "code",
      "metadata": {
        "id": "rdxPgp2BatoZ",
        "colab_type": "code",
        "colab": {}
      },
      "source": [
        "# def create_SVD_dfs(df, n_components=50):\n",
        "#     U, sig, V = randomized_svd(np.array(df), n_components=n_components)\n",
        "#     U_df = pd.DataFrame(U, index=df.index)\n",
        "#     V_df = pd.DataFrame(V, columns=df.columns)\n",
        "#     return U_df, sig, V_df.T\n",
        "# outfits_df, sig, products_df = create_SVD_dfs(sparse_outfit_matrix)"
      ],
      "execution_count": 0,
      "outputs": []
    },
    {
      "cell_type": "code",
      "metadata": {
        "id": "_p1_2boQ5K_s",
        "colab_type": "code",
        "colab": {}
      },
      "source": [
        "# recommend for items given 1 product id\n",
        "def recommend_products(recommended_products, recommendations, outfits):\n",
        "  for rec in recommendations:\n",
        "    onepiece, bottom_top = True, True\n",
        "    if 'bottom' in recommended_products or 'top' in recommended_products:\n",
        "      onepiece = False\n",
        "    if 'onepiece' in recommended_products:\n",
        "      bottom_top = False\n",
        "    if (len(recommended_products) == 3 and onepiece) | \\\n",
        "        (len(recommended_products) == 4 and bottom_top):\n",
        "      return recommended_products\n",
        "    if product_type_lookup.loc[product_ids[rec[0]]] in recommended_products:\n",
        "      continue\n",
        "    if (product_type_lookup.loc[product_ids[rec[0]]] in ['bottom', 'top'] and not bottom_top) | \\\n",
        "        (product_type_lookup.loc[product_ids[rec[0]]] == 'onepiece' and not onepiece):\n",
        "      continue\n",
        "    recommended_products[product_type_lookup.loc[product_ids[rec[0]]]] = product_ids[rec[0]]"
      ],
      "execution_count": 0,
      "outputs": []
    },
    {
      "cell_type": "code",
      "metadata": {
        "id": "1cgp6zm07b65",
        "colab_type": "code",
        "colab": {}
      },
      "source": [
        "def beautify_output(recommended_output):\n",
        "  recommended_out_df = pd.DataFrame(\n",
        "      [[product_brand_lookup[item_id], product_name_lookup[item_id]] for item_id in recommended_output.values()], \n",
        "      index=recommended_output.keys(),\n",
        "      columns=['Brand','Item'])\n",
        "  return recommended_out_df"
      ],
      "execution_count": 0,
      "outputs": []
    },
    {
      "cell_type": "code",
      "metadata": {
        "id": "joksuT5kz74s",
        "colab_type": "code",
        "colab": {}
      },
      "source": [
        "# single id recommender. default model is ALS\n",
        "def outfit_recommender(\n",
        "    sparse_outfit_matrix, \n",
        "    item_id, \n",
        "    model=implicit.als.AlternatingLeastSquares(factors=50, regularization=0.1, iterations=50, use_gpu=False),\n",
        "    verbose=True,\n",
        "    N=100):\n",
        "  sparse_outfit_matrix = sparse.csr_matrix(sparse_outfit_matrix)\n",
        "  model.fit(sparse_outfit_matrix)\n",
        "  recommendations = model.similar_items(product_ids_num[item_id], N=N)\n",
        "  input_type = product_type_lookup.loc[item_id]\n",
        "  outfits = product_type_lookup.unique().tolist()\n",
        "  recommended_products = {input_type:item_id}\n",
        "  recommended_output = recommend_products(recommended_products, recommendations, outfits)\n",
        "  if verbose:\n",
        "    print('---Based on your query, we recommend the following outfit---')\n",
        "  return beautify_output(recommended_output)"
      ],
      "execution_count": 0,
      "outputs": []
    },
    {
      "cell_type": "code",
      "metadata": {
        "id": "gAShTapnb7a2",
        "colab_type": "code",
        "colab": {}
      },
      "source": [
        "# different recommendation models from implicit package\n",
        "ALS = implicit.als.AlternatingLeastSquares(factors=50, iterations=50, use_gpu=False)\n",
        "baysian_ranking = implicit.bpr.BayesianPersonalizedRanking(factors=50, iterations=50, use_gpu=False)\n",
        "logisticMF = implicit.lmf.LogisticMatrixFactorization(factors=50, iterations=50, use_gpu=False)\n",
        "models = [ALS, baysian_ranking, logisticMF]"
      ],
      "execution_count": 0,
      "outputs": []
    },
    {
      "cell_type": "code",
      "metadata": {
        "id": "C5rB9_XUdVrS",
        "colab_type": "code",
        "colab": {}
      },
      "source": [
        "# recommend multiple outfits given the same 1 unique item id\n",
        "def multiple_outfits(models, item_id):\n",
        "  outfits = []\n",
        "  for model in models:\n",
        "    outfit = outfit_recommender(sparse_outfit_matrix, item_id, model, verbose=False)\n",
        "    outfits.append(outfit)\n",
        "  output_outfits = [pd.DataFrame(), pd.DataFrame()]\n",
        "  for outfit in outfits:\n",
        "    if outfit.sort_values('Item').equals(output_outfits[-1]) | outfit.sort_values('Item').equals(output_outfits[-2]):\n",
        "      continue\n",
        "    output_outfits.append(outfit.sort_values('Item'))\n",
        "  return output_outfits[2:]"
      ],
      "execution_count": 0,
      "outputs": []
    },
    {
      "cell_type": "code",
      "metadata": {
        "id": "TpjtuMHHJWNk",
        "colab_type": "code",
        "colab": {}
      },
      "source": [
        "# dynamic user prompts product_id_recommender with built in id spell correction and prompt user for multiple for single recommendation\n",
        "def product_id_recommender(input_id=None,called=False):\n",
        "  \"\"\"\n",
        "  Please input the correct Product ID and the system will recommend outfit(s) based on your query\n",
        "  \"\"\"\n",
        "  import getpass\n",
        "  sparse_outfit_matrix = pd.DataFrame(\n",
        "    0,\n",
        "    columns=product_ids.values(),\n",
        "    index=outfit_ids.values()).apply(factorize,axis=1).T\n",
        "  swapped = True\n",
        "  if not called:\n",
        "    input_id = str(getpass.getpass('Please enter your product ID to get a recommended fit from us'))\n",
        "  if input_id not in product_ids_num:\n",
        "    swapped = False\n",
        "    suggested_ids = pd.Series(list(product_ids_num.keys()),index=product_ids_num.keys()).\\\n",
        "          apply(lambda idx: fuzz.ratio(idx.lower(),input_id.lower())).\\\n",
        "          sort_values(ascending=False)\n",
        "    for i in range(3):\n",
        "      switch_id = str(getpass.getpass(f'Did you mean {suggested_ids.index[i]}?\\nY/N'))\n",
        "      if switch_id == 'Y':\n",
        "        input_id = suggested_ids.index[i]\n",
        "        swapped = True\n",
        "        break\n",
        "  if not swapped:\n",
        "    return 'Could not find the item you were looking for'\n",
        "  \n",
        "  multiple_fits = str(getpass.getpass('Do you want multiple outfits?\\nY/N'))\n",
        "  if multiple_fits.lower() == 'y':\n",
        "    multiple_outs = multiple_outfits(models, input_id)\n",
        "    for outfit in multiple_outs:\n",
        "      print(outfit)\n",
        "      print('############################################################################')\n",
        "    return multiple_outs\n",
        "  final_outfit = outfit_recommender(sparse_outfit_matrix, input_id)\n",
        "  print(final_outfit)\n",
        "  return final_outfit"
      ],
      "execution_count": 0,
      "outputs": []
    },
    {
      "cell_type": "code",
      "metadata": {
        "id": "JaGoRNjOEGPj",
        "colab_type": "code",
        "outputId": "c4bed3d9-29d9-4f22-853e-50548924e51c",
        "colab": {
          "base_uri": "https://localhost:8080/",
          "height": 208,
          "referenced_widgets": [
            "6400c8faddb74b61b3e7d3199a1cf953",
            "e0fe66ac3d6440f9a8fcc4cb0ed572e7",
            "f6b0e02778ba4c2894e1cba5f26dce60",
            "696e5772037b486e978d13335e36bb28",
            "4410545e0c324dc9bc2c047e71c75c11",
            "821c144169fe48559734325878fbaa72",
            "c7faf6160a3a46b0a64ed1211991c30a",
            "dfbfb8dbc7ce4f39b621fca6a9d37b65"
          ]
        }
      },
      "source": [
        "outfit_recommender(sparse_outfit_matrix, '01DPCWEJRBVWZE397FMF9QXBBY')"
      ],
      "execution_count": 166,
      "outputs": [
        {
          "output_type": "display_data",
          "data": {
            "application/vnd.jupyter.widget-view+json": {
              "model_id": "6400c8faddb74b61b3e7d3199a1cf953",
              "version_minor": 0,
              "version_major": 2
            },
            "text/plain": [
              "HBox(children=(FloatProgress(value=0.0, max=50.0), HTML(value='')))"
            ]
          },
          "metadata": {
            "tags": []
          }
        },
        {
          "output_type": "stream",
          "text": [
            "\n",
            "---Based on your query, we recommend the following outfit---\n"
          ],
          "name": "stdout"
        },
        {
          "output_type": "execute_result",
          "data": {
            "text/html": [
              "<div>\n",
              "<style scoped>\n",
              "    .dataframe tbody tr th:only-of-type {\n",
              "        vertical-align: middle;\n",
              "    }\n",
              "\n",
              "    .dataframe tbody tr th {\n",
              "        vertical-align: top;\n",
              "    }\n",
              "\n",
              "    .dataframe thead th {\n",
              "        text-align: right;\n",
              "    }\n",
              "</style>\n",
              "<table border=\"1\" class=\"dataframe\">\n",
              "  <thead>\n",
              "    <tr style=\"text-align: right;\">\n",
              "      <th></th>\n",
              "      <th>Brand</th>\n",
              "      <th>Item</th>\n",
              "    </tr>\n",
              "  </thead>\n",
              "  <tbody>\n",
              "    <tr>\n",
              "      <th>onepiece</th>\n",
              "      <td>J.Crew</td>\n",
              "      <td>Gingham button-front midi dress with ruffle he...</td>\n",
              "    </tr>\n",
              "    <tr>\n",
              "      <th>accessory</th>\n",
              "      <td>Veronica Beard</td>\n",
              "      <td>Theron Jacket</td>\n",
              "    </tr>\n",
              "    <tr>\n",
              "      <th>shoe</th>\n",
              "      <td>Reformation</td>\n",
              "      <td>Charlotte Boot</td>\n",
              "    </tr>\n",
              "  </tbody>\n",
              "</table>\n",
              "</div>"
            ],
            "text/plain": [
              "                    Brand                                               Item\n",
              "onepiece           J.Crew  Gingham button-front midi dress with ruffle he...\n",
              "accessory  Veronica Beard                                      Theron Jacket\n",
              "shoe          Reformation                                     Charlotte Boot"
            ]
          },
          "metadata": {
            "tags": []
          },
          "execution_count": 166
        }
      ]
    },
    {
      "cell_type": "markdown",
      "metadata": {
        "id": "olDU3YX9JOmR",
        "colab_type": "text"
      },
      "source": [
        "# Neural CF"
      ]
    },
    {
      "cell_type": "code",
      "metadata": {
        "id": "xgNwRVbnJQVE",
        "colab_type": "code",
        "outputId": "bf74ccc1-8dec-4aec-86c5-98734ede2465",
        "colab": {
          "base_uri": "https://localhost:8080/",
          "height": 241
        }
      },
      "source": [
        "!pip install git+https://github.com/maciejkula/spotlight.git\n",
        "from spotlight.interactions import Interactions\n",
        "from spotlight.factorization.implicit import ImplicitFactorizationModel\n",
        "from spotlight.cross_validation import random_train_test_split\n",
        "from spotlight.evaluation import rmse_score, mrr_score, precision_recall_score\n",
        "from spotlight.factorization.representations import BilinearNet\n",
        "from spotlight.layers import BloomEmbedding, ScaledEmbedding"
      ],
      "execution_count": 167,
      "outputs": [
        {
          "output_type": "stream",
          "text": [
            "Collecting git+https://github.com/maciejkula/spotlight.git\n",
            "  Cloning https://github.com/maciejkula/spotlight.git to /tmp/pip-req-build-9g7p9_mb\n",
            "  Running command git clone -q https://github.com/maciejkula/spotlight.git /tmp/pip-req-build-9g7p9_mb\n",
            "Requirement already satisfied (use --upgrade to upgrade): spotlight==0.1.6 from git+https://github.com/maciejkula/spotlight.git in /usr/local/lib/python3.6/dist-packages\n",
            "Requirement already satisfied: torch>=0.4.0 in /usr/local/lib/python3.6/dist-packages (from spotlight==0.1.6) (1.5.0+cu101)\n",
            "Requirement already satisfied: numpy in /usr/local/lib/python3.6/dist-packages (from torch>=0.4.0->spotlight==0.1.6) (1.18.4)\n",
            "Requirement already satisfied: future in /usr/local/lib/python3.6/dist-packages (from torch>=0.4.0->spotlight==0.1.6) (0.16.0)\n",
            "Building wheels for collected packages: spotlight\n",
            "  Building wheel for spotlight (setup.py) ... \u001b[?25l\u001b[?25hdone\n",
            "  Created wheel for spotlight: filename=spotlight-0.1.6-cp36-none-any.whl size=33920 sha256=fc2be908f557122eb377c99b2ee5722f1e8d58ce8c77a94eeb13a8b0737c3553\n",
            "  Stored in directory: /tmp/pip-ephem-wheel-cache-t8yr77x6/wheels/0a/33/c8/e8510ea648aaacf6031e128dfa92bcd3750f02db2aaf0922fe\n",
            "Successfully built spotlight\n"
          ],
          "name": "stdout"
        }
      ]
    },
    {
      "cell_type": "markdown",
      "metadata": {
        "id": "r9dzgMvFU-k-",
        "colab_type": "text"
      },
      "source": [
        "Testing implicit model"
      ]
    },
    {
      "cell_type": "code",
      "metadata": {
        "id": "xhMJZmvfT3a5",
        "colab_type": "code",
        "colab": {}
      },
      "source": [
        "# look up tables\n",
        "product_ids_num = {product_id:num for num, product_id in enumerate(outfit_combination_df.product_id.unique())}\n",
        "outfit_ids_num = {outfit_id:num for num, outfit_id in enumerate(outfit_combination_df.outfit_id.unique())}\n",
        "outfit_num = outfit_combination_df.outfit_id.map(outfit_ids_num)\n",
        "product_num = outfit_combination_df.product_id.map(product_ids_num)"
      ],
      "execution_count": 0,
      "outputs": []
    },
    {
      "cell_type": "code",
      "metadata": {
        "id": "ocU1VMquJQRC",
        "colab_type": "code",
        "colab": {}
      },
      "source": [
        "# dataset prep and train test split\n",
        "implicit_interactions = Interactions(np.array(outfit_num),np.array(product_num))\n",
        "train, validation = random_train_test_split(implicit_interactions,test_percentage=0.1)\n",
        "validation, test = random_train_test_split(validation,test_percentage=0.5)"
      ],
      "execution_count": 0,
      "outputs": []
    },
    {
      "cell_type": "code",
      "metadata": {
        "id": "TsOqMHbhX4LU",
        "colab_type": "code",
        "outputId": "cf79e6ee-e09a-4c9b-9451-cf442dc8ede5",
        "colab": {
          "base_uri": "https://localhost:8080/",
          "height": 34
        }
      },
      "source": [
        "# testing out performance of classic factorization model\n",
        "implicit_factorization_model = ImplicitFactorizationModel()\n",
        "implicit_factorization_model.fit(train)\n",
        "mrr_score(implicit_factorization_model,test).mean()"
      ],
      "execution_count": 170,
      "outputs": [
        {
          "output_type": "execute_result",
          "data": {
            "text/plain": [
              "0.2415740208359358"
            ]
          },
          "metadata": {
            "tags": []
          },
          "execution_count": 170
        }
      ]
    },
    {
      "cell_type": "markdown",
      "metadata": {
        "id": "xPkgYImfYBJJ",
        "colab_type": "text"
      },
      "source": [
        "Neural CF"
      ]
    },
    {
      "cell_type": "code",
      "metadata": {
        "id": "HmwXMpBfX_WV",
        "colab_type": "code",
        "colab": {}
      },
      "source": [
        "#Cred to https://github.com/maciejkula/spotlight/blob/master/examples/bloom_embeddings/example.py"
      ],
      "execution_count": 0,
      "outputs": []
    },
    {
      "cell_type": "code",
      "metadata": {
        "id": "jlY8kmvvX_TN",
        "colab_type": "code",
        "colab": {}
      },
      "source": [
        "# neural cf model\n",
        "def get_neural_model(train):\n",
        "\n",
        "    item_embeddings = BloomEmbedding(train.num_items, 100,\n",
        "                    compression_ratio=1,\n",
        "                    num_hash_functions=4,\n",
        "                    padding_idx=0)\n",
        "    user_embeddings = BloomEmbedding(train.num_users, 100,\n",
        "                    compression_ratio=1,\n",
        "                    num_hash_functions=4,\n",
        "                    padding_idx=0)\n",
        "\n",
        "    network = BilinearNet(train.num_users,\n",
        "                train.num_items,\n",
        "                user_embedding_layer=user_embeddings,\n",
        "                item_embedding_layer=item_embeddings)\n",
        "\n",
        "    model = ImplicitFactorizationModel(n_iter=10,\n",
        "                      l2=0,\n",
        "                      representation=network)\n",
        "\n",
        "    return model"
      ],
      "execution_count": 0,
      "outputs": []
    },
    {
      "cell_type": "code",
      "metadata": {
        "id": "YqM-oZnLX_PT",
        "colab_type": "code",
        "colab": {}
      },
      "source": [
        "# evaluate recommendation models\n",
        "def evaluate_model(model, train, test, validation):\n",
        "    model.fit(train, verbose=True)\n",
        "\n",
        "    test_mrr = mrr_score(model, test)\n",
        "    val_mrr = mrr_score(model, test.tocsr() + validation.tocsr())\n",
        "\n",
        "    return test_mrr, val_mrr"
      ],
      "execution_count": 0,
      "outputs": []
    },
    {
      "cell_type": "code",
      "metadata": {
        "id": "yW4uCgdPX_Mr",
        "colab_type": "code",
        "outputId": "e19ed800-e339-4392-843f-c44ceda7fed1",
        "colab": {
          "base_uri": "https://localhost:8080/",
          "height": 187
        }
      },
      "source": [
        "# training and testing neural model\n",
        "neural_model = get_neural_model(train)\n",
        "neural_test_mrr, neural_val_mrr = evaluate_model(neural_model, train, test, validation) "
      ],
      "execution_count": 174,
      "outputs": [
        {
          "output_type": "stream",
          "text": [
            "Epoch 0: loss 0.9822470639881334\n",
            "Epoch 1: loss 0.7067195616270366\n",
            "Epoch 2: loss 0.39203911862875285\n",
            "Epoch 3: loss 0.22388895483393417\n",
            "Epoch 4: loss 0.1371376208568874\n",
            "Epoch 5: loss 0.09340770464194448\n",
            "Epoch 6: loss 0.07621406665758083\n",
            "Epoch 7: loss 0.06212513403672921\n",
            "Epoch 8: loss 0.053157193880332146\n",
            "Epoch 9: loss 0.04758315847108239\n"
          ],
          "name": "stdout"
        }
      ]
    },
    {
      "cell_type": "code",
      "metadata": {
        "id": "TFA6u6xMX_CO",
        "colab_type": "code",
        "outputId": "18b83bd0-fd23-4846-ce6c-1a218a2004ec",
        "colab": {
          "base_uri": "https://localhost:8080/",
          "height": 187
        }
      },
      "source": [
        "# testing factorization model\n",
        "factorization_test_mrr, factorization_mrr = evaluate_model(implicit_factorization_model, train, test, validation)"
      ],
      "execution_count": 175,
      "outputs": [
        {
          "output_type": "stream",
          "text": [
            "Epoch 0: loss 0.2668031971705587\n",
            "Epoch 1: loss 0.24527019419168172\n",
            "Epoch 2: loss 0.22081515741975685\n",
            "Epoch 3: loss 0.2074440521629233\n",
            "Epoch 4: loss 0.18862216331456838\n",
            "Epoch 5: loss 0.1714044926982177\n",
            "Epoch 6: loss 0.16162244583431043\n",
            "Epoch 7: loss 0.14698405759899238\n",
            "Epoch 8: loss 0.13463460261884488\n",
            "Epoch 9: loss 0.12590534475288892\n"
          ],
          "name": "stdout"
        }
      ]
    },
    {
      "cell_type": "code",
      "metadata": {
        "id": "2hu_8c0ZdzeY",
        "colab_type": "code",
        "outputId": "67c09400-ab0d-41ae-f447-68c8b0d859d0",
        "colab": {
          "base_uri": "https://localhost:8080/",
          "height": 51
        }
      },
      "source": [
        "print(f'The MRR for the neural CF is {neural_test_mrr.mean()}')\n",
        "print(f'The MRR for the classic CF is {factorization_mrr.mean()}')"
      ],
      "execution_count": 176,
      "outputs": [
        {
          "output_type": "stream",
          "text": [
            "The MRR for the neural CF is 0.08967195654250507\n",
            "The MRR for the classic CF is 0.2303068961734387\n"
          ],
          "name": "stdout"
        }
      ]
    },
    {
      "cell_type": "markdown",
      "metadata": {
        "id": "DU1OVKoUfvLk",
        "colab_type": "text"
      },
      "source": [
        "***Neural Models did not outperform classical factorization models, probably because the number of observations is too few***"
      ]
    },
    {
      "cell_type": "markdown",
      "metadata": {
        "id": "Q_v3V98mh6J5",
        "colab_type": "text"
      },
      "source": [
        "Since neural CF method did not perform well, we will stick with the classical approaches."
      ]
    },
    {
      "cell_type": "markdown",
      "metadata": {
        "id": "OPzba4z0hBo3",
        "colab_type": "text"
      },
      "source": [
        "# Run for recommendations"
      ]
    },
    {
      "cell_type": "markdown",
      "metadata": {
        "id": "H_I3pnnoiBb3",
        "colab_type": "text"
      },
      "source": [
        "Single ID Recommendation"
      ]
    },
    {
      "cell_type": "code",
      "metadata": {
        "id": "rKcBkm3pexHW",
        "colab_type": "code",
        "outputId": "c2d5c0f0-c550-4f17-d571-6dfff8fd08f4",
        "colab": {
          "base_uri": "https://localhost:8080/",
          "height": 208,
          "referenced_widgets": [
            "38317259824b419b8bdc195b4924946a",
            "1303bc8df1aa418e88ee626160792af4",
            "51f8665290f14cdba1c2e69c63a6f17a",
            "ecb76325b0464a59962fe996f8765a51",
            "1433a550d22d4faa9626326592ec5e7e",
            "5f9f6db2400a47769f27c7a61384262a",
            "4b6a9fae4a0849509cd68843c0d56f2b",
            "212135e61107408ba3e0b24740a9acea"
          ]
        }
      },
      "source": [
        "outfit_recommender(sparse_outfit_matrix, '01DMBRYVA2S5T9W793F4CY41HE')"
      ],
      "execution_count": 177,
      "outputs": [
        {
          "output_type": "display_data",
          "data": {
            "application/vnd.jupyter.widget-view+json": {
              "model_id": "38317259824b419b8bdc195b4924946a",
              "version_minor": 0,
              "version_major": 2
            },
            "text/plain": [
              "HBox(children=(FloatProgress(value=0.0, max=50.0), HTML(value='')))"
            ]
          },
          "metadata": {
            "tags": []
          }
        },
        {
          "output_type": "stream",
          "text": [
            "\n",
            "---Based on your query, we recommend the following outfit---\n"
          ],
          "name": "stdout"
        },
        {
          "output_type": "execute_result",
          "data": {
            "text/html": [
              "<div>\n",
              "<style scoped>\n",
              "    .dataframe tbody tr th:only-of-type {\n",
              "        vertical-align: middle;\n",
              "    }\n",
              "\n",
              "    .dataframe tbody tr th {\n",
              "        vertical-align: top;\n",
              "    }\n",
              "\n",
              "    .dataframe thead th {\n",
              "        text-align: right;\n",
              "    }\n",
              "</style>\n",
              "<table border=\"1\" class=\"dataframe\">\n",
              "  <thead>\n",
              "    <tr style=\"text-align: right;\">\n",
              "      <th></th>\n",
              "      <th>Brand</th>\n",
              "      <th>Item</th>\n",
              "    </tr>\n",
              "  </thead>\n",
              "  <tbody>\n",
              "    <tr>\n",
              "      <th>accessory</th>\n",
              "      <td>kate spade new york</td>\n",
              "      <td>medium margaux leather satchel</td>\n",
              "    </tr>\n",
              "    <tr>\n",
              "      <th>onepiece</th>\n",
              "      <td>Equipment</td>\n",
              "      <td>Chemelle Midi Dress</td>\n",
              "    </tr>\n",
              "    <tr>\n",
              "      <th>shoe</th>\n",
              "      <td>Loeffler Randall</td>\n",
              "      <td>Goldy Tall Boots</td>\n",
              "    </tr>\n",
              "  </tbody>\n",
              "</table>\n",
              "</div>"
            ],
            "text/plain": [
              "                         Brand                            Item\n",
              "accessory  kate spade new york  medium margaux leather satchel\n",
              "onepiece             Equipment             Chemelle Midi Dress\n",
              "shoe          Loeffler Randall                Goldy Tall Boots"
            ]
          },
          "metadata": {
            "tags": []
          },
          "execution_count": 177
        }
      ]
    },
    {
      "cell_type": "code",
      "metadata": {
        "id": "w_13ufokqx-C",
        "colab_type": "code",
        "outputId": "000c16a4-e6f3-431d-9c46-4e08d31b81c5",
        "colab": {
          "base_uri": "https://localhost:8080/",
          "height": 239,
          "referenced_widgets": [
            "5ce8cb7310eb4b1db7af2daa7d483bc0",
            "c374195875864edfbef6e41e9dd503bf",
            "77e7fd60bb8c47e3b082786bcd2765a8",
            "d71b2bf452e145008a105779993ac3c4",
            "fd2ac97baa7c46f7ae529ba85d286f8e",
            "b0ea276fdc5e4fce9fce2357222f9253",
            "ab193062213a4561849ef7ba612149cc",
            "5e8b8116349f452c8771e14d85c94b15"
          ]
        }
      },
      "source": [
        "outfit_recommender(sparse_outfit_matrix, product_ids[8], logisticMF)"
      ],
      "execution_count": 178,
      "outputs": [
        {
          "output_type": "display_data",
          "data": {
            "application/vnd.jupyter.widget-view+json": {
              "model_id": "5ce8cb7310eb4b1db7af2daa7d483bc0",
              "version_minor": 0,
              "version_major": 2
            },
            "text/plain": [
              "HBox(children=(FloatProgress(value=0.0, max=50.0), HTML(value='')))"
            ]
          },
          "metadata": {
            "tags": []
          }
        },
        {
          "output_type": "stream",
          "text": [
            "\n",
            "---Based on your query, we recommend the following outfit---\n"
          ],
          "name": "stdout"
        },
        {
          "output_type": "execute_result",
          "data": {
            "text/html": [
              "<div>\n",
              "<style scoped>\n",
              "    .dataframe tbody tr th:only-of-type {\n",
              "        vertical-align: middle;\n",
              "    }\n",
              "\n",
              "    .dataframe tbody tr th {\n",
              "        vertical-align: top;\n",
              "    }\n",
              "\n",
              "    .dataframe thead th {\n",
              "        text-align: right;\n",
              "    }\n",
              "</style>\n",
              "<table border=\"1\" class=\"dataframe\">\n",
              "  <thead>\n",
              "    <tr style=\"text-align: right;\">\n",
              "      <th></th>\n",
              "      <th>Brand</th>\n",
              "      <th>Item</th>\n",
              "    </tr>\n",
              "  </thead>\n",
              "  <tbody>\n",
              "    <tr>\n",
              "      <th>bottom</th>\n",
              "      <td>Reformation</td>\n",
              "      <td>Benson Skirt</td>\n",
              "    </tr>\n",
              "    <tr>\n",
              "      <th>shoe</th>\n",
              "      <td>J.Crew</td>\n",
              "      <td>Pointed-toe flats in suede</td>\n",
              "    </tr>\n",
              "    <tr>\n",
              "      <th>top</th>\n",
              "      <td>Veronica Beard</td>\n",
              "      <td>Ashlynn Blouse</td>\n",
              "    </tr>\n",
              "    <tr>\n",
              "      <th>accessory</th>\n",
              "      <td>J.Crew</td>\n",
              "      <td>Bembien® Jeanne leather woven market tote bag</td>\n",
              "    </tr>\n",
              "  </tbody>\n",
              "</table>\n",
              "</div>"
            ],
            "text/plain": [
              "                    Brand                                           Item\n",
              "bottom        Reformation                                   Benson Skirt\n",
              "shoe               J.Crew                     Pointed-toe flats in suede\n",
              "top        Veronica Beard                                 Ashlynn Blouse\n",
              "accessory          J.Crew  Bembien® Jeanne leather woven market tote bag"
            ]
          },
          "metadata": {
            "tags": []
          },
          "execution_count": 178
        }
      ]
    },
    {
      "cell_type": "markdown",
      "metadata": {
        "id": "EXwYBYRRiEfv",
        "colab_type": "text"
      },
      "source": [
        "Multiple outfits recommendation Demonstration"
      ]
    },
    {
      "cell_type": "code",
      "metadata": {
        "id": "pYfyfAhFdGmo",
        "colab_type": "code",
        "outputId": "30f0d614-b886-4496-c72f-cd3ddee89718",
        "colab": {
          "base_uri": "https://localhost:8080/",
          "height": 351,
          "referenced_widgets": [
            "bb5b3dccaf894cd5972413ac0a29da85",
            "33b1ef9a35924fe9bc78c258f4dfc620",
            "d24653c2ce2f45b5899309b2dc51a5a8",
            "79cdd0a3754749f58fdc329de6c82749",
            "72d77d84a2df43169f3cdefaa53a6c87",
            "9419bedb74794c1a954391d829cfb9a8",
            "dd59d7d18ca44dbcbd4bb44ea58881d8",
            "da4f4d96303341fa95792d816a349bef",
            "072f4de543fa458a9a1c6a835b201c14",
            "72c3e67d0b024ea2a1ff7f6e7166256d",
            "c82be2edda82429ba3b094cd7685a47f",
            "6b56fe3c2ffd4ffa807bdaf0276f3556",
            "6d49dfe0ee744f81821c45d89e518953",
            "73f9746a8cc64999b62a7b5a58302102",
            "d0f2ad5021bb46039874f1fa0e9cec9a",
            "02a46930ca994b45800e1b9a1f2d0da1",
            "83138350855345408e65a2f69a267a7f",
            "c1e82f9f63ad43a98fefa4845afb901d",
            "f578c9249cd44002a3b11b210a685729",
            "0ae85d0013ef434aa9ec8e1d453022e4",
            "deabac033c654bb1a65b9cec0f81b4eb",
            "cde261e3e53248899b573d15360e6d3a",
            "50c08dce91c340979d7b09c74f4dc8ee",
            "3f5b8c6d6ede4a8cb8c4f9517070706f"
          ]
        }
      },
      "source": [
        "multiple_outs = multiple_outfits(models, '01DMBRYVA2S5T9W793F4CY41HE')\n",
        "for outfit in multiple_outs:\n",
        "  print(outfit)\n",
        "  print('############################################################################')"
      ],
      "execution_count": 179,
      "outputs": [
        {
          "output_type": "display_data",
          "data": {
            "application/vnd.jupyter.widget-view+json": {
              "model_id": "bb5b3dccaf894cd5972413ac0a29da85",
              "version_minor": 0,
              "version_major": 2
            },
            "text/plain": [
              "HBox(children=(FloatProgress(value=0.0, max=50.0), HTML(value='')))"
            ]
          },
          "metadata": {
            "tags": []
          }
        },
        {
          "output_type": "stream",
          "text": [
            "\n"
          ],
          "name": "stdout"
        },
        {
          "output_type": "display_data",
          "data": {
            "application/vnd.jupyter.widget-view+json": {
              "model_id": "072f4de543fa458a9a1c6a835b201c14",
              "version_minor": 0,
              "version_major": 2
            },
            "text/plain": [
              "HBox(children=(FloatProgress(value=0.0, max=50.0), HTML(value='')))"
            ]
          },
          "metadata": {
            "tags": []
          }
        },
        {
          "output_type": "stream",
          "text": [
            "\n"
          ],
          "name": "stdout"
        },
        {
          "output_type": "display_data",
          "data": {
            "application/vnd.jupyter.widget-view+json": {
              "model_id": "83138350855345408e65a2f69a267a7f",
              "version_minor": 0,
              "version_major": 2
            },
            "text/plain": [
              "HBox(children=(FloatProgress(value=0.0, max=50.0), HTML(value='')))"
            ]
          },
          "metadata": {
            "tags": []
          }
        },
        {
          "output_type": "stream",
          "text": [
            "\n",
            "                         Brand                            Item\n",
            "onepiece             Equipment             Chemelle Midi Dress\n",
            "shoe                Tory Burch       Penelope Mid Cap Toe Pump\n",
            "accessory  kate spade new york  medium margaux leather satchel\n",
            "############################################################################\n",
            "                         Brand                                               Item\n",
            "bottom               Eve Denim                 Annabel Rigid Mid-Rise Skinny Jean\n",
            "top            TWENTY Montréal  Hyper Reality cropped cotton-blend jacquard-kn...\n",
            "shoe               Reformation                                      Virginia Boot\n",
            "accessory  kate spade new york                     medium margaux leather satchel\n",
            "############################################################################\n"
          ],
          "name": "stdout"
        }
      ]
    },
    {
      "cell_type": "markdown",
      "metadata": {
        "id": "nX5VDUl6iH36",
        "colab_type": "text"
      },
      "source": [
        "Dynamic input system with product ID spell check Demonstration"
      ]
    },
    {
      "cell_type": "code",
      "metadata": {
        "id": "NRzcBf_nOhC4",
        "colab_type": "code",
        "outputId": "ed976a8e-79a3-49b7-b700-55f21cfef290",
        "colab": {
          "base_uri": "https://localhost:8080/",
          "height": 202,
          "referenced_widgets": [
            "d6022119d9544664b4c8d1511e39c3c9",
            "22040221dbc2424e85482ca4f0562e75",
            "1b0d558f761d49b7bc82531f3aa6dd68",
            "41432c5c7063408992f61da67bd9bea0",
            "8878491a26b14693a61e4c3ba79fd9ff",
            "5539123569314e4fb75760c91b7b66e1",
            "77775bdcef124a20823eafa971537a49",
            "f6a1f87e89ac4456a94549d9e3151570"
          ]
        }
      },
      "source": [
        "user_outfits = product_id_recommender()"
      ],
      "execution_count": 180,
      "outputs": [
        {
          "output_type": "stream",
          "text": [
            "Please enter your product ID to get a recommended fit from us··········\n",
            "Do you want multiple outfits?\n",
            "Y/N··········\n"
          ],
          "name": "stdout"
        },
        {
          "output_type": "display_data",
          "data": {
            "application/vnd.jupyter.widget-view+json": {
              "model_id": "d6022119d9544664b4c8d1511e39c3c9",
              "version_minor": 0,
              "version_major": 2
            },
            "text/plain": [
              "HBox(children=(FloatProgress(value=0.0, max=50.0), HTML(value='')))"
            ]
          },
          "metadata": {
            "tags": []
          }
        },
        {
          "output_type": "stream",
          "text": [
            "\n",
            "---Based on your query, we recommend the following outfit---\n",
            "                         Brand                            Item\n",
            "accessory  kate spade new york  medium margaux leather satchel\n",
            "onepiece             Equipment             Chemelle Midi Dress\n",
            "shoe          Loeffler Randall                Goldy Tall Boots\n"
          ],
          "name": "stdout"
        }
      ]
    },
    {
      "cell_type": "markdown",
      "metadata": {
        "id": "nBPTGKp_JCvW",
        "colab_type": "text"
      },
      "source": [
        "# Description / Detail / Brand Vectorization"
      ]
    },
    {
      "cell_type": "code",
      "metadata": {
        "id": "VXUBjwaI-H34",
        "colab_type": "code",
        "outputId": "158dae4a-a447-4e03-cff9-9d22aafc867b",
        "colab": {
          "base_uri": "https://localhost:8080/",
          "height": 85
        }
      },
      "source": [
        "# from https://radimrehurek.com/gensim/models/word2vec.html\n",
        "from gensim.test.utils import common_texts, get_tmpfile\n",
        "from gensim.models import Word2Vec\n",
        "from sklearn.metrics.pairwise import cosine_similarity\n",
        "import spacy.cli\n",
        "spacy.cli.download(\"en_core_web_md\")\n",
        "spacy.cli.download(\"en_core_web_sm\")\n",
        "from keras.models import Sequential\n",
        "from keras.layers import Dense\n",
        "from keras.layers.recurrent import SimpleRNN, LSTM\n",
        "from keras.wrappers.scikit_learn import KerasClassifier\n",
        "from keras.utils import np_utils\n",
        "from sklearn.model_selection import cross_val_score\n",
        "from sklearn.model_selection import KFold\n",
        "from sklearn.preprocessing import LabelEncoder\n",
        "from sklearn.pipeline import Pipeline\n",
        "from sklearn.model_selection import train_test_split\n",
        "from sklearn.metrics import classification_report, precision_score, f1_score, accuracy_score, hamming_loss\n",
        "import re"
      ],
      "execution_count": 181,
      "outputs": [
        {
          "output_type": "stream",
          "text": [
            "\u001b[38;5;2m✔ Download and installation successful\u001b[0m\n",
            "You can now load the model via spacy.load('en_core_web_md')\n",
            "\u001b[38;5;2m✔ Download and installation successful\u001b[0m\n",
            "You can now load the model via spacy.load('en_core_web_lg')\n"
          ],
          "name": "stdout"
        }
      ]
    },
    {
      "cell_type": "code",
      "metadata": {
        "id": "S_4k3XrqgkrH",
        "colab_type": "code",
        "colab": {}
      },
      "source": [
        "# grab additional info from full data and join with outfit data\n",
        "full_data = pd.read_csv('full_data.csv')\n",
        "outfit_full_df = outfit_combination_df.merge(full_data,how='left',left_on='product_id',right_on='product_id')"
      ],
      "execution_count": 0,
      "outputs": []
    },
    {
      "cell_type": "code",
      "metadata": {
        "id": "xpi9gh21iww9",
        "colab_type": "code",
        "colab": {}
      },
      "source": [
        "# text preprocessing(lemmatization, stopword removal, lower, strip punctuations)\n",
        "def deep_cleaned(dirty_text, return_tokens=False):\n",
        "  lem = WordNetLemmatizer()\n",
        "  remove_digits = str.maketrans('', '', string.digits)\n",
        "  dirty_text = dirty_text.translate(remove_digits)\n",
        "\n",
        "  dirty_text = dirty_text.lower()\n",
        "  dirty_text = dirty_text.translate(str.maketrans('', '', string.punctuation))\n",
        "  dirty_text = remove_stopwords(dirty_text)\n",
        "  tokens = gensim.utils.tokenize(dirty_text)\n",
        "  lemmed_tokens = [lem.lemmatize(token) for token in tokens]\n",
        "  if return_tokens:\n",
        "    return lemmed_tokens\n",
        "  return ' '.join(lemmed_tokens)\n",
        "\n",
        "outfit_full_df.index = outfit_full_df.product_id"
      ],
      "execution_count": 0,
      "outputs": []
    },
    {
      "cell_type": "markdown",
      "metadata": {
        "id": "pb9KckyCAVS7",
        "colab_type": "text"
      },
      "source": [
        "# Description2Brand"
      ]
    },
    {
      "cell_type": "code",
      "metadata": {
        "id": "NG5IS8DrYkJQ",
        "colab_type": "code",
        "colab": {}
      },
      "source": [
        "# data prep for Description2Brand Classification model. Was not used later so can skip this section\n",
        "nlp = spacy.load('en_core_web_md')\n",
        "description_brand_df = outfit_full_df.set_index('product_id')[['brand_x','description','brand_category']].drop_duplicates().fillna('')\n",
        "X = np.array([nlp(desc).vector for desc in description_brand_df.description]).reshape(-1,1,300)\n",
        "Y = description_brand_df.brand_x.apply(str.lower).values\n",
        "encoder = LabelEncoder()\n",
        "encoder.fit(Y)\n",
        "encoded_Y = encoder.transform(Y)\n",
        "dummy_y = np_utils.to_categorical(encoded_Y)\n",
        "#https://machinelearningmastery.com/multi-class-classification-tutorial-keras-deep-learning-library/"
      ],
      "execution_count": 0,
      "outputs": []
    },
    {
      "cell_type": "code",
      "metadata": {
        "id": "M7uZtl1rKSOJ",
        "colab_type": "code",
        "colab": {}
      },
      "source": [
        "# dectionption 2 x classifier model\n",
        "def Description2x():\n",
        "  model = Sequential()\n",
        "  model.add(LSTM(units=64,input_shape=(1,300)))\n",
        "  model.add(Dense(16, activation='relu'))\n",
        "  model.add(Dense(len(np.unique(Y)), activation='softmax'))\n",
        "  model.compile(loss='categorical_crossentropy', optimizer='adam', metrics=['accuracy'])\n",
        "  return model"
      ],
      "execution_count": 0,
      "outputs": []
    },
    {
      "cell_type": "code",
      "metadata": {
        "id": "-YeV8KkdOesV",
        "colab_type": "code",
        "outputId": "3aa3ad46-8090-4e08-ee2b-31535ded1fcb",
        "colab": {
          "base_uri": "https://localhost:8080/",
          "height": 561
        }
      },
      "source": [
        "# training description 2 brand model\n",
        "X_train, X_test, y_train, y_test = train_test_split(X,dummy_y,test_size=0.1,random_state=24)\n",
        "brandclassifier = KerasClassifier(build_fn=Description2x, validation_split=0.1, epochs=15, batch_size=16, verbose=1)\n",
        "brandclassifier.fit(X_train,y_train)"
      ],
      "execution_count": 190,
      "outputs": [
        {
          "output_type": "stream",
          "text": [
            "Train on 658 samples, validate on 74 samples\n",
            "Epoch 1/15\n",
            "658/658 [==============================] - 0s 665us/step - loss: 5.6507 - accuracy: 0.0106 - val_loss: 5.6343 - val_accuracy: 0.0541\n",
            "Epoch 2/15\n",
            "658/658 [==============================] - 0s 188us/step - loss: 5.4893 - accuracy: 0.0410 - val_loss: 5.5788 - val_accuracy: 0.0946\n",
            "Epoch 3/15\n",
            "658/658 [==============================] - 0s 184us/step - loss: 5.1652 - accuracy: 0.0593 - val_loss: 5.6906 - val_accuracy: 0.0946\n",
            "Epoch 4/15\n",
            "658/658 [==============================] - 0s 192us/step - loss: 5.0138 - accuracy: 0.0578 - val_loss: 5.7244 - val_accuracy: 0.0946\n",
            "Epoch 5/15\n",
            "658/658 [==============================] - 0s 184us/step - loss: 4.9392 - accuracy: 0.0638 - val_loss: 5.7853 - val_accuracy: 0.0946\n",
            "Epoch 6/15\n",
            "658/658 [==============================] - 0s 204us/step - loss: 4.8686 - accuracy: 0.0653 - val_loss: 5.8324 - val_accuracy: 0.0946\n",
            "Epoch 7/15\n",
            "658/658 [==============================] - 0s 204us/step - loss: 4.7529 - accuracy: 0.0942 - val_loss: 5.7875 - val_accuracy: 0.0946\n",
            "Epoch 8/15\n",
            "658/658 [==============================] - 0s 207us/step - loss: 4.6090 - accuracy: 0.1033 - val_loss: 5.8522 - val_accuracy: 0.1081\n",
            "Epoch 9/15\n",
            "658/658 [==============================] - 0s 207us/step - loss: 4.4800 - accuracy: 0.1185 - val_loss: 5.8875 - val_accuracy: 0.1081\n",
            "Epoch 10/15\n",
            "658/658 [==============================] - 0s 207us/step - loss: 4.3669 - accuracy: 0.1231 - val_loss: 5.9203 - val_accuracy: 0.1081\n",
            "Epoch 11/15\n",
            "658/658 [==============================] - 0s 209us/step - loss: 4.2714 - accuracy: 0.1261 - val_loss: 6.1224 - val_accuracy: 0.1081\n",
            "Epoch 12/15\n",
            "658/658 [==============================] - 0s 192us/step - loss: 4.1789 - accuracy: 0.1277 - val_loss: 6.2434 - val_accuracy: 0.1081\n",
            "Epoch 13/15\n",
            "658/658 [==============================] - 0s 190us/step - loss: 4.1062 - accuracy: 0.1292 - val_loss: 6.2326 - val_accuracy: 0.1081\n",
            "Epoch 14/15\n",
            "658/658 [==============================] - 0s 191us/step - loss: 4.0245 - accuracy: 0.1322 - val_loss: 6.3806 - val_accuracy: 0.1081\n",
            "Epoch 15/15\n",
            "658/658 [==============================] - 0s 196us/step - loss: 3.9582 - accuracy: 0.1337 - val_loss: 6.3766 - val_accuracy: 0.0946\n"
          ],
          "name": "stdout"
        },
        {
          "output_type": "execute_result",
          "data": {
            "text/plain": [
              "<keras.callbacks.callbacks.History at 0x7f4956804c18>"
            ]
          },
          "metadata": {
            "tags": []
          },
          "execution_count": 190
        }
      ]
    },
    {
      "cell_type": "code",
      "metadata": {
        "id": "-N6zuBlmR00l",
        "colab_type": "code",
        "outputId": "bb5bd7ef-f541-4e1d-80c0-1f6cc899834e",
        "colab": {
          "base_uri": "https://localhost:8080/",
          "height": 51
        }
      },
      "source": [
        "# test accurcy\n",
        "y_pred = brandclassifier.predict(X_test)\n",
        "y_test_list = [idx for y in y_test for idx in range(len(y)) if y[idx] == 1]\n",
        "accuracy_score(y_test_list,y_pred)"
      ],
      "execution_count": 191,
      "outputs": [
        {
          "output_type": "stream",
          "text": [
            "82/82 [==============================] - 0s 598us/step\n"
          ],
          "name": "stdout"
        },
        {
          "output_type": "execute_result",
          "data": {
            "text/plain": [
              "0.12195121951219512"
            ]
          },
          "metadata": {
            "tags": []
          },
          "execution_count": 191
        }
      ]
    },
    {
      "cell_type": "code",
      "metadata": {
        "id": "Ho9AuazRlsQB",
        "colab_type": "code",
        "outputId": "17f0cb06-6aa8-4d58-dc50-36d0a26dd357",
        "colab": {
          "base_uri": "https://localhost:8080/",
          "height": 51
        }
      },
      "source": [
        "# prediction demonstration\n",
        "encoder.inverse_transform(brandclassifier.predict(nlp('Beige cashmere Slips on 100% cashmere Dry clea').vector.reshape(-1,1,300)))[0]"
      ],
      "execution_count": 192,
      "outputs": [
        {
          "output_type": "stream",
          "text": [
            "\r1/1 [==============================] - 0s 991us/step\n"
          ],
          "name": "stdout"
        },
        {
          "output_type": "execute_result",
          "data": {
            "text/plain": [
              "'theory'"
            ]
          },
          "metadata": {
            "tags": []
          },
          "execution_count": 192
        }
      ]
    },
    {
      "cell_type": "markdown",
      "metadata": {
        "id": "mbyr_2-O9b0-",
        "colab_type": "text"
      },
      "source": [
        "# Cleaning brand categories"
      ]
    },
    {
      "cell_type": "code",
      "metadata": {
        "id": "ShEvm-8l9fMu",
        "colab_type": "code",
        "colab": {}
      },
      "source": [
        "#regex cleaning for brand category\n",
        "outfit_full_df.brand_category = outfit_full_df.brand_category.\\\n",
        "                          apply(lambda x: ','.join(pd.Series\\\n",
        "                          (re.findall(r'[/:]?(\\w+[\\s:]\\w+[\\w+:\\w+]*[\\s]\\w*|\\w+[\\s:]\\w+[\\w+:\\w+]*|\\w+)[/:]?', str(x).lower()))\\\n",
        "                          .drop_duplicates().tolist()))"
      ],
      "execution_count": 0,
      "outputs": []
    },
    {
      "cell_type": "code",
      "metadata": {
        "id": "shj5Ao779fG9",
        "colab_type": "code",
        "colab": {}
      },
      "source": [
        "# make a set of all the categories\n",
        "def add_cat(x):\n",
        "  cats = re.findall(r'[,]?(\\w+[\\s]\\w+[\\s]\\w+|\\w+[\\s]?\\w+|\\w+)[,]?',x)\n",
        "  for cat in cats:\n",
        "    categories.add(cat)\n",
        "  return"
      ],
      "execution_count": 0,
      "outputs": []
    },
    {
      "cell_type": "code",
      "metadata": {
        "id": "F6UGZxps9fCL",
        "colab_type": "code",
        "colab": {}
      },
      "source": [
        "#remove duplicates\n",
        "def remove_dupe(alist):\n",
        "  blist = []\n",
        "  for cat in alist:\n",
        "    blist.append(cat.strip())\n",
        "  return ','.join(pd.Series(blist).drop_duplicates().tolist())"
      ],
      "execution_count": 0,
      "outputs": []
    },
    {
      "cell_type": "code",
      "metadata": {
        "id": "5Yxq7AnF9e9k",
        "colab_type": "code",
        "colab": {}
      },
      "source": [
        "#remove duplicates in a single line of brand category\n",
        "remove_digits = str.maketrans('', '', string.digits)\n",
        "outfit_full_df.brand_category = outfit_full_df.brand_category\\\n",
        "                  .apply(lambda x: x.replace(':', ','))\\\n",
        "                  .apply(lambda x: x.translate(remove_digits))\\\n",
        "                  .apply(lambda x: remove_dupe(x.split(',')))"
      ],
      "execution_count": 0,
      "outputs": []
    },
    {
      "cell_type": "code",
      "metadata": {
        "id": "fWtM2NJX9e39",
        "colab_type": "code",
        "colab": {}
      },
      "source": [
        "#merge duplicate categories into ones\n",
        "to_replace = [[r'(\\bt,shirts\\b)','tees'],\n",
        "[r'(\\baccessories\\b|\\baccessory\\b|\\ball_accessories\\b)','accessories'],\n",
        "[r'(\\bbelt bags\\b|\\bbeltbags\\b)','beltbags'],\n",
        "[r'(\\bcoatsjacketswa\\b)','coats_and_jackets'],\n",
        "[r'(\\bcross body\\b|\\bcrossbody\\b)','crossbody'],\n",
        "[r'(\\bflat shoes\\b|\\bflat\\b)','flats'],\n",
        "[r'(\\bhandbagsshoes\\b)','handbags,shoes'],\n",
        "[r'(\\bjacketsvests\\b)','jackets,vests'],\n",
        "[r'(\\bjackets\\b|\\bjacket\\b)','jackets'],\n",
        "[r'(\\bdressesandjumpsuits\\b)','dresses,jumpsuits'],\n",
        "[r'(\\bbolerosjacketsvests\\b)','boleros,jackets,vests'],\n",
        "[r'(\\bapparelaccessories\\b)','apparel,accessories'],\n",
        "[r'(\\blow top\\b|\\blowtop\\b)','lowtop'],\n",
        "[r'(\\bmini bags\\b)','minibags'],\n",
        "[r'(\\bpantsshortsjumpsuits\\b)','pants,shorts,jumpsuits'],\n",
        "[r'(\\bshirts_tops\\b)','shirts,tops'],\n",
        "[r'(\\bshorts\\b)','short'],\n",
        "[r'(\\bshoulder bags\\b|\\bshoulder_bags\\b)','shoulderbags'],\n",
        "[r'(\\bsweatshirts_sweatpants\\b)','sweatshirts,sweatpants'],\n",
        "[r'(\\btshirts_tanktops\\b)','tees,tanktops'],\n",
        "[r'(\\btshirtstanks\\b)','tees,tanktops'],\n",
        "[r'(\\bwomensapparel\\b)','women'],\n",
        "[r'(\\bclutch bags\\b)','clutches'],\n",
        "[r'(\\bjumpsuit\\b)','jumpsuits'],\n",
        "[r'(\\bmidi dresses\\b)','midi'],\n",
        "[r'(\\bromper\\b)','rompers'],\n",
        "[r'(\\bskirt\\b)','skirts'],\n",
        "[r'(\\bsweater\\b)','sweaters'],\n",
        "[r'(\\btote bags\\b)','totes'],\n",
        "[r'(\\btop\\b)','tops']]\n",
        "\n",
        "for replace in to_replace:\n",
        "    outfit_full_df.brand_category = outfit_full_df.brand_category.apply(lambda x: re.sub(replace[0],replace[1], x.lower()))"
      ],
      "execution_count": 0,
      "outputs": []
    },
    {
      "cell_type": "markdown",
      "metadata": {
        "id": "QYVyrJitk4zA",
        "colab_type": "text"
      },
      "source": [
        "# Word2Vec"
      ]
    },
    {
      "cell_type": "code",
      "metadata": {
        "id": "eoMze-nArAIi",
        "colab_type": "code",
        "colab": {}
      },
      "source": [
        "from sklearn.feature_extraction.text import TfidfVectorizer\n",
        "from sklearn.metrics.pairwise import cosine_similarity\n",
        "from gensim.utils import tokenize"
      ],
      "execution_count": 0,
      "outputs": []
    },
    {
      "cell_type": "code",
      "metadata": {
        "id": "iQbyEcYz9_lS",
        "colab_type": "code",
        "outputId": "a7327e9f-e1f2-4b8f-8a45-c5b737aa8bc1",
        "colab": {
          "base_uri": "https://localhost:8080/",
          "height": 34
        }
      },
      "source": [
        "# data prep for word2vec model\n",
        "description_brand_df = outfit_full_df.set_index('product_id')[['brand_x','product_full_name_x','description','brand_category']].drop_duplicates().fillna('')\n",
        "description_brand_df.columns = ['brand','product_full_name','description','brand_category']\n",
        "all_brands = description_brand_df.brand.str.lower().unique()\n",
        "categories = set()\n",
        "description_brand_df.brand_category.apply(add_cat)\n",
        "for col in description_brand_df.columns:\n",
        "  description_brand_df[col] = description_brand_df[col].apply(deep_cleaned)\n",
        "descriptions_tokens = [[token for token in tokenize(sent)] for sent in description_brand_df.description.drop_duplicates().values]\n",
        "description_model = Word2Vec(descriptions_tokens, size=96, min_count=2)"
      ],
      "execution_count": 248,
      "outputs": [
        {
          "output_type": "stream",
          "text": [
            "WARNING:gensim.models.base_any2vec:under 10 jobs per worker: consider setting a smaller `batch_words' for smoother alpha decay\n"
          ],
          "name": "stderr"
        }
      ]
    },
    {
      "cell_type": "code",
      "metadata": {
        "id": "yC7XB56pr5vH",
        "colab_type": "code",
        "colab": {}
      },
      "source": [
        "def tfidf(series):\n",
        "    vectorizer = TfidfVectorizer(max_df=0.3)\n",
        "    X = vectorizer.fit_transform(series)\n",
        "\n",
        "    tf_idf_lookup_table = pd.DataFrame(X.toarray(), columns=vectorizer.get_feature_names())\n",
        "\n",
        "\n",
        "    DOCUMENT_SUM_COLUMN = \"DOCUMENT_TF_IDF_SUM\"\n",
        "\n",
        "    tf_idf_lookup_table[DOCUMENT_SUM_COLUMN] = tf_idf_lookup_table.sum(axis=1)\n",
        "    available_tf_idf_scores = tf_idf_lookup_table.columns \n",
        "    available_tf_idf_scores = list(map( lambda x: x.lower(), available_tf_idf_scores)) \n",
        "    return tf_idf_lookup_table, available_tf_idf_scores"
      ],
      "execution_count": 0,
      "outputs": []
    },
    {
      "cell_type": "code",
      "metadata": {
        "id": "LmGF1wgsuoGq",
        "colab_type": "code",
        "colab": {}
      },
      "source": [
        "#make embed function cr to Prof Yu Chen\n",
        "def embed(textdf, available_tf_idf_scores, tf_idf_lookup_table, text_only=False):\n",
        "    text_vectors = {}\n",
        "    indices = textdf.index\n",
        "    for idx, text in enumerate(textdf): \n",
        "        tokens = nlp(text)\n",
        "        total_tf_idf_score_per_document = 0\n",
        "\n",
        "        running_total_word_embedding = np.zeros(96) \n",
        "        for token in tokens:\n",
        "            if token.text in description_model.wv.vocab and token.text.lower() in available_tf_idf_scores:\n",
        "\n",
        "                tf_idf_score = tf_idf_lookup_table.loc[idx, token.text.lower()]\n",
        "            \n",
        "                running_total_word_embedding += tf_idf_score * description_model.wv.get_vector(token.text)\n",
        "\n",
        "                total_tf_idf_score_per_document += tf_idf_score\n",
        "\n",
        "        document_embedding = running_total_word_embedding / (total_tf_idf_score_per_document + 1e-6)\n",
        "        if text_only:\n",
        "          return document_embedding\n",
        "        text_vectors[indices[idx]] = document_embedding\n",
        "    return text_vectors"
      ],
      "execution_count": 0,
      "outputs": []
    },
    {
      "cell_type": "markdown",
      "metadata": {
        "id": "hDG6gxKf5iCO",
        "colab_type": "text"
      },
      "source": [
        "# Define final recommender class"
      ]
    },
    {
      "cell_type": "code",
      "metadata": {
        "id": "Mr0pDwrCzYM8",
        "colab_type": "code",
        "colab": {}
      },
      "source": [
        "# fuzzy matching function\n",
        "def fuzzy_match(fuzz_list, query):\n",
        "  fuzz_series = pd.Series(fuzz_list,index=fuzz_list)\n",
        "  for f in fuzz_list:\n",
        "    fuzz_return = fuzz_series.apply(lambda fz: fuzz.partial_ratio(fz.lower(),query.lower())).sort_values(ascending=False)\n",
        "  if fuzz_return.iloc[0] > 85:\n",
        "    return fuzz_return.index[0]\n",
        "  return None"
      ],
      "execution_count": 0,
      "outputs": []
    },
    {
      "cell_type": "code",
      "metadata": {
        "id": "iD9HcTdigFlL",
        "colab_type": "code",
        "colab": {}
      },
      "source": [
        "# final outfits_recommender class\n",
        "class outfits_recommender:\n",
        "  #initialize query\n",
        "  def __init__(self, query):\n",
        "    self.query = deep_cleaned(query)\n",
        "    self.brand = None\n",
        "    self.category = None\n",
        "    self.name = None\n",
        "    self.query_embed = None\n",
        "\n",
        "  # get the closest id description item with given query vector\n",
        "  def closest_id(self, compare_indices, d_text_vector):\n",
        "    closest = 0\n",
        "    closest_product = None\n",
        "    for idx in compare_indices:\n",
        "      closeness = cosine_similarity([d_text_vector[idx],self.query_embed])\n",
        "      if closeness[0][1] > closest:\n",
        "        closest = closeness[0][1]\n",
        "        closest_product = idx\n",
        "    return closest_product\n",
        "\n",
        "  # main freeform seach\n",
        "  def free_form_search(self):\n",
        "    # grab all vectors for all descriotions and query\n",
        "    query_desc_df = description_brand_df.drop_duplicates().description.apply(deep_cleaned).append(pd.Series([self.query],index=['query']))\n",
        "    d_tf_idf_lookup_table, d_available_tf_idf_scores = tfidf(query_desc_df)\n",
        "    d_text_vector = embed(query_desc_df, d_available_tf_idf_scores, d_tf_idf_lookup_table)\n",
        "\n",
        "    # fuzzy match brand, category and name\n",
        "    self.brand = fuzzy_match(all_brands, self.query)\n",
        "    self.category = fuzzy_match(list(categories), self.query)\n",
        "    self.name = fuzzy_match(description_brand_df.product_full_name.drop_duplicates().apply(deep_cleaned).tolist(), self.query)\n",
        "\n",
        "    # setting query vector. if query vector has vocabs not in our word2vec model, try spacy, if not random initialize\n",
        "    self.query_embed = d_text_vector['query']\n",
        "    if np.count_nonzero(self.query_embed) == 0:\n",
        "      self.query_embed = spacy.load('en_core_web_sm')(self.query).vector\n",
        "    if np.count_nonzero(self.query_embed) == 0:\n",
        "      self.query_embed = np.random.randn(self.query_embed.shape[0])\n",
        "    del d_text_vector['query']\n",
        "\n",
        "    # if the query contains brand and category\n",
        "    if self.brand and self.category:\n",
        "      return_df = description_brand_df[(description_brand_df.brand==self.brand)&(description_brand_df.brand_category.isin([self.category]))]\n",
        "      if not return_df.empty:\n",
        "        closest_product = self.closest_id(return_df.index,d_text_vector)\n",
        "        return product_id_recommender(input_id=closest_product,called=True)\n",
        "    \n",
        "    # if query contains brand\n",
        "    if self.brand:\n",
        "      return_df = description_brand_df[(description_brand_df.brand==self.brand)]\n",
        "      if not return_df.empty:\n",
        "        closest_product = self.closest_id(return_df.index,d_text_vector)\n",
        "        return product_id_recommender(input_id=closest_product,called=True)\n",
        "    \n",
        "    # if query contains category\n",
        "    if self.category:\n",
        "      return_df = description_brand_df[(description_brand_df.brand_category.isin([self.category]))]\n",
        "      if not return_df.empty:\n",
        "        closest_product = self.closest_id(return_df.index,d_text_vector)\n",
        "        return product_id_recommender(input_id=closest_product,called=True)\n",
        "    \n",
        "    # if query contains full name\n",
        "    if self.name:\n",
        "      return_df = description_brand_df[(description_brand_df.product_full_name==self.name)]\n",
        "      if not return_df.empty:\n",
        "        closest_product = self.closest_id(return_df.index,d_text_vector)\n",
        "        return product_id_recommender(input_id=closest_product,called=True)\n",
        "\n",
        "    # none of the above\n",
        "    closest_product = self.closest_id(d_text_vector.keys(),d_text_vector)\n",
        "    return product_id_recommender(input_id=closest_product,called=True)\n",
        "  \n",
        "  # method for doing pure id seach\n",
        "  def product_id_search(self):\n",
        "    return product_id_recommender(input_id=self.query,called=True)"
      ],
      "execution_count": 0,
      "outputs": []
    },
    {
      "cell_type": "markdown",
      "metadata": {
        "id": "uTGGGRqR9YsE",
        "colab_type": "text"
      },
      "source": [
        "# Final Demonstrations"
      ]
    },
    {
      "cell_type": "code",
      "metadata": {
        "id": "vCn8bVrN2emp",
        "colab_type": "code",
        "outputId": "0e4bf682-f1ab-4b91-fb41-b7d94a404faa",
        "colab": {
          "base_uri": "https://localhost:8080/",
          "height": 202,
          "referenced_widgets": [
            "4b17182b242f4291a07e6c94900ef975",
            "affce582daf24539a4dc9e42545aa76b",
            "95434d34d97e49f9a091463798ba04fb",
            "0c19fe9b076647de9bd3e569dc39a6ea",
            "2f4bbf9614b04815b54355643034c36e",
            "ae059d18b3ed4f96b3ed8683a8861285",
            "810e88ea012f446092881fe4d8e507e7",
            "dc860ab5935a41a39c3fce4115dba825"
          ]
        }
      },
      "source": [
        "# demostrating free-form brand search\n",
        "outfitQ = outfits_recommender('bananarepub')\n",
        "banana_outfits = outfitQ.free_form_search()"
      ],
      "execution_count": 229,
      "outputs": [
        {
          "output_type": "stream",
          "text": [
            "Do you want multiple outfits?\n",
            "Y/N··········\n"
          ],
          "name": "stdout"
        },
        {
          "output_type": "display_data",
          "data": {
            "application/vnd.jupyter.widget-view+json": {
              "model_id": "4b17182b242f4291a07e6c94900ef975",
              "version_minor": 0,
              "version_major": 2
            },
            "text/plain": [
              "HBox(children=(FloatProgress(value=0.0, max=50.0), HTML(value='')))"
            ]
          },
          "metadata": {
            "tags": []
          }
        },
        {
          "output_type": "stream",
          "text": [
            "\n",
            "---Based on your query, we recommend the following outfit---\n",
            "                      Brand                                               Item\n",
            "accessory   Banana Republic                      Herringbone Wool-Blend  Scarf\n",
            "bottom     Carolina Herrera  High-Waisted Checked Silk And Wool Wide-Leg Pants\n",
            "top            Marissa Webb                 Piper Mock Neck Wool-Blend Sweater\n",
            "shoe        Banana Republic                        Madison 12-Hour Loafer Pump\n"
          ],
          "name": "stdout"
        }
      ]
    },
    {
      "cell_type": "code",
      "metadata": {
        "id": "dl_5TKn05s64",
        "colab_type": "code",
        "colab": {
          "base_uri": "https://localhost:8080/",
          "height": 202,
          "referenced_widgets": [
            "6f62923363e74931a4a0a02d9ffe6695",
            "957a875fba6b45e48f9b854c98835f41",
            "8c6581bef9e047d4a4866bc6f6f61003",
            "d3c18075c1af426bbb17b3dd88cf1de8",
            "a7393069516340b4b1ad87f24b7d34ae",
            "117a2509bac347e0a6de7b2c5169775c",
            "4da89fe659374e73a0e971ee4f65a13b",
            "ddd07f0a65dd4046bf1cdd69d85eb5f1"
          ]
        },
        "outputId": "8875569f-bbb6-453f-fe0e-7ff43df9b67d"
      },
      "source": [
        "# demostrating free-form brand search\n",
        "outfitQ = outfits_recommender('sneakerz')\n",
        "shoes_outfits = outfitQ.free_form_search()"
      ],
      "execution_count": 257,
      "outputs": [
        {
          "output_type": "stream",
          "text": [
            "Do you want multiple outfits?\n",
            "Y/N··········\n"
          ],
          "name": "stdout"
        },
        {
          "output_type": "display_data",
          "data": {
            "application/vnd.jupyter.widget-view+json": {
              "model_id": "6f62923363e74931a4a0a02d9ffe6695",
              "version_minor": 0,
              "version_major": 2
            },
            "text/plain": [
              "HBox(children=(FloatProgress(value=0.0, max=50.0), HTML(value='')))"
            ]
          },
          "metadata": {
            "tags": []
          }
        },
        {
          "output_type": "stream",
          "text": [
            "\n",
            "---Based on your query, we recommend the following outfit---\n",
            "                          Brand                                    Item\n",
            "shoe             Veronica Beard           Sami Lace-Up Leather Sneakers\n",
            "accessory    Madeleine Thompson  Danny Wool And Cashmere-Blend Cardigan\n",
            "top                       Frame                       Satin Lounge Tank\n",
            "bottom     Baum und Pferdgarten             Nancy Dark Wash Button Jean\n"
          ],
          "name": "stdout"
        }
      ]
    },
    {
      "cell_type": "code",
      "metadata": {
        "id": "CXNrVoweADow",
        "colab_type": "code",
        "outputId": "c2e1bfb9-c5c3-4d82-a7b4-38c1c3e2ad8d",
        "colab": {
          "base_uri": "https://localhost:8080/",
          "height": 202,
          "referenced_widgets": [
            "13ce915662784822a43015be41de991c",
            "b579424eade84a4196508f9182a76a11",
            "01aca5b8d55a486aae81aa981e7302ac",
            "fdd827bcab8c4eb38cbdbab211b9042d",
            "940a4dec264c4d8ab893852ba6fecb64",
            "641efadb4f804b31abad955e3c379c91",
            "d025bee381d04d0fb4bb63aefd729e8f",
            "c34386d6350b4b5b8d9653a1de1de193"
          ]
        }
      },
      "source": [
        "# demostrating free-form description search\n",
        "outfitQ = outfits_recommender('Sexy silky, a-line mini skirt zipper Benson skirt')\n",
        "product_id_outfits = new.free_form_search()"
      ],
      "execution_count": 258,
      "outputs": [
        {
          "output_type": "stream",
          "text": [
            "Do you want multiple outfits?\n",
            "Y/N··········\n"
          ],
          "name": "stdout"
        },
        {
          "output_type": "display_data",
          "data": {
            "application/vnd.jupyter.widget-view+json": {
              "model_id": "13ce915662784822a43015be41de991c",
              "version_minor": 0,
              "version_major": 2
            },
            "text/plain": [
              "HBox(children=(FloatProgress(value=0.0, max=50.0), HTML(value='')))"
            ]
          },
          "metadata": {
            "tags": []
          }
        },
        {
          "output_type": "stream",
          "text": [
            "\n",
            "---Based on your query, we recommend the following outfit---\n",
            "                    Brand                        Item\n",
            "bottom        Reformation                Benson Skirt\n",
            "top        Veronica Beard              Ashlynn Blouse\n",
            "shoe               J.Crew  Pointed-toe flats in suede\n",
            "accessory           Frame      Double Faced Bell Coat\n"
          ],
          "name": "stdout"
        }
      ]
    },
    {
      "cell_type": "code",
      "metadata": {
        "id": "N8H-wFQi-kCQ",
        "colab_type": "code",
        "colab": {
          "base_uri": "https://localhost:8080/",
          "height": 504,
          "referenced_widgets": [
            "1dc78d711556460a8944f96f83f461f8",
            "c90c2d3a079c4221a1a95a4fbcb05910",
            "bb5abb8a2d38408ca81e06ca78b936b2",
            "7f5d5d3078404e19a136cc72d96ec6df",
            "d67cf3f8be9c42d19a04d018a99b9e4a",
            "10fd4491717549e99e0a066a727413b0",
            "eb37a0ec942a478db3ca7ad735391c88",
            "cd223ba20600468dbb70eda5039b577a",
            "d10a030bf4014d4eb953c9420df8f0b3",
            "cbb8212d9fe342538c2d03bbee52bc4d",
            "d8beecd6582e45d3ab1608e78a4177c9",
            "8bb10d3fc9134a549ce43a32cdb9ee92",
            "145dd3e39614410b85ec575d7aa3add7",
            "280b28f391e24ee5a7c430e9d44cabd4",
            "350efe4b68bb451a82e7e97158dbab59",
            "11d9e97739b340dcbb7af62387b774cb",
            "d1543838b09e45bbb8858133c4397f71",
            "9790d298f89b48d0a67c012352be7ed9",
            "b627f4746f0a44cbaa9b0ff79f331a8b",
            "d23d082c13ae4f7cbbe400bbf17787b9",
            "13d590fa61624df8b4620eded0feabe6",
            "af8d5f677ae947f0b57ab8e292d3f490",
            "3b195297ede740c19df06dd82db20443",
            "7f61299e6e1b48ac8e7c48da33742c4e"
          ]
        },
        "outputId": "f44a2364-a537-48f0-bef0-9200ffcfecd5"
      },
      "source": [
        "# demostrating free-form brand search\n",
        "outfitQ = outfits_recommender('01E5ZYHZA7186DVWET99Q4D2PM')\n",
        "product_id_outfits = outfitQ.product_id_search()"
      ],
      "execution_count": 259,
      "outputs": [
        {
          "output_type": "stream",
          "text": [
            "Did you mean 01E5ZYHZA7186DVWEJ99Q4D2PM?\n",
            "Y/N··········\n",
            "Do you want multiple outfits?\n",
            "Y/N··········\n"
          ],
          "name": "stdout"
        },
        {
          "output_type": "display_data",
          "data": {
            "application/vnd.jupyter.widget-view+json": {
              "model_id": "1dc78d711556460a8944f96f83f461f8",
              "version_minor": 0,
              "version_major": 2
            },
            "text/plain": [
              "HBox(children=(FloatProgress(value=0.0, max=50.0), HTML(value='')))"
            ]
          },
          "metadata": {
            "tags": []
          }
        },
        {
          "output_type": "stream",
          "text": [
            "\n"
          ],
          "name": "stdout"
        },
        {
          "output_type": "display_data",
          "data": {
            "application/vnd.jupyter.widget-view+json": {
              "model_id": "d10a030bf4014d4eb953c9420df8f0b3",
              "version_minor": 0,
              "version_major": 2
            },
            "text/plain": [
              "HBox(children=(FloatProgress(value=0.0, max=50.0), HTML(value='')))"
            ]
          },
          "metadata": {
            "tags": []
          }
        },
        {
          "output_type": "stream",
          "text": [
            "\n"
          ],
          "name": "stdout"
        },
        {
          "output_type": "display_data",
          "data": {
            "application/vnd.jupyter.widget-view+json": {
              "model_id": "d1543838b09e45bbb8858133c4397f71",
              "version_minor": 0,
              "version_major": 2
            },
            "text/plain": [
              "HBox(children=(FloatProgress(value=0.0, max=50.0), HTML(value='')))"
            ]
          },
          "metadata": {
            "tags": []
          }
        },
        {
          "output_type": "stream",
          "text": [
            "\n",
            "                 Brand                                      Item\n",
            "accessory  Sam Edelman  65mm Gradient Oversize Square Sunglasses\n",
            "onepiece    Nili Lotan                              Pamela Dress\n",
            "shoe        ANINE BING                              Stella Boots\n",
            "############################################################################\n",
            "                 Brand                                      Item\n",
            "accessory  Sam Edelman  65mm Gradient Oversize Square Sunglasses\n",
            "top                ALO                       Move Mock Neck Tank\n",
            "bottom      NILI LOTAN    Rigid High-Rise Striped Slim-Leg Jeans\n",
            "shoe        ANINE BING                              Stella Boots\n",
            "############################################################################\n",
            "                 Brand                                      Item\n",
            "accessory  Sam Edelman  65mm Gradient Oversize Square Sunglasses\n",
            "onepiece    ANINE BING                               Darcy Dress\n",
            "shoe       DR. MARTENS               Fenimore Triple Buckle Boot\n",
            "############################################################################\n"
          ],
          "name": "stdout"
        }
      ]
    }
  ]
}