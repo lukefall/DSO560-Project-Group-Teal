{
  "nbformat": 4,
  "nbformat_minor": 0,
  "metadata": {
    "kernelspec": {
      "display_name": "Python 3",
      "language": "python",
      "name": "python3"
    },
    "language_info": {
      "codemirror_mode": {
        "name": "ipython",
        "version": 3
      },
      "file_extension": ".py",
      "mimetype": "text/x-python",
      "name": "python",
      "nbconvert_exporter": "python",
      "pygments_lexer": "ipython3",
      "version": "3.7.6"
    },
    "colab": {
      "name": "Matrix Factorization.ipynb",
      "provenance": [],
      "collapsed_sections": []
    },
    "widgets": {
      "application/vnd.jupyter.widget-state+json": {
        "29d991a0175642fca7ee567b9c148aea": {
          "model_module": "@jupyter-widgets/controls",
          "model_name": "HBoxModel",
          "state": {
            "_view_name": "HBoxView",
            "_dom_classes": [],
            "_model_name": "HBoxModel",
            "_view_module": "@jupyter-widgets/controls",
            "_model_module_version": "1.5.0",
            "_view_count": null,
            "_view_module_version": "1.5.0",
            "box_style": "",
            "layout": "IPY_MODEL_6659760920804a0b9dafac1ef27ffa80",
            "_model_module": "@jupyter-widgets/controls",
            "children": [
              "IPY_MODEL_56d9081164fb440b86967ad0aa6ec107",
              "IPY_MODEL_6a0342e91148415b88b339b64dcdbde4"
            ]
          }
        },
        "6659760920804a0b9dafac1ef27ffa80": {
          "model_module": "@jupyter-widgets/base",
          "model_name": "LayoutModel",
          "state": {
            "_view_name": "LayoutView",
            "grid_template_rows": null,
            "right": null,
            "justify_content": null,
            "_view_module": "@jupyter-widgets/base",
            "overflow": null,
            "_model_module_version": "1.2.0",
            "_view_count": null,
            "flex_flow": null,
            "width": null,
            "min_width": null,
            "border": null,
            "align_items": null,
            "bottom": null,
            "_model_module": "@jupyter-widgets/base",
            "top": null,
            "grid_column": null,
            "overflow_y": null,
            "overflow_x": null,
            "grid_auto_flow": null,
            "grid_area": null,
            "grid_template_columns": null,
            "flex": null,
            "_model_name": "LayoutModel",
            "justify_items": null,
            "grid_row": null,
            "max_height": null,
            "align_content": null,
            "visibility": null,
            "align_self": null,
            "height": null,
            "min_height": null,
            "padding": null,
            "grid_auto_rows": null,
            "grid_gap": null,
            "max_width": null,
            "order": null,
            "_view_module_version": "1.2.0",
            "grid_template_areas": null,
            "object_position": null,
            "object_fit": null,
            "grid_auto_columns": null,
            "margin": null,
            "display": null,
            "left": null
          }
        },
        "56d9081164fb440b86967ad0aa6ec107": {
          "model_module": "@jupyter-widgets/controls",
          "model_name": "FloatProgressModel",
          "state": {
            "_view_name": "ProgressView",
            "style": "IPY_MODEL_ec713605767441c1949135273388c567",
            "_dom_classes": [],
            "description": "100%",
            "_model_name": "FloatProgressModel",
            "bar_style": "success",
            "max": 50,
            "_view_module": "@jupyter-widgets/controls",
            "_model_module_version": "1.5.0",
            "value": 50,
            "_view_count": null,
            "_view_module_version": "1.5.0",
            "orientation": "horizontal",
            "min": 0,
            "description_tooltip": null,
            "_model_module": "@jupyter-widgets/controls",
            "layout": "IPY_MODEL_a17d2980c88648979cc2e1034ab4c833"
          }
        },
        "6a0342e91148415b88b339b64dcdbde4": {
          "model_module": "@jupyter-widgets/controls",
          "model_name": "HTMLModel",
          "state": {
            "_view_name": "HTMLView",
            "style": "IPY_MODEL_f2a287a914da429f8f9126ef61663aa8",
            "_dom_classes": [],
            "description": "",
            "_model_name": "HTMLModel",
            "placeholder": "​",
            "_view_module": "@jupyter-widgets/controls",
            "_model_module_version": "1.5.0",
            "value": " 50/50 [00:27&lt;00:00,  1.79it/s]",
            "_view_count": null,
            "_view_module_version": "1.5.0",
            "description_tooltip": null,
            "_model_module": "@jupyter-widgets/controls",
            "layout": "IPY_MODEL_b3f7ba6f07e947adbfecf83f6a6e96c3"
          }
        },
        "ec713605767441c1949135273388c567": {
          "model_module": "@jupyter-widgets/controls",
          "model_name": "ProgressStyleModel",
          "state": {
            "_view_name": "StyleView",
            "_model_name": "ProgressStyleModel",
            "description_width": "initial",
            "_view_module": "@jupyter-widgets/base",
            "_model_module_version": "1.5.0",
            "_view_count": null,
            "_view_module_version": "1.2.0",
            "bar_color": null,
            "_model_module": "@jupyter-widgets/controls"
          }
        },
        "a17d2980c88648979cc2e1034ab4c833": {
          "model_module": "@jupyter-widgets/base",
          "model_name": "LayoutModel",
          "state": {
            "_view_name": "LayoutView",
            "grid_template_rows": null,
            "right": null,
            "justify_content": null,
            "_view_module": "@jupyter-widgets/base",
            "overflow": null,
            "_model_module_version": "1.2.0",
            "_view_count": null,
            "flex_flow": null,
            "width": null,
            "min_width": null,
            "border": null,
            "align_items": null,
            "bottom": null,
            "_model_module": "@jupyter-widgets/base",
            "top": null,
            "grid_column": null,
            "overflow_y": null,
            "overflow_x": null,
            "grid_auto_flow": null,
            "grid_area": null,
            "grid_template_columns": null,
            "flex": null,
            "_model_name": "LayoutModel",
            "justify_items": null,
            "grid_row": null,
            "max_height": null,
            "align_content": null,
            "visibility": null,
            "align_self": null,
            "height": null,
            "min_height": null,
            "padding": null,
            "grid_auto_rows": null,
            "grid_gap": null,
            "max_width": null,
            "order": null,
            "_view_module_version": "1.2.0",
            "grid_template_areas": null,
            "object_position": null,
            "object_fit": null,
            "grid_auto_columns": null,
            "margin": null,
            "display": null,
            "left": null
          }
        },
        "f2a287a914da429f8f9126ef61663aa8": {
          "model_module": "@jupyter-widgets/controls",
          "model_name": "DescriptionStyleModel",
          "state": {
            "_view_name": "StyleView",
            "_model_name": "DescriptionStyleModel",
            "description_width": "",
            "_view_module": "@jupyter-widgets/base",
            "_model_module_version": "1.5.0",
            "_view_count": null,
            "_view_module_version": "1.2.0",
            "_model_module": "@jupyter-widgets/controls"
          }
        },
        "b3f7ba6f07e947adbfecf83f6a6e96c3": {
          "model_module": "@jupyter-widgets/base",
          "model_name": "LayoutModel",
          "state": {
            "_view_name": "LayoutView",
            "grid_template_rows": null,
            "right": null,
            "justify_content": null,
            "_view_module": "@jupyter-widgets/base",
            "overflow": null,
            "_model_module_version": "1.2.0",
            "_view_count": null,
            "flex_flow": null,
            "width": null,
            "min_width": null,
            "border": null,
            "align_items": null,
            "bottom": null,
            "_model_module": "@jupyter-widgets/base",
            "top": null,
            "grid_column": null,
            "overflow_y": null,
            "overflow_x": null,
            "grid_auto_flow": null,
            "grid_area": null,
            "grid_template_columns": null,
            "flex": null,
            "_model_name": "LayoutModel",
            "justify_items": null,
            "grid_row": null,
            "max_height": null,
            "align_content": null,
            "visibility": null,
            "align_self": null,
            "height": null,
            "min_height": null,
            "padding": null,
            "grid_auto_rows": null,
            "grid_gap": null,
            "max_width": null,
            "order": null,
            "_view_module_version": "1.2.0",
            "grid_template_areas": null,
            "object_position": null,
            "object_fit": null,
            "grid_auto_columns": null,
            "margin": null,
            "display": null,
            "left": null
          }
        },
        "e2dfa1f8a606407c957f90274e798cb1": {
          "model_module": "@jupyter-widgets/controls",
          "model_name": "HBoxModel",
          "state": {
            "_view_name": "HBoxView",
            "_dom_classes": [],
            "_model_name": "HBoxModel",
            "_view_module": "@jupyter-widgets/controls",
            "_model_module_version": "1.5.0",
            "_view_count": null,
            "_view_module_version": "1.5.0",
            "box_style": "",
            "layout": "IPY_MODEL_8be6d5fe7135405db07bccd68b7f9e37",
            "_model_module": "@jupyter-widgets/controls",
            "children": [
              "IPY_MODEL_162fa13bac7a4020bfa06dc2b30c20c0",
              "IPY_MODEL_86d83f12f1ac40fba26e31fe2e71ddf7"
            ]
          }
        },
        "8be6d5fe7135405db07bccd68b7f9e37": {
          "model_module": "@jupyter-widgets/base",
          "model_name": "LayoutModel",
          "state": {
            "_view_name": "LayoutView",
            "grid_template_rows": null,
            "right": null,
            "justify_content": null,
            "_view_module": "@jupyter-widgets/base",
            "overflow": null,
            "_model_module_version": "1.2.0",
            "_view_count": null,
            "flex_flow": null,
            "width": null,
            "min_width": null,
            "border": null,
            "align_items": null,
            "bottom": null,
            "_model_module": "@jupyter-widgets/base",
            "top": null,
            "grid_column": null,
            "overflow_y": null,
            "overflow_x": null,
            "grid_auto_flow": null,
            "grid_area": null,
            "grid_template_columns": null,
            "flex": null,
            "_model_name": "LayoutModel",
            "justify_items": null,
            "grid_row": null,
            "max_height": null,
            "align_content": null,
            "visibility": null,
            "align_self": null,
            "height": null,
            "min_height": null,
            "padding": null,
            "grid_auto_rows": null,
            "grid_gap": null,
            "max_width": null,
            "order": null,
            "_view_module_version": "1.2.0",
            "grid_template_areas": null,
            "object_position": null,
            "object_fit": null,
            "grid_auto_columns": null,
            "margin": null,
            "display": null,
            "left": null
          }
        },
        "162fa13bac7a4020bfa06dc2b30c20c0": {
          "model_module": "@jupyter-widgets/controls",
          "model_name": "FloatProgressModel",
          "state": {
            "_view_name": "ProgressView",
            "style": "IPY_MODEL_3035a3bf06e84bddb89aab2a24316818",
            "_dom_classes": [],
            "description": "100%",
            "_model_name": "FloatProgressModel",
            "bar_style": "success",
            "max": 50,
            "_view_module": "@jupyter-widgets/controls",
            "_model_module_version": "1.5.0",
            "value": 50,
            "_view_count": null,
            "_view_module_version": "1.5.0",
            "orientation": "horizontal",
            "min": 0,
            "description_tooltip": null,
            "_model_module": "@jupyter-widgets/controls",
            "layout": "IPY_MODEL_3efeb3fe55c548f2beec6b1c2e3b63bf"
          }
        },
        "86d83f12f1ac40fba26e31fe2e71ddf7": {
          "model_module": "@jupyter-widgets/controls",
          "model_name": "HTMLModel",
          "state": {
            "_view_name": "HTMLView",
            "style": "IPY_MODEL_b350a66b9c1e42228d672718113b071c",
            "_dom_classes": [],
            "description": "",
            "_model_name": "HTMLModel",
            "placeholder": "​",
            "_view_module": "@jupyter-widgets/controls",
            "_model_module_version": "1.5.0",
            "value": " 50/50 [00:11&lt;00:00,  4.26it/s]",
            "_view_count": null,
            "_view_module_version": "1.5.0",
            "description_tooltip": null,
            "_model_module": "@jupyter-widgets/controls",
            "layout": "IPY_MODEL_0fdd9bb2cf1a44db96ab0dbc71d6a3fd"
          }
        },
        "3035a3bf06e84bddb89aab2a24316818": {
          "model_module": "@jupyter-widgets/controls",
          "model_name": "ProgressStyleModel",
          "state": {
            "_view_name": "StyleView",
            "_model_name": "ProgressStyleModel",
            "description_width": "initial",
            "_view_module": "@jupyter-widgets/base",
            "_model_module_version": "1.5.0",
            "_view_count": null,
            "_view_module_version": "1.2.0",
            "bar_color": null,
            "_model_module": "@jupyter-widgets/controls"
          }
        },
        "3efeb3fe55c548f2beec6b1c2e3b63bf": {
          "model_module": "@jupyter-widgets/base",
          "model_name": "LayoutModel",
          "state": {
            "_view_name": "LayoutView",
            "grid_template_rows": null,
            "right": null,
            "justify_content": null,
            "_view_module": "@jupyter-widgets/base",
            "overflow": null,
            "_model_module_version": "1.2.0",
            "_view_count": null,
            "flex_flow": null,
            "width": null,
            "min_width": null,
            "border": null,
            "align_items": null,
            "bottom": null,
            "_model_module": "@jupyter-widgets/base",
            "top": null,
            "grid_column": null,
            "overflow_y": null,
            "overflow_x": null,
            "grid_auto_flow": null,
            "grid_area": null,
            "grid_template_columns": null,
            "flex": null,
            "_model_name": "LayoutModel",
            "justify_items": null,
            "grid_row": null,
            "max_height": null,
            "align_content": null,
            "visibility": null,
            "align_self": null,
            "height": null,
            "min_height": null,
            "padding": null,
            "grid_auto_rows": null,
            "grid_gap": null,
            "max_width": null,
            "order": null,
            "_view_module_version": "1.2.0",
            "grid_template_areas": null,
            "object_position": null,
            "object_fit": null,
            "grid_auto_columns": null,
            "margin": null,
            "display": null,
            "left": null
          }
        },
        "b350a66b9c1e42228d672718113b071c": {
          "model_module": "@jupyter-widgets/controls",
          "model_name": "DescriptionStyleModel",
          "state": {
            "_view_name": "StyleView",
            "_model_name": "DescriptionStyleModel",
            "description_width": "",
            "_view_module": "@jupyter-widgets/base",
            "_model_module_version": "1.5.0",
            "_view_count": null,
            "_view_module_version": "1.2.0",
            "_model_module": "@jupyter-widgets/controls"
          }
        },
        "0fdd9bb2cf1a44db96ab0dbc71d6a3fd": {
          "model_module": "@jupyter-widgets/base",
          "model_name": "LayoutModel",
          "state": {
            "_view_name": "LayoutView",
            "grid_template_rows": null,
            "right": null,
            "justify_content": null,
            "_view_module": "@jupyter-widgets/base",
            "overflow": null,
            "_model_module_version": "1.2.0",
            "_view_count": null,
            "flex_flow": null,
            "width": null,
            "min_width": null,
            "border": null,
            "align_items": null,
            "bottom": null,
            "_model_module": "@jupyter-widgets/base",
            "top": null,
            "grid_column": null,
            "overflow_y": null,
            "overflow_x": null,
            "grid_auto_flow": null,
            "grid_area": null,
            "grid_template_columns": null,
            "flex": null,
            "_model_name": "LayoutModel",
            "justify_items": null,
            "grid_row": null,
            "max_height": null,
            "align_content": null,
            "visibility": null,
            "align_self": null,
            "height": null,
            "min_height": null,
            "padding": null,
            "grid_auto_rows": null,
            "grid_gap": null,
            "max_width": null,
            "order": null,
            "_view_module_version": "1.2.0",
            "grid_template_areas": null,
            "object_position": null,
            "object_fit": null,
            "grid_auto_columns": null,
            "margin": null,
            "display": null,
            "left": null
          }
        },
        "2805dbbd4da544ee9168b2bf6b445525": {
          "model_module": "@jupyter-widgets/controls",
          "model_name": "HBoxModel",
          "state": {
            "_view_name": "HBoxView",
            "_dom_classes": [],
            "_model_name": "HBoxModel",
            "_view_module": "@jupyter-widgets/controls",
            "_model_module_version": "1.5.0",
            "_view_count": null,
            "_view_module_version": "1.5.0",
            "box_style": "",
            "layout": "IPY_MODEL_d593b2fd97834241a270c2a2cedaa638",
            "_model_module": "@jupyter-widgets/controls",
            "children": [
              "IPY_MODEL_b5cc5db727914b6dbd2c09109378cbea",
              "IPY_MODEL_eddf5cda254b4fd4a06f50ceb950c056"
            ]
          }
        },
        "d593b2fd97834241a270c2a2cedaa638": {
          "model_module": "@jupyter-widgets/base",
          "model_name": "LayoutModel",
          "state": {
            "_view_name": "LayoutView",
            "grid_template_rows": null,
            "right": null,
            "justify_content": null,
            "_view_module": "@jupyter-widgets/base",
            "overflow": null,
            "_model_module_version": "1.2.0",
            "_view_count": null,
            "flex_flow": null,
            "width": null,
            "min_width": null,
            "border": null,
            "align_items": null,
            "bottom": null,
            "_model_module": "@jupyter-widgets/base",
            "top": null,
            "grid_column": null,
            "overflow_y": null,
            "overflow_x": null,
            "grid_auto_flow": null,
            "grid_area": null,
            "grid_template_columns": null,
            "flex": null,
            "_model_name": "LayoutModel",
            "justify_items": null,
            "grid_row": null,
            "max_height": null,
            "align_content": null,
            "visibility": null,
            "align_self": null,
            "height": null,
            "min_height": null,
            "padding": null,
            "grid_auto_rows": null,
            "grid_gap": null,
            "max_width": null,
            "order": null,
            "_view_module_version": "1.2.0",
            "grid_template_areas": null,
            "object_position": null,
            "object_fit": null,
            "grid_auto_columns": null,
            "margin": null,
            "display": null,
            "left": null
          }
        },
        "b5cc5db727914b6dbd2c09109378cbea": {
          "model_module": "@jupyter-widgets/controls",
          "model_name": "FloatProgressModel",
          "state": {
            "_view_name": "ProgressView",
            "style": "IPY_MODEL_bf777b39b3954c1c8b58cca41d3843e2",
            "_dom_classes": [],
            "description": "100%",
            "_model_name": "FloatProgressModel",
            "bar_style": "success",
            "max": 50,
            "_view_module": "@jupyter-widgets/controls",
            "_model_module_version": "1.5.0",
            "value": 50,
            "_view_count": null,
            "_view_module_version": "1.5.0",
            "orientation": "horizontal",
            "min": 0,
            "description_tooltip": null,
            "_model_module": "@jupyter-widgets/controls",
            "layout": "IPY_MODEL_2df407a3f035412c94b2594667e874fd"
          }
        },
        "eddf5cda254b4fd4a06f50ceb950c056": {
          "model_module": "@jupyter-widgets/controls",
          "model_name": "HTMLModel",
          "state": {
            "_view_name": "HTMLView",
            "style": "IPY_MODEL_90c8b11123b940bfb0b9db8cc77a6b67",
            "_dom_classes": [],
            "description": "",
            "_model_name": "HTMLModel",
            "placeholder": "​",
            "_view_module": "@jupyter-widgets/controls",
            "_model_module_version": "1.5.0",
            "value": " 50/50 [00:11&lt;00:00,  4.18it/s]",
            "_view_count": null,
            "_view_module_version": "1.5.0",
            "description_tooltip": null,
            "_model_module": "@jupyter-widgets/controls",
            "layout": "IPY_MODEL_feb9569a12114cf2b80026cdb1d3986c"
          }
        },
        "bf777b39b3954c1c8b58cca41d3843e2": {
          "model_module": "@jupyter-widgets/controls",
          "model_name": "ProgressStyleModel",
          "state": {
            "_view_name": "StyleView",
            "_model_name": "ProgressStyleModel",
            "description_width": "initial",
            "_view_module": "@jupyter-widgets/base",
            "_model_module_version": "1.5.0",
            "_view_count": null,
            "_view_module_version": "1.2.0",
            "bar_color": null,
            "_model_module": "@jupyter-widgets/controls"
          }
        },
        "2df407a3f035412c94b2594667e874fd": {
          "model_module": "@jupyter-widgets/base",
          "model_name": "LayoutModel",
          "state": {
            "_view_name": "LayoutView",
            "grid_template_rows": null,
            "right": null,
            "justify_content": null,
            "_view_module": "@jupyter-widgets/base",
            "overflow": null,
            "_model_module_version": "1.2.0",
            "_view_count": null,
            "flex_flow": null,
            "width": null,
            "min_width": null,
            "border": null,
            "align_items": null,
            "bottom": null,
            "_model_module": "@jupyter-widgets/base",
            "top": null,
            "grid_column": null,
            "overflow_y": null,
            "overflow_x": null,
            "grid_auto_flow": null,
            "grid_area": null,
            "grid_template_columns": null,
            "flex": null,
            "_model_name": "LayoutModel",
            "justify_items": null,
            "grid_row": null,
            "max_height": null,
            "align_content": null,
            "visibility": null,
            "align_self": null,
            "height": null,
            "min_height": null,
            "padding": null,
            "grid_auto_rows": null,
            "grid_gap": null,
            "max_width": null,
            "order": null,
            "_view_module_version": "1.2.0",
            "grid_template_areas": null,
            "object_position": null,
            "object_fit": null,
            "grid_auto_columns": null,
            "margin": null,
            "display": null,
            "left": null
          }
        },
        "90c8b11123b940bfb0b9db8cc77a6b67": {
          "model_module": "@jupyter-widgets/controls",
          "model_name": "DescriptionStyleModel",
          "state": {
            "_view_name": "StyleView",
            "_model_name": "DescriptionStyleModel",
            "description_width": "",
            "_view_module": "@jupyter-widgets/base",
            "_model_module_version": "1.5.0",
            "_view_count": null,
            "_view_module_version": "1.2.0",
            "_model_module": "@jupyter-widgets/controls"
          }
        },
        "feb9569a12114cf2b80026cdb1d3986c": {
          "model_module": "@jupyter-widgets/base",
          "model_name": "LayoutModel",
          "state": {
            "_view_name": "LayoutView",
            "grid_template_rows": null,
            "right": null,
            "justify_content": null,
            "_view_module": "@jupyter-widgets/base",
            "overflow": null,
            "_model_module_version": "1.2.0",
            "_view_count": null,
            "flex_flow": null,
            "width": null,
            "min_width": null,
            "border": null,
            "align_items": null,
            "bottom": null,
            "_model_module": "@jupyter-widgets/base",
            "top": null,
            "grid_column": null,
            "overflow_y": null,
            "overflow_x": null,
            "grid_auto_flow": null,
            "grid_area": null,
            "grid_template_columns": null,
            "flex": null,
            "_model_name": "LayoutModel",
            "justify_items": null,
            "grid_row": null,
            "max_height": null,
            "align_content": null,
            "visibility": null,
            "align_self": null,
            "height": null,
            "min_height": null,
            "padding": null,
            "grid_auto_rows": null,
            "grid_gap": null,
            "max_width": null,
            "order": null,
            "_view_module_version": "1.2.0",
            "grid_template_areas": null,
            "object_position": null,
            "object_fit": null,
            "grid_auto_columns": null,
            "margin": null,
            "display": null,
            "left": null
          }
        },
        "30efe5cdcd7644409333bf05fbd848bc": {
          "model_module": "@jupyter-widgets/controls",
          "model_name": "HBoxModel",
          "state": {
            "_view_name": "HBoxView",
            "_dom_classes": [],
            "_model_name": "HBoxModel",
            "_view_module": "@jupyter-widgets/controls",
            "_model_module_version": "1.5.0",
            "_view_count": null,
            "_view_module_version": "1.5.0",
            "box_style": "",
            "layout": "IPY_MODEL_488a890b059d447c948775fe5c6fb08d",
            "_model_module": "@jupyter-widgets/controls",
            "children": [
              "IPY_MODEL_d736627cb7c74db296f81364c00b9cb1",
              "IPY_MODEL_f4e14de5a33241fda61842616c820bc5"
            ]
          }
        },
        "488a890b059d447c948775fe5c6fb08d": {
          "model_module": "@jupyter-widgets/base",
          "model_name": "LayoutModel",
          "state": {
            "_view_name": "LayoutView",
            "grid_template_rows": null,
            "right": null,
            "justify_content": null,
            "_view_module": "@jupyter-widgets/base",
            "overflow": null,
            "_model_module_version": "1.2.0",
            "_view_count": null,
            "flex_flow": null,
            "width": null,
            "min_width": null,
            "border": null,
            "align_items": null,
            "bottom": null,
            "_model_module": "@jupyter-widgets/base",
            "top": null,
            "grid_column": null,
            "overflow_y": null,
            "overflow_x": null,
            "grid_auto_flow": null,
            "grid_area": null,
            "grid_template_columns": null,
            "flex": null,
            "_model_name": "LayoutModel",
            "justify_items": null,
            "grid_row": null,
            "max_height": null,
            "align_content": null,
            "visibility": null,
            "align_self": null,
            "height": null,
            "min_height": null,
            "padding": null,
            "grid_auto_rows": null,
            "grid_gap": null,
            "max_width": null,
            "order": null,
            "_view_module_version": "1.2.0",
            "grid_template_areas": null,
            "object_position": null,
            "object_fit": null,
            "grid_auto_columns": null,
            "margin": null,
            "display": null,
            "left": null
          }
        },
        "d736627cb7c74db296f81364c00b9cb1": {
          "model_module": "@jupyter-widgets/controls",
          "model_name": "FloatProgressModel",
          "state": {
            "_view_name": "ProgressView",
            "style": "IPY_MODEL_c449d1c33c7d4ab4a134e90abea53a4b",
            "_dom_classes": [],
            "description": "100%",
            "_model_name": "FloatProgressModel",
            "bar_style": "success",
            "max": 50,
            "_view_module": "@jupyter-widgets/controls",
            "_model_module_version": "1.5.0",
            "value": 50,
            "_view_count": null,
            "_view_module_version": "1.5.0",
            "orientation": "horizontal",
            "min": 0,
            "description_tooltip": null,
            "_model_module": "@jupyter-widgets/controls",
            "layout": "IPY_MODEL_3a73fe3dcd574677a40c8a904a11da83"
          }
        },
        "f4e14de5a33241fda61842616c820bc5": {
          "model_module": "@jupyter-widgets/controls",
          "model_name": "HTMLModel",
          "state": {
            "_view_name": "HTMLView",
            "style": "IPY_MODEL_1acc544f07dc418295c923331e6602d3",
            "_dom_classes": [],
            "description": "",
            "_model_name": "HTMLModel",
            "placeholder": "​",
            "_view_module": "@jupyter-widgets/controls",
            "_model_module_version": "1.5.0",
            "value": " 50/50 [00:10&lt;00:00,  4.88it/s]",
            "_view_count": null,
            "_view_module_version": "1.5.0",
            "description_tooltip": null,
            "_model_module": "@jupyter-widgets/controls",
            "layout": "IPY_MODEL_eed145dc5f9b46cf83423d5e6acd2147"
          }
        },
        "c449d1c33c7d4ab4a134e90abea53a4b": {
          "model_module": "@jupyter-widgets/controls",
          "model_name": "ProgressStyleModel",
          "state": {
            "_view_name": "StyleView",
            "_model_name": "ProgressStyleModel",
            "description_width": "initial",
            "_view_module": "@jupyter-widgets/base",
            "_model_module_version": "1.5.0",
            "_view_count": null,
            "_view_module_version": "1.2.0",
            "bar_color": null,
            "_model_module": "@jupyter-widgets/controls"
          }
        },
        "3a73fe3dcd574677a40c8a904a11da83": {
          "model_module": "@jupyter-widgets/base",
          "model_name": "LayoutModel",
          "state": {
            "_view_name": "LayoutView",
            "grid_template_rows": null,
            "right": null,
            "justify_content": null,
            "_view_module": "@jupyter-widgets/base",
            "overflow": null,
            "_model_module_version": "1.2.0",
            "_view_count": null,
            "flex_flow": null,
            "width": null,
            "min_width": null,
            "border": null,
            "align_items": null,
            "bottom": null,
            "_model_module": "@jupyter-widgets/base",
            "top": null,
            "grid_column": null,
            "overflow_y": null,
            "overflow_x": null,
            "grid_auto_flow": null,
            "grid_area": null,
            "grid_template_columns": null,
            "flex": null,
            "_model_name": "LayoutModel",
            "justify_items": null,
            "grid_row": null,
            "max_height": null,
            "align_content": null,
            "visibility": null,
            "align_self": null,
            "height": null,
            "min_height": null,
            "padding": null,
            "grid_auto_rows": null,
            "grid_gap": null,
            "max_width": null,
            "order": null,
            "_view_module_version": "1.2.0",
            "grid_template_areas": null,
            "object_position": null,
            "object_fit": null,
            "grid_auto_columns": null,
            "margin": null,
            "display": null,
            "left": null
          }
        },
        "1acc544f07dc418295c923331e6602d3": {
          "model_module": "@jupyter-widgets/controls",
          "model_name": "DescriptionStyleModel",
          "state": {
            "_view_name": "StyleView",
            "_model_name": "DescriptionStyleModel",
            "description_width": "",
            "_view_module": "@jupyter-widgets/base",
            "_model_module_version": "1.5.0",
            "_view_count": null,
            "_view_module_version": "1.2.0",
            "_model_module": "@jupyter-widgets/controls"
          }
        },
        "eed145dc5f9b46cf83423d5e6acd2147": {
          "model_module": "@jupyter-widgets/base",
          "model_name": "LayoutModel",
          "state": {
            "_view_name": "LayoutView",
            "grid_template_rows": null,
            "right": null,
            "justify_content": null,
            "_view_module": "@jupyter-widgets/base",
            "overflow": null,
            "_model_module_version": "1.2.0",
            "_view_count": null,
            "flex_flow": null,
            "width": null,
            "min_width": null,
            "border": null,
            "align_items": null,
            "bottom": null,
            "_model_module": "@jupyter-widgets/base",
            "top": null,
            "grid_column": null,
            "overflow_y": null,
            "overflow_x": null,
            "grid_auto_flow": null,
            "grid_area": null,
            "grid_template_columns": null,
            "flex": null,
            "_model_name": "LayoutModel",
            "justify_items": null,
            "grid_row": null,
            "max_height": null,
            "align_content": null,
            "visibility": null,
            "align_self": null,
            "height": null,
            "min_height": null,
            "padding": null,
            "grid_auto_rows": null,
            "grid_gap": null,
            "max_width": null,
            "order": null,
            "_view_module_version": "1.2.0",
            "grid_template_areas": null,
            "object_position": null,
            "object_fit": null,
            "grid_auto_columns": null,
            "margin": null,
            "display": null,
            "left": null
          }
        },
        "7472c9711fdb4d5fbc61e1cb3db0bf41": {
          "model_module": "@jupyter-widgets/controls",
          "model_name": "HBoxModel",
          "state": {
            "_view_name": "HBoxView",
            "_dom_classes": [],
            "_model_name": "HBoxModel",
            "_view_module": "@jupyter-widgets/controls",
            "_model_module_version": "1.5.0",
            "_view_count": null,
            "_view_module_version": "1.5.0",
            "box_style": "",
            "layout": "IPY_MODEL_00a5c17275c5471c93b733cf9e180dcc",
            "_model_module": "@jupyter-widgets/controls",
            "children": [
              "IPY_MODEL_58b2bfcd538b4b2c8ced6addfeb4d8b8",
              "IPY_MODEL_2699eeab0633471ba5515fd8ae02156e"
            ]
          }
        },
        "00a5c17275c5471c93b733cf9e180dcc": {
          "model_module": "@jupyter-widgets/base",
          "model_name": "LayoutModel",
          "state": {
            "_view_name": "LayoutView",
            "grid_template_rows": null,
            "right": null,
            "justify_content": null,
            "_view_module": "@jupyter-widgets/base",
            "overflow": null,
            "_model_module_version": "1.2.0",
            "_view_count": null,
            "flex_flow": null,
            "width": null,
            "min_width": null,
            "border": null,
            "align_items": null,
            "bottom": null,
            "_model_module": "@jupyter-widgets/base",
            "top": null,
            "grid_column": null,
            "overflow_y": null,
            "overflow_x": null,
            "grid_auto_flow": null,
            "grid_area": null,
            "grid_template_columns": null,
            "flex": null,
            "_model_name": "LayoutModel",
            "justify_items": null,
            "grid_row": null,
            "max_height": null,
            "align_content": null,
            "visibility": null,
            "align_self": null,
            "height": null,
            "min_height": null,
            "padding": null,
            "grid_auto_rows": null,
            "grid_gap": null,
            "max_width": null,
            "order": null,
            "_view_module_version": "1.2.0",
            "grid_template_areas": null,
            "object_position": null,
            "object_fit": null,
            "grid_auto_columns": null,
            "margin": null,
            "display": null,
            "left": null
          }
        },
        "58b2bfcd538b4b2c8ced6addfeb4d8b8": {
          "model_module": "@jupyter-widgets/controls",
          "model_name": "FloatProgressModel",
          "state": {
            "_view_name": "ProgressView",
            "style": "IPY_MODEL_f71083c443b84e68a40dfc0132abbe29",
            "_dom_classes": [],
            "description": "100%",
            "_model_name": "FloatProgressModel",
            "bar_style": "success",
            "max": 50,
            "_view_module": "@jupyter-widgets/controls",
            "_model_module_version": "1.5.0",
            "value": 50,
            "_view_count": null,
            "_view_module_version": "1.5.0",
            "orientation": "horizontal",
            "min": 0,
            "description_tooltip": null,
            "_model_module": "@jupyter-widgets/controls",
            "layout": "IPY_MODEL_c3d51f05c8794a458a32372dd677d85e"
          }
        },
        "2699eeab0633471ba5515fd8ae02156e": {
          "model_module": "@jupyter-widgets/controls",
          "model_name": "HTMLModel",
          "state": {
            "_view_name": "HTMLView",
            "style": "IPY_MODEL_bf29dcbbe2e74ddb9b08339152f05cd2",
            "_dom_classes": [],
            "description": "",
            "_model_name": "HTMLModel",
            "placeholder": "​",
            "_view_module": "@jupyter-widgets/controls",
            "_model_module_version": "1.5.0",
            "value": " 50/50 [00:01&lt;00:00, 41.78it/s, correct=51.45%, skipped=0.83%]",
            "_view_count": null,
            "_view_module_version": "1.5.0",
            "description_tooltip": null,
            "_model_module": "@jupyter-widgets/controls",
            "layout": "IPY_MODEL_65d19635f4a04caf9063bb9f8e6361fc"
          }
        },
        "f71083c443b84e68a40dfc0132abbe29": {
          "model_module": "@jupyter-widgets/controls",
          "model_name": "ProgressStyleModel",
          "state": {
            "_view_name": "StyleView",
            "_model_name": "ProgressStyleModel",
            "description_width": "initial",
            "_view_module": "@jupyter-widgets/base",
            "_model_module_version": "1.5.0",
            "_view_count": null,
            "_view_module_version": "1.2.0",
            "bar_color": null,
            "_model_module": "@jupyter-widgets/controls"
          }
        },
        "c3d51f05c8794a458a32372dd677d85e": {
          "model_module": "@jupyter-widgets/base",
          "model_name": "LayoutModel",
          "state": {
            "_view_name": "LayoutView",
            "grid_template_rows": null,
            "right": null,
            "justify_content": null,
            "_view_module": "@jupyter-widgets/base",
            "overflow": null,
            "_model_module_version": "1.2.0",
            "_view_count": null,
            "flex_flow": null,
            "width": null,
            "min_width": null,
            "border": null,
            "align_items": null,
            "bottom": null,
            "_model_module": "@jupyter-widgets/base",
            "top": null,
            "grid_column": null,
            "overflow_y": null,
            "overflow_x": null,
            "grid_auto_flow": null,
            "grid_area": null,
            "grid_template_columns": null,
            "flex": null,
            "_model_name": "LayoutModel",
            "justify_items": null,
            "grid_row": null,
            "max_height": null,
            "align_content": null,
            "visibility": null,
            "align_self": null,
            "height": null,
            "min_height": null,
            "padding": null,
            "grid_auto_rows": null,
            "grid_gap": null,
            "max_width": null,
            "order": null,
            "_view_module_version": "1.2.0",
            "grid_template_areas": null,
            "object_position": null,
            "object_fit": null,
            "grid_auto_columns": null,
            "margin": null,
            "display": null,
            "left": null
          }
        },
        "bf29dcbbe2e74ddb9b08339152f05cd2": {
          "model_module": "@jupyter-widgets/controls",
          "model_name": "DescriptionStyleModel",
          "state": {
            "_view_name": "StyleView",
            "_model_name": "DescriptionStyleModel",
            "description_width": "",
            "_view_module": "@jupyter-widgets/base",
            "_model_module_version": "1.5.0",
            "_view_count": null,
            "_view_module_version": "1.2.0",
            "_model_module": "@jupyter-widgets/controls"
          }
        },
        "65d19635f4a04caf9063bb9f8e6361fc": {
          "model_module": "@jupyter-widgets/base",
          "model_name": "LayoutModel",
          "state": {
            "_view_name": "LayoutView",
            "grid_template_rows": null,
            "right": null,
            "justify_content": null,
            "_view_module": "@jupyter-widgets/base",
            "overflow": null,
            "_model_module_version": "1.2.0",
            "_view_count": null,
            "flex_flow": null,
            "width": null,
            "min_width": null,
            "border": null,
            "align_items": null,
            "bottom": null,
            "_model_module": "@jupyter-widgets/base",
            "top": null,
            "grid_column": null,
            "overflow_y": null,
            "overflow_x": null,
            "grid_auto_flow": null,
            "grid_area": null,
            "grid_template_columns": null,
            "flex": null,
            "_model_name": "LayoutModel",
            "justify_items": null,
            "grid_row": null,
            "max_height": null,
            "align_content": null,
            "visibility": null,
            "align_self": null,
            "height": null,
            "min_height": null,
            "padding": null,
            "grid_auto_rows": null,
            "grid_gap": null,
            "max_width": null,
            "order": null,
            "_view_module_version": "1.2.0",
            "grid_template_areas": null,
            "object_position": null,
            "object_fit": null,
            "grid_auto_columns": null,
            "margin": null,
            "display": null,
            "left": null
          }
        },
        "ea503baa0f174eac951d2defe65492be": {
          "model_module": "@jupyter-widgets/controls",
          "model_name": "HBoxModel",
          "state": {
            "_view_name": "HBoxView",
            "_dom_classes": [],
            "_model_name": "HBoxModel",
            "_view_module": "@jupyter-widgets/controls",
            "_model_module_version": "1.5.0",
            "_view_count": null,
            "_view_module_version": "1.5.0",
            "box_style": "",
            "layout": "IPY_MODEL_a3f4f936560b456f987127ec051effca",
            "_model_module": "@jupyter-widgets/controls",
            "children": [
              "IPY_MODEL_c927d84357b84247acdfadcb78a6e634",
              "IPY_MODEL_7124f29d75544bcd952c6b9fa751f754"
            ]
          }
        },
        "a3f4f936560b456f987127ec051effca": {
          "model_module": "@jupyter-widgets/base",
          "model_name": "LayoutModel",
          "state": {
            "_view_name": "LayoutView",
            "grid_template_rows": null,
            "right": null,
            "justify_content": null,
            "_view_module": "@jupyter-widgets/base",
            "overflow": null,
            "_model_module_version": "1.2.0",
            "_view_count": null,
            "flex_flow": null,
            "width": null,
            "min_width": null,
            "border": null,
            "align_items": null,
            "bottom": null,
            "_model_module": "@jupyter-widgets/base",
            "top": null,
            "grid_column": null,
            "overflow_y": null,
            "overflow_x": null,
            "grid_auto_flow": null,
            "grid_area": null,
            "grid_template_columns": null,
            "flex": null,
            "_model_name": "LayoutModel",
            "justify_items": null,
            "grid_row": null,
            "max_height": null,
            "align_content": null,
            "visibility": null,
            "align_self": null,
            "height": null,
            "min_height": null,
            "padding": null,
            "grid_auto_rows": null,
            "grid_gap": null,
            "max_width": null,
            "order": null,
            "_view_module_version": "1.2.0",
            "grid_template_areas": null,
            "object_position": null,
            "object_fit": null,
            "grid_auto_columns": null,
            "margin": null,
            "display": null,
            "left": null
          }
        },
        "c927d84357b84247acdfadcb78a6e634": {
          "model_module": "@jupyter-widgets/controls",
          "model_name": "FloatProgressModel",
          "state": {
            "_view_name": "ProgressView",
            "style": "IPY_MODEL_d6ee542f89a24dafa19b158bdeeb4d57",
            "_dom_classes": [],
            "description": "100%",
            "_model_name": "FloatProgressModel",
            "bar_style": "success",
            "max": 50,
            "_view_module": "@jupyter-widgets/controls",
            "_model_module_version": "1.5.0",
            "value": 50,
            "_view_count": null,
            "_view_module_version": "1.5.0",
            "orientation": "horizontal",
            "min": 0,
            "description_tooltip": null,
            "_model_module": "@jupyter-widgets/controls",
            "layout": "IPY_MODEL_6be475dc75b543da9178cbd29114ab35"
          }
        },
        "7124f29d75544bcd952c6b9fa751f754": {
          "model_module": "@jupyter-widgets/controls",
          "model_name": "HTMLModel",
          "state": {
            "_view_name": "HTMLView",
            "style": "IPY_MODEL_0d4968e005df4c7e8e133351e966e71b",
            "_dom_classes": [],
            "description": "",
            "_model_name": "HTMLModel",
            "placeholder": "​",
            "_view_module": "@jupyter-widgets/controls",
            "_model_module_version": "1.5.0",
            "value": " 50/50 [00:01&lt;00:00, 35.21it/s]",
            "_view_count": null,
            "_view_module_version": "1.5.0",
            "description_tooltip": null,
            "_model_module": "@jupyter-widgets/controls",
            "layout": "IPY_MODEL_c1d9f6136b0b4adfaa4f6f1d382fbefe"
          }
        },
        "d6ee542f89a24dafa19b158bdeeb4d57": {
          "model_module": "@jupyter-widgets/controls",
          "model_name": "ProgressStyleModel",
          "state": {
            "_view_name": "StyleView",
            "_model_name": "ProgressStyleModel",
            "description_width": "initial",
            "_view_module": "@jupyter-widgets/base",
            "_model_module_version": "1.5.0",
            "_view_count": null,
            "_view_module_version": "1.2.0",
            "bar_color": null,
            "_model_module": "@jupyter-widgets/controls"
          }
        },
        "6be475dc75b543da9178cbd29114ab35": {
          "model_module": "@jupyter-widgets/base",
          "model_name": "LayoutModel",
          "state": {
            "_view_name": "LayoutView",
            "grid_template_rows": null,
            "right": null,
            "justify_content": null,
            "_view_module": "@jupyter-widgets/base",
            "overflow": null,
            "_model_module_version": "1.2.0",
            "_view_count": null,
            "flex_flow": null,
            "width": null,
            "min_width": null,
            "border": null,
            "align_items": null,
            "bottom": null,
            "_model_module": "@jupyter-widgets/base",
            "top": null,
            "grid_column": null,
            "overflow_y": null,
            "overflow_x": null,
            "grid_auto_flow": null,
            "grid_area": null,
            "grid_template_columns": null,
            "flex": null,
            "_model_name": "LayoutModel",
            "justify_items": null,
            "grid_row": null,
            "max_height": null,
            "align_content": null,
            "visibility": null,
            "align_self": null,
            "height": null,
            "min_height": null,
            "padding": null,
            "grid_auto_rows": null,
            "grid_gap": null,
            "max_width": null,
            "order": null,
            "_view_module_version": "1.2.0",
            "grid_template_areas": null,
            "object_position": null,
            "object_fit": null,
            "grid_auto_columns": null,
            "margin": null,
            "display": null,
            "left": null
          }
        },
        "0d4968e005df4c7e8e133351e966e71b": {
          "model_module": "@jupyter-widgets/controls",
          "model_name": "DescriptionStyleModel",
          "state": {
            "_view_name": "StyleView",
            "_model_name": "DescriptionStyleModel",
            "description_width": "",
            "_view_module": "@jupyter-widgets/base",
            "_model_module_version": "1.5.0",
            "_view_count": null,
            "_view_module_version": "1.2.0",
            "_model_module": "@jupyter-widgets/controls"
          }
        },
        "c1d9f6136b0b4adfaa4f6f1d382fbefe": {
          "model_module": "@jupyter-widgets/base",
          "model_name": "LayoutModel",
          "state": {
            "_view_name": "LayoutView",
            "grid_template_rows": null,
            "right": null,
            "justify_content": null,
            "_view_module": "@jupyter-widgets/base",
            "overflow": null,
            "_model_module_version": "1.2.0",
            "_view_count": null,
            "flex_flow": null,
            "width": null,
            "min_width": null,
            "border": null,
            "align_items": null,
            "bottom": null,
            "_model_module": "@jupyter-widgets/base",
            "top": null,
            "grid_column": null,
            "overflow_y": null,
            "overflow_x": null,
            "grid_auto_flow": null,
            "grid_area": null,
            "grid_template_columns": null,
            "flex": null,
            "_model_name": "LayoutModel",
            "justify_items": null,
            "grid_row": null,
            "max_height": null,
            "align_content": null,
            "visibility": null,
            "align_self": null,
            "height": null,
            "min_height": null,
            "padding": null,
            "grid_auto_rows": null,
            "grid_gap": null,
            "max_width": null,
            "order": null,
            "_view_module_version": "1.2.0",
            "grid_template_areas": null,
            "object_position": null,
            "object_fit": null,
            "grid_auto_columns": null,
            "margin": null,
            "display": null,
            "left": null
          }
        },
        "8cc9b60c1c734e298e5a219d88e15334": {
          "model_module": "@jupyter-widgets/controls",
          "model_name": "HBoxModel",
          "state": {
            "_view_name": "HBoxView",
            "_dom_classes": [],
            "_model_name": "HBoxModel",
            "_view_module": "@jupyter-widgets/controls",
            "_model_module_version": "1.5.0",
            "_view_count": null,
            "_view_module_version": "1.5.0",
            "box_style": "",
            "layout": "IPY_MODEL_2c60511380c84b7dad8d44276accd624",
            "_model_module": "@jupyter-widgets/controls",
            "children": [
              "IPY_MODEL_3a8a38fa054446cfa002c55651de43d3",
              "IPY_MODEL_a1d2c98dd3a74277a9fc836880ed93a3"
            ]
          }
        },
        "2c60511380c84b7dad8d44276accd624": {
          "model_module": "@jupyter-widgets/base",
          "model_name": "LayoutModel",
          "state": {
            "_view_name": "LayoutView",
            "grid_template_rows": null,
            "right": null,
            "justify_content": null,
            "_view_module": "@jupyter-widgets/base",
            "overflow": null,
            "_model_module_version": "1.2.0",
            "_view_count": null,
            "flex_flow": null,
            "width": null,
            "min_width": null,
            "border": null,
            "align_items": null,
            "bottom": null,
            "_model_module": "@jupyter-widgets/base",
            "top": null,
            "grid_column": null,
            "overflow_y": null,
            "overflow_x": null,
            "grid_auto_flow": null,
            "grid_area": null,
            "grid_template_columns": null,
            "flex": null,
            "_model_name": "LayoutModel",
            "justify_items": null,
            "grid_row": null,
            "max_height": null,
            "align_content": null,
            "visibility": null,
            "align_self": null,
            "height": null,
            "min_height": null,
            "padding": null,
            "grid_auto_rows": null,
            "grid_gap": null,
            "max_width": null,
            "order": null,
            "_view_module_version": "1.2.0",
            "grid_template_areas": null,
            "object_position": null,
            "object_fit": null,
            "grid_auto_columns": null,
            "margin": null,
            "display": null,
            "left": null
          }
        },
        "3a8a38fa054446cfa002c55651de43d3": {
          "model_module": "@jupyter-widgets/controls",
          "model_name": "FloatProgressModel",
          "state": {
            "_view_name": "ProgressView",
            "style": "IPY_MODEL_723016e9d6d745c89726720f0f0fbe93",
            "_dom_classes": [],
            "description": "100%",
            "_model_name": "FloatProgressModel",
            "bar_style": "success",
            "max": 50,
            "_view_module": "@jupyter-widgets/controls",
            "_model_module_version": "1.5.0",
            "value": 50,
            "_view_count": null,
            "_view_module_version": "1.5.0",
            "orientation": "horizontal",
            "min": 0,
            "description_tooltip": null,
            "_model_module": "@jupyter-widgets/controls",
            "layout": "IPY_MODEL_f623de2f0b8a404f91db9fcd280685ec"
          }
        },
        "a1d2c98dd3a74277a9fc836880ed93a3": {
          "model_module": "@jupyter-widgets/controls",
          "model_name": "HTMLModel",
          "state": {
            "_view_name": "HTMLView",
            "style": "IPY_MODEL_fd84e3abbdda423ab90233a80b81c33e",
            "_dom_classes": [],
            "description": "",
            "_model_name": "HTMLModel",
            "placeholder": "​",
            "_view_module": "@jupyter-widgets/controls",
            "_model_module_version": "1.5.0",
            "value": " 50/50 [00:39&lt;00:00,  1.27it/s]",
            "_view_count": null,
            "_view_module_version": "1.5.0",
            "description_tooltip": null,
            "_model_module": "@jupyter-widgets/controls",
            "layout": "IPY_MODEL_b602e78d41704fa0b161690a7c49afbd"
          }
        },
        "723016e9d6d745c89726720f0f0fbe93": {
          "model_module": "@jupyter-widgets/controls",
          "model_name": "ProgressStyleModel",
          "state": {
            "_view_name": "StyleView",
            "_model_name": "ProgressStyleModel",
            "description_width": "initial",
            "_view_module": "@jupyter-widgets/base",
            "_model_module_version": "1.5.0",
            "_view_count": null,
            "_view_module_version": "1.2.0",
            "bar_color": null,
            "_model_module": "@jupyter-widgets/controls"
          }
        },
        "f623de2f0b8a404f91db9fcd280685ec": {
          "model_module": "@jupyter-widgets/base",
          "model_name": "LayoutModel",
          "state": {
            "_view_name": "LayoutView",
            "grid_template_rows": null,
            "right": null,
            "justify_content": null,
            "_view_module": "@jupyter-widgets/base",
            "overflow": null,
            "_model_module_version": "1.2.0",
            "_view_count": null,
            "flex_flow": null,
            "width": null,
            "min_width": null,
            "border": null,
            "align_items": null,
            "bottom": null,
            "_model_module": "@jupyter-widgets/base",
            "top": null,
            "grid_column": null,
            "overflow_y": null,
            "overflow_x": null,
            "grid_auto_flow": null,
            "grid_area": null,
            "grid_template_columns": null,
            "flex": null,
            "_model_name": "LayoutModel",
            "justify_items": null,
            "grid_row": null,
            "max_height": null,
            "align_content": null,
            "visibility": null,
            "align_self": null,
            "height": null,
            "min_height": null,
            "padding": null,
            "grid_auto_rows": null,
            "grid_gap": null,
            "max_width": null,
            "order": null,
            "_view_module_version": "1.2.0",
            "grid_template_areas": null,
            "object_position": null,
            "object_fit": null,
            "grid_auto_columns": null,
            "margin": null,
            "display": null,
            "left": null
          }
        },
        "fd84e3abbdda423ab90233a80b81c33e": {
          "model_module": "@jupyter-widgets/controls",
          "model_name": "DescriptionStyleModel",
          "state": {
            "_view_name": "StyleView",
            "_model_name": "DescriptionStyleModel",
            "description_width": "",
            "_view_module": "@jupyter-widgets/base",
            "_model_module_version": "1.5.0",
            "_view_count": null,
            "_view_module_version": "1.2.0",
            "_model_module": "@jupyter-widgets/controls"
          }
        },
        "b602e78d41704fa0b161690a7c49afbd": {
          "model_module": "@jupyter-widgets/base",
          "model_name": "LayoutModel",
          "state": {
            "_view_name": "LayoutView",
            "grid_template_rows": null,
            "right": null,
            "justify_content": null,
            "_view_module": "@jupyter-widgets/base",
            "overflow": null,
            "_model_module_version": "1.2.0",
            "_view_count": null,
            "flex_flow": null,
            "width": null,
            "min_width": null,
            "border": null,
            "align_items": null,
            "bottom": null,
            "_model_module": "@jupyter-widgets/base",
            "top": null,
            "grid_column": null,
            "overflow_y": null,
            "overflow_x": null,
            "grid_auto_flow": null,
            "grid_area": null,
            "grid_template_columns": null,
            "flex": null,
            "_model_name": "LayoutModel",
            "justify_items": null,
            "grid_row": null,
            "max_height": null,
            "align_content": null,
            "visibility": null,
            "align_self": null,
            "height": null,
            "min_height": null,
            "padding": null,
            "grid_auto_rows": null,
            "grid_gap": null,
            "max_width": null,
            "order": null,
            "_view_module_version": "1.2.0",
            "grid_template_areas": null,
            "object_position": null,
            "object_fit": null,
            "grid_auto_columns": null,
            "margin": null,
            "display": null,
            "left": null
          }
        },
        "1cd3a79b710c4a75abadd0bb9c1da6ab": {
          "model_module": "@jupyter-widgets/controls",
          "model_name": "HBoxModel",
          "state": {
            "_view_name": "HBoxView",
            "_dom_classes": [],
            "_model_name": "HBoxModel",
            "_view_module": "@jupyter-widgets/controls",
            "_model_module_version": "1.5.0",
            "_view_count": null,
            "_view_module_version": "1.5.0",
            "box_style": "",
            "layout": "IPY_MODEL_bfd0a24d10074615847e751e7ceb4279",
            "_model_module": "@jupyter-widgets/controls",
            "children": [
              "IPY_MODEL_c227ff0ac9554fbbbb6574f9e1f50b85",
              "IPY_MODEL_a8cc25222a904e3787c058687ee37c2d"
            ]
          }
        },
        "bfd0a24d10074615847e751e7ceb4279": {
          "model_module": "@jupyter-widgets/base",
          "model_name": "LayoutModel",
          "state": {
            "_view_name": "LayoutView",
            "grid_template_rows": null,
            "right": null,
            "justify_content": null,
            "_view_module": "@jupyter-widgets/base",
            "overflow": null,
            "_model_module_version": "1.2.0",
            "_view_count": null,
            "flex_flow": null,
            "width": null,
            "min_width": null,
            "border": null,
            "align_items": null,
            "bottom": null,
            "_model_module": "@jupyter-widgets/base",
            "top": null,
            "grid_column": null,
            "overflow_y": null,
            "overflow_x": null,
            "grid_auto_flow": null,
            "grid_area": null,
            "grid_template_columns": null,
            "flex": null,
            "_model_name": "LayoutModel",
            "justify_items": null,
            "grid_row": null,
            "max_height": null,
            "align_content": null,
            "visibility": null,
            "align_self": null,
            "height": null,
            "min_height": null,
            "padding": null,
            "grid_auto_rows": null,
            "grid_gap": null,
            "max_width": null,
            "order": null,
            "_view_module_version": "1.2.0",
            "grid_template_areas": null,
            "object_position": null,
            "object_fit": null,
            "grid_auto_columns": null,
            "margin": null,
            "display": null,
            "left": null
          }
        },
        "c227ff0ac9554fbbbb6574f9e1f50b85": {
          "model_module": "@jupyter-widgets/controls",
          "model_name": "FloatProgressModel",
          "state": {
            "_view_name": "ProgressView",
            "style": "IPY_MODEL_930635c0d928400291beaea7830d9398",
            "_dom_classes": [],
            "description": "100%",
            "_model_name": "FloatProgressModel",
            "bar_style": "success",
            "max": 50,
            "_view_module": "@jupyter-widgets/controls",
            "_model_module_version": "1.5.0",
            "value": 50,
            "_view_count": null,
            "_view_module_version": "1.5.0",
            "orientation": "horizontal",
            "min": 0,
            "description_tooltip": null,
            "_model_module": "@jupyter-widgets/controls",
            "layout": "IPY_MODEL_ce516d9417c3458e8866b53bfcb1ce3f"
          }
        },
        "a8cc25222a904e3787c058687ee37c2d": {
          "model_module": "@jupyter-widgets/controls",
          "model_name": "HTMLModel",
          "state": {
            "_view_name": "HTMLView",
            "style": "IPY_MODEL_0d0e5695f6fe4004a5d66c341fd8822a",
            "_dom_classes": [],
            "description": "",
            "_model_name": "HTMLModel",
            "placeholder": "​",
            "_view_module": "@jupyter-widgets/controls",
            "_model_module_version": "1.5.0",
            "value": " 50/50 [00:10&lt;00:00,  4.91it/s]",
            "_view_count": null,
            "_view_module_version": "1.5.0",
            "description_tooltip": null,
            "_model_module": "@jupyter-widgets/controls",
            "layout": "IPY_MODEL_ed71e1abe6db4ace83d98824e4178c88"
          }
        },
        "930635c0d928400291beaea7830d9398": {
          "model_module": "@jupyter-widgets/controls",
          "model_name": "ProgressStyleModel",
          "state": {
            "_view_name": "StyleView",
            "_model_name": "ProgressStyleModel",
            "description_width": "initial",
            "_view_module": "@jupyter-widgets/base",
            "_model_module_version": "1.5.0",
            "_view_count": null,
            "_view_module_version": "1.2.0",
            "bar_color": null,
            "_model_module": "@jupyter-widgets/controls"
          }
        },
        "ce516d9417c3458e8866b53bfcb1ce3f": {
          "model_module": "@jupyter-widgets/base",
          "model_name": "LayoutModel",
          "state": {
            "_view_name": "LayoutView",
            "grid_template_rows": null,
            "right": null,
            "justify_content": null,
            "_view_module": "@jupyter-widgets/base",
            "overflow": null,
            "_model_module_version": "1.2.0",
            "_view_count": null,
            "flex_flow": null,
            "width": null,
            "min_width": null,
            "border": null,
            "align_items": null,
            "bottom": null,
            "_model_module": "@jupyter-widgets/base",
            "top": null,
            "grid_column": null,
            "overflow_y": null,
            "overflow_x": null,
            "grid_auto_flow": null,
            "grid_area": null,
            "grid_template_columns": null,
            "flex": null,
            "_model_name": "LayoutModel",
            "justify_items": null,
            "grid_row": null,
            "max_height": null,
            "align_content": null,
            "visibility": null,
            "align_self": null,
            "height": null,
            "min_height": null,
            "padding": null,
            "grid_auto_rows": null,
            "grid_gap": null,
            "max_width": null,
            "order": null,
            "_view_module_version": "1.2.0",
            "grid_template_areas": null,
            "object_position": null,
            "object_fit": null,
            "grid_auto_columns": null,
            "margin": null,
            "display": null,
            "left": null
          }
        },
        "0d0e5695f6fe4004a5d66c341fd8822a": {
          "model_module": "@jupyter-widgets/controls",
          "model_name": "DescriptionStyleModel",
          "state": {
            "_view_name": "StyleView",
            "_model_name": "DescriptionStyleModel",
            "description_width": "",
            "_view_module": "@jupyter-widgets/base",
            "_model_module_version": "1.5.0",
            "_view_count": null,
            "_view_module_version": "1.2.0",
            "_model_module": "@jupyter-widgets/controls"
          }
        },
        "ed71e1abe6db4ace83d98824e4178c88": {
          "model_module": "@jupyter-widgets/base",
          "model_name": "LayoutModel",
          "state": {
            "_view_name": "LayoutView",
            "grid_template_rows": null,
            "right": null,
            "justify_content": null,
            "_view_module": "@jupyter-widgets/base",
            "overflow": null,
            "_model_module_version": "1.2.0",
            "_view_count": null,
            "flex_flow": null,
            "width": null,
            "min_width": null,
            "border": null,
            "align_items": null,
            "bottom": null,
            "_model_module": "@jupyter-widgets/base",
            "top": null,
            "grid_column": null,
            "overflow_y": null,
            "overflow_x": null,
            "grid_auto_flow": null,
            "grid_area": null,
            "grid_template_columns": null,
            "flex": null,
            "_model_name": "LayoutModel",
            "justify_items": null,
            "grid_row": null,
            "max_height": null,
            "align_content": null,
            "visibility": null,
            "align_self": null,
            "height": null,
            "min_height": null,
            "padding": null,
            "grid_auto_rows": null,
            "grid_gap": null,
            "max_width": null,
            "order": null,
            "_view_module_version": "1.2.0",
            "grid_template_areas": null,
            "object_position": null,
            "object_fit": null,
            "grid_auto_columns": null,
            "margin": null,
            "display": null,
            "left": null
          }
        },
        "20500df762f749c4aed30ff85a0c7ec6": {
          "model_module": "@jupyter-widgets/controls",
          "model_name": "HBoxModel",
          "state": {
            "_view_name": "HBoxView",
            "_dom_classes": [],
            "_model_name": "HBoxModel",
            "_view_module": "@jupyter-widgets/controls",
            "_model_module_version": "1.5.0",
            "_view_count": null,
            "_view_module_version": "1.5.0",
            "box_style": "",
            "layout": "IPY_MODEL_b6eac8899a5c4f2793190c6eedd2ea76",
            "_model_module": "@jupyter-widgets/controls",
            "children": [
              "IPY_MODEL_4139ff56b0774badb9df856ffe16f0d6",
              "IPY_MODEL_71fd9400dbe34073b66aff1663fbcada"
            ]
          }
        },
        "b6eac8899a5c4f2793190c6eedd2ea76": {
          "model_module": "@jupyter-widgets/base",
          "model_name": "LayoutModel",
          "state": {
            "_view_name": "LayoutView",
            "grid_template_rows": null,
            "right": null,
            "justify_content": null,
            "_view_module": "@jupyter-widgets/base",
            "overflow": null,
            "_model_module_version": "1.2.0",
            "_view_count": null,
            "flex_flow": null,
            "width": null,
            "min_width": null,
            "border": null,
            "align_items": null,
            "bottom": null,
            "_model_module": "@jupyter-widgets/base",
            "top": null,
            "grid_column": null,
            "overflow_y": null,
            "overflow_x": null,
            "grid_auto_flow": null,
            "grid_area": null,
            "grid_template_columns": null,
            "flex": null,
            "_model_name": "LayoutModel",
            "justify_items": null,
            "grid_row": null,
            "max_height": null,
            "align_content": null,
            "visibility": null,
            "align_self": null,
            "height": null,
            "min_height": null,
            "padding": null,
            "grid_auto_rows": null,
            "grid_gap": null,
            "max_width": null,
            "order": null,
            "_view_module_version": "1.2.0",
            "grid_template_areas": null,
            "object_position": null,
            "object_fit": null,
            "grid_auto_columns": null,
            "margin": null,
            "display": null,
            "left": null
          }
        },
        "4139ff56b0774badb9df856ffe16f0d6": {
          "model_module": "@jupyter-widgets/controls",
          "model_name": "FloatProgressModel",
          "state": {
            "_view_name": "ProgressView",
            "style": "IPY_MODEL_c4f425453c084d2687ccb5c297c0b17e",
            "_dom_classes": [],
            "description": "100%",
            "_model_name": "FloatProgressModel",
            "bar_style": "success",
            "max": 50,
            "_view_module": "@jupyter-widgets/controls",
            "_model_module_version": "1.5.0",
            "value": 50,
            "_view_count": null,
            "_view_module_version": "1.5.0",
            "orientation": "horizontal",
            "min": 0,
            "description_tooltip": null,
            "_model_module": "@jupyter-widgets/controls",
            "layout": "IPY_MODEL_5a15e82bf64546ec9bf5046ef768f249"
          }
        },
        "71fd9400dbe34073b66aff1663fbcada": {
          "model_module": "@jupyter-widgets/controls",
          "model_name": "HTMLModel",
          "state": {
            "_view_name": "HTMLView",
            "style": "IPY_MODEL_72f00c2970564a1aae7e4490cad57b29",
            "_dom_classes": [],
            "description": "",
            "_model_name": "HTMLModel",
            "placeholder": "​",
            "_view_module": "@jupyter-widgets/controls",
            "_model_module_version": "1.5.0",
            "value": " 50/50 [00:01&lt;00:00, 30.94it/s, correct=76.20%, skipped=1.00%]",
            "_view_count": null,
            "_view_module_version": "1.5.0",
            "description_tooltip": null,
            "_model_module": "@jupyter-widgets/controls",
            "layout": "IPY_MODEL_ef16fc103d134cf0b23cb22d7a84e351"
          }
        },
        "c4f425453c084d2687ccb5c297c0b17e": {
          "model_module": "@jupyter-widgets/controls",
          "model_name": "ProgressStyleModel",
          "state": {
            "_view_name": "StyleView",
            "_model_name": "ProgressStyleModel",
            "description_width": "initial",
            "_view_module": "@jupyter-widgets/base",
            "_model_module_version": "1.5.0",
            "_view_count": null,
            "_view_module_version": "1.2.0",
            "bar_color": null,
            "_model_module": "@jupyter-widgets/controls"
          }
        },
        "5a15e82bf64546ec9bf5046ef768f249": {
          "model_module": "@jupyter-widgets/base",
          "model_name": "LayoutModel",
          "state": {
            "_view_name": "LayoutView",
            "grid_template_rows": null,
            "right": null,
            "justify_content": null,
            "_view_module": "@jupyter-widgets/base",
            "overflow": null,
            "_model_module_version": "1.2.0",
            "_view_count": null,
            "flex_flow": null,
            "width": null,
            "min_width": null,
            "border": null,
            "align_items": null,
            "bottom": null,
            "_model_module": "@jupyter-widgets/base",
            "top": null,
            "grid_column": null,
            "overflow_y": null,
            "overflow_x": null,
            "grid_auto_flow": null,
            "grid_area": null,
            "grid_template_columns": null,
            "flex": null,
            "_model_name": "LayoutModel",
            "justify_items": null,
            "grid_row": null,
            "max_height": null,
            "align_content": null,
            "visibility": null,
            "align_self": null,
            "height": null,
            "min_height": null,
            "padding": null,
            "grid_auto_rows": null,
            "grid_gap": null,
            "max_width": null,
            "order": null,
            "_view_module_version": "1.2.0",
            "grid_template_areas": null,
            "object_position": null,
            "object_fit": null,
            "grid_auto_columns": null,
            "margin": null,
            "display": null,
            "left": null
          }
        },
        "72f00c2970564a1aae7e4490cad57b29": {
          "model_module": "@jupyter-widgets/controls",
          "model_name": "DescriptionStyleModel",
          "state": {
            "_view_name": "StyleView",
            "_model_name": "DescriptionStyleModel",
            "description_width": "",
            "_view_module": "@jupyter-widgets/base",
            "_model_module_version": "1.5.0",
            "_view_count": null,
            "_view_module_version": "1.2.0",
            "_model_module": "@jupyter-widgets/controls"
          }
        },
        "ef16fc103d134cf0b23cb22d7a84e351": {
          "model_module": "@jupyter-widgets/base",
          "model_name": "LayoutModel",
          "state": {
            "_view_name": "LayoutView",
            "grid_template_rows": null,
            "right": null,
            "justify_content": null,
            "_view_module": "@jupyter-widgets/base",
            "overflow": null,
            "_model_module_version": "1.2.0",
            "_view_count": null,
            "flex_flow": null,
            "width": null,
            "min_width": null,
            "border": null,
            "align_items": null,
            "bottom": null,
            "_model_module": "@jupyter-widgets/base",
            "top": null,
            "grid_column": null,
            "overflow_y": null,
            "overflow_x": null,
            "grid_auto_flow": null,
            "grid_area": null,
            "grid_template_columns": null,
            "flex": null,
            "_model_name": "LayoutModel",
            "justify_items": null,
            "grid_row": null,
            "max_height": null,
            "align_content": null,
            "visibility": null,
            "align_self": null,
            "height": null,
            "min_height": null,
            "padding": null,
            "grid_auto_rows": null,
            "grid_gap": null,
            "max_width": null,
            "order": null,
            "_view_module_version": "1.2.0",
            "grid_template_areas": null,
            "object_position": null,
            "object_fit": null,
            "grid_auto_columns": null,
            "margin": null,
            "display": null,
            "left": null
          }
        },
        "83c1dd9e87e14287ab8a6546c8af4066": {
          "model_module": "@jupyter-widgets/controls",
          "model_name": "HBoxModel",
          "state": {
            "_view_name": "HBoxView",
            "_dom_classes": [],
            "_model_name": "HBoxModel",
            "_view_module": "@jupyter-widgets/controls",
            "_model_module_version": "1.5.0",
            "_view_count": null,
            "_view_module_version": "1.5.0",
            "box_style": "",
            "layout": "IPY_MODEL_cdb1fd5fdc7f4b2b8c27db583dcc5bae",
            "_model_module": "@jupyter-widgets/controls",
            "children": [
              "IPY_MODEL_9ee2428a682a435d82d47b9a004592ff",
              "IPY_MODEL_e5d71e80bfc04837975c53fe59c9ccdf"
            ]
          }
        },
        "cdb1fd5fdc7f4b2b8c27db583dcc5bae": {
          "model_module": "@jupyter-widgets/base",
          "model_name": "LayoutModel",
          "state": {
            "_view_name": "LayoutView",
            "grid_template_rows": null,
            "right": null,
            "justify_content": null,
            "_view_module": "@jupyter-widgets/base",
            "overflow": null,
            "_model_module_version": "1.2.0",
            "_view_count": null,
            "flex_flow": null,
            "width": null,
            "min_width": null,
            "border": null,
            "align_items": null,
            "bottom": null,
            "_model_module": "@jupyter-widgets/base",
            "top": null,
            "grid_column": null,
            "overflow_y": null,
            "overflow_x": null,
            "grid_auto_flow": null,
            "grid_area": null,
            "grid_template_columns": null,
            "flex": null,
            "_model_name": "LayoutModel",
            "justify_items": null,
            "grid_row": null,
            "max_height": null,
            "align_content": null,
            "visibility": null,
            "align_self": null,
            "height": null,
            "min_height": null,
            "padding": null,
            "grid_auto_rows": null,
            "grid_gap": null,
            "max_width": null,
            "order": null,
            "_view_module_version": "1.2.0",
            "grid_template_areas": null,
            "object_position": null,
            "object_fit": null,
            "grid_auto_columns": null,
            "margin": null,
            "display": null,
            "left": null
          }
        },
        "9ee2428a682a435d82d47b9a004592ff": {
          "model_module": "@jupyter-widgets/controls",
          "model_name": "FloatProgressModel",
          "state": {
            "_view_name": "ProgressView",
            "style": "IPY_MODEL_d2913931e0ec4aafb70b45c79cd06a4b",
            "_dom_classes": [],
            "description": "100%",
            "_model_name": "FloatProgressModel",
            "bar_style": "success",
            "max": 50,
            "_view_module": "@jupyter-widgets/controls",
            "_model_module_version": "1.5.0",
            "value": 50,
            "_view_count": null,
            "_view_module_version": "1.5.0",
            "orientation": "horizontal",
            "min": 0,
            "description_tooltip": null,
            "_model_module": "@jupyter-widgets/controls",
            "layout": "IPY_MODEL_3427dddd69844efbb40bae58be4e24b0"
          }
        },
        "e5d71e80bfc04837975c53fe59c9ccdf": {
          "model_module": "@jupyter-widgets/controls",
          "model_name": "HTMLModel",
          "state": {
            "_view_name": "HTMLView",
            "style": "IPY_MODEL_be757558a8e3452aa85012445fc6f155",
            "_dom_classes": [],
            "description": "",
            "_model_name": "HTMLModel",
            "placeholder": "​",
            "_view_module": "@jupyter-widgets/controls",
            "_model_module_version": "1.5.0",
            "value": " 50/50 [00:01&lt;00:00, 45.37it/s]",
            "_view_count": null,
            "_view_module_version": "1.5.0",
            "description_tooltip": null,
            "_model_module": "@jupyter-widgets/controls",
            "layout": "IPY_MODEL_c2cf56e14b884115bb7979c5edd6045f"
          }
        },
        "d2913931e0ec4aafb70b45c79cd06a4b": {
          "model_module": "@jupyter-widgets/controls",
          "model_name": "ProgressStyleModel",
          "state": {
            "_view_name": "StyleView",
            "_model_name": "ProgressStyleModel",
            "description_width": "initial",
            "_view_module": "@jupyter-widgets/base",
            "_model_module_version": "1.5.0",
            "_view_count": null,
            "_view_module_version": "1.2.0",
            "bar_color": null,
            "_model_module": "@jupyter-widgets/controls"
          }
        },
        "3427dddd69844efbb40bae58be4e24b0": {
          "model_module": "@jupyter-widgets/base",
          "model_name": "LayoutModel",
          "state": {
            "_view_name": "LayoutView",
            "grid_template_rows": null,
            "right": null,
            "justify_content": null,
            "_view_module": "@jupyter-widgets/base",
            "overflow": null,
            "_model_module_version": "1.2.0",
            "_view_count": null,
            "flex_flow": null,
            "width": null,
            "min_width": null,
            "border": null,
            "align_items": null,
            "bottom": null,
            "_model_module": "@jupyter-widgets/base",
            "top": null,
            "grid_column": null,
            "overflow_y": null,
            "overflow_x": null,
            "grid_auto_flow": null,
            "grid_area": null,
            "grid_template_columns": null,
            "flex": null,
            "_model_name": "LayoutModel",
            "justify_items": null,
            "grid_row": null,
            "max_height": null,
            "align_content": null,
            "visibility": null,
            "align_self": null,
            "height": null,
            "min_height": null,
            "padding": null,
            "grid_auto_rows": null,
            "grid_gap": null,
            "max_width": null,
            "order": null,
            "_view_module_version": "1.2.0",
            "grid_template_areas": null,
            "object_position": null,
            "object_fit": null,
            "grid_auto_columns": null,
            "margin": null,
            "display": null,
            "left": null
          }
        },
        "be757558a8e3452aa85012445fc6f155": {
          "model_module": "@jupyter-widgets/controls",
          "model_name": "DescriptionStyleModel",
          "state": {
            "_view_name": "StyleView",
            "_model_name": "DescriptionStyleModel",
            "description_width": "",
            "_view_module": "@jupyter-widgets/base",
            "_model_module_version": "1.5.0",
            "_view_count": null,
            "_view_module_version": "1.2.0",
            "_model_module": "@jupyter-widgets/controls"
          }
        },
        "c2cf56e14b884115bb7979c5edd6045f": {
          "model_module": "@jupyter-widgets/base",
          "model_name": "LayoutModel",
          "state": {
            "_view_name": "LayoutView",
            "grid_template_rows": null,
            "right": null,
            "justify_content": null,
            "_view_module": "@jupyter-widgets/base",
            "overflow": null,
            "_model_module_version": "1.2.0",
            "_view_count": null,
            "flex_flow": null,
            "width": null,
            "min_width": null,
            "border": null,
            "align_items": null,
            "bottom": null,
            "_model_module": "@jupyter-widgets/base",
            "top": null,
            "grid_column": null,
            "overflow_y": null,
            "overflow_x": null,
            "grid_auto_flow": null,
            "grid_area": null,
            "grid_template_columns": null,
            "flex": null,
            "_model_name": "LayoutModel",
            "justify_items": null,
            "grid_row": null,
            "max_height": null,
            "align_content": null,
            "visibility": null,
            "align_self": null,
            "height": null,
            "min_height": null,
            "padding": null,
            "grid_auto_rows": null,
            "grid_gap": null,
            "max_width": null,
            "order": null,
            "_view_module_version": "1.2.0",
            "grid_template_areas": null,
            "object_position": null,
            "object_fit": null,
            "grid_auto_columns": null,
            "margin": null,
            "display": null,
            "left": null
          }
        },
        "6532cbd5b78742d5a90bb2cc2b43e8ed": {
          "model_module": "@jupyter-widgets/controls",
          "model_name": "HBoxModel",
          "state": {
            "_view_name": "HBoxView",
            "_dom_classes": [],
            "_model_name": "HBoxModel",
            "_view_module": "@jupyter-widgets/controls",
            "_model_module_version": "1.5.0",
            "_view_count": null,
            "_view_module_version": "1.5.0",
            "box_style": "",
            "layout": "IPY_MODEL_ef8e103b348c4d9f9730ec089d44d58b",
            "_model_module": "@jupyter-widgets/controls",
            "children": [
              "IPY_MODEL_5170d87f5b6a45faa15aeda125c13e9b",
              "IPY_MODEL_2e697ac20c3a4083b27b56fec75f11b4"
            ]
          }
        },
        "ef8e103b348c4d9f9730ec089d44d58b": {
          "model_module": "@jupyter-widgets/base",
          "model_name": "LayoutModel",
          "state": {
            "_view_name": "LayoutView",
            "grid_template_rows": null,
            "right": null,
            "justify_content": null,
            "_view_module": "@jupyter-widgets/base",
            "overflow": null,
            "_model_module_version": "1.2.0",
            "_view_count": null,
            "flex_flow": null,
            "width": null,
            "min_width": null,
            "border": null,
            "align_items": null,
            "bottom": null,
            "_model_module": "@jupyter-widgets/base",
            "top": null,
            "grid_column": null,
            "overflow_y": null,
            "overflow_x": null,
            "grid_auto_flow": null,
            "grid_area": null,
            "grid_template_columns": null,
            "flex": null,
            "_model_name": "LayoutModel",
            "justify_items": null,
            "grid_row": null,
            "max_height": null,
            "align_content": null,
            "visibility": null,
            "align_self": null,
            "height": null,
            "min_height": null,
            "padding": null,
            "grid_auto_rows": null,
            "grid_gap": null,
            "max_width": null,
            "order": null,
            "_view_module_version": "1.2.0",
            "grid_template_areas": null,
            "object_position": null,
            "object_fit": null,
            "grid_auto_columns": null,
            "margin": null,
            "display": null,
            "left": null
          }
        },
        "5170d87f5b6a45faa15aeda125c13e9b": {
          "model_module": "@jupyter-widgets/controls",
          "model_name": "FloatProgressModel",
          "state": {
            "_view_name": "ProgressView",
            "style": "IPY_MODEL_9b0d348f1c5f418485ea57a65621a8cc",
            "_dom_classes": [],
            "description": "100%",
            "_model_name": "FloatProgressModel",
            "bar_style": "success",
            "max": 50,
            "_view_module": "@jupyter-widgets/controls",
            "_model_module_version": "1.5.0",
            "value": 50,
            "_view_count": null,
            "_view_module_version": "1.5.0",
            "orientation": "horizontal",
            "min": 0,
            "description_tooltip": null,
            "_model_module": "@jupyter-widgets/controls",
            "layout": "IPY_MODEL_3af7932265d544ecb544a2b7c223c71b"
          }
        },
        "2e697ac20c3a4083b27b56fec75f11b4": {
          "model_module": "@jupyter-widgets/controls",
          "model_name": "HTMLModel",
          "state": {
            "_view_name": "HTMLView",
            "style": "IPY_MODEL_7c018662827c420695a85f96f4a4d803",
            "_dom_classes": [],
            "description": "",
            "_model_name": "HTMLModel",
            "placeholder": "​",
            "_view_module": "@jupyter-widgets/controls",
            "_model_module_version": "1.5.0",
            "value": " 50/50 [00:09&lt;00:00,  5.34it/s]",
            "_view_count": null,
            "_view_module_version": "1.5.0",
            "description_tooltip": null,
            "_model_module": "@jupyter-widgets/controls",
            "layout": "IPY_MODEL_aed90c5a5f184fff8b3a0e5df6533cf1"
          }
        },
        "9b0d348f1c5f418485ea57a65621a8cc": {
          "model_module": "@jupyter-widgets/controls",
          "model_name": "ProgressStyleModel",
          "state": {
            "_view_name": "StyleView",
            "_model_name": "ProgressStyleModel",
            "description_width": "initial",
            "_view_module": "@jupyter-widgets/base",
            "_model_module_version": "1.5.0",
            "_view_count": null,
            "_view_module_version": "1.2.0",
            "bar_color": null,
            "_model_module": "@jupyter-widgets/controls"
          }
        },
        "3af7932265d544ecb544a2b7c223c71b": {
          "model_module": "@jupyter-widgets/base",
          "model_name": "LayoutModel",
          "state": {
            "_view_name": "LayoutView",
            "grid_template_rows": null,
            "right": null,
            "justify_content": null,
            "_view_module": "@jupyter-widgets/base",
            "overflow": null,
            "_model_module_version": "1.2.0",
            "_view_count": null,
            "flex_flow": null,
            "width": null,
            "min_width": null,
            "border": null,
            "align_items": null,
            "bottom": null,
            "_model_module": "@jupyter-widgets/base",
            "top": null,
            "grid_column": null,
            "overflow_y": null,
            "overflow_x": null,
            "grid_auto_flow": null,
            "grid_area": null,
            "grid_template_columns": null,
            "flex": null,
            "_model_name": "LayoutModel",
            "justify_items": null,
            "grid_row": null,
            "max_height": null,
            "align_content": null,
            "visibility": null,
            "align_self": null,
            "height": null,
            "min_height": null,
            "padding": null,
            "grid_auto_rows": null,
            "grid_gap": null,
            "max_width": null,
            "order": null,
            "_view_module_version": "1.2.0",
            "grid_template_areas": null,
            "object_position": null,
            "object_fit": null,
            "grid_auto_columns": null,
            "margin": null,
            "display": null,
            "left": null
          }
        },
        "7c018662827c420695a85f96f4a4d803": {
          "model_module": "@jupyter-widgets/controls",
          "model_name": "DescriptionStyleModel",
          "state": {
            "_view_name": "StyleView",
            "_model_name": "DescriptionStyleModel",
            "description_width": "",
            "_view_module": "@jupyter-widgets/base",
            "_model_module_version": "1.5.0",
            "_view_count": null,
            "_view_module_version": "1.2.0",
            "_model_module": "@jupyter-widgets/controls"
          }
        },
        "aed90c5a5f184fff8b3a0e5df6533cf1": {
          "model_module": "@jupyter-widgets/base",
          "model_name": "LayoutModel",
          "state": {
            "_view_name": "LayoutView",
            "grid_template_rows": null,
            "right": null,
            "justify_content": null,
            "_view_module": "@jupyter-widgets/base",
            "overflow": null,
            "_model_module_version": "1.2.0",
            "_view_count": null,
            "flex_flow": null,
            "width": null,
            "min_width": null,
            "border": null,
            "align_items": null,
            "bottom": null,
            "_model_module": "@jupyter-widgets/base",
            "top": null,
            "grid_column": null,
            "overflow_y": null,
            "overflow_x": null,
            "grid_auto_flow": null,
            "grid_area": null,
            "grid_template_columns": null,
            "flex": null,
            "_model_name": "LayoutModel",
            "justify_items": null,
            "grid_row": null,
            "max_height": null,
            "align_content": null,
            "visibility": null,
            "align_self": null,
            "height": null,
            "min_height": null,
            "padding": null,
            "grid_auto_rows": null,
            "grid_gap": null,
            "max_width": null,
            "order": null,
            "_view_module_version": "1.2.0",
            "grid_template_areas": null,
            "object_position": null,
            "object_fit": null,
            "grid_auto_columns": null,
            "margin": null,
            "display": null,
            "left": null
          }
        },
        "888b402a08664facaf9712466c7e05ee": {
          "model_module": "@jupyter-widgets/controls",
          "model_name": "HBoxModel",
          "state": {
            "_view_name": "HBoxView",
            "_dom_classes": [],
            "_model_name": "HBoxModel",
            "_view_module": "@jupyter-widgets/controls",
            "_model_module_version": "1.5.0",
            "_view_count": null,
            "_view_module_version": "1.5.0",
            "box_style": "",
            "layout": "IPY_MODEL_fb1a2c4682c14384b30534164bbe6509",
            "_model_module": "@jupyter-widgets/controls",
            "children": [
              "IPY_MODEL_b2dc90f2a78e4aa9aac6119872e829c4",
              "IPY_MODEL_e1e8b240521546e78a1eb8c8b0c6c38a"
            ]
          }
        },
        "fb1a2c4682c14384b30534164bbe6509": {
          "model_module": "@jupyter-widgets/base",
          "model_name": "LayoutModel",
          "state": {
            "_view_name": "LayoutView",
            "grid_template_rows": null,
            "right": null,
            "justify_content": null,
            "_view_module": "@jupyter-widgets/base",
            "overflow": null,
            "_model_module_version": "1.2.0",
            "_view_count": null,
            "flex_flow": null,
            "width": null,
            "min_width": null,
            "border": null,
            "align_items": null,
            "bottom": null,
            "_model_module": "@jupyter-widgets/base",
            "top": null,
            "grid_column": null,
            "overflow_y": null,
            "overflow_x": null,
            "grid_auto_flow": null,
            "grid_area": null,
            "grid_template_columns": null,
            "flex": null,
            "_model_name": "LayoutModel",
            "justify_items": null,
            "grid_row": null,
            "max_height": null,
            "align_content": null,
            "visibility": null,
            "align_self": null,
            "height": null,
            "min_height": null,
            "padding": null,
            "grid_auto_rows": null,
            "grid_gap": null,
            "max_width": null,
            "order": null,
            "_view_module_version": "1.2.0",
            "grid_template_areas": null,
            "object_position": null,
            "object_fit": null,
            "grid_auto_columns": null,
            "margin": null,
            "display": null,
            "left": null
          }
        },
        "b2dc90f2a78e4aa9aac6119872e829c4": {
          "model_module": "@jupyter-widgets/controls",
          "model_name": "FloatProgressModel",
          "state": {
            "_view_name": "ProgressView",
            "style": "IPY_MODEL_b2659bda14ad4ea5b82755ef0f309a3e",
            "_dom_classes": [],
            "description": "100%",
            "_model_name": "FloatProgressModel",
            "bar_style": "success",
            "max": 50,
            "_view_module": "@jupyter-widgets/controls",
            "_model_module_version": "1.5.0",
            "value": 50,
            "_view_count": null,
            "_view_module_version": "1.5.0",
            "orientation": "horizontal",
            "min": 0,
            "description_tooltip": null,
            "_model_module": "@jupyter-widgets/controls",
            "layout": "IPY_MODEL_44006c85f86c4ac1b983e718327d079a"
          }
        },
        "e1e8b240521546e78a1eb8c8b0c6c38a": {
          "model_module": "@jupyter-widgets/controls",
          "model_name": "HTMLModel",
          "state": {
            "_view_name": "HTMLView",
            "style": "IPY_MODEL_5125b2d0ca5b4d51bdbd61a343c8e49e",
            "_dom_classes": [],
            "description": "",
            "_model_name": "HTMLModel",
            "placeholder": "​",
            "_view_module": "@jupyter-widgets/controls",
            "_model_module_version": "1.5.0",
            "value": " 50/50 [00:01&lt;00:00, 30.36it/s, correct=97.38%, skipped=0.96%]",
            "_view_count": null,
            "_view_module_version": "1.5.0",
            "description_tooltip": null,
            "_model_module": "@jupyter-widgets/controls",
            "layout": "IPY_MODEL_c6ec71e4519e4a8cb270a76d8a170f1a"
          }
        },
        "b2659bda14ad4ea5b82755ef0f309a3e": {
          "model_module": "@jupyter-widgets/controls",
          "model_name": "ProgressStyleModel",
          "state": {
            "_view_name": "StyleView",
            "_model_name": "ProgressStyleModel",
            "description_width": "initial",
            "_view_module": "@jupyter-widgets/base",
            "_model_module_version": "1.5.0",
            "_view_count": null,
            "_view_module_version": "1.2.0",
            "bar_color": null,
            "_model_module": "@jupyter-widgets/controls"
          }
        },
        "44006c85f86c4ac1b983e718327d079a": {
          "model_module": "@jupyter-widgets/base",
          "model_name": "LayoutModel",
          "state": {
            "_view_name": "LayoutView",
            "grid_template_rows": null,
            "right": null,
            "justify_content": null,
            "_view_module": "@jupyter-widgets/base",
            "overflow": null,
            "_model_module_version": "1.2.0",
            "_view_count": null,
            "flex_flow": null,
            "width": null,
            "min_width": null,
            "border": null,
            "align_items": null,
            "bottom": null,
            "_model_module": "@jupyter-widgets/base",
            "top": null,
            "grid_column": null,
            "overflow_y": null,
            "overflow_x": null,
            "grid_auto_flow": null,
            "grid_area": null,
            "grid_template_columns": null,
            "flex": null,
            "_model_name": "LayoutModel",
            "justify_items": null,
            "grid_row": null,
            "max_height": null,
            "align_content": null,
            "visibility": null,
            "align_self": null,
            "height": null,
            "min_height": null,
            "padding": null,
            "grid_auto_rows": null,
            "grid_gap": null,
            "max_width": null,
            "order": null,
            "_view_module_version": "1.2.0",
            "grid_template_areas": null,
            "object_position": null,
            "object_fit": null,
            "grid_auto_columns": null,
            "margin": null,
            "display": null,
            "left": null
          }
        },
        "5125b2d0ca5b4d51bdbd61a343c8e49e": {
          "model_module": "@jupyter-widgets/controls",
          "model_name": "DescriptionStyleModel",
          "state": {
            "_view_name": "StyleView",
            "_model_name": "DescriptionStyleModel",
            "description_width": "",
            "_view_module": "@jupyter-widgets/base",
            "_model_module_version": "1.5.0",
            "_view_count": null,
            "_view_module_version": "1.2.0",
            "_model_module": "@jupyter-widgets/controls"
          }
        },
        "c6ec71e4519e4a8cb270a76d8a170f1a": {
          "model_module": "@jupyter-widgets/base",
          "model_name": "LayoutModel",
          "state": {
            "_view_name": "LayoutView",
            "grid_template_rows": null,
            "right": null,
            "justify_content": null,
            "_view_module": "@jupyter-widgets/base",
            "overflow": null,
            "_model_module_version": "1.2.0",
            "_view_count": null,
            "flex_flow": null,
            "width": null,
            "min_width": null,
            "border": null,
            "align_items": null,
            "bottom": null,
            "_model_module": "@jupyter-widgets/base",
            "top": null,
            "grid_column": null,
            "overflow_y": null,
            "overflow_x": null,
            "grid_auto_flow": null,
            "grid_area": null,
            "grid_template_columns": null,
            "flex": null,
            "_model_name": "LayoutModel",
            "justify_items": null,
            "grid_row": null,
            "max_height": null,
            "align_content": null,
            "visibility": null,
            "align_self": null,
            "height": null,
            "min_height": null,
            "padding": null,
            "grid_auto_rows": null,
            "grid_gap": null,
            "max_width": null,
            "order": null,
            "_view_module_version": "1.2.0",
            "grid_template_areas": null,
            "object_position": null,
            "object_fit": null,
            "grid_auto_columns": null,
            "margin": null,
            "display": null,
            "left": null
          }
        },
        "769c9793463e480ead4bb9f5f27810b1": {
          "model_module": "@jupyter-widgets/controls",
          "model_name": "HBoxModel",
          "state": {
            "_view_name": "HBoxView",
            "_dom_classes": [],
            "_model_name": "HBoxModel",
            "_view_module": "@jupyter-widgets/controls",
            "_model_module_version": "1.5.0",
            "_view_count": null,
            "_view_module_version": "1.5.0",
            "box_style": "",
            "layout": "IPY_MODEL_7f166c4187c44d3fb11569d896f8aedb",
            "_model_module": "@jupyter-widgets/controls",
            "children": [
              "IPY_MODEL_6b54e6327213415086c8b138cb6509c4",
              "IPY_MODEL_ebeb371478144ae6b893860145a162a2"
            ]
          }
        },
        "7f166c4187c44d3fb11569d896f8aedb": {
          "model_module": "@jupyter-widgets/base",
          "model_name": "LayoutModel",
          "state": {
            "_view_name": "LayoutView",
            "grid_template_rows": null,
            "right": null,
            "justify_content": null,
            "_view_module": "@jupyter-widgets/base",
            "overflow": null,
            "_model_module_version": "1.2.0",
            "_view_count": null,
            "flex_flow": null,
            "width": null,
            "min_width": null,
            "border": null,
            "align_items": null,
            "bottom": null,
            "_model_module": "@jupyter-widgets/base",
            "top": null,
            "grid_column": null,
            "overflow_y": null,
            "overflow_x": null,
            "grid_auto_flow": null,
            "grid_area": null,
            "grid_template_columns": null,
            "flex": null,
            "_model_name": "LayoutModel",
            "justify_items": null,
            "grid_row": null,
            "max_height": null,
            "align_content": null,
            "visibility": null,
            "align_self": null,
            "height": null,
            "min_height": null,
            "padding": null,
            "grid_auto_rows": null,
            "grid_gap": null,
            "max_width": null,
            "order": null,
            "_view_module_version": "1.2.0",
            "grid_template_areas": null,
            "object_position": null,
            "object_fit": null,
            "grid_auto_columns": null,
            "margin": null,
            "display": null,
            "left": null
          }
        },
        "6b54e6327213415086c8b138cb6509c4": {
          "model_module": "@jupyter-widgets/controls",
          "model_name": "FloatProgressModel",
          "state": {
            "_view_name": "ProgressView",
            "style": "IPY_MODEL_f0e3a71a31ad4c6486d0717349b9f5b2",
            "_dom_classes": [],
            "description": "100%",
            "_model_name": "FloatProgressModel",
            "bar_style": "success",
            "max": 50,
            "_view_module": "@jupyter-widgets/controls",
            "_model_module_version": "1.5.0",
            "value": 50,
            "_view_count": null,
            "_view_module_version": "1.5.0",
            "orientation": "horizontal",
            "min": 0,
            "description_tooltip": null,
            "_model_module": "@jupyter-widgets/controls",
            "layout": "IPY_MODEL_a442a4bb291a444f8dd5dd67032d0eae"
          }
        },
        "ebeb371478144ae6b893860145a162a2": {
          "model_module": "@jupyter-widgets/controls",
          "model_name": "HTMLModel",
          "state": {
            "_view_name": "HTMLView",
            "style": "IPY_MODEL_930c9bd33c2d4131b8e7c3c5422f719c",
            "_dom_classes": [],
            "description": "",
            "_model_name": "HTMLModel",
            "placeholder": "​",
            "_view_module": "@jupyter-widgets/controls",
            "_model_module_version": "1.5.0",
            "value": " 50/50 [00:01&lt;00:00, 44.99it/s]",
            "_view_count": null,
            "_view_module_version": "1.5.0",
            "description_tooltip": null,
            "_model_module": "@jupyter-widgets/controls",
            "layout": "IPY_MODEL_2e2fe1cf415940dcbff257fbb2f295a2"
          }
        },
        "f0e3a71a31ad4c6486d0717349b9f5b2": {
          "model_module": "@jupyter-widgets/controls",
          "model_name": "ProgressStyleModel",
          "state": {
            "_view_name": "StyleView",
            "_model_name": "ProgressStyleModel",
            "description_width": "initial",
            "_view_module": "@jupyter-widgets/base",
            "_model_module_version": "1.5.0",
            "_view_count": null,
            "_view_module_version": "1.2.0",
            "bar_color": null,
            "_model_module": "@jupyter-widgets/controls"
          }
        },
        "a442a4bb291a444f8dd5dd67032d0eae": {
          "model_module": "@jupyter-widgets/base",
          "model_name": "LayoutModel",
          "state": {
            "_view_name": "LayoutView",
            "grid_template_rows": null,
            "right": null,
            "justify_content": null,
            "_view_module": "@jupyter-widgets/base",
            "overflow": null,
            "_model_module_version": "1.2.0",
            "_view_count": null,
            "flex_flow": null,
            "width": null,
            "min_width": null,
            "border": null,
            "align_items": null,
            "bottom": null,
            "_model_module": "@jupyter-widgets/base",
            "top": null,
            "grid_column": null,
            "overflow_y": null,
            "overflow_x": null,
            "grid_auto_flow": null,
            "grid_area": null,
            "grid_template_columns": null,
            "flex": null,
            "_model_name": "LayoutModel",
            "justify_items": null,
            "grid_row": null,
            "max_height": null,
            "align_content": null,
            "visibility": null,
            "align_self": null,
            "height": null,
            "min_height": null,
            "padding": null,
            "grid_auto_rows": null,
            "grid_gap": null,
            "max_width": null,
            "order": null,
            "_view_module_version": "1.2.0",
            "grid_template_areas": null,
            "object_position": null,
            "object_fit": null,
            "grid_auto_columns": null,
            "margin": null,
            "display": null,
            "left": null
          }
        },
        "930c9bd33c2d4131b8e7c3c5422f719c": {
          "model_module": "@jupyter-widgets/controls",
          "model_name": "DescriptionStyleModel",
          "state": {
            "_view_name": "StyleView",
            "_model_name": "DescriptionStyleModel",
            "description_width": "",
            "_view_module": "@jupyter-widgets/base",
            "_model_module_version": "1.5.0",
            "_view_count": null,
            "_view_module_version": "1.2.0",
            "_model_module": "@jupyter-widgets/controls"
          }
        },
        "2e2fe1cf415940dcbff257fbb2f295a2": {
          "model_module": "@jupyter-widgets/base",
          "model_name": "LayoutModel",
          "state": {
            "_view_name": "LayoutView",
            "grid_template_rows": null,
            "right": null,
            "justify_content": null,
            "_view_module": "@jupyter-widgets/base",
            "overflow": null,
            "_model_module_version": "1.2.0",
            "_view_count": null,
            "flex_flow": null,
            "width": null,
            "min_width": null,
            "border": null,
            "align_items": null,
            "bottom": null,
            "_model_module": "@jupyter-widgets/base",
            "top": null,
            "grid_column": null,
            "overflow_y": null,
            "overflow_x": null,
            "grid_auto_flow": null,
            "grid_area": null,
            "grid_template_columns": null,
            "flex": null,
            "_model_name": "LayoutModel",
            "justify_items": null,
            "grid_row": null,
            "max_height": null,
            "align_content": null,
            "visibility": null,
            "align_self": null,
            "height": null,
            "min_height": null,
            "padding": null,
            "grid_auto_rows": null,
            "grid_gap": null,
            "max_width": null,
            "order": null,
            "_view_module_version": "1.2.0",
            "grid_template_areas": null,
            "object_position": null,
            "object_fit": null,
            "grid_auto_columns": null,
            "margin": null,
            "display": null,
            "left": null
          }
        },
        "3f9e9af7a8654eca88242dc35970b531": {
          "model_module": "@jupyter-widgets/controls",
          "model_name": "HBoxModel",
          "state": {
            "_view_name": "HBoxView",
            "_dom_classes": [],
            "_model_name": "HBoxModel",
            "_view_module": "@jupyter-widgets/controls",
            "_model_module_version": "1.5.0",
            "_view_count": null,
            "_view_module_version": "1.5.0",
            "box_style": "",
            "layout": "IPY_MODEL_556b83884ea44b518d199f22d1a79c6c",
            "_model_module": "@jupyter-widgets/controls",
            "children": [
              "IPY_MODEL_52865172402e43ffaa14117fa9d9d234",
              "IPY_MODEL_9ccf476805d94e03ab056867168cb0dc"
            ]
          }
        },
        "556b83884ea44b518d199f22d1a79c6c": {
          "model_module": "@jupyter-widgets/base",
          "model_name": "LayoutModel",
          "state": {
            "_view_name": "LayoutView",
            "grid_template_rows": null,
            "right": null,
            "justify_content": null,
            "_view_module": "@jupyter-widgets/base",
            "overflow": null,
            "_model_module_version": "1.2.0",
            "_view_count": null,
            "flex_flow": null,
            "width": null,
            "min_width": null,
            "border": null,
            "align_items": null,
            "bottom": null,
            "_model_module": "@jupyter-widgets/base",
            "top": null,
            "grid_column": null,
            "overflow_y": null,
            "overflow_x": null,
            "grid_auto_flow": null,
            "grid_area": null,
            "grid_template_columns": null,
            "flex": null,
            "_model_name": "LayoutModel",
            "justify_items": null,
            "grid_row": null,
            "max_height": null,
            "align_content": null,
            "visibility": null,
            "align_self": null,
            "height": null,
            "min_height": null,
            "padding": null,
            "grid_auto_rows": null,
            "grid_gap": null,
            "max_width": null,
            "order": null,
            "_view_module_version": "1.2.0",
            "grid_template_areas": null,
            "object_position": null,
            "object_fit": null,
            "grid_auto_columns": null,
            "margin": null,
            "display": null,
            "left": null
          }
        },
        "52865172402e43ffaa14117fa9d9d234": {
          "model_module": "@jupyter-widgets/controls",
          "model_name": "FloatProgressModel",
          "state": {
            "_view_name": "ProgressView",
            "style": "IPY_MODEL_2ea4b2df2fe246a68747bc082dc4d628",
            "_dom_classes": [],
            "description": "100%",
            "_model_name": "FloatProgressModel",
            "bar_style": "success",
            "max": 50,
            "_view_module": "@jupyter-widgets/controls",
            "_model_module_version": "1.5.0",
            "value": 50,
            "_view_count": null,
            "_view_module_version": "1.5.0",
            "orientation": "horizontal",
            "min": 0,
            "description_tooltip": null,
            "_model_module": "@jupyter-widgets/controls",
            "layout": "IPY_MODEL_2c5d944c8a4c4eab8140b26cbf4856ad"
          }
        },
        "9ccf476805d94e03ab056867168cb0dc": {
          "model_module": "@jupyter-widgets/controls",
          "model_name": "HTMLModel",
          "state": {
            "_view_name": "HTMLView",
            "style": "IPY_MODEL_d379855fda724944988135248444ce3f",
            "_dom_classes": [],
            "description": "",
            "_model_name": "HTMLModel",
            "placeholder": "​",
            "_view_module": "@jupyter-widgets/controls",
            "_model_module_version": "1.5.0",
            "value": " 50/50 [00:09&lt;00:00,  5.12it/s]",
            "_view_count": null,
            "_view_module_version": "1.5.0",
            "description_tooltip": null,
            "_model_module": "@jupyter-widgets/controls",
            "layout": "IPY_MODEL_8d0857d7369546b2aefac76e624ef2a6"
          }
        },
        "2ea4b2df2fe246a68747bc082dc4d628": {
          "model_module": "@jupyter-widgets/controls",
          "model_name": "ProgressStyleModel",
          "state": {
            "_view_name": "StyleView",
            "_model_name": "ProgressStyleModel",
            "description_width": "initial",
            "_view_module": "@jupyter-widgets/base",
            "_model_module_version": "1.5.0",
            "_view_count": null,
            "_view_module_version": "1.2.0",
            "bar_color": null,
            "_model_module": "@jupyter-widgets/controls"
          }
        },
        "2c5d944c8a4c4eab8140b26cbf4856ad": {
          "model_module": "@jupyter-widgets/base",
          "model_name": "LayoutModel",
          "state": {
            "_view_name": "LayoutView",
            "grid_template_rows": null,
            "right": null,
            "justify_content": null,
            "_view_module": "@jupyter-widgets/base",
            "overflow": null,
            "_model_module_version": "1.2.0",
            "_view_count": null,
            "flex_flow": null,
            "width": null,
            "min_width": null,
            "border": null,
            "align_items": null,
            "bottom": null,
            "_model_module": "@jupyter-widgets/base",
            "top": null,
            "grid_column": null,
            "overflow_y": null,
            "overflow_x": null,
            "grid_auto_flow": null,
            "grid_area": null,
            "grid_template_columns": null,
            "flex": null,
            "_model_name": "LayoutModel",
            "justify_items": null,
            "grid_row": null,
            "max_height": null,
            "align_content": null,
            "visibility": null,
            "align_self": null,
            "height": null,
            "min_height": null,
            "padding": null,
            "grid_auto_rows": null,
            "grid_gap": null,
            "max_width": null,
            "order": null,
            "_view_module_version": "1.2.0",
            "grid_template_areas": null,
            "object_position": null,
            "object_fit": null,
            "grid_auto_columns": null,
            "margin": null,
            "display": null,
            "left": null
          }
        },
        "d379855fda724944988135248444ce3f": {
          "model_module": "@jupyter-widgets/controls",
          "model_name": "DescriptionStyleModel",
          "state": {
            "_view_name": "StyleView",
            "_model_name": "DescriptionStyleModel",
            "description_width": "",
            "_view_module": "@jupyter-widgets/base",
            "_model_module_version": "1.5.0",
            "_view_count": null,
            "_view_module_version": "1.2.0",
            "_model_module": "@jupyter-widgets/controls"
          }
        },
        "8d0857d7369546b2aefac76e624ef2a6": {
          "model_module": "@jupyter-widgets/base",
          "model_name": "LayoutModel",
          "state": {
            "_view_name": "LayoutView",
            "grid_template_rows": null,
            "right": null,
            "justify_content": null,
            "_view_module": "@jupyter-widgets/base",
            "overflow": null,
            "_model_module_version": "1.2.0",
            "_view_count": null,
            "flex_flow": null,
            "width": null,
            "min_width": null,
            "border": null,
            "align_items": null,
            "bottom": null,
            "_model_module": "@jupyter-widgets/base",
            "top": null,
            "grid_column": null,
            "overflow_y": null,
            "overflow_x": null,
            "grid_auto_flow": null,
            "grid_area": null,
            "grid_template_columns": null,
            "flex": null,
            "_model_name": "LayoutModel",
            "justify_items": null,
            "grid_row": null,
            "max_height": null,
            "align_content": null,
            "visibility": null,
            "align_self": null,
            "height": null,
            "min_height": null,
            "padding": null,
            "grid_auto_rows": null,
            "grid_gap": null,
            "max_width": null,
            "order": null,
            "_view_module_version": "1.2.0",
            "grid_template_areas": null,
            "object_position": null,
            "object_fit": null,
            "grid_auto_columns": null,
            "margin": null,
            "display": null,
            "left": null
          }
        },
        "10acc039d1dc425ea7ff2dd59ad29d1d": {
          "model_module": "@jupyter-widgets/controls",
          "model_name": "HBoxModel",
          "state": {
            "_view_name": "HBoxView",
            "_dom_classes": [],
            "_model_name": "HBoxModel",
            "_view_module": "@jupyter-widgets/controls",
            "_model_module_version": "1.5.0",
            "_view_count": null,
            "_view_module_version": "1.5.0",
            "box_style": "",
            "layout": "IPY_MODEL_9f2ec35098b24ff9bd947ebcef06eafb",
            "_model_module": "@jupyter-widgets/controls",
            "children": [
              "IPY_MODEL_a2402742de8846838a5a3d0f8962c696",
              "IPY_MODEL_f076724269cd49c2a803a6c7d4bd9beb"
            ]
          }
        },
        "9f2ec35098b24ff9bd947ebcef06eafb": {
          "model_module": "@jupyter-widgets/base",
          "model_name": "LayoutModel",
          "state": {
            "_view_name": "LayoutView",
            "grid_template_rows": null,
            "right": null,
            "justify_content": null,
            "_view_module": "@jupyter-widgets/base",
            "overflow": null,
            "_model_module_version": "1.2.0",
            "_view_count": null,
            "flex_flow": null,
            "width": null,
            "min_width": null,
            "border": null,
            "align_items": null,
            "bottom": null,
            "_model_module": "@jupyter-widgets/base",
            "top": null,
            "grid_column": null,
            "overflow_y": null,
            "overflow_x": null,
            "grid_auto_flow": null,
            "grid_area": null,
            "grid_template_columns": null,
            "flex": null,
            "_model_name": "LayoutModel",
            "justify_items": null,
            "grid_row": null,
            "max_height": null,
            "align_content": null,
            "visibility": null,
            "align_self": null,
            "height": null,
            "min_height": null,
            "padding": null,
            "grid_auto_rows": null,
            "grid_gap": null,
            "max_width": null,
            "order": null,
            "_view_module_version": "1.2.0",
            "grid_template_areas": null,
            "object_position": null,
            "object_fit": null,
            "grid_auto_columns": null,
            "margin": null,
            "display": null,
            "left": null
          }
        },
        "a2402742de8846838a5a3d0f8962c696": {
          "model_module": "@jupyter-widgets/controls",
          "model_name": "FloatProgressModel",
          "state": {
            "_view_name": "ProgressView",
            "style": "IPY_MODEL_2e878c0c59f34141932be907459494a5",
            "_dom_classes": [],
            "description": "100%",
            "_model_name": "FloatProgressModel",
            "bar_style": "success",
            "max": 50,
            "_view_module": "@jupyter-widgets/controls",
            "_model_module_version": "1.5.0",
            "value": 50,
            "_view_count": null,
            "_view_module_version": "1.5.0",
            "orientation": "horizontal",
            "min": 0,
            "description_tooltip": null,
            "_model_module": "@jupyter-widgets/controls",
            "layout": "IPY_MODEL_6427a77a0b7c401587dae545966bc4c3"
          }
        },
        "f076724269cd49c2a803a6c7d4bd9beb": {
          "model_module": "@jupyter-widgets/controls",
          "model_name": "HTMLModel",
          "state": {
            "_view_name": "HTMLView",
            "style": "IPY_MODEL_b8982da28bb14423b55c0b982c321e30",
            "_dom_classes": [],
            "description": "",
            "_model_name": "HTMLModel",
            "placeholder": "​",
            "_view_module": "@jupyter-widgets/controls",
            "_model_module_version": "1.5.0",
            "value": " 50/50 [00:01&lt;00:00, 30.04it/s, correct=98.77%, skipped=1.13%]",
            "_view_count": null,
            "_view_module_version": "1.5.0",
            "description_tooltip": null,
            "_model_module": "@jupyter-widgets/controls",
            "layout": "IPY_MODEL_780b2e9d2dda4524a8f6438b6f3eb6eb"
          }
        },
        "2e878c0c59f34141932be907459494a5": {
          "model_module": "@jupyter-widgets/controls",
          "model_name": "ProgressStyleModel",
          "state": {
            "_view_name": "StyleView",
            "_model_name": "ProgressStyleModel",
            "description_width": "initial",
            "_view_module": "@jupyter-widgets/base",
            "_model_module_version": "1.5.0",
            "_view_count": null,
            "_view_module_version": "1.2.0",
            "bar_color": null,
            "_model_module": "@jupyter-widgets/controls"
          }
        },
        "6427a77a0b7c401587dae545966bc4c3": {
          "model_module": "@jupyter-widgets/base",
          "model_name": "LayoutModel",
          "state": {
            "_view_name": "LayoutView",
            "grid_template_rows": null,
            "right": null,
            "justify_content": null,
            "_view_module": "@jupyter-widgets/base",
            "overflow": null,
            "_model_module_version": "1.2.0",
            "_view_count": null,
            "flex_flow": null,
            "width": null,
            "min_width": null,
            "border": null,
            "align_items": null,
            "bottom": null,
            "_model_module": "@jupyter-widgets/base",
            "top": null,
            "grid_column": null,
            "overflow_y": null,
            "overflow_x": null,
            "grid_auto_flow": null,
            "grid_area": null,
            "grid_template_columns": null,
            "flex": null,
            "_model_name": "LayoutModel",
            "justify_items": null,
            "grid_row": null,
            "max_height": null,
            "align_content": null,
            "visibility": null,
            "align_self": null,
            "height": null,
            "min_height": null,
            "padding": null,
            "grid_auto_rows": null,
            "grid_gap": null,
            "max_width": null,
            "order": null,
            "_view_module_version": "1.2.0",
            "grid_template_areas": null,
            "object_position": null,
            "object_fit": null,
            "grid_auto_columns": null,
            "margin": null,
            "display": null,
            "left": null
          }
        },
        "b8982da28bb14423b55c0b982c321e30": {
          "model_module": "@jupyter-widgets/controls",
          "model_name": "DescriptionStyleModel",
          "state": {
            "_view_name": "StyleView",
            "_model_name": "DescriptionStyleModel",
            "description_width": "",
            "_view_module": "@jupyter-widgets/base",
            "_model_module_version": "1.5.0",
            "_view_count": null,
            "_view_module_version": "1.2.0",
            "_model_module": "@jupyter-widgets/controls"
          }
        },
        "780b2e9d2dda4524a8f6438b6f3eb6eb": {
          "model_module": "@jupyter-widgets/base",
          "model_name": "LayoutModel",
          "state": {
            "_view_name": "LayoutView",
            "grid_template_rows": null,
            "right": null,
            "justify_content": null,
            "_view_module": "@jupyter-widgets/base",
            "overflow": null,
            "_model_module_version": "1.2.0",
            "_view_count": null,
            "flex_flow": null,
            "width": null,
            "min_width": null,
            "border": null,
            "align_items": null,
            "bottom": null,
            "_model_module": "@jupyter-widgets/base",
            "top": null,
            "grid_column": null,
            "overflow_y": null,
            "overflow_x": null,
            "grid_auto_flow": null,
            "grid_area": null,
            "grid_template_columns": null,
            "flex": null,
            "_model_name": "LayoutModel",
            "justify_items": null,
            "grid_row": null,
            "max_height": null,
            "align_content": null,
            "visibility": null,
            "align_self": null,
            "height": null,
            "min_height": null,
            "padding": null,
            "grid_auto_rows": null,
            "grid_gap": null,
            "max_width": null,
            "order": null,
            "_view_module_version": "1.2.0",
            "grid_template_areas": null,
            "object_position": null,
            "object_fit": null,
            "grid_auto_columns": null,
            "margin": null,
            "display": null,
            "left": null
          }
        },
        "560e83b77ec943a49dee55b3a4d4241d": {
          "model_module": "@jupyter-widgets/controls",
          "model_name": "HBoxModel",
          "state": {
            "_view_name": "HBoxView",
            "_dom_classes": [],
            "_model_name": "HBoxModel",
            "_view_module": "@jupyter-widgets/controls",
            "_model_module_version": "1.5.0",
            "_view_count": null,
            "_view_module_version": "1.5.0",
            "box_style": "",
            "layout": "IPY_MODEL_7c449f2ffbd44d648c41f5da741fe73e",
            "_model_module": "@jupyter-widgets/controls",
            "children": [
              "IPY_MODEL_a13d79ebc2cd4bb392fc0932d52abac2",
              "IPY_MODEL_a4f1848e801f4988b95699ecea5ff1a8"
            ]
          }
        },
        "7c449f2ffbd44d648c41f5da741fe73e": {
          "model_module": "@jupyter-widgets/base",
          "model_name": "LayoutModel",
          "state": {
            "_view_name": "LayoutView",
            "grid_template_rows": null,
            "right": null,
            "justify_content": null,
            "_view_module": "@jupyter-widgets/base",
            "overflow": null,
            "_model_module_version": "1.2.0",
            "_view_count": null,
            "flex_flow": null,
            "width": null,
            "min_width": null,
            "border": null,
            "align_items": null,
            "bottom": null,
            "_model_module": "@jupyter-widgets/base",
            "top": null,
            "grid_column": null,
            "overflow_y": null,
            "overflow_x": null,
            "grid_auto_flow": null,
            "grid_area": null,
            "grid_template_columns": null,
            "flex": null,
            "_model_name": "LayoutModel",
            "justify_items": null,
            "grid_row": null,
            "max_height": null,
            "align_content": null,
            "visibility": null,
            "align_self": null,
            "height": null,
            "min_height": null,
            "padding": null,
            "grid_auto_rows": null,
            "grid_gap": null,
            "max_width": null,
            "order": null,
            "_view_module_version": "1.2.0",
            "grid_template_areas": null,
            "object_position": null,
            "object_fit": null,
            "grid_auto_columns": null,
            "margin": null,
            "display": null,
            "left": null
          }
        },
        "a13d79ebc2cd4bb392fc0932d52abac2": {
          "model_module": "@jupyter-widgets/controls",
          "model_name": "FloatProgressModel",
          "state": {
            "_view_name": "ProgressView",
            "style": "IPY_MODEL_f97797d1ea784a3d91f40ca1b1ff77e2",
            "_dom_classes": [],
            "description": "100%",
            "_model_name": "FloatProgressModel",
            "bar_style": "success",
            "max": 50,
            "_view_module": "@jupyter-widgets/controls",
            "_model_module_version": "1.5.0",
            "value": 50,
            "_view_count": null,
            "_view_module_version": "1.5.0",
            "orientation": "horizontal",
            "min": 0,
            "description_tooltip": null,
            "_model_module": "@jupyter-widgets/controls",
            "layout": "IPY_MODEL_c78feaa2331e4c268542b7123692c05d"
          }
        },
        "a4f1848e801f4988b95699ecea5ff1a8": {
          "model_module": "@jupyter-widgets/controls",
          "model_name": "HTMLModel",
          "state": {
            "_view_name": "HTMLView",
            "style": "IPY_MODEL_3de9e0f1cb194c4bb4127ccf9e810a34",
            "_dom_classes": [],
            "description": "",
            "_model_name": "HTMLModel",
            "placeholder": "​",
            "_view_module": "@jupyter-widgets/controls",
            "_model_module_version": "1.5.0",
            "value": " 50/50 [00:01&lt;00:00, 44.20it/s]",
            "_view_count": null,
            "_view_module_version": "1.5.0",
            "description_tooltip": null,
            "_model_module": "@jupyter-widgets/controls",
            "layout": "IPY_MODEL_e59b907f02b14be990abc163cc04dadf"
          }
        },
        "f97797d1ea784a3d91f40ca1b1ff77e2": {
          "model_module": "@jupyter-widgets/controls",
          "model_name": "ProgressStyleModel",
          "state": {
            "_view_name": "StyleView",
            "_model_name": "ProgressStyleModel",
            "description_width": "initial",
            "_view_module": "@jupyter-widgets/base",
            "_model_module_version": "1.5.0",
            "_view_count": null,
            "_view_module_version": "1.2.0",
            "bar_color": null,
            "_model_module": "@jupyter-widgets/controls"
          }
        },
        "c78feaa2331e4c268542b7123692c05d": {
          "model_module": "@jupyter-widgets/base",
          "model_name": "LayoutModel",
          "state": {
            "_view_name": "LayoutView",
            "grid_template_rows": null,
            "right": null,
            "justify_content": null,
            "_view_module": "@jupyter-widgets/base",
            "overflow": null,
            "_model_module_version": "1.2.0",
            "_view_count": null,
            "flex_flow": null,
            "width": null,
            "min_width": null,
            "border": null,
            "align_items": null,
            "bottom": null,
            "_model_module": "@jupyter-widgets/base",
            "top": null,
            "grid_column": null,
            "overflow_y": null,
            "overflow_x": null,
            "grid_auto_flow": null,
            "grid_area": null,
            "grid_template_columns": null,
            "flex": null,
            "_model_name": "LayoutModel",
            "justify_items": null,
            "grid_row": null,
            "max_height": null,
            "align_content": null,
            "visibility": null,
            "align_self": null,
            "height": null,
            "min_height": null,
            "padding": null,
            "grid_auto_rows": null,
            "grid_gap": null,
            "max_width": null,
            "order": null,
            "_view_module_version": "1.2.0",
            "grid_template_areas": null,
            "object_position": null,
            "object_fit": null,
            "grid_auto_columns": null,
            "margin": null,
            "display": null,
            "left": null
          }
        },
        "3de9e0f1cb194c4bb4127ccf9e810a34": {
          "model_module": "@jupyter-widgets/controls",
          "model_name": "DescriptionStyleModel",
          "state": {
            "_view_name": "StyleView",
            "_model_name": "DescriptionStyleModel",
            "description_width": "",
            "_view_module": "@jupyter-widgets/base",
            "_model_module_version": "1.5.0",
            "_view_count": null,
            "_view_module_version": "1.2.0",
            "_model_module": "@jupyter-widgets/controls"
          }
        },
        "e59b907f02b14be990abc163cc04dadf": {
          "model_module": "@jupyter-widgets/base",
          "model_name": "LayoutModel",
          "state": {
            "_view_name": "LayoutView",
            "grid_template_rows": null,
            "right": null,
            "justify_content": null,
            "_view_module": "@jupyter-widgets/base",
            "overflow": null,
            "_model_module_version": "1.2.0",
            "_view_count": null,
            "flex_flow": null,
            "width": null,
            "min_width": null,
            "border": null,
            "align_items": null,
            "bottom": null,
            "_model_module": "@jupyter-widgets/base",
            "top": null,
            "grid_column": null,
            "overflow_y": null,
            "overflow_x": null,
            "grid_auto_flow": null,
            "grid_area": null,
            "grid_template_columns": null,
            "flex": null,
            "_model_name": "LayoutModel",
            "justify_items": null,
            "grid_row": null,
            "max_height": null,
            "align_content": null,
            "visibility": null,
            "align_self": null,
            "height": null,
            "min_height": null,
            "padding": null,
            "grid_auto_rows": null,
            "grid_gap": null,
            "max_width": null,
            "order": null,
            "_view_module_version": "1.2.0",
            "grid_template_areas": null,
            "object_position": null,
            "object_fit": null,
            "grid_auto_columns": null,
            "margin": null,
            "display": null,
            "left": null
          }
        },
        "5fde5ea3b458449ca17314e15ebb3786": {
          "model_module": "@jupyter-widgets/controls",
          "model_name": "HBoxModel",
          "state": {
            "_view_name": "HBoxView",
            "_dom_classes": [],
            "_model_name": "HBoxModel",
            "_view_module": "@jupyter-widgets/controls",
            "_model_module_version": "1.5.0",
            "_view_count": null,
            "_view_module_version": "1.5.0",
            "box_style": "",
            "layout": "IPY_MODEL_7d804482b7ad493da9c057b5dd91e840",
            "_model_module": "@jupyter-widgets/controls",
            "children": [
              "IPY_MODEL_a680c65ee37b47549d4643e62333eafa",
              "IPY_MODEL_44ae1fb0fa6246acb0b4fcfaa6e434dc"
            ]
          }
        },
        "7d804482b7ad493da9c057b5dd91e840": {
          "model_module": "@jupyter-widgets/base",
          "model_name": "LayoutModel",
          "state": {
            "_view_name": "LayoutView",
            "grid_template_rows": null,
            "right": null,
            "justify_content": null,
            "_view_module": "@jupyter-widgets/base",
            "overflow": null,
            "_model_module_version": "1.2.0",
            "_view_count": null,
            "flex_flow": null,
            "width": null,
            "min_width": null,
            "border": null,
            "align_items": null,
            "bottom": null,
            "_model_module": "@jupyter-widgets/base",
            "top": null,
            "grid_column": null,
            "overflow_y": null,
            "overflow_x": null,
            "grid_auto_flow": null,
            "grid_area": null,
            "grid_template_columns": null,
            "flex": null,
            "_model_name": "LayoutModel",
            "justify_items": null,
            "grid_row": null,
            "max_height": null,
            "align_content": null,
            "visibility": null,
            "align_self": null,
            "height": null,
            "min_height": null,
            "padding": null,
            "grid_auto_rows": null,
            "grid_gap": null,
            "max_width": null,
            "order": null,
            "_view_module_version": "1.2.0",
            "grid_template_areas": null,
            "object_position": null,
            "object_fit": null,
            "grid_auto_columns": null,
            "margin": null,
            "display": null,
            "left": null
          }
        },
        "a680c65ee37b47549d4643e62333eafa": {
          "model_module": "@jupyter-widgets/controls",
          "model_name": "FloatProgressModel",
          "state": {
            "_view_name": "ProgressView",
            "style": "IPY_MODEL_ad8f81d2cee348fe8f910070d32115c1",
            "_dom_classes": [],
            "description": "100%",
            "_model_name": "FloatProgressModel",
            "bar_style": "success",
            "max": 50,
            "_view_module": "@jupyter-widgets/controls",
            "_model_module_version": "1.5.0",
            "value": 50,
            "_view_count": null,
            "_view_module_version": "1.5.0",
            "orientation": "horizontal",
            "min": 0,
            "description_tooltip": null,
            "_model_module": "@jupyter-widgets/controls",
            "layout": "IPY_MODEL_9e0ce3ad064b44b5ba0355f3a7ecb8b3"
          }
        },
        "44ae1fb0fa6246acb0b4fcfaa6e434dc": {
          "model_module": "@jupyter-widgets/controls",
          "model_name": "HTMLModel",
          "state": {
            "_view_name": "HTMLView",
            "style": "IPY_MODEL_d3e2cc5f095d4ae784dc71dcd57a74b2",
            "_dom_classes": [],
            "description": "",
            "_model_name": "HTMLModel",
            "placeholder": "​",
            "_view_module": "@jupyter-widgets/controls",
            "_model_module_version": "1.5.0",
            "value": " 50/50 [00:10&lt;00:00,  4.76it/s]",
            "_view_count": null,
            "_view_module_version": "1.5.0",
            "description_tooltip": null,
            "_model_module": "@jupyter-widgets/controls",
            "layout": "IPY_MODEL_6568e370b7d34d20a1adeab50854f220"
          }
        },
        "ad8f81d2cee348fe8f910070d32115c1": {
          "model_module": "@jupyter-widgets/controls",
          "model_name": "ProgressStyleModel",
          "state": {
            "_view_name": "StyleView",
            "_model_name": "ProgressStyleModel",
            "description_width": "initial",
            "_view_module": "@jupyter-widgets/base",
            "_model_module_version": "1.5.0",
            "_view_count": null,
            "_view_module_version": "1.2.0",
            "bar_color": null,
            "_model_module": "@jupyter-widgets/controls"
          }
        },
        "9e0ce3ad064b44b5ba0355f3a7ecb8b3": {
          "model_module": "@jupyter-widgets/base",
          "model_name": "LayoutModel",
          "state": {
            "_view_name": "LayoutView",
            "grid_template_rows": null,
            "right": null,
            "justify_content": null,
            "_view_module": "@jupyter-widgets/base",
            "overflow": null,
            "_model_module_version": "1.2.0",
            "_view_count": null,
            "flex_flow": null,
            "width": null,
            "min_width": null,
            "border": null,
            "align_items": null,
            "bottom": null,
            "_model_module": "@jupyter-widgets/base",
            "top": null,
            "grid_column": null,
            "overflow_y": null,
            "overflow_x": null,
            "grid_auto_flow": null,
            "grid_area": null,
            "grid_template_columns": null,
            "flex": null,
            "_model_name": "LayoutModel",
            "justify_items": null,
            "grid_row": null,
            "max_height": null,
            "align_content": null,
            "visibility": null,
            "align_self": null,
            "height": null,
            "min_height": null,
            "padding": null,
            "grid_auto_rows": null,
            "grid_gap": null,
            "max_width": null,
            "order": null,
            "_view_module_version": "1.2.0",
            "grid_template_areas": null,
            "object_position": null,
            "object_fit": null,
            "grid_auto_columns": null,
            "margin": null,
            "display": null,
            "left": null
          }
        },
        "d3e2cc5f095d4ae784dc71dcd57a74b2": {
          "model_module": "@jupyter-widgets/controls",
          "model_name": "DescriptionStyleModel",
          "state": {
            "_view_name": "StyleView",
            "_model_name": "DescriptionStyleModel",
            "description_width": "",
            "_view_module": "@jupyter-widgets/base",
            "_model_module_version": "1.5.0",
            "_view_count": null,
            "_view_module_version": "1.2.0",
            "_model_module": "@jupyter-widgets/controls"
          }
        },
        "6568e370b7d34d20a1adeab50854f220": {
          "model_module": "@jupyter-widgets/base",
          "model_name": "LayoutModel",
          "state": {
            "_view_name": "LayoutView",
            "grid_template_rows": null,
            "right": null,
            "justify_content": null,
            "_view_module": "@jupyter-widgets/base",
            "overflow": null,
            "_model_module_version": "1.2.0",
            "_view_count": null,
            "flex_flow": null,
            "width": null,
            "min_width": null,
            "border": null,
            "align_items": null,
            "bottom": null,
            "_model_module": "@jupyter-widgets/base",
            "top": null,
            "grid_column": null,
            "overflow_y": null,
            "overflow_x": null,
            "grid_auto_flow": null,
            "grid_area": null,
            "grid_template_columns": null,
            "flex": null,
            "_model_name": "LayoutModel",
            "justify_items": null,
            "grid_row": null,
            "max_height": null,
            "align_content": null,
            "visibility": null,
            "align_self": null,
            "height": null,
            "min_height": null,
            "padding": null,
            "grid_auto_rows": null,
            "grid_gap": null,
            "max_width": null,
            "order": null,
            "_view_module_version": "1.2.0",
            "grid_template_areas": null,
            "object_position": null,
            "object_fit": null,
            "grid_auto_columns": null,
            "margin": null,
            "display": null,
            "left": null
          }
        },
        "25819d9910104f8192463409a3489dca": {
          "model_module": "@jupyter-widgets/controls",
          "model_name": "HBoxModel",
          "state": {
            "_view_name": "HBoxView",
            "_dom_classes": [],
            "_model_name": "HBoxModel",
            "_view_module": "@jupyter-widgets/controls",
            "_model_module_version": "1.5.0",
            "_view_count": null,
            "_view_module_version": "1.5.0",
            "box_style": "",
            "layout": "IPY_MODEL_e43e596000604c7ea86d285c42c52c20",
            "_model_module": "@jupyter-widgets/controls",
            "children": [
              "IPY_MODEL_cc29d792ba234fa7a5019f7e6823be89",
              "IPY_MODEL_03e4e89e2d9546f1a9b613937a136b10"
            ]
          }
        },
        "e43e596000604c7ea86d285c42c52c20": {
          "model_module": "@jupyter-widgets/base",
          "model_name": "LayoutModel",
          "state": {
            "_view_name": "LayoutView",
            "grid_template_rows": null,
            "right": null,
            "justify_content": null,
            "_view_module": "@jupyter-widgets/base",
            "overflow": null,
            "_model_module_version": "1.2.0",
            "_view_count": null,
            "flex_flow": null,
            "width": null,
            "min_width": null,
            "border": null,
            "align_items": null,
            "bottom": null,
            "_model_module": "@jupyter-widgets/base",
            "top": null,
            "grid_column": null,
            "overflow_y": null,
            "overflow_x": null,
            "grid_auto_flow": null,
            "grid_area": null,
            "grid_template_columns": null,
            "flex": null,
            "_model_name": "LayoutModel",
            "justify_items": null,
            "grid_row": null,
            "max_height": null,
            "align_content": null,
            "visibility": null,
            "align_self": null,
            "height": null,
            "min_height": null,
            "padding": null,
            "grid_auto_rows": null,
            "grid_gap": null,
            "max_width": null,
            "order": null,
            "_view_module_version": "1.2.0",
            "grid_template_areas": null,
            "object_position": null,
            "object_fit": null,
            "grid_auto_columns": null,
            "margin": null,
            "display": null,
            "left": null
          }
        },
        "cc29d792ba234fa7a5019f7e6823be89": {
          "model_module": "@jupyter-widgets/controls",
          "model_name": "FloatProgressModel",
          "state": {
            "_view_name": "ProgressView",
            "style": "IPY_MODEL_092e145b71314fadb5752e0a193b357f",
            "_dom_classes": [],
            "description": "100%",
            "_model_name": "FloatProgressModel",
            "bar_style": "success",
            "max": 50,
            "_view_module": "@jupyter-widgets/controls",
            "_model_module_version": "1.5.0",
            "value": 50,
            "_view_count": null,
            "_view_module_version": "1.5.0",
            "orientation": "horizontal",
            "min": 0,
            "description_tooltip": null,
            "_model_module": "@jupyter-widgets/controls",
            "layout": "IPY_MODEL_491e6823821140e990310c7bd8e2a767"
          }
        },
        "03e4e89e2d9546f1a9b613937a136b10": {
          "model_module": "@jupyter-widgets/controls",
          "model_name": "HTMLModel",
          "state": {
            "_view_name": "HTMLView",
            "style": "IPY_MODEL_dffeb05582d84471a4025a9e27887987",
            "_dom_classes": [],
            "description": "",
            "_model_name": "HTMLModel",
            "placeholder": "​",
            "_view_module": "@jupyter-widgets/controls",
            "_model_module_version": "1.5.0",
            "value": " 50/50 [00:01&lt;00:00, 35.07it/s, correct=99.81%, skipped=1.19%]",
            "_view_count": null,
            "_view_module_version": "1.5.0",
            "description_tooltip": null,
            "_model_module": "@jupyter-widgets/controls",
            "layout": "IPY_MODEL_f98a03c6d2df4cf7b099c237fb29b893"
          }
        },
        "092e145b71314fadb5752e0a193b357f": {
          "model_module": "@jupyter-widgets/controls",
          "model_name": "ProgressStyleModel",
          "state": {
            "_view_name": "StyleView",
            "_model_name": "ProgressStyleModel",
            "description_width": "initial",
            "_view_module": "@jupyter-widgets/base",
            "_model_module_version": "1.5.0",
            "_view_count": null,
            "_view_module_version": "1.2.0",
            "bar_color": null,
            "_model_module": "@jupyter-widgets/controls"
          }
        },
        "491e6823821140e990310c7bd8e2a767": {
          "model_module": "@jupyter-widgets/base",
          "model_name": "LayoutModel",
          "state": {
            "_view_name": "LayoutView",
            "grid_template_rows": null,
            "right": null,
            "justify_content": null,
            "_view_module": "@jupyter-widgets/base",
            "overflow": null,
            "_model_module_version": "1.2.0",
            "_view_count": null,
            "flex_flow": null,
            "width": null,
            "min_width": null,
            "border": null,
            "align_items": null,
            "bottom": null,
            "_model_module": "@jupyter-widgets/base",
            "top": null,
            "grid_column": null,
            "overflow_y": null,
            "overflow_x": null,
            "grid_auto_flow": null,
            "grid_area": null,
            "grid_template_columns": null,
            "flex": null,
            "_model_name": "LayoutModel",
            "justify_items": null,
            "grid_row": null,
            "max_height": null,
            "align_content": null,
            "visibility": null,
            "align_self": null,
            "height": null,
            "min_height": null,
            "padding": null,
            "grid_auto_rows": null,
            "grid_gap": null,
            "max_width": null,
            "order": null,
            "_view_module_version": "1.2.0",
            "grid_template_areas": null,
            "object_position": null,
            "object_fit": null,
            "grid_auto_columns": null,
            "margin": null,
            "display": null,
            "left": null
          }
        },
        "dffeb05582d84471a4025a9e27887987": {
          "model_module": "@jupyter-widgets/controls",
          "model_name": "DescriptionStyleModel",
          "state": {
            "_view_name": "StyleView",
            "_model_name": "DescriptionStyleModel",
            "description_width": "",
            "_view_module": "@jupyter-widgets/base",
            "_model_module_version": "1.5.0",
            "_view_count": null,
            "_view_module_version": "1.2.0",
            "_model_module": "@jupyter-widgets/controls"
          }
        },
        "f98a03c6d2df4cf7b099c237fb29b893": {
          "model_module": "@jupyter-widgets/base",
          "model_name": "LayoutModel",
          "state": {
            "_view_name": "LayoutView",
            "grid_template_rows": null,
            "right": null,
            "justify_content": null,
            "_view_module": "@jupyter-widgets/base",
            "overflow": null,
            "_model_module_version": "1.2.0",
            "_view_count": null,
            "flex_flow": null,
            "width": null,
            "min_width": null,
            "border": null,
            "align_items": null,
            "bottom": null,
            "_model_module": "@jupyter-widgets/base",
            "top": null,
            "grid_column": null,
            "overflow_y": null,
            "overflow_x": null,
            "grid_auto_flow": null,
            "grid_area": null,
            "grid_template_columns": null,
            "flex": null,
            "_model_name": "LayoutModel",
            "justify_items": null,
            "grid_row": null,
            "max_height": null,
            "align_content": null,
            "visibility": null,
            "align_self": null,
            "height": null,
            "min_height": null,
            "padding": null,
            "grid_auto_rows": null,
            "grid_gap": null,
            "max_width": null,
            "order": null,
            "_view_module_version": "1.2.0",
            "grid_template_areas": null,
            "object_position": null,
            "object_fit": null,
            "grid_auto_columns": null,
            "margin": null,
            "display": null,
            "left": null
          }
        },
        "5f7e3cb6acd84f28ba37020dc0919ef2": {
          "model_module": "@jupyter-widgets/controls",
          "model_name": "HBoxModel",
          "state": {
            "_view_name": "HBoxView",
            "_dom_classes": [],
            "_model_name": "HBoxModel",
            "_view_module": "@jupyter-widgets/controls",
            "_model_module_version": "1.5.0",
            "_view_count": null,
            "_view_module_version": "1.5.0",
            "box_style": "",
            "layout": "IPY_MODEL_71ba6b2e4f5a47b382a71b917a9454dd",
            "_model_module": "@jupyter-widgets/controls",
            "children": [
              "IPY_MODEL_3a8b1108510e4d2aa6a08ea0c0335aed",
              "IPY_MODEL_4370bbaceef046c98823500c69d9fae9"
            ]
          }
        },
        "71ba6b2e4f5a47b382a71b917a9454dd": {
          "model_module": "@jupyter-widgets/base",
          "model_name": "LayoutModel",
          "state": {
            "_view_name": "LayoutView",
            "grid_template_rows": null,
            "right": null,
            "justify_content": null,
            "_view_module": "@jupyter-widgets/base",
            "overflow": null,
            "_model_module_version": "1.2.0",
            "_view_count": null,
            "flex_flow": null,
            "width": null,
            "min_width": null,
            "border": null,
            "align_items": null,
            "bottom": null,
            "_model_module": "@jupyter-widgets/base",
            "top": null,
            "grid_column": null,
            "overflow_y": null,
            "overflow_x": null,
            "grid_auto_flow": null,
            "grid_area": null,
            "grid_template_columns": null,
            "flex": null,
            "_model_name": "LayoutModel",
            "justify_items": null,
            "grid_row": null,
            "max_height": null,
            "align_content": null,
            "visibility": null,
            "align_self": null,
            "height": null,
            "min_height": null,
            "padding": null,
            "grid_auto_rows": null,
            "grid_gap": null,
            "max_width": null,
            "order": null,
            "_view_module_version": "1.2.0",
            "grid_template_areas": null,
            "object_position": null,
            "object_fit": null,
            "grid_auto_columns": null,
            "margin": null,
            "display": null,
            "left": null
          }
        },
        "3a8b1108510e4d2aa6a08ea0c0335aed": {
          "model_module": "@jupyter-widgets/controls",
          "model_name": "FloatProgressModel",
          "state": {
            "_view_name": "ProgressView",
            "style": "IPY_MODEL_0fc526efacab49b4bf2a400a3dae5d44",
            "_dom_classes": [],
            "description": "100%",
            "_model_name": "FloatProgressModel",
            "bar_style": "success",
            "max": 50,
            "_view_module": "@jupyter-widgets/controls",
            "_model_module_version": "1.5.0",
            "value": 50,
            "_view_count": null,
            "_view_module_version": "1.5.0",
            "orientation": "horizontal",
            "min": 0,
            "description_tooltip": null,
            "_model_module": "@jupyter-widgets/controls",
            "layout": "IPY_MODEL_49a504211b2f4671922e1e049afa7d86"
          }
        },
        "4370bbaceef046c98823500c69d9fae9": {
          "model_module": "@jupyter-widgets/controls",
          "model_name": "HTMLModel",
          "state": {
            "_view_name": "HTMLView",
            "style": "IPY_MODEL_abd6b38e575e44dd9926a6179f9f250d",
            "_dom_classes": [],
            "description": "",
            "_model_name": "HTMLModel",
            "placeholder": "​",
            "_view_module": "@jupyter-widgets/controls",
            "_model_module_version": "1.5.0",
            "value": " 50/50 [00:00&lt;00:00, 50.95it/s]",
            "_view_count": null,
            "_view_module_version": "1.5.0",
            "description_tooltip": null,
            "_model_module": "@jupyter-widgets/controls",
            "layout": "IPY_MODEL_ebfc4063caa041cfba3cfcaa50006203"
          }
        },
        "0fc526efacab49b4bf2a400a3dae5d44": {
          "model_module": "@jupyter-widgets/controls",
          "model_name": "ProgressStyleModel",
          "state": {
            "_view_name": "StyleView",
            "_model_name": "ProgressStyleModel",
            "description_width": "initial",
            "_view_module": "@jupyter-widgets/base",
            "_model_module_version": "1.5.0",
            "_view_count": null,
            "_view_module_version": "1.2.0",
            "bar_color": null,
            "_model_module": "@jupyter-widgets/controls"
          }
        },
        "49a504211b2f4671922e1e049afa7d86": {
          "model_module": "@jupyter-widgets/base",
          "model_name": "LayoutModel",
          "state": {
            "_view_name": "LayoutView",
            "grid_template_rows": null,
            "right": null,
            "justify_content": null,
            "_view_module": "@jupyter-widgets/base",
            "overflow": null,
            "_model_module_version": "1.2.0",
            "_view_count": null,
            "flex_flow": null,
            "width": null,
            "min_width": null,
            "border": null,
            "align_items": null,
            "bottom": null,
            "_model_module": "@jupyter-widgets/base",
            "top": null,
            "grid_column": null,
            "overflow_y": null,
            "overflow_x": null,
            "grid_auto_flow": null,
            "grid_area": null,
            "grid_template_columns": null,
            "flex": null,
            "_model_name": "LayoutModel",
            "justify_items": null,
            "grid_row": null,
            "max_height": null,
            "align_content": null,
            "visibility": null,
            "align_self": null,
            "height": null,
            "min_height": null,
            "padding": null,
            "grid_auto_rows": null,
            "grid_gap": null,
            "max_width": null,
            "order": null,
            "_view_module_version": "1.2.0",
            "grid_template_areas": null,
            "object_position": null,
            "object_fit": null,
            "grid_auto_columns": null,
            "margin": null,
            "display": null,
            "left": null
          }
        },
        "abd6b38e575e44dd9926a6179f9f250d": {
          "model_module": "@jupyter-widgets/controls",
          "model_name": "DescriptionStyleModel",
          "state": {
            "_view_name": "StyleView",
            "_model_name": "DescriptionStyleModel",
            "description_width": "",
            "_view_module": "@jupyter-widgets/base",
            "_model_module_version": "1.5.0",
            "_view_count": null,
            "_view_module_version": "1.2.0",
            "_model_module": "@jupyter-widgets/controls"
          }
        },
        "ebfc4063caa041cfba3cfcaa50006203": {
          "model_module": "@jupyter-widgets/base",
          "model_name": "LayoutModel",
          "state": {
            "_view_name": "LayoutView",
            "grid_template_rows": null,
            "right": null,
            "justify_content": null,
            "_view_module": "@jupyter-widgets/base",
            "overflow": null,
            "_model_module_version": "1.2.0",
            "_view_count": null,
            "flex_flow": null,
            "width": null,
            "min_width": null,
            "border": null,
            "align_items": null,
            "bottom": null,
            "_model_module": "@jupyter-widgets/base",
            "top": null,
            "grid_column": null,
            "overflow_y": null,
            "overflow_x": null,
            "grid_auto_flow": null,
            "grid_area": null,
            "grid_template_columns": null,
            "flex": null,
            "_model_name": "LayoutModel",
            "justify_items": null,
            "grid_row": null,
            "max_height": null,
            "align_content": null,
            "visibility": null,
            "align_self": null,
            "height": null,
            "min_height": null,
            "padding": null,
            "grid_auto_rows": null,
            "grid_gap": null,
            "max_width": null,
            "order": null,
            "_view_module_version": "1.2.0",
            "grid_template_areas": null,
            "object_position": null,
            "object_fit": null,
            "grid_auto_columns": null,
            "margin": null,
            "display": null,
            "left": null
          }
        },
        "83649bdcd45841cda3b0c6d5fc992419": {
          "model_module": "@jupyter-widgets/controls",
          "model_name": "HBoxModel",
          "state": {
            "_view_name": "HBoxView",
            "_dom_classes": [],
            "_model_name": "HBoxModel",
            "_view_module": "@jupyter-widgets/controls",
            "_model_module_version": "1.5.0",
            "_view_count": null,
            "_view_module_version": "1.5.0",
            "box_style": "",
            "layout": "IPY_MODEL_9a35303e6ad74431bc3f666c63356c74",
            "_model_module": "@jupyter-widgets/controls",
            "children": [
              "IPY_MODEL_85356880224d42adaeb85e822b7ea02f",
              "IPY_MODEL_deea80214bb94fd29c251b3df55116c9"
            ]
          }
        },
        "9a35303e6ad74431bc3f666c63356c74": {
          "model_module": "@jupyter-widgets/base",
          "model_name": "LayoutModel",
          "state": {
            "_view_name": "LayoutView",
            "grid_template_rows": null,
            "right": null,
            "justify_content": null,
            "_view_module": "@jupyter-widgets/base",
            "overflow": null,
            "_model_module_version": "1.2.0",
            "_view_count": null,
            "flex_flow": null,
            "width": null,
            "min_width": null,
            "border": null,
            "align_items": null,
            "bottom": null,
            "_model_module": "@jupyter-widgets/base",
            "top": null,
            "grid_column": null,
            "overflow_y": null,
            "overflow_x": null,
            "grid_auto_flow": null,
            "grid_area": null,
            "grid_template_columns": null,
            "flex": null,
            "_model_name": "LayoutModel",
            "justify_items": null,
            "grid_row": null,
            "max_height": null,
            "align_content": null,
            "visibility": null,
            "align_self": null,
            "height": null,
            "min_height": null,
            "padding": null,
            "grid_auto_rows": null,
            "grid_gap": null,
            "max_width": null,
            "order": null,
            "_view_module_version": "1.2.0",
            "grid_template_areas": null,
            "object_position": null,
            "object_fit": null,
            "grid_auto_columns": null,
            "margin": null,
            "display": null,
            "left": null
          }
        },
        "85356880224d42adaeb85e822b7ea02f": {
          "model_module": "@jupyter-widgets/controls",
          "model_name": "FloatProgressModel",
          "state": {
            "_view_name": "ProgressView",
            "style": "IPY_MODEL_4f4055b9634f41ffa44026419abefe13",
            "_dom_classes": [],
            "description": "100%",
            "_model_name": "FloatProgressModel",
            "bar_style": "success",
            "max": 50,
            "_view_module": "@jupyter-widgets/controls",
            "_model_module_version": "1.5.0",
            "value": 50,
            "_view_count": null,
            "_view_module_version": "1.5.0",
            "orientation": "horizontal",
            "min": 0,
            "description_tooltip": null,
            "_model_module": "@jupyter-widgets/controls",
            "layout": "IPY_MODEL_cc4723fec6d04eeb9239332ca2aefdb9"
          }
        },
        "deea80214bb94fd29c251b3df55116c9": {
          "model_module": "@jupyter-widgets/controls",
          "model_name": "HTMLModel",
          "state": {
            "_view_name": "HTMLView",
            "style": "IPY_MODEL_0ca8e0c280e147798915f6eeca2edfd9",
            "_dom_classes": [],
            "description": "",
            "_model_name": "HTMLModel",
            "placeholder": "​",
            "_view_module": "@jupyter-widgets/controls",
            "_model_module_version": "1.5.0",
            "value": " 50/50 [00:21&lt;00:00,  2.31it/s]",
            "_view_count": null,
            "_view_module_version": "1.5.0",
            "description_tooltip": null,
            "_model_module": "@jupyter-widgets/controls",
            "layout": "IPY_MODEL_6f547b89a833417d8beb3222f357bf96"
          }
        },
        "4f4055b9634f41ffa44026419abefe13": {
          "model_module": "@jupyter-widgets/controls",
          "model_name": "ProgressStyleModel",
          "state": {
            "_view_name": "StyleView",
            "_model_name": "ProgressStyleModel",
            "description_width": "initial",
            "_view_module": "@jupyter-widgets/base",
            "_model_module_version": "1.5.0",
            "_view_count": null,
            "_view_module_version": "1.2.0",
            "bar_color": null,
            "_model_module": "@jupyter-widgets/controls"
          }
        },
        "cc4723fec6d04eeb9239332ca2aefdb9": {
          "model_module": "@jupyter-widgets/base",
          "model_name": "LayoutModel",
          "state": {
            "_view_name": "LayoutView",
            "grid_template_rows": null,
            "right": null,
            "justify_content": null,
            "_view_module": "@jupyter-widgets/base",
            "overflow": null,
            "_model_module_version": "1.2.0",
            "_view_count": null,
            "flex_flow": null,
            "width": null,
            "min_width": null,
            "border": null,
            "align_items": null,
            "bottom": null,
            "_model_module": "@jupyter-widgets/base",
            "top": null,
            "grid_column": null,
            "overflow_y": null,
            "overflow_x": null,
            "grid_auto_flow": null,
            "grid_area": null,
            "grid_template_columns": null,
            "flex": null,
            "_model_name": "LayoutModel",
            "justify_items": null,
            "grid_row": null,
            "max_height": null,
            "align_content": null,
            "visibility": null,
            "align_self": null,
            "height": null,
            "min_height": null,
            "padding": null,
            "grid_auto_rows": null,
            "grid_gap": null,
            "max_width": null,
            "order": null,
            "_view_module_version": "1.2.0",
            "grid_template_areas": null,
            "object_position": null,
            "object_fit": null,
            "grid_auto_columns": null,
            "margin": null,
            "display": null,
            "left": null
          }
        },
        "0ca8e0c280e147798915f6eeca2edfd9": {
          "model_module": "@jupyter-widgets/controls",
          "model_name": "DescriptionStyleModel",
          "state": {
            "_view_name": "StyleView",
            "_model_name": "DescriptionStyleModel",
            "description_width": "",
            "_view_module": "@jupyter-widgets/base",
            "_model_module_version": "1.5.0",
            "_view_count": null,
            "_view_module_version": "1.2.0",
            "_model_module": "@jupyter-widgets/controls"
          }
        },
        "6f547b89a833417d8beb3222f357bf96": {
          "model_module": "@jupyter-widgets/base",
          "model_name": "LayoutModel",
          "state": {
            "_view_name": "LayoutView",
            "grid_template_rows": null,
            "right": null,
            "justify_content": null,
            "_view_module": "@jupyter-widgets/base",
            "overflow": null,
            "_model_module_version": "1.2.0",
            "_view_count": null,
            "flex_flow": null,
            "width": null,
            "min_width": null,
            "border": null,
            "align_items": null,
            "bottom": null,
            "_model_module": "@jupyter-widgets/base",
            "top": null,
            "grid_column": null,
            "overflow_y": null,
            "overflow_x": null,
            "grid_auto_flow": null,
            "grid_area": null,
            "grid_template_columns": null,
            "flex": null,
            "_model_name": "LayoutModel",
            "justify_items": null,
            "grid_row": null,
            "max_height": null,
            "align_content": null,
            "visibility": null,
            "align_self": null,
            "height": null,
            "min_height": null,
            "padding": null,
            "grid_auto_rows": null,
            "grid_gap": null,
            "max_width": null,
            "order": null,
            "_view_module_version": "1.2.0",
            "grid_template_areas": null,
            "object_position": null,
            "object_fit": null,
            "grid_auto_columns": null,
            "margin": null,
            "display": null,
            "left": null
          }
        },
        "da1ce9feab4848d0a2556e1a07d63df9": {
          "model_module": "@jupyter-widgets/controls",
          "model_name": "HBoxModel",
          "state": {
            "_view_name": "HBoxView",
            "_dom_classes": [],
            "_model_name": "HBoxModel",
            "_view_module": "@jupyter-widgets/controls",
            "_model_module_version": "1.5.0",
            "_view_count": null,
            "_view_module_version": "1.5.0",
            "box_style": "",
            "layout": "IPY_MODEL_6441100a30f44d05a2baf12a76bc77a0",
            "_model_module": "@jupyter-widgets/controls",
            "children": [
              "IPY_MODEL_19d253324c9041a5af68a469da658258",
              "IPY_MODEL_d2aae4cf4a6649e49c9a15d140ba264a"
            ]
          }
        },
        "6441100a30f44d05a2baf12a76bc77a0": {
          "model_module": "@jupyter-widgets/base",
          "model_name": "LayoutModel",
          "state": {
            "_view_name": "LayoutView",
            "grid_template_rows": null,
            "right": null,
            "justify_content": null,
            "_view_module": "@jupyter-widgets/base",
            "overflow": null,
            "_model_module_version": "1.2.0",
            "_view_count": null,
            "flex_flow": null,
            "width": null,
            "min_width": null,
            "border": null,
            "align_items": null,
            "bottom": null,
            "_model_module": "@jupyter-widgets/base",
            "top": null,
            "grid_column": null,
            "overflow_y": null,
            "overflow_x": null,
            "grid_auto_flow": null,
            "grid_area": null,
            "grid_template_columns": null,
            "flex": null,
            "_model_name": "LayoutModel",
            "justify_items": null,
            "grid_row": null,
            "max_height": null,
            "align_content": null,
            "visibility": null,
            "align_self": null,
            "height": null,
            "min_height": null,
            "padding": null,
            "grid_auto_rows": null,
            "grid_gap": null,
            "max_width": null,
            "order": null,
            "_view_module_version": "1.2.0",
            "grid_template_areas": null,
            "object_position": null,
            "object_fit": null,
            "grid_auto_columns": null,
            "margin": null,
            "display": null,
            "left": null
          }
        },
        "19d253324c9041a5af68a469da658258": {
          "model_module": "@jupyter-widgets/controls",
          "model_name": "FloatProgressModel",
          "state": {
            "_view_name": "ProgressView",
            "style": "IPY_MODEL_6f566ca6011a4277a1a08ab6ae985a44",
            "_dom_classes": [],
            "description": "100%",
            "_model_name": "FloatProgressModel",
            "bar_style": "success",
            "max": 50,
            "_view_module": "@jupyter-widgets/controls",
            "_model_module_version": "1.5.0",
            "value": 50,
            "_view_count": null,
            "_view_module_version": "1.5.0",
            "orientation": "horizontal",
            "min": 0,
            "description_tooltip": null,
            "_model_module": "@jupyter-widgets/controls",
            "layout": "IPY_MODEL_921638342d5b4a0c9a08a8e5aec2fd3e"
          }
        },
        "d2aae4cf4a6649e49c9a15d140ba264a": {
          "model_module": "@jupyter-widgets/controls",
          "model_name": "HTMLModel",
          "state": {
            "_view_name": "HTMLView",
            "style": "IPY_MODEL_ab67cbd9a28647f0a0364abea482be87",
            "_dom_classes": [],
            "description": "",
            "_model_name": "HTMLModel",
            "placeholder": "​",
            "_view_module": "@jupyter-widgets/controls",
            "_model_module_version": "1.5.0",
            "value": " 50/50 [00:12&lt;00:00,  3.91it/s, correct=99.45%, skipped=1.44%]",
            "_view_count": null,
            "_view_module_version": "1.5.0",
            "description_tooltip": null,
            "_model_module": "@jupyter-widgets/controls",
            "layout": "IPY_MODEL_8f1a0ddbae094330b838679ecc621445"
          }
        },
        "6f566ca6011a4277a1a08ab6ae985a44": {
          "model_module": "@jupyter-widgets/controls",
          "model_name": "ProgressStyleModel",
          "state": {
            "_view_name": "StyleView",
            "_model_name": "ProgressStyleModel",
            "description_width": "initial",
            "_view_module": "@jupyter-widgets/base",
            "_model_module_version": "1.5.0",
            "_view_count": null,
            "_view_module_version": "1.2.0",
            "bar_color": null,
            "_model_module": "@jupyter-widgets/controls"
          }
        },
        "921638342d5b4a0c9a08a8e5aec2fd3e": {
          "model_module": "@jupyter-widgets/base",
          "model_name": "LayoutModel",
          "state": {
            "_view_name": "LayoutView",
            "grid_template_rows": null,
            "right": null,
            "justify_content": null,
            "_view_module": "@jupyter-widgets/base",
            "overflow": null,
            "_model_module_version": "1.2.0",
            "_view_count": null,
            "flex_flow": null,
            "width": null,
            "min_width": null,
            "border": null,
            "align_items": null,
            "bottom": null,
            "_model_module": "@jupyter-widgets/base",
            "top": null,
            "grid_column": null,
            "overflow_y": null,
            "overflow_x": null,
            "grid_auto_flow": null,
            "grid_area": null,
            "grid_template_columns": null,
            "flex": null,
            "_model_name": "LayoutModel",
            "justify_items": null,
            "grid_row": null,
            "max_height": null,
            "align_content": null,
            "visibility": null,
            "align_self": null,
            "height": null,
            "min_height": null,
            "padding": null,
            "grid_auto_rows": null,
            "grid_gap": null,
            "max_width": null,
            "order": null,
            "_view_module_version": "1.2.0",
            "grid_template_areas": null,
            "object_position": null,
            "object_fit": null,
            "grid_auto_columns": null,
            "margin": null,
            "display": null,
            "left": null
          }
        },
        "ab67cbd9a28647f0a0364abea482be87": {
          "model_module": "@jupyter-widgets/controls",
          "model_name": "DescriptionStyleModel",
          "state": {
            "_view_name": "StyleView",
            "_model_name": "DescriptionStyleModel",
            "description_width": "",
            "_view_module": "@jupyter-widgets/base",
            "_model_module_version": "1.5.0",
            "_view_count": null,
            "_view_module_version": "1.2.0",
            "_model_module": "@jupyter-widgets/controls"
          }
        },
        "8f1a0ddbae094330b838679ecc621445": {
          "model_module": "@jupyter-widgets/base",
          "model_name": "LayoutModel",
          "state": {
            "_view_name": "LayoutView",
            "grid_template_rows": null,
            "right": null,
            "justify_content": null,
            "_view_module": "@jupyter-widgets/base",
            "overflow": null,
            "_model_module_version": "1.2.0",
            "_view_count": null,
            "flex_flow": null,
            "width": null,
            "min_width": null,
            "border": null,
            "align_items": null,
            "bottom": null,
            "_model_module": "@jupyter-widgets/base",
            "top": null,
            "grid_column": null,
            "overflow_y": null,
            "overflow_x": null,
            "grid_auto_flow": null,
            "grid_area": null,
            "grid_template_columns": null,
            "flex": null,
            "_model_name": "LayoutModel",
            "justify_items": null,
            "grid_row": null,
            "max_height": null,
            "align_content": null,
            "visibility": null,
            "align_self": null,
            "height": null,
            "min_height": null,
            "padding": null,
            "grid_auto_rows": null,
            "grid_gap": null,
            "max_width": null,
            "order": null,
            "_view_module_version": "1.2.0",
            "grid_template_areas": null,
            "object_position": null,
            "object_fit": null,
            "grid_auto_columns": null,
            "margin": null,
            "display": null,
            "left": null
          }
        },
        "79d3599edfdd499988cdb864ddef3025": {
          "model_module": "@jupyter-widgets/controls",
          "model_name": "HBoxModel",
          "state": {
            "_view_name": "HBoxView",
            "_dom_classes": [],
            "_model_name": "HBoxModel",
            "_view_module": "@jupyter-widgets/controls",
            "_model_module_version": "1.5.0",
            "_view_count": null,
            "_view_module_version": "1.5.0",
            "box_style": "",
            "layout": "IPY_MODEL_493d467ca86b472ca2a5bec913f2bfc1",
            "_model_module": "@jupyter-widgets/controls",
            "children": [
              "IPY_MODEL_4f7cd3db41cc443da0cb979ef3cbca40",
              "IPY_MODEL_3e9bc3e29d0d4e9587a2f874d36b07aa"
            ]
          }
        },
        "493d467ca86b472ca2a5bec913f2bfc1": {
          "model_module": "@jupyter-widgets/base",
          "model_name": "LayoutModel",
          "state": {
            "_view_name": "LayoutView",
            "grid_template_rows": null,
            "right": null,
            "justify_content": null,
            "_view_module": "@jupyter-widgets/base",
            "overflow": null,
            "_model_module_version": "1.2.0",
            "_view_count": null,
            "flex_flow": null,
            "width": null,
            "min_width": null,
            "border": null,
            "align_items": null,
            "bottom": null,
            "_model_module": "@jupyter-widgets/base",
            "top": null,
            "grid_column": null,
            "overflow_y": null,
            "overflow_x": null,
            "grid_auto_flow": null,
            "grid_area": null,
            "grid_template_columns": null,
            "flex": null,
            "_model_name": "LayoutModel",
            "justify_items": null,
            "grid_row": null,
            "max_height": null,
            "align_content": null,
            "visibility": null,
            "align_self": null,
            "height": null,
            "min_height": null,
            "padding": null,
            "grid_auto_rows": null,
            "grid_gap": null,
            "max_width": null,
            "order": null,
            "_view_module_version": "1.2.0",
            "grid_template_areas": null,
            "object_position": null,
            "object_fit": null,
            "grid_auto_columns": null,
            "margin": null,
            "display": null,
            "left": null
          }
        },
        "4f7cd3db41cc443da0cb979ef3cbca40": {
          "model_module": "@jupyter-widgets/controls",
          "model_name": "FloatProgressModel",
          "state": {
            "_view_name": "ProgressView",
            "style": "IPY_MODEL_87ffeaa754bc414a846c39ab1432e04c",
            "_dom_classes": [],
            "description": "100%",
            "_model_name": "FloatProgressModel",
            "bar_style": "success",
            "max": 50,
            "_view_module": "@jupyter-widgets/controls",
            "_model_module_version": "1.5.0",
            "value": 50,
            "_view_count": null,
            "_view_module_version": "1.5.0",
            "orientation": "horizontal",
            "min": 0,
            "description_tooltip": null,
            "_model_module": "@jupyter-widgets/controls",
            "layout": "IPY_MODEL_f05ea1b0291d48fd81b884256553783c"
          }
        },
        "3e9bc3e29d0d4e9587a2f874d36b07aa": {
          "model_module": "@jupyter-widgets/controls",
          "model_name": "HTMLModel",
          "state": {
            "_view_name": "HTMLView",
            "style": "IPY_MODEL_8bf87fa636ed46788134ffad5e1c25e3",
            "_dom_classes": [],
            "description": "",
            "_model_name": "HTMLModel",
            "placeholder": "​",
            "_view_module": "@jupyter-widgets/controls",
            "_model_module_version": "1.5.0",
            "value": " 50/50 [00:12&lt;00:00,  4.04it/s]",
            "_view_count": null,
            "_view_module_version": "1.5.0",
            "description_tooltip": null,
            "_model_module": "@jupyter-widgets/controls",
            "layout": "IPY_MODEL_f2f5b6f8d2c64a00b4d80ec9acbc3581"
          }
        },
        "87ffeaa754bc414a846c39ab1432e04c": {
          "model_module": "@jupyter-widgets/controls",
          "model_name": "ProgressStyleModel",
          "state": {
            "_view_name": "StyleView",
            "_model_name": "ProgressStyleModel",
            "description_width": "initial",
            "_view_module": "@jupyter-widgets/base",
            "_model_module_version": "1.5.0",
            "_view_count": null,
            "_view_module_version": "1.2.0",
            "bar_color": null,
            "_model_module": "@jupyter-widgets/controls"
          }
        },
        "f05ea1b0291d48fd81b884256553783c": {
          "model_module": "@jupyter-widgets/base",
          "model_name": "LayoutModel",
          "state": {
            "_view_name": "LayoutView",
            "grid_template_rows": null,
            "right": null,
            "justify_content": null,
            "_view_module": "@jupyter-widgets/base",
            "overflow": null,
            "_model_module_version": "1.2.0",
            "_view_count": null,
            "flex_flow": null,
            "width": null,
            "min_width": null,
            "border": null,
            "align_items": null,
            "bottom": null,
            "_model_module": "@jupyter-widgets/base",
            "top": null,
            "grid_column": null,
            "overflow_y": null,
            "overflow_x": null,
            "grid_auto_flow": null,
            "grid_area": null,
            "grid_template_columns": null,
            "flex": null,
            "_model_name": "LayoutModel",
            "justify_items": null,
            "grid_row": null,
            "max_height": null,
            "align_content": null,
            "visibility": null,
            "align_self": null,
            "height": null,
            "min_height": null,
            "padding": null,
            "grid_auto_rows": null,
            "grid_gap": null,
            "max_width": null,
            "order": null,
            "_view_module_version": "1.2.0",
            "grid_template_areas": null,
            "object_position": null,
            "object_fit": null,
            "grid_auto_columns": null,
            "margin": null,
            "display": null,
            "left": null
          }
        },
        "8bf87fa636ed46788134ffad5e1c25e3": {
          "model_module": "@jupyter-widgets/controls",
          "model_name": "DescriptionStyleModel",
          "state": {
            "_view_name": "StyleView",
            "_model_name": "DescriptionStyleModel",
            "description_width": "",
            "_view_module": "@jupyter-widgets/base",
            "_model_module_version": "1.5.0",
            "_view_count": null,
            "_view_module_version": "1.2.0",
            "_model_module": "@jupyter-widgets/controls"
          }
        },
        "f2f5b6f8d2c64a00b4d80ec9acbc3581": {
          "model_module": "@jupyter-widgets/base",
          "model_name": "LayoutModel",
          "state": {
            "_view_name": "LayoutView",
            "grid_template_rows": null,
            "right": null,
            "justify_content": null,
            "_view_module": "@jupyter-widgets/base",
            "overflow": null,
            "_model_module_version": "1.2.0",
            "_view_count": null,
            "flex_flow": null,
            "width": null,
            "min_width": null,
            "border": null,
            "align_items": null,
            "bottom": null,
            "_model_module": "@jupyter-widgets/base",
            "top": null,
            "grid_column": null,
            "overflow_y": null,
            "overflow_x": null,
            "grid_auto_flow": null,
            "grid_area": null,
            "grid_template_columns": null,
            "flex": null,
            "_model_name": "LayoutModel",
            "justify_items": null,
            "grid_row": null,
            "max_height": null,
            "align_content": null,
            "visibility": null,
            "align_self": null,
            "height": null,
            "min_height": null,
            "padding": null,
            "grid_auto_rows": null,
            "grid_gap": null,
            "max_width": null,
            "order": null,
            "_view_module_version": "1.2.0",
            "grid_template_areas": null,
            "object_position": null,
            "object_fit": null,
            "grid_auto_columns": null,
            "margin": null,
            "display": null,
            "left": null
          }
        },
        "958642e01a684dbabf13a3a1e33ed989": {
          "model_module": "@jupyter-widgets/controls",
          "model_name": "HBoxModel",
          "state": {
            "_view_name": "HBoxView",
            "_dom_classes": [],
            "_model_name": "HBoxModel",
            "_view_module": "@jupyter-widgets/controls",
            "_model_module_version": "1.5.0",
            "_view_count": null,
            "_view_module_version": "1.5.0",
            "box_style": "",
            "layout": "IPY_MODEL_c85fb85a63824e1e88faaab729094b5b",
            "_model_module": "@jupyter-widgets/controls",
            "children": [
              "IPY_MODEL_d66e367cb780418a8f0b5f0309329791",
              "IPY_MODEL_747bbd2ecf0f4e8684c979f2fa4d8a8e"
            ]
          }
        },
        "c85fb85a63824e1e88faaab729094b5b": {
          "model_module": "@jupyter-widgets/base",
          "model_name": "LayoutModel",
          "state": {
            "_view_name": "LayoutView",
            "grid_template_rows": null,
            "right": null,
            "justify_content": null,
            "_view_module": "@jupyter-widgets/base",
            "overflow": null,
            "_model_module_version": "1.2.0",
            "_view_count": null,
            "flex_flow": null,
            "width": null,
            "min_width": null,
            "border": null,
            "align_items": null,
            "bottom": null,
            "_model_module": "@jupyter-widgets/base",
            "top": null,
            "grid_column": null,
            "overflow_y": null,
            "overflow_x": null,
            "grid_auto_flow": null,
            "grid_area": null,
            "grid_template_columns": null,
            "flex": null,
            "_model_name": "LayoutModel",
            "justify_items": null,
            "grid_row": null,
            "max_height": null,
            "align_content": null,
            "visibility": null,
            "align_self": null,
            "height": null,
            "min_height": null,
            "padding": null,
            "grid_auto_rows": null,
            "grid_gap": null,
            "max_width": null,
            "order": null,
            "_view_module_version": "1.2.0",
            "grid_template_areas": null,
            "object_position": null,
            "object_fit": null,
            "grid_auto_columns": null,
            "margin": null,
            "display": null,
            "left": null
          }
        },
        "d66e367cb780418a8f0b5f0309329791": {
          "model_module": "@jupyter-widgets/controls",
          "model_name": "FloatProgressModel",
          "state": {
            "_view_name": "ProgressView",
            "style": "IPY_MODEL_92c92e4500904c5286dde7ddc1219535",
            "_dom_classes": [],
            "description": "100%",
            "_model_name": "FloatProgressModel",
            "bar_style": "success",
            "max": 50,
            "_view_module": "@jupyter-widgets/controls",
            "_model_module_version": "1.5.0",
            "value": 50,
            "_view_count": null,
            "_view_module_version": "1.5.0",
            "orientation": "horizontal",
            "min": 0,
            "description_tooltip": null,
            "_model_module": "@jupyter-widgets/controls",
            "layout": "IPY_MODEL_a36379324d994615afee31dc4642ad05"
          }
        },
        "747bbd2ecf0f4e8684c979f2fa4d8a8e": {
          "model_module": "@jupyter-widgets/controls",
          "model_name": "HTMLModel",
          "state": {
            "_view_name": "HTMLView",
            "style": "IPY_MODEL_6658b4f4e8584f8aaec8aa2dff3f288a",
            "_dom_classes": [],
            "description": "",
            "_model_name": "HTMLModel",
            "placeholder": "​",
            "_view_module": "@jupyter-widgets/controls",
            "_model_module_version": "1.5.0",
            "value": " 50/50 [00:43&lt;00:00,  1.16it/s]",
            "_view_count": null,
            "_view_module_version": "1.5.0",
            "description_tooltip": null,
            "_model_module": "@jupyter-widgets/controls",
            "layout": "IPY_MODEL_a6e5018065c64d48b3a6c72f902efc31"
          }
        },
        "92c92e4500904c5286dde7ddc1219535": {
          "model_module": "@jupyter-widgets/controls",
          "model_name": "ProgressStyleModel",
          "state": {
            "_view_name": "StyleView",
            "_model_name": "ProgressStyleModel",
            "description_width": "initial",
            "_view_module": "@jupyter-widgets/base",
            "_model_module_version": "1.5.0",
            "_view_count": null,
            "_view_module_version": "1.2.0",
            "bar_color": null,
            "_model_module": "@jupyter-widgets/controls"
          }
        },
        "a36379324d994615afee31dc4642ad05": {
          "model_module": "@jupyter-widgets/base",
          "model_name": "LayoutModel",
          "state": {
            "_view_name": "LayoutView",
            "grid_template_rows": null,
            "right": null,
            "justify_content": null,
            "_view_module": "@jupyter-widgets/base",
            "overflow": null,
            "_model_module_version": "1.2.0",
            "_view_count": null,
            "flex_flow": null,
            "width": null,
            "min_width": null,
            "border": null,
            "align_items": null,
            "bottom": null,
            "_model_module": "@jupyter-widgets/base",
            "top": null,
            "grid_column": null,
            "overflow_y": null,
            "overflow_x": null,
            "grid_auto_flow": null,
            "grid_area": null,
            "grid_template_columns": null,
            "flex": null,
            "_model_name": "LayoutModel",
            "justify_items": null,
            "grid_row": null,
            "max_height": null,
            "align_content": null,
            "visibility": null,
            "align_self": null,
            "height": null,
            "min_height": null,
            "padding": null,
            "grid_auto_rows": null,
            "grid_gap": null,
            "max_width": null,
            "order": null,
            "_view_module_version": "1.2.0",
            "grid_template_areas": null,
            "object_position": null,
            "object_fit": null,
            "grid_auto_columns": null,
            "margin": null,
            "display": null,
            "left": null
          }
        },
        "6658b4f4e8584f8aaec8aa2dff3f288a": {
          "model_module": "@jupyter-widgets/controls",
          "model_name": "DescriptionStyleModel",
          "state": {
            "_view_name": "StyleView",
            "_model_name": "DescriptionStyleModel",
            "description_width": "",
            "_view_module": "@jupyter-widgets/base",
            "_model_module_version": "1.5.0",
            "_view_count": null,
            "_view_module_version": "1.2.0",
            "_model_module": "@jupyter-widgets/controls"
          }
        },
        "a6e5018065c64d48b3a6c72f902efc31": {
          "model_module": "@jupyter-widgets/base",
          "model_name": "LayoutModel",
          "state": {
            "_view_name": "LayoutView",
            "grid_template_rows": null,
            "right": null,
            "justify_content": null,
            "_view_module": "@jupyter-widgets/base",
            "overflow": null,
            "_model_module_version": "1.2.0",
            "_view_count": null,
            "flex_flow": null,
            "width": null,
            "min_width": null,
            "border": null,
            "align_items": null,
            "bottom": null,
            "_model_module": "@jupyter-widgets/base",
            "top": null,
            "grid_column": null,
            "overflow_y": null,
            "overflow_x": null,
            "grid_auto_flow": null,
            "grid_area": null,
            "grid_template_columns": null,
            "flex": null,
            "_model_name": "LayoutModel",
            "justify_items": null,
            "grid_row": null,
            "max_height": null,
            "align_content": null,
            "visibility": null,
            "align_self": null,
            "height": null,
            "min_height": null,
            "padding": null,
            "grid_auto_rows": null,
            "grid_gap": null,
            "max_width": null,
            "order": null,
            "_view_module_version": "1.2.0",
            "grid_template_areas": null,
            "object_position": null,
            "object_fit": null,
            "grid_auto_columns": null,
            "margin": null,
            "display": null,
            "left": null
          }
        },
        "9f40ed58e7f64f249a02304ee2c8534e": {
          "model_module": "@jupyter-widgets/controls",
          "model_name": "HBoxModel",
          "state": {
            "_view_name": "HBoxView",
            "_dom_classes": [],
            "_model_name": "HBoxModel",
            "_view_module": "@jupyter-widgets/controls",
            "_model_module_version": "1.5.0",
            "_view_count": null,
            "_view_module_version": "1.5.0",
            "box_style": "",
            "layout": "IPY_MODEL_32ecdfb1d2384bb9ad7bba3ebe658843",
            "_model_module": "@jupyter-widgets/controls",
            "children": [
              "IPY_MODEL_caa24f18f0c44d40b2120dcfbd7c222d",
              "IPY_MODEL_5e0fea8f76c94980aa794f3cc2b76f89"
            ]
          }
        },
        "32ecdfb1d2384bb9ad7bba3ebe658843": {
          "model_module": "@jupyter-widgets/base",
          "model_name": "LayoutModel",
          "state": {
            "_view_name": "LayoutView",
            "grid_template_rows": null,
            "right": null,
            "justify_content": null,
            "_view_module": "@jupyter-widgets/base",
            "overflow": null,
            "_model_module_version": "1.2.0",
            "_view_count": null,
            "flex_flow": null,
            "width": null,
            "min_width": null,
            "border": null,
            "align_items": null,
            "bottom": null,
            "_model_module": "@jupyter-widgets/base",
            "top": null,
            "grid_column": null,
            "overflow_y": null,
            "overflow_x": null,
            "grid_auto_flow": null,
            "grid_area": null,
            "grid_template_columns": null,
            "flex": null,
            "_model_name": "LayoutModel",
            "justify_items": null,
            "grid_row": null,
            "max_height": null,
            "align_content": null,
            "visibility": null,
            "align_self": null,
            "height": null,
            "min_height": null,
            "padding": null,
            "grid_auto_rows": null,
            "grid_gap": null,
            "max_width": null,
            "order": null,
            "_view_module_version": "1.2.0",
            "grid_template_areas": null,
            "object_position": null,
            "object_fit": null,
            "grid_auto_columns": null,
            "margin": null,
            "display": null,
            "left": null
          }
        },
        "caa24f18f0c44d40b2120dcfbd7c222d": {
          "model_module": "@jupyter-widgets/controls",
          "model_name": "FloatProgressModel",
          "state": {
            "_view_name": "ProgressView",
            "style": "IPY_MODEL_ccf29683193b4489aa846229fbbc4d00",
            "_dom_classes": [],
            "description": "100%",
            "_model_name": "FloatProgressModel",
            "bar_style": "success",
            "max": 50,
            "_view_module": "@jupyter-widgets/controls",
            "_model_module_version": "1.5.0",
            "value": 50,
            "_view_count": null,
            "_view_module_version": "1.5.0",
            "orientation": "horizontal",
            "min": 0,
            "description_tooltip": null,
            "_model_module": "@jupyter-widgets/controls",
            "layout": "IPY_MODEL_71cfa740cffd472496f08e8b834de084"
          }
        },
        "5e0fea8f76c94980aa794f3cc2b76f89": {
          "model_module": "@jupyter-widgets/controls",
          "model_name": "HTMLModel",
          "state": {
            "_view_name": "HTMLView",
            "style": "IPY_MODEL_d61bf81161d24a4a9ee0b289721974af",
            "_dom_classes": [],
            "description": "",
            "_model_name": "HTMLModel",
            "placeholder": "​",
            "_view_module": "@jupyter-widgets/controls",
            "_model_module_version": "1.5.0",
            "value": " 50/50 [00:33&lt;00:00,  1.48it/s, correct=99.73%, skipped=0.98%]",
            "_view_count": null,
            "_view_module_version": "1.5.0",
            "description_tooltip": null,
            "_model_module": "@jupyter-widgets/controls",
            "layout": "IPY_MODEL_dde26c44d49c4e8f8f1edbd04c6c31e4"
          }
        },
        "ccf29683193b4489aa846229fbbc4d00": {
          "model_module": "@jupyter-widgets/controls",
          "model_name": "ProgressStyleModel",
          "state": {
            "_view_name": "StyleView",
            "_model_name": "ProgressStyleModel",
            "description_width": "initial",
            "_view_module": "@jupyter-widgets/base",
            "_model_module_version": "1.5.0",
            "_view_count": null,
            "_view_module_version": "1.2.0",
            "bar_color": null,
            "_model_module": "@jupyter-widgets/controls"
          }
        },
        "71cfa740cffd472496f08e8b834de084": {
          "model_module": "@jupyter-widgets/base",
          "model_name": "LayoutModel",
          "state": {
            "_view_name": "LayoutView",
            "grid_template_rows": null,
            "right": null,
            "justify_content": null,
            "_view_module": "@jupyter-widgets/base",
            "overflow": null,
            "_model_module_version": "1.2.0",
            "_view_count": null,
            "flex_flow": null,
            "width": null,
            "min_width": null,
            "border": null,
            "align_items": null,
            "bottom": null,
            "_model_module": "@jupyter-widgets/base",
            "top": null,
            "grid_column": null,
            "overflow_y": null,
            "overflow_x": null,
            "grid_auto_flow": null,
            "grid_area": null,
            "grid_template_columns": null,
            "flex": null,
            "_model_name": "LayoutModel",
            "justify_items": null,
            "grid_row": null,
            "max_height": null,
            "align_content": null,
            "visibility": null,
            "align_self": null,
            "height": null,
            "min_height": null,
            "padding": null,
            "grid_auto_rows": null,
            "grid_gap": null,
            "max_width": null,
            "order": null,
            "_view_module_version": "1.2.0",
            "grid_template_areas": null,
            "object_position": null,
            "object_fit": null,
            "grid_auto_columns": null,
            "margin": null,
            "display": null,
            "left": null
          }
        },
        "d61bf81161d24a4a9ee0b289721974af": {
          "model_module": "@jupyter-widgets/controls",
          "model_name": "DescriptionStyleModel",
          "state": {
            "_view_name": "StyleView",
            "_model_name": "DescriptionStyleModel",
            "description_width": "",
            "_view_module": "@jupyter-widgets/base",
            "_model_module_version": "1.5.0",
            "_view_count": null,
            "_view_module_version": "1.2.0",
            "_model_module": "@jupyter-widgets/controls"
          }
        },
        "dde26c44d49c4e8f8f1edbd04c6c31e4": {
          "model_module": "@jupyter-widgets/base",
          "model_name": "LayoutModel",
          "state": {
            "_view_name": "LayoutView",
            "grid_template_rows": null,
            "right": null,
            "justify_content": null,
            "_view_module": "@jupyter-widgets/base",
            "overflow": null,
            "_model_module_version": "1.2.0",
            "_view_count": null,
            "flex_flow": null,
            "width": null,
            "min_width": null,
            "border": null,
            "align_items": null,
            "bottom": null,
            "_model_module": "@jupyter-widgets/base",
            "top": null,
            "grid_column": null,
            "overflow_y": null,
            "overflow_x": null,
            "grid_auto_flow": null,
            "grid_area": null,
            "grid_template_columns": null,
            "flex": null,
            "_model_name": "LayoutModel",
            "justify_items": null,
            "grid_row": null,
            "max_height": null,
            "align_content": null,
            "visibility": null,
            "align_self": null,
            "height": null,
            "min_height": null,
            "padding": null,
            "grid_auto_rows": null,
            "grid_gap": null,
            "max_width": null,
            "order": null,
            "_view_module_version": "1.2.0",
            "grid_template_areas": null,
            "object_position": null,
            "object_fit": null,
            "grid_auto_columns": null,
            "margin": null,
            "display": null,
            "left": null
          }
        },
        "892cba2683a741e198c1896e863e7955": {
          "model_module": "@jupyter-widgets/controls",
          "model_name": "HBoxModel",
          "state": {
            "_view_name": "HBoxView",
            "_dom_classes": [],
            "_model_name": "HBoxModel",
            "_view_module": "@jupyter-widgets/controls",
            "_model_module_version": "1.5.0",
            "_view_count": null,
            "_view_module_version": "1.5.0",
            "box_style": "",
            "layout": "IPY_MODEL_bcc5e239f4a44cffb7c7f67fccdfbb9f",
            "_model_module": "@jupyter-widgets/controls",
            "children": [
              "IPY_MODEL_1436acd9f1ad4d6a81cbf45d8e3faf46",
              "IPY_MODEL_0c29823179a243538dfad674ec979163"
            ]
          }
        },
        "bcc5e239f4a44cffb7c7f67fccdfbb9f": {
          "model_module": "@jupyter-widgets/base",
          "model_name": "LayoutModel",
          "state": {
            "_view_name": "LayoutView",
            "grid_template_rows": null,
            "right": null,
            "justify_content": null,
            "_view_module": "@jupyter-widgets/base",
            "overflow": null,
            "_model_module_version": "1.2.0",
            "_view_count": null,
            "flex_flow": null,
            "width": null,
            "min_width": null,
            "border": null,
            "align_items": null,
            "bottom": null,
            "_model_module": "@jupyter-widgets/base",
            "top": null,
            "grid_column": null,
            "overflow_y": null,
            "overflow_x": null,
            "grid_auto_flow": null,
            "grid_area": null,
            "grid_template_columns": null,
            "flex": null,
            "_model_name": "LayoutModel",
            "justify_items": null,
            "grid_row": null,
            "max_height": null,
            "align_content": null,
            "visibility": null,
            "align_self": null,
            "height": null,
            "min_height": null,
            "padding": null,
            "grid_auto_rows": null,
            "grid_gap": null,
            "max_width": null,
            "order": null,
            "_view_module_version": "1.2.0",
            "grid_template_areas": null,
            "object_position": null,
            "object_fit": null,
            "grid_auto_columns": null,
            "margin": null,
            "display": null,
            "left": null
          }
        },
        "1436acd9f1ad4d6a81cbf45d8e3faf46": {
          "model_module": "@jupyter-widgets/controls",
          "model_name": "FloatProgressModel",
          "state": {
            "_view_name": "ProgressView",
            "style": "IPY_MODEL_5f2887b646204158aa8c71e2aaa9aff5",
            "_dom_classes": [],
            "description": "100%",
            "_model_name": "FloatProgressModel",
            "bar_style": "success",
            "max": 50,
            "_view_module": "@jupyter-widgets/controls",
            "_model_module_version": "1.5.0",
            "value": 50,
            "_view_count": null,
            "_view_module_version": "1.5.0",
            "orientation": "horizontal",
            "min": 0,
            "description_tooltip": null,
            "_model_module": "@jupyter-widgets/controls",
            "layout": "IPY_MODEL_db2510cef9084d61a1a31f7e9d745a2b"
          }
        },
        "0c29823179a243538dfad674ec979163": {
          "model_module": "@jupyter-widgets/controls",
          "model_name": "HTMLModel",
          "state": {
            "_view_name": "HTMLView",
            "style": "IPY_MODEL_2e31ac3b5b2a40efafe57e99852ed71c",
            "_dom_classes": [],
            "description": "",
            "_model_name": "HTMLModel",
            "placeholder": "​",
            "_view_module": "@jupyter-widgets/controls",
            "_model_module_version": "1.5.0",
            "value": " 50/50 [00:33&lt;00:00,  1.50it/s]",
            "_view_count": null,
            "_view_module_version": "1.5.0",
            "description_tooltip": null,
            "_model_module": "@jupyter-widgets/controls",
            "layout": "IPY_MODEL_62ca61bbf40649f5be07e30a392f91b0"
          }
        },
        "5f2887b646204158aa8c71e2aaa9aff5": {
          "model_module": "@jupyter-widgets/controls",
          "model_name": "ProgressStyleModel",
          "state": {
            "_view_name": "StyleView",
            "_model_name": "ProgressStyleModel",
            "description_width": "initial",
            "_view_module": "@jupyter-widgets/base",
            "_model_module_version": "1.5.0",
            "_view_count": null,
            "_view_module_version": "1.2.0",
            "bar_color": null,
            "_model_module": "@jupyter-widgets/controls"
          }
        },
        "db2510cef9084d61a1a31f7e9d745a2b": {
          "model_module": "@jupyter-widgets/base",
          "model_name": "LayoutModel",
          "state": {
            "_view_name": "LayoutView",
            "grid_template_rows": null,
            "right": null,
            "justify_content": null,
            "_view_module": "@jupyter-widgets/base",
            "overflow": null,
            "_model_module_version": "1.2.0",
            "_view_count": null,
            "flex_flow": null,
            "width": null,
            "min_width": null,
            "border": null,
            "align_items": null,
            "bottom": null,
            "_model_module": "@jupyter-widgets/base",
            "top": null,
            "grid_column": null,
            "overflow_y": null,
            "overflow_x": null,
            "grid_auto_flow": null,
            "grid_area": null,
            "grid_template_columns": null,
            "flex": null,
            "_model_name": "LayoutModel",
            "justify_items": null,
            "grid_row": null,
            "max_height": null,
            "align_content": null,
            "visibility": null,
            "align_self": null,
            "height": null,
            "min_height": null,
            "padding": null,
            "grid_auto_rows": null,
            "grid_gap": null,
            "max_width": null,
            "order": null,
            "_view_module_version": "1.2.0",
            "grid_template_areas": null,
            "object_position": null,
            "object_fit": null,
            "grid_auto_columns": null,
            "margin": null,
            "display": null,
            "left": null
          }
        },
        "2e31ac3b5b2a40efafe57e99852ed71c": {
          "model_module": "@jupyter-widgets/controls",
          "model_name": "DescriptionStyleModel",
          "state": {
            "_view_name": "StyleView",
            "_model_name": "DescriptionStyleModel",
            "description_width": "",
            "_view_module": "@jupyter-widgets/base",
            "_model_module_version": "1.5.0",
            "_view_count": null,
            "_view_module_version": "1.2.0",
            "_model_module": "@jupyter-widgets/controls"
          }
        },
        "62ca61bbf40649f5be07e30a392f91b0": {
          "model_module": "@jupyter-widgets/base",
          "model_name": "LayoutModel",
          "state": {
            "_view_name": "LayoutView",
            "grid_template_rows": null,
            "right": null,
            "justify_content": null,
            "_view_module": "@jupyter-widgets/base",
            "overflow": null,
            "_model_module_version": "1.2.0",
            "_view_count": null,
            "flex_flow": null,
            "width": null,
            "min_width": null,
            "border": null,
            "align_items": null,
            "bottom": null,
            "_model_module": "@jupyter-widgets/base",
            "top": null,
            "grid_column": null,
            "overflow_y": null,
            "overflow_x": null,
            "grid_auto_flow": null,
            "grid_area": null,
            "grid_template_columns": null,
            "flex": null,
            "_model_name": "LayoutModel",
            "justify_items": null,
            "grid_row": null,
            "max_height": null,
            "align_content": null,
            "visibility": null,
            "align_self": null,
            "height": null,
            "min_height": null,
            "padding": null,
            "grid_auto_rows": null,
            "grid_gap": null,
            "max_width": null,
            "order": null,
            "_view_module_version": "1.2.0",
            "grid_template_areas": null,
            "object_position": null,
            "object_fit": null,
            "grid_auto_columns": null,
            "margin": null,
            "display": null,
            "left": null
          }
        }
      }
    }
  },
  "cells": [
    {
      "cell_type": "markdown",
      "metadata": {
        "id": "JF0s60hchGLu",
        "colab_type": "text"
      },
      "source": [
        "# Outfit Recommendation For USERS (Collaborative Filtering)"
      ]
    },
    {
      "cell_type": "markdown",
      "metadata": {
        "id": "oX0JBm-uhLlH",
        "colab_type": "text"
      },
      "source": [
        "# Cleaning + Exploration"
      ]
    },
    {
      "cell_type": "code",
      "metadata": {
        "id": "MLbGKRSgatoC",
        "colab_type": "code",
        "outputId": "b2c433f1-3f15-4a08-cb68-a212957189b6",
        "colab": {
          "base_uri": "https://localhost:8080/",
          "height": 394
        }
      },
      "source": [
        "import pandas as pd\n",
        "import numpy as np\n",
        "import scipy.sparse as sparse\n",
        "!pip install implicit\n",
        "import implicit\n",
        "from sklearn.utils.extmath import randomized_svd\n",
        "\n",
        "import string\n",
        "from nltk.stem import WordNetLemmatizer\n",
        "import nltk\n",
        "nltk.download('wordnet')\n",
        "import gensim\n",
        "from gensim.test.utils import common_texts\n",
        "from gensim.models.doc2vec import Doc2Vec, TaggedDocument\n",
        "from gensim.parsing.preprocessing import remove_stopwords\n",
        "from sklearn.metrics.pairwise import cosine_similarity\n",
        "!pip install fuzzywuzzy\n",
        "from fuzzywuzzy import fuzz"
      ],
      "execution_count": 1,
      "outputs": [
        {
          "output_type": "stream",
          "text": [
            "Collecting implicit\n",
            "\u001b[?25l  Downloading https://files.pythonhosted.org/packages/5a/d8/6b4f1374ffa2647b72ac76960c71b984c6f3238090359fb419d03827d87a/implicit-0.4.2.tar.gz (1.1MB)\n",
            "\r\u001b[K     |▎                               | 10kB 17.8MB/s eta 0:00:01\r\u001b[K     |▋                               | 20kB 6.4MB/s eta 0:00:01\r\u001b[K     |▉                               | 30kB 8.9MB/s eta 0:00:01\r\u001b[K     |█▏                              | 40kB 10.9MB/s eta 0:00:01\r\u001b[K     |█▌                              | 51kB 7.2MB/s eta 0:00:01\r\u001b[K     |█▊                              | 61kB 8.4MB/s eta 0:00:01\r\u001b[K     |██                              | 71kB 9.5MB/s eta 0:00:01\r\u001b[K     |██▍                             | 81kB 10.4MB/s eta 0:00:01\r\u001b[K     |██▋                             | 92kB 8.4MB/s eta 0:00:01\r\u001b[K     |███                             | 102kB 9.2MB/s eta 0:00:01\r\u001b[K     |███▎                            | 112kB 9.2MB/s eta 0:00:01\r\u001b[K     |███▌                            | 122kB 9.2MB/s eta 0:00:01\r\u001b[K     |███▉                            | 133kB 9.2MB/s eta 0:00:01\r\u001b[K     |████▏                           | 143kB 9.2MB/s eta 0:00:01\r\u001b[K     |████▍                           | 153kB 9.2MB/s eta 0:00:01\r\u001b[K     |████▊                           | 163kB 9.2MB/s eta 0:00:01\r\u001b[K     |█████                           | 174kB 9.2MB/s eta 0:00:01\r\u001b[K     |█████▎                          | 184kB 9.2MB/s eta 0:00:01\r\u001b[K     |█████▋                          | 194kB 9.2MB/s eta 0:00:01\r\u001b[K     |█████▉                          | 204kB 9.2MB/s eta 0:00:01\r\u001b[K     |██████▏                         | 215kB 9.2MB/s eta 0:00:01\r\u001b[K     |██████▌                         | 225kB 9.2MB/s eta 0:00:01\r\u001b[K     |██████▊                         | 235kB 9.2MB/s eta 0:00:01\r\u001b[K     |███████                         | 245kB 9.2MB/s eta 0:00:01\r\u001b[K     |███████▍                        | 256kB 9.2MB/s eta 0:00:01\r\u001b[K     |███████▋                        | 266kB 9.2MB/s eta 0:00:01\r\u001b[K     |████████                        | 276kB 9.2MB/s eta 0:00:01\r\u001b[K     |████████▎                       | 286kB 9.2MB/s eta 0:00:01\r\u001b[K     |████████▌                       | 296kB 9.2MB/s eta 0:00:01\r\u001b[K     |████████▉                       | 307kB 9.2MB/s eta 0:00:01\r\u001b[K     |█████████                       | 317kB 9.2MB/s eta 0:00:01\r\u001b[K     |█████████▍                      | 327kB 9.2MB/s eta 0:00:01\r\u001b[K     |█████████▊                      | 337kB 9.2MB/s eta 0:00:01\r\u001b[K     |██████████                      | 348kB 9.2MB/s eta 0:00:01\r\u001b[K     |██████████▎                     | 358kB 9.2MB/s eta 0:00:01\r\u001b[K     |██████████▋                     | 368kB 9.2MB/s eta 0:00:01\r\u001b[K     |██████████▉                     | 378kB 9.2MB/s eta 0:00:01\r\u001b[K     |███████████▏                    | 389kB 9.2MB/s eta 0:00:01\r\u001b[K     |███████████▌                    | 399kB 9.2MB/s eta 0:00:01\r\u001b[K     |███████████▊                    | 409kB 9.2MB/s eta 0:00:01\r\u001b[K     |████████████                    | 419kB 9.2MB/s eta 0:00:01\r\u001b[K     |████████████▍                   | 430kB 9.2MB/s eta 0:00:01\r\u001b[K     |████████████▋                   | 440kB 9.2MB/s eta 0:00:01\r\u001b[K     |█████████████                   | 450kB 9.2MB/s eta 0:00:01\r\u001b[K     |█████████████▏                  | 460kB 9.2MB/s eta 0:00:01\r\u001b[K     |█████████████▌                  | 471kB 9.2MB/s eta 0:00:01\r\u001b[K     |█████████████▉                  | 481kB 9.2MB/s eta 0:00:01\r\u001b[K     |██████████████                  | 491kB 9.2MB/s eta 0:00:01\r\u001b[K     |██████████████▍                 | 501kB 9.2MB/s eta 0:00:01\r\u001b[K     |██████████████▊                 | 512kB 9.2MB/s eta 0:00:01\r\u001b[K     |███████████████                 | 522kB 9.2MB/s eta 0:00:01\r\u001b[K     |███████████████▎                | 532kB 9.2MB/s eta 0:00:01\r\u001b[K     |███████████████▋                | 542kB 9.2MB/s eta 0:00:01\r\u001b[K     |███████████████▉                | 552kB 9.2MB/s eta 0:00:01\r\u001b[K     |████████████████▏               | 563kB 9.2MB/s eta 0:00:01\r\u001b[K     |████████████████▌               | 573kB 9.2MB/s eta 0:00:01\r\u001b[K     |████████████████▊               | 583kB 9.2MB/s eta 0:00:01\r\u001b[K     |█████████████████               | 593kB 9.2MB/s eta 0:00:01\r\u001b[K     |█████████████████▍              | 604kB 9.2MB/s eta 0:00:01\r\u001b[K     |█████████████████▋              | 614kB 9.2MB/s eta 0:00:01\r\u001b[K     |██████████████████              | 624kB 9.2MB/s eta 0:00:01\r\u001b[K     |██████████████████▏             | 634kB 9.2MB/s eta 0:00:01\r\u001b[K     |██████████████████▌             | 645kB 9.2MB/s eta 0:00:01\r\u001b[K     |██████████████████▉             | 655kB 9.2MB/s eta 0:00:01\r\u001b[K     |███████████████████             | 665kB 9.2MB/s eta 0:00:01\r\u001b[K     |███████████████████▍            | 675kB 9.2MB/s eta 0:00:01\r\u001b[K     |███████████████████▊            | 686kB 9.2MB/s eta 0:00:01\r\u001b[K     |████████████████████            | 696kB 9.2MB/s eta 0:00:01\r\u001b[K     |████████████████████▎           | 706kB 9.2MB/s eta 0:00:01\r\u001b[K     |████████████████████▋           | 716kB 9.2MB/s eta 0:00:01\r\u001b[K     |████████████████████▉           | 727kB 9.2MB/s eta 0:00:01\r\u001b[K     |█████████████████████▏          | 737kB 9.2MB/s eta 0:00:01\r\u001b[K     |█████████████████████▌          | 747kB 9.2MB/s eta 0:00:01\r\u001b[K     |█████████████████████▊          | 757kB 9.2MB/s eta 0:00:01\r\u001b[K     |██████████████████████          | 768kB 9.2MB/s eta 0:00:01\r\u001b[K     |██████████████████████▎         | 778kB 9.2MB/s eta 0:00:01\r\u001b[K     |██████████████████████▋         | 788kB 9.2MB/s eta 0:00:01\r\u001b[K     |███████████████████████         | 798kB 9.2MB/s eta 0:00:01\r\u001b[K     |███████████████████████▏        | 808kB 9.2MB/s eta 0:00:01\r\u001b[K     |███████████████████████▌        | 819kB 9.2MB/s eta 0:00:01\r\u001b[K     |███████████████████████▉        | 829kB 9.2MB/s eta 0:00:01\r\u001b[K     |████████████████████████        | 839kB 9.2MB/s eta 0:00:01\r\u001b[K     |████████████████████████▍       | 849kB 9.2MB/s eta 0:00:01\r\u001b[K     |████████████████████████▊       | 860kB 9.2MB/s eta 0:00:01\r\u001b[K     |█████████████████████████       | 870kB 9.2MB/s eta 0:00:01\r\u001b[K     |█████████████████████████▎      | 880kB 9.2MB/s eta 0:00:01\r\u001b[K     |█████████████████████████▋      | 890kB 9.2MB/s eta 0:00:01\r\u001b[K     |█████████████████████████▉      | 901kB 9.2MB/s eta 0:00:01\r\u001b[K     |██████████████████████████▏     | 911kB 9.2MB/s eta 0:00:01\r\u001b[K     |██████████████████████████▍     | 921kB 9.2MB/s eta 0:00:01\r\u001b[K     |██████████████████████████▊     | 931kB 9.2MB/s eta 0:00:01\r\u001b[K     |███████████████████████████     | 942kB 9.2MB/s eta 0:00:01\r\u001b[K     |███████████████████████████▎    | 952kB 9.2MB/s eta 0:00:01\r\u001b[K     |███████████████████████████▋    | 962kB 9.2MB/s eta 0:00:01\r\u001b[K     |████████████████████████████    | 972kB 9.2MB/s eta 0:00:01\r\u001b[K     |████████████████████████████▏   | 983kB 9.2MB/s eta 0:00:01\r\u001b[K     |████████████████████████████▌   | 993kB 9.2MB/s eta 0:00:01\r\u001b[K     |████████████████████████████▉   | 1.0MB 9.2MB/s eta 0:00:01\r\u001b[K     |█████████████████████████████   | 1.0MB 9.2MB/s eta 0:00:01\r\u001b[K     |█████████████████████████████▍  | 1.0MB 9.2MB/s eta 0:00:01\r\u001b[K     |█████████████████████████████▊  | 1.0MB 9.2MB/s eta 0:00:01\r\u001b[K     |██████████████████████████████  | 1.0MB 9.2MB/s eta 0:00:01\r\u001b[K     |██████████████████████████████▎ | 1.1MB 9.2MB/s eta 0:00:01\r\u001b[K     |██████████████████████████████▌ | 1.1MB 9.2MB/s eta 0:00:01\r\u001b[K     |██████████████████████████████▉ | 1.1MB 9.2MB/s eta 0:00:01\r\u001b[K     |███████████████████████████████▏| 1.1MB 9.2MB/s eta 0:00:01\r\u001b[K     |███████████████████████████████▍| 1.1MB 9.2MB/s eta 0:00:01\r\u001b[K     |███████████████████████████████▊| 1.1MB 9.2MB/s eta 0:00:01\r\u001b[K     |████████████████████████████████| 1.1MB 9.2MB/s \n",
            "\u001b[?25hRequirement already satisfied: numpy in /usr/local/lib/python3.6/dist-packages (from implicit) (1.18.4)\n",
            "Requirement already satisfied: scipy>=0.16 in /usr/local/lib/python3.6/dist-packages (from implicit) (1.4.1)\n",
            "Requirement already satisfied: tqdm>=4.27 in /usr/local/lib/python3.6/dist-packages (from implicit) (4.41.1)\n",
            "Building wheels for collected packages: implicit\n",
            "  Building wheel for implicit (setup.py) ... \u001b[?25l\u001b[?25hdone\n",
            "  Created wheel for implicit: filename=implicit-0.4.2-cp36-cp36m-linux_x86_64.whl size=3468809 sha256=a37bf23c40d1956e89716f23e79833ca7f15b82b00897657013e1cbe75ad162d\n",
            "  Stored in directory: /root/.cache/pip/wheels/1b/48/b1/1aebe3acc3afb5589e72d3e7c3ffc3f637dc4721c1a974dff7\n",
            "Successfully built implicit\n",
            "Installing collected packages: implicit\n",
            "Successfully installed implicit-0.4.2\n",
            "[nltk_data] Downloading package wordnet to /root/nltk_data...\n",
            "[nltk_data]   Unzipping corpora/wordnet.zip.\n",
            "Collecting fuzzywuzzy\n",
            "  Downloading https://files.pythonhosted.org/packages/43/ff/74f23998ad2f93b945c0309f825be92e04e0348e062026998b5eefef4c33/fuzzywuzzy-0.18.0-py2.py3-none-any.whl\n",
            "Installing collected packages: fuzzywuzzy\n",
            "Successfully installed fuzzywuzzy-0.18.0\n"
          ],
          "name": "stdout"
        },
        {
          "output_type": "stream",
          "text": [
            "/usr/local/lib/python3.6/dist-packages/fuzzywuzzy/fuzz.py:11: UserWarning: Using slow pure-python SequenceMatcher. Install python-Levenshtein to remove this warning\n",
            "  warnings.warn('Using slow pure-python SequenceMatcher. Install python-Levenshtein to remove this warning')\n"
          ],
          "name": "stderr"
        }
      ]
    },
    {
      "cell_type": "code",
      "metadata": {
        "id": "MqRvTLa_atoG",
        "colab_type": "code",
        "outputId": "3506fba3-dfc6-4343-ebef-4ed6254a40fa",
        "colab": {
          "base_uri": "https://localhost:8080/",
          "height": 669
        }
      },
      "source": [
        "outfit_combination_df = pd.read_csv('outfit_combinations_clean_type.csv')\n",
        "outfit_combination_df.head(20)"
      ],
      "execution_count": 2,
      "outputs": [
        {
          "output_type": "execute_result",
          "data": {
            "text/html": [
              "<div>\n",
              "<style scoped>\n",
              "    .dataframe tbody tr th:only-of-type {\n",
              "        vertical-align: middle;\n",
              "    }\n",
              "\n",
              "    .dataframe tbody tr th {\n",
              "        vertical-align: top;\n",
              "    }\n",
              "\n",
              "    .dataframe thead th {\n",
              "        text-align: right;\n",
              "    }\n",
              "</style>\n",
              "<table border=\"1\" class=\"dataframe\">\n",
              "  <thead>\n",
              "    <tr style=\"text-align: right;\">\n",
              "      <th></th>\n",
              "      <th>Unnamed: 0</th>\n",
              "      <th>outfit_id</th>\n",
              "      <th>product_id</th>\n",
              "      <th>outfit_item_type</th>\n",
              "      <th>brand</th>\n",
              "      <th>product_full_name</th>\n",
              "    </tr>\n",
              "  </thead>\n",
              "  <tbody>\n",
              "    <tr>\n",
              "      <th>0</th>\n",
              "      <td>0</td>\n",
              "      <td>01DDBHC62ES5K80P0KYJ56AM2T</td>\n",
              "      <td>01DMBRYVA2P5H24WK0HTK4R0A1</td>\n",
              "      <td>bottom</td>\n",
              "      <td>Eileen Fisher</td>\n",
              "      <td>Slim Knit Skirt</td>\n",
              "    </tr>\n",
              "    <tr>\n",
              "      <th>1</th>\n",
              "      <td>1</td>\n",
              "      <td>01DDBHC62ES5K80P0KYJ56AM2T</td>\n",
              "      <td>01DMBRYVA2PEPWFTT7RMP5AA1T</td>\n",
              "      <td>top</td>\n",
              "      <td>Eileen Fisher</td>\n",
              "      <td>Rib Mock Neck Tank</td>\n",
              "    </tr>\n",
              "    <tr>\n",
              "      <th>2</th>\n",
              "      <td>2</td>\n",
              "      <td>01DDBHC62ES5K80P0KYJ56AM2T</td>\n",
              "      <td>01DMBRYVA2S5T9W793F4CY41HE</td>\n",
              "      <td>accessory</td>\n",
              "      <td>kate spade new york</td>\n",
              "      <td>medium margaux leather satchel</td>\n",
              "    </tr>\n",
              "    <tr>\n",
              "      <th>3</th>\n",
              "      <td>3</td>\n",
              "      <td>01DDBHC62ES5K80P0KYJ56AM2T</td>\n",
              "      <td>01DMBRYVA2ZFDYRYY5TRQZJTBD</td>\n",
              "      <td>shoe</td>\n",
              "      <td>Tory Burch</td>\n",
              "      <td>Penelope Mid Cap Toe Pump</td>\n",
              "    </tr>\n",
              "    <tr>\n",
              "      <th>4</th>\n",
              "      <td>4</td>\n",
              "      <td>01DMHCX50CFX5YNG99F3Y65GQW</td>\n",
              "      <td>01DMBRYVA2P5H24WK0HTK4R0A1</td>\n",
              "      <td>bottom</td>\n",
              "      <td>Eileen Fisher</td>\n",
              "      <td>Slim Knit Skirt</td>\n",
              "    </tr>\n",
              "    <tr>\n",
              "      <th>5</th>\n",
              "      <td>5</td>\n",
              "      <td>01DMHCX50CFX5YNG99F3Y65GQW</td>\n",
              "      <td>01DMBRYVA2PEPWFTT7RMP5AA1T</td>\n",
              "      <td>top</td>\n",
              "      <td>Eileen Fisher</td>\n",
              "      <td>Rib Mock Neck Tank</td>\n",
              "    </tr>\n",
              "    <tr>\n",
              "      <th>6</th>\n",
              "      <td>6</td>\n",
              "      <td>01DMHCX50CFX5YNG99F3Y65GQW</td>\n",
              "      <td>01DMBRYVA2ZFDYRYY5TRQZJTBD</td>\n",
              "      <td>shoe</td>\n",
              "      <td>Tory Burch</td>\n",
              "      <td>Penelope Mid Cap Toe Pump</td>\n",
              "    </tr>\n",
              "    <tr>\n",
              "      <th>7</th>\n",
              "      <td>7</td>\n",
              "      <td>01DMHCX50CFX5YNG99F3Y65GQW</td>\n",
              "      <td>01DMHCNT41E14QWP503V7CT9G6</td>\n",
              "      <td>accessory</td>\n",
              "      <td>Nina</td>\n",
              "      <td>Crystal Clutch</td>\n",
              "    </tr>\n",
              "    <tr>\n",
              "      <th>8</th>\n",
              "      <td>8</td>\n",
              "      <td>01DMHRX35M2DPVYVQ1PNER4S4B</td>\n",
              "      <td>01DMBRYVA2Q2ST7MNYR6EEY4TK</td>\n",
              "      <td>onepiece</td>\n",
              "      <td>Equipment</td>\n",
              "      <td>Chemelle Midi Dress</td>\n",
              "    </tr>\n",
              "    <tr>\n",
              "      <th>9</th>\n",
              "      <td>9</td>\n",
              "      <td>01DMHRX35M2DPVYVQ1PNER4S4B</td>\n",
              "      <td>01DMBRYVA2ZFDYRYY5TRQZJTBD</td>\n",
              "      <td>shoe</td>\n",
              "      <td>Tory Burch</td>\n",
              "      <td>Penelope Mid Cap Toe Pump</td>\n",
              "    </tr>\n",
              "    <tr>\n",
              "      <th>10</th>\n",
              "      <td>10</td>\n",
              "      <td>01DMHRX35M2DPVYVQ1PNER4S4B</td>\n",
              "      <td>01DMHCNT41E14QWP503V7CT9G6</td>\n",
              "      <td>accessory</td>\n",
              "      <td>Nina</td>\n",
              "      <td>Crystal Clutch</td>\n",
              "    </tr>\n",
              "    <tr>\n",
              "      <th>11</th>\n",
              "      <td>11</td>\n",
              "      <td>01DMHRYZDTF2NBJ13ZEARKHA3T</td>\n",
              "      <td>01DMBRYVA2Q2ST7MNYR6EEY4TK</td>\n",
              "      <td>onepiece</td>\n",
              "      <td>Equipment</td>\n",
              "      <td>Chemelle Midi Dress</td>\n",
              "    </tr>\n",
              "    <tr>\n",
              "      <th>12</th>\n",
              "      <td>12</td>\n",
              "      <td>01DMHRYZDTF2NBJ13ZEARKHA3T</td>\n",
              "      <td>01DMBRYVA2S5T9W793F4CY41HE</td>\n",
              "      <td>accessory</td>\n",
              "      <td>kate spade new york</td>\n",
              "      <td>medium margaux leather satchel</td>\n",
              "    </tr>\n",
              "    <tr>\n",
              "      <th>13</th>\n",
              "      <td>13</td>\n",
              "      <td>01DMHRYZDTF2NBJ13ZEARKHA3T</td>\n",
              "      <td>01DMBRYVA2ZFDYRYY5TRQZJTBD</td>\n",
              "      <td>shoe</td>\n",
              "      <td>Tory Burch</td>\n",
              "      <td>Penelope Mid Cap Toe Pump</td>\n",
              "    </tr>\n",
              "    <tr>\n",
              "      <th>14</th>\n",
              "      <td>14</td>\n",
              "      <td>01DQ63P636Q4BQVCKT6Z4S41G5</td>\n",
              "      <td>01DPCRZWX4S2Z8Q5HYDFM4HNEG</td>\n",
              "      <td>shoe</td>\n",
              "      <td>J.Crew</td>\n",
              "      <td>Pointed-toe flats in suede</td>\n",
              "    </tr>\n",
              "    <tr>\n",
              "      <th>15</th>\n",
              "      <td>15</td>\n",
              "      <td>01DQ63P636Q4BQVCKT6Z4S41G5</td>\n",
              "      <td>01DPET2NWSA221STZF740BZ9SW</td>\n",
              "      <td>top</td>\n",
              "      <td>Veronica Beard</td>\n",
              "      <td>Ashlynn Blouse</td>\n",
              "    </tr>\n",
              "    <tr>\n",
              "      <th>16</th>\n",
              "      <td>16</td>\n",
              "      <td>01DQ63P636Q4BQVCKT6Z4S41G5</td>\n",
              "      <td>01DPKMGJ33SDFXM7XHGPQJWQ12</td>\n",
              "      <td>bottom</td>\n",
              "      <td>Reformation</td>\n",
              "      <td>Benson Skirt</td>\n",
              "    </tr>\n",
              "    <tr>\n",
              "      <th>17</th>\n",
              "      <td>17</td>\n",
              "      <td>01DQ86EH3GMXAVKNECH2Z6FCSV</td>\n",
              "      <td>01DPGTXH6QTM161M660N9W7C3S</td>\n",
              "      <td>shoe</td>\n",
              "      <td>J.Crew</td>\n",
              "      <td>Block-heel pumps in suede</td>\n",
              "    </tr>\n",
              "    <tr>\n",
              "      <th>18</th>\n",
              "      <td>18</td>\n",
              "      <td>01DQ86EH3GMXAVKNECH2Z6FCSV</td>\n",
              "      <td>01DPGWYTS97KK213K1QNJV6610</td>\n",
              "      <td>accessory</td>\n",
              "      <td>J.Crew</td>\n",
              "      <td>Bembien® Jeanne leather woven market tote bag</td>\n",
              "    </tr>\n",
              "    <tr>\n",
              "      <th>19</th>\n",
              "      <td>19</td>\n",
              "      <td>01DQ86EH3GMXAVKNECH2Z6FCSV</td>\n",
              "      <td>01DPKNJ6J1NQPQ1D3DBKWK5ARS</td>\n",
              "      <td>onepiece</td>\n",
              "      <td>Reformation</td>\n",
              "      <td>Rosamund Dress</td>\n",
              "    </tr>\n",
              "  </tbody>\n",
              "</table>\n",
              "</div>"
            ],
            "text/plain": [
              "    Unnamed: 0  ...                              product_full_name\n",
              "0            0  ...                                Slim Knit Skirt\n",
              "1            1  ...                             Rib Mock Neck Tank\n",
              "2            2  ...                 medium margaux leather satchel\n",
              "3            3  ...                      Penelope Mid Cap Toe Pump\n",
              "4            4  ...                                Slim Knit Skirt\n",
              "5            5  ...                             Rib Mock Neck Tank\n",
              "6            6  ...                      Penelope Mid Cap Toe Pump\n",
              "7            7  ...                                 Crystal Clutch\n",
              "8            8  ...                            Chemelle Midi Dress\n",
              "9            9  ...                      Penelope Mid Cap Toe Pump\n",
              "10          10  ...                                 Crystal Clutch\n",
              "11          11  ...                            Chemelle Midi Dress\n",
              "12          12  ...                 medium margaux leather satchel\n",
              "13          13  ...                      Penelope Mid Cap Toe Pump\n",
              "14          14  ...                     Pointed-toe flats in suede\n",
              "15          15  ...                                 Ashlynn Blouse\n",
              "16          16  ...                                   Benson Skirt\n",
              "17          17  ...                      Block-heel pumps in suede\n",
              "18          18  ...  Bembien® Jeanne leather woven market tote bag\n",
              "19          19  ...                                 Rosamund Dress\n",
              "\n",
              "[20 rows x 6 columns]"
            ]
          },
          "metadata": {
            "tags": []
          },
          "execution_count": 2
        }
      ]
    },
    {
      "cell_type": "code",
      "metadata": {
        "id": "QIaNGmaLatoJ",
        "colab_type": "code",
        "outputId": "c00bed4c-2d06-45c3-c950-9f7ccac62f66",
        "colab": {
          "base_uri": "https://localhost:8080/",
          "height": 34
        }
      },
      "source": [
        "# check for unique item types\n",
        "outfit_combination_df.outfit_item_type.unique()"
      ],
      "execution_count": 3,
      "outputs": [
        {
          "output_type": "execute_result",
          "data": {
            "text/plain": [
              "array(['bottom', 'top', 'accessory', 'shoe', 'onepiece'], dtype=object)"
            ]
          },
          "metadata": {
            "tags": []
          },
          "execution_count": 3
        }
      ]
    },
    {
      "cell_type": "code",
      "metadata": {
        "id": "plugR3LMatoL",
        "colab_type": "code",
        "outputId": "0354f4ea-af71-4a9a-ffcf-f7bf9c2c4fc9",
        "colab": {
          "base_uri": "https://localhost:8080/",
          "height": 34
        }
      },
      "source": [
        "# check for duplicated recommendations\n",
        "outfit_combination_df.duplicated().sum()"
      ],
      "execution_count": 4,
      "outputs": [
        {
          "output_type": "execute_result",
          "data": {
            "text/plain": [
              "0"
            ]
          },
          "metadata": {
            "tags": []
          },
          "execution_count": 4
        }
      ]
    },
    {
      "cell_type": "code",
      "metadata": {
        "id": "VjwBWG8batoP",
        "colab_type": "code",
        "colab": {}
      },
      "source": [
        "# create lookup tables/dicts\n",
        "item_lookup_tb = outfit_combination_df[['product_id', 'outfit_item_type', 'brand', 'product_full_name']].drop_duplicates()\n",
        "outfit_ids = {num:outfit_id for num, outfit_id in enumerate(outfit_combination_df.outfit_id.unique())}\n",
        "product_ids = {num:product_id for num, product_id in enumerate(outfit_combination_df.product_id.unique())}\n",
        "product_ids_num = {product_id:num for num, product_id in enumerate(outfit_combination_df.product_id.unique())}\n",
        "product_type_lookup = outfit_combination_df[['product_id', 'outfit_item_type']].drop_duplicates().set_index('product_id')['outfit_item_type']\n",
        "product_name_lookup = outfit_combination_df[['product_id', 'product_full_name']].drop_duplicates().set_index('product_id')['product_full_name'].to_dict()\n",
        "product_brand_lookup = outfit_combination_df[['product_id', 'brand']].drop_duplicates().set_index('product_id')['brand'].to_dict()"
      ],
      "execution_count": 0,
      "outputs": []
    },
    {
      "cell_type": "code",
      "metadata": {
        "id": "PWFtHgI3RdYU",
        "colab_type": "code",
        "colab": {}
      },
      "source": [
        "def factorize(outfit):\n",
        "    products = outfit_combination_df[outfit_combination_df.outfit_id == outfit.name].product_id\n",
        "    for product in products:\n",
        "        outfit.loc[product] = 1\n",
        "    return outfit"
      ],
      "execution_count": 0,
      "outputs": []
    },
    {
      "cell_type": "code",
      "metadata": {
        "id": "5oNGgOkZatoV",
        "colab_type": "code",
        "colab": {}
      },
      "source": [
        "# construct sparse matrix\n",
        "sparse_outfit_matrix = pd.DataFrame(\n",
        "    0,\n",
        "    columns=product_ids.values(),\n",
        "    index=outfit_ids.values()).apply(factorize,axis=1).T"
      ],
      "execution_count": 0,
      "outputs": []
    },
    {
      "cell_type": "code",
      "metadata": {
        "id": "_luncRgDatoX",
        "colab_type": "code",
        "outputId": "bbddfc0a-6457-4c75-8403-2e8ad3137219",
        "colab": {
          "base_uri": "https://localhost:8080/",
          "height": 34
        }
      },
      "source": [
        "#sanity check\n",
        "sparse_outfit_matrix.loc['01DMBRYVA2P5H24WK0HTK4R0A1','01DMHCX50CFX5YNG99F3Y65GQW']"
      ],
      "execution_count": 8,
      "outputs": [
        {
          "output_type": "execute_result",
          "data": {
            "text/plain": [
              "1"
            ]
          },
          "metadata": {
            "tags": []
          },
          "execution_count": 8
        }
      ]
    },
    {
      "cell_type": "code",
      "metadata": {
        "id": "CKqpu4WGeOlM",
        "colab_type": "code",
        "outputId": "ec1da371-0f4b-445b-9453-3e5ca4b9f98a",
        "colab": {
          "base_uri": "https://localhost:8080/",
          "height": 34
        }
      },
      "source": [
        "# check for sparsity\n",
        "print('Sparsity: {:4.3f}%'.format(float(sparse_outfit_matrix.shape[0])/float(len(outfit_ids)*len(product_ids))*100))"
      ],
      "execution_count": 9,
      "outputs": [
        {
          "output_type": "stream",
          "text": [
            "Sparsity: 0.088%\n"
          ],
          "name": "stdout"
        }
      ]
    },
    {
      "cell_type": "markdown",
      "metadata": {
        "id": "idZ6W7cUhQQq",
        "colab_type": "text"
      },
      "source": [
        "# Classic Factorization Models"
      ]
    },
    {
      "cell_type": "code",
      "metadata": {
        "id": "rdxPgp2BatoZ",
        "colab_type": "code",
        "colab": {}
      },
      "source": [
        "# def create_SVD_dfs(df, n_components=50):\n",
        "#     U, sig, V = randomized_svd(np.array(df), n_components=n_components)\n",
        "#     U_df = pd.DataFrame(U, index=df.index)\n",
        "#     V_df = pd.DataFrame(V, columns=df.columns)\n",
        "#     return U_df, sig, V_df.T\n",
        "# outfits_df, sig, products_df = create_SVD_dfs(sparse_outfit_matrix)"
      ],
      "execution_count": 0,
      "outputs": []
    },
    {
      "cell_type": "code",
      "metadata": {
        "id": "_p1_2boQ5K_s",
        "colab_type": "code",
        "colab": {}
      },
      "source": [
        "# recommend for items given 1 product id\n",
        "def recommend_products(recommended_products, recommendations, outfits):\n",
        "  for rec in recommendations:\n",
        "    onepiece, bottom_top = True, True\n",
        "    if 'bottom' in recommended_products or 'top' in recommended_products:\n",
        "      onepiece = False\n",
        "    if 'onepiece' in recommended_products:\n",
        "      bottom_top = False\n",
        "    if (len(recommended_products) == 3 and onepiece) | \\\n",
        "        (len(recommended_products) == 4 and bottom_top):\n",
        "      return recommended_products\n",
        "    if product_type_lookup.loc[product_ids[rec[0]]] in recommended_products:\n",
        "      continue\n",
        "    if (product_type_lookup.loc[product_ids[rec[0]]] in ['bottom', 'top'] and not bottom_top) | \\\n",
        "        (product_type_lookup.loc[product_ids[rec[0]]] == 'onepiece' and not onepiece):\n",
        "      continue\n",
        "    recommended_products[product_type_lookup.loc[product_ids[rec[0]]]] = product_ids[rec[0]]"
      ],
      "execution_count": 0,
      "outputs": []
    },
    {
      "cell_type": "code",
      "metadata": {
        "id": "1cgp6zm07b65",
        "colab_type": "code",
        "colab": {}
      },
      "source": [
        "def beautify_output(recommended_output):\n",
        "  recommended_out_df = pd.DataFrame(\n",
        "      [[product_brand_lookup[item_id], product_name_lookup[item_id]] for item_id in recommended_output.values()], \n",
        "      index=recommended_output.keys(),\n",
        "      columns=['Brand','Item'])\n",
        "  return recommended_out_df"
      ],
      "execution_count": 0,
      "outputs": []
    },
    {
      "cell_type": "code",
      "metadata": {
        "id": "joksuT5kz74s",
        "colab_type": "code",
        "colab": {
          "base_uri": "https://localhost:8080/",
          "height": 34
        },
        "outputId": "34ea55e7-6ddd-46c7-e05f-bc79f4143225"
      },
      "source": [
        "# single id recommender. default model is ALS\n",
        "def outfit_recommender(\n",
        "    sparse_outfit_matrix, \n",
        "    item_id, \n",
        "    model=implicit.als.AlternatingLeastSquares(factors=50, regularization=0.1, iterations=50, use_gpu=False),\n",
        "    verbose=True,\n",
        "    N=100):\n",
        "  sparse_outfit_matrix = sparse.csr_matrix(sparse_outfit_matrix)\n",
        "  model.fit(sparse_outfit_matrix)\n",
        "  recommendations = model.similar_items(product_ids_num[item_id], N=N)\n",
        "  input_type = product_type_lookup.loc[item_id]\n",
        "  outfits = product_type_lookup.unique().tolist()\n",
        "  recommended_products = {input_type:item_id}\n",
        "  recommended_output = recommend_products(recommended_products, recommendations, outfits)\n",
        "  if verbose:\n",
        "    print('---Based on your query, we recommend the following outfit---')\n",
        "  return beautify_output(recommended_output)"
      ],
      "execution_count": 13,
      "outputs": [
        {
          "output_type": "stream",
          "text": [
            "WARNING:root:OpenBLAS detected. Its highly recommend to set the environment variable 'export OPENBLAS_NUM_THREADS=1' to disable its internal multithreading\n"
          ],
          "name": "stderr"
        }
      ]
    },
    {
      "cell_type": "code",
      "metadata": {
        "id": "gAShTapnb7a2",
        "colab_type": "code",
        "colab": {}
      },
      "source": [
        "# different recommendation models from implicit package\n",
        "ALS = implicit.als.AlternatingLeastSquares(factors=50, iterations=50, use_gpu=False)\n",
        "baysian_ranking = implicit.bpr.BayesianPersonalizedRanking(factors=50, iterations=50, use_gpu=False)\n",
        "logisticMF = implicit.lmf.LogisticMatrixFactorization(factors=50, iterations=50, use_gpu=False)\n",
        "models = [ALS, baysian_ranking, logisticMF]"
      ],
      "execution_count": 0,
      "outputs": []
    },
    {
      "cell_type": "code",
      "metadata": {
        "id": "C5rB9_XUdVrS",
        "colab_type": "code",
        "colab": {}
      },
      "source": [
        "# recommend multiple outfits given the same 1 unique item id\n",
        "def multiple_outfits(models, item_id):\n",
        "  outfits = []\n",
        "  for model in models:\n",
        "    outfit = outfit_recommender(sparse_outfit_matrix, item_id, model, verbose=False)\n",
        "    outfits.append(outfit)\n",
        "  output_outfits = [pd.DataFrame(), pd.DataFrame()]\n",
        "  for outfit in outfits:\n",
        "    if outfit.sort_values('Item').equals(output_outfits[-1]) | outfit.sort_values('Item').equals(output_outfits[-2]):\n",
        "      continue\n",
        "    output_outfits.append(outfit.sort_values('Item'))\n",
        "  return output_outfits[2:]"
      ],
      "execution_count": 0,
      "outputs": []
    },
    {
      "cell_type": "code",
      "metadata": {
        "id": "TpjtuMHHJWNk",
        "colab_type": "code",
        "colab": {}
      },
      "source": [
        "# dynamic user prompts product_id_recommender with built in id spell correction and prompt user for multiple for single recommendation\n",
        "def product_id_recommender(input_id=None,called=False):\n",
        "  \"\"\"\n",
        "  Please input the correct Product ID and the system will recommend outfit(s) based on your query\n",
        "  \"\"\"\n",
        "  import getpass\n",
        "  sparse_outfit_matrix = pd.DataFrame(\n",
        "    0,\n",
        "    columns=product_ids.values(),\n",
        "    index=outfit_ids.values()).apply(factorize,axis=1).T\n",
        "  swapped = True\n",
        "  if not called:\n",
        "    input_id = str(getpass.getpass('Please enter your product ID to get a recommended fit from us'))\n",
        "  if input_id not in product_ids_num:\n",
        "    swapped = False\n",
        "    suggested_ids = pd.Series(list(product_ids_num.keys()),index=product_ids_num.keys()).\\\n",
        "          apply(lambda idx: fuzz.ratio(idx.lower(),input_id.lower())).\\\n",
        "          sort_values(ascending=False)\n",
        "    for i in range(3):\n",
        "      switch_id = str(getpass.getpass(f'Did you mean {suggested_ids.index[i]}?\\nY/N'))\n",
        "      if switch_id.lower() == 'y':\n",
        "        input_id = suggested_ids.index[i]\n",
        "        swapped = True\n",
        "        break\n",
        "  if not swapped:\n",
        "    return 'Could not find the item you were looking for'\n",
        "  \n",
        "  multiple_fits = str(getpass.getpass('Do you want multiple outfits?\\nY/N'))\n",
        "  if multiple_fits.lower() == 'y':\n",
        "    multiple_outs = multiple_outfits(models, input_id)\n",
        "    for outfit in multiple_outs:\n",
        "      print(outfit)\n",
        "      print('############################################################################')\n",
        "    return multiple_outs\n",
        "  final_outfit = outfit_recommender(sparse_outfit_matrix, input_id)\n",
        "  print(final_outfit)\n",
        "  return final_outfit"
      ],
      "execution_count": 0,
      "outputs": []
    },
    {
      "cell_type": "code",
      "metadata": {
        "id": "ONPbMFMIWcb-",
        "colab_type": "code",
        "colab": {}
      },
      "source": [
        ""
      ],
      "execution_count": 0,
      "outputs": []
    },
    {
      "cell_type": "code",
      "metadata": {
        "id": "JaGoRNjOEGPj",
        "colab_type": "code",
        "outputId": "d7253ed2-25e3-4de3-d322-4b1a06ca08ef",
        "colab": {
          "base_uri": "https://localhost:8080/",
          "height": 208,
          "referenced_widgets": [
            "29d991a0175642fca7ee567b9c148aea",
            "6659760920804a0b9dafac1ef27ffa80",
            "56d9081164fb440b86967ad0aa6ec107",
            "6a0342e91148415b88b339b64dcdbde4",
            "ec713605767441c1949135273388c567",
            "a17d2980c88648979cc2e1034ab4c833",
            "f2a287a914da429f8f9126ef61663aa8",
            "b3f7ba6f07e947adbfecf83f6a6e96c3"
          ]
        }
      },
      "source": [
        "outfit_recommender(sparse_outfit_matrix, '01DPCWEJRBVWZE397FMF9QXBBY')"
      ],
      "execution_count": 17,
      "outputs": [
        {
          "output_type": "display_data",
          "data": {
            "application/vnd.jupyter.widget-view+json": {
              "model_id": "29d991a0175642fca7ee567b9c148aea",
              "version_minor": 0,
              "version_major": 2
            },
            "text/plain": [
              "HBox(children=(FloatProgress(value=0.0, max=50.0), HTML(value='')))"
            ]
          },
          "metadata": {
            "tags": []
          }
        },
        {
          "output_type": "stream",
          "text": [
            "\n",
            "---Based on your query, we recommend the following outfit---\n"
          ],
          "name": "stdout"
        },
        {
          "output_type": "execute_result",
          "data": {
            "text/html": [
              "<div>\n",
              "<style scoped>\n",
              "    .dataframe tbody tr th:only-of-type {\n",
              "        vertical-align: middle;\n",
              "    }\n",
              "\n",
              "    .dataframe tbody tr th {\n",
              "        vertical-align: top;\n",
              "    }\n",
              "\n",
              "    .dataframe thead th {\n",
              "        text-align: right;\n",
              "    }\n",
              "</style>\n",
              "<table border=\"1\" class=\"dataframe\">\n",
              "  <thead>\n",
              "    <tr style=\"text-align: right;\">\n",
              "      <th></th>\n",
              "      <th>Brand</th>\n",
              "      <th>Item</th>\n",
              "    </tr>\n",
              "  </thead>\n",
              "  <tbody>\n",
              "    <tr>\n",
              "      <th>onepiece</th>\n",
              "      <td>J.Crew</td>\n",
              "      <td>Gingham button-front midi dress with ruffle he...</td>\n",
              "    </tr>\n",
              "    <tr>\n",
              "      <th>accessory</th>\n",
              "      <td>Veronica Beard</td>\n",
              "      <td>Theron Jacket</td>\n",
              "    </tr>\n",
              "    <tr>\n",
              "      <th>shoe</th>\n",
              "      <td>ANINE BING</td>\n",
              "      <td>Stella Boots</td>\n",
              "    </tr>\n",
              "  </tbody>\n",
              "</table>\n",
              "</div>"
            ],
            "text/plain": [
              "                    Brand                                               Item\n",
              "onepiece           J.Crew  Gingham button-front midi dress with ruffle he...\n",
              "accessory  Veronica Beard                                      Theron Jacket\n",
              "shoe           ANINE BING                                       Stella Boots"
            ]
          },
          "metadata": {
            "tags": []
          },
          "execution_count": 17
        }
      ]
    },
    {
      "cell_type": "markdown",
      "metadata": {
        "id": "olDU3YX9JOmR",
        "colab_type": "text"
      },
      "source": [
        "# Neural CF"
      ]
    },
    {
      "cell_type": "code",
      "metadata": {
        "id": "xgNwRVbnJQVE",
        "colab_type": "code",
        "outputId": "db45c67f-c6d5-474d-838f-dceb30a0b51c",
        "colab": {
          "base_uri": "https://localhost:8080/",
          "height": 238
        }
      },
      "source": [
        "!pip install git+https://github.com/maciejkula/spotlight.git\n",
        "from spotlight.interactions import Interactions\n",
        "from spotlight.factorization.implicit import ImplicitFactorizationModel\n",
        "from spotlight.cross_validation import random_train_test_split\n",
        "from spotlight.evaluation import rmse_score, mrr_score, precision_recall_score\n",
        "from spotlight.factorization.representations import BilinearNet\n",
        "from spotlight.layers import BloomEmbedding, ScaledEmbedding"
      ],
      "execution_count": 18,
      "outputs": [
        {
          "output_type": "stream",
          "text": [
            "Collecting git+https://github.com/maciejkula/spotlight.git\n",
            "  Cloning https://github.com/maciejkula/spotlight.git to /tmp/pip-req-build-2raqowzi\n",
            "  Running command git clone -q https://github.com/maciejkula/spotlight.git /tmp/pip-req-build-2raqowzi\n",
            "Requirement already satisfied: torch>=0.4.0 in /usr/local/lib/python3.6/dist-packages (from spotlight==0.1.6) (1.5.0+cu101)\n",
            "Requirement already satisfied: numpy in /usr/local/lib/python3.6/dist-packages (from torch>=0.4.0->spotlight==0.1.6) (1.18.4)\n",
            "Requirement already satisfied: future in /usr/local/lib/python3.6/dist-packages (from torch>=0.4.0->spotlight==0.1.6) (0.16.0)\n",
            "Building wheels for collected packages: spotlight\n",
            "  Building wheel for spotlight (setup.py) ... \u001b[?25l\u001b[?25hdone\n",
            "  Created wheel for spotlight: filename=spotlight-0.1.6-cp36-none-any.whl size=33920 sha256=8fcaeab541c949bff106a6821ccf0202a4a242dff76069e3755d6b301517d431\n",
            "  Stored in directory: /tmp/pip-ephem-wheel-cache-6prk33xs/wheels/0a/33/c8/e8510ea648aaacf6031e128dfa92bcd3750f02db2aaf0922fe\n",
            "Successfully built spotlight\n",
            "Installing collected packages: spotlight\n",
            "Successfully installed spotlight-0.1.6\n"
          ],
          "name": "stdout"
        }
      ]
    },
    {
      "cell_type": "markdown",
      "metadata": {
        "id": "r9dzgMvFU-k-",
        "colab_type": "text"
      },
      "source": [
        "Testing implicit model"
      ]
    },
    {
      "cell_type": "code",
      "metadata": {
        "id": "xhMJZmvfT3a5",
        "colab_type": "code",
        "colab": {}
      },
      "source": [
        "# look up tables\n",
        "product_ids_num = {product_id:num for num, product_id in enumerate(outfit_combination_df.product_id.unique())}\n",
        "outfit_ids_num = {outfit_id:num for num, outfit_id in enumerate(outfit_combination_df.outfit_id.unique())}\n",
        "outfit_num = outfit_combination_df.outfit_id.map(outfit_ids_num)\n",
        "product_num = outfit_combination_df.product_id.map(product_ids_num)"
      ],
      "execution_count": 0,
      "outputs": []
    },
    {
      "cell_type": "code",
      "metadata": {
        "id": "ocU1VMquJQRC",
        "colab_type": "code",
        "colab": {}
      },
      "source": [
        "# dataset prep and train test split\n",
        "implicit_interactions = Interactions(np.array(outfit_num),np.array(product_num))\n",
        "train, validation = random_train_test_split(implicit_interactions,test_percentage=0.1)\n",
        "validation, test = random_train_test_split(validation,test_percentage=0.5)"
      ],
      "execution_count": 0,
      "outputs": []
    },
    {
      "cell_type": "code",
      "metadata": {
        "id": "TsOqMHbhX4LU",
        "colab_type": "code",
        "outputId": "bdc3f54b-e9be-4c72-96bf-b61953bf7b48",
        "colab": {
          "base_uri": "https://localhost:8080/",
          "height": 34
        }
      },
      "source": [
        "# testing out performance of classic factorization model\n",
        "implicit_factorization_model = ImplicitFactorizationModel()\n",
        "implicit_factorization_model.fit(train)\n",
        "mrr_score(implicit_factorization_model,test).mean()"
      ],
      "execution_count": 21,
      "outputs": [
        {
          "output_type": "execute_result",
          "data": {
            "text/plain": [
              "0.23540950329272706"
            ]
          },
          "metadata": {
            "tags": []
          },
          "execution_count": 21
        }
      ]
    },
    {
      "cell_type": "markdown",
      "metadata": {
        "id": "xPkgYImfYBJJ",
        "colab_type": "text"
      },
      "source": [
        "Neural CF"
      ]
    },
    {
      "cell_type": "code",
      "metadata": {
        "id": "HmwXMpBfX_WV",
        "colab_type": "code",
        "colab": {}
      },
      "source": [
        "#Cred to https://github.com/maciejkula/spotlight/blob/master/examples/bloom_embeddings/example.py"
      ],
      "execution_count": 0,
      "outputs": []
    },
    {
      "cell_type": "code",
      "metadata": {
        "id": "jlY8kmvvX_TN",
        "colab_type": "code",
        "colab": {}
      },
      "source": [
        "# neural cf model\n",
        "def get_neural_model(train):\n",
        "\n",
        "    item_embeddings = BloomEmbedding(train.num_items, 100,\n",
        "                    compression_ratio=1,\n",
        "                    num_hash_functions=4,\n",
        "                    padding_idx=0)\n",
        "    user_embeddings = BloomEmbedding(train.num_users, 100,\n",
        "                    compression_ratio=1,\n",
        "                    num_hash_functions=4,\n",
        "                    padding_idx=0)\n",
        "\n",
        "    network = BilinearNet(train.num_users,\n",
        "                train.num_items,\n",
        "                user_embedding_layer=user_embeddings,\n",
        "                item_embedding_layer=item_embeddings)\n",
        "\n",
        "    model = ImplicitFactorizationModel(n_iter=10,\n",
        "                      l2=0,\n",
        "                      representation=network)\n",
        "\n",
        "    return model"
      ],
      "execution_count": 0,
      "outputs": []
    },
    {
      "cell_type": "code",
      "metadata": {
        "id": "YqM-oZnLX_PT",
        "colab_type": "code",
        "colab": {}
      },
      "source": [
        "# evaluate recommendation models\n",
        "def evaluate_model(model, train, test, validation):\n",
        "    model.fit(train, verbose=True)\n",
        "\n",
        "    test_mrr = mrr_score(model, test)\n",
        "    val_mrr = mrr_score(model, test.tocsr() + validation.tocsr())\n",
        "\n",
        "    return test_mrr, val_mrr"
      ],
      "execution_count": 0,
      "outputs": []
    },
    {
      "cell_type": "code",
      "metadata": {
        "id": "yW4uCgdPX_Mr",
        "colab_type": "code",
        "outputId": "09a1583a-afd7-4ec3-e471-e0cf77393b52",
        "colab": {
          "base_uri": "https://localhost:8080/",
          "height": 187
        }
      },
      "source": [
        "# training and testing neural model\n",
        "neural_model = get_neural_model(train)\n",
        "neural_test_mrr, neural_val_mrr = evaluate_model(neural_model, train, test, validation) "
      ],
      "execution_count": 25,
      "outputs": [
        {
          "output_type": "stream",
          "text": [
            "Epoch 0: loss 0.9859252760284826\n",
            "Epoch 1: loss 0.7178048271881906\n",
            "Epoch 2: loss 0.401774641714598\n",
            "Epoch 3: loss 0.21184666376364858\n",
            "Epoch 4: loss 0.1326316112750455\n",
            "Epoch 5: loss 0.09493397489974373\n",
            "Epoch 6: loss 0.07454693729155942\n",
            "Epoch 7: loss 0.06013986507528707\n",
            "Epoch 8: loss 0.05126650023617243\n",
            "Epoch 9: loss 0.04500420244508668\n"
          ],
          "name": "stdout"
        }
      ]
    },
    {
      "cell_type": "code",
      "metadata": {
        "id": "TFA6u6xMX_CO",
        "colab_type": "code",
        "outputId": "e489a0f8-5626-4ea0-d259-7a4f33fd5102",
        "colab": {
          "base_uri": "https://localhost:8080/",
          "height": 187
        }
      },
      "source": [
        "# testing factorization model\n",
        "factorization_test_mrr, factorization_mrr = evaluate_model(implicit_factorization_model, train, test, validation)"
      ],
      "execution_count": 26,
      "outputs": [
        {
          "output_type": "stream",
          "text": [
            "Epoch 0: loss 0.2603602048597838\n",
            "Epoch 1: loss 0.23354175686836243\n",
            "Epoch 2: loss 0.21534800843188637\n",
            "Epoch 3: loss 0.19102981686592102\n",
            "Epoch 4: loss 0.17305503315047213\n",
            "Epoch 5: loss 0.16362100761187703\n",
            "Epoch 6: loss 0.1473006362977781\n",
            "Epoch 7: loss 0.13329527723161796\n",
            "Epoch 8: loss 0.12258461902016088\n",
            "Epoch 9: loss 0.11589096212073376\n"
          ],
          "name": "stdout"
        }
      ]
    },
    {
      "cell_type": "code",
      "metadata": {
        "id": "2hu_8c0ZdzeY",
        "colab_type": "code",
        "outputId": "ced0a150-90cb-439c-a8b3-58715e02ae2b",
        "colab": {
          "base_uri": "https://localhost:8080/",
          "height": 51
        }
      },
      "source": [
        "print(f'The MRR for the neural CF is {neural_test_mrr.mean()}')\n",
        "print(f'The MRR for the classic CF is {factorization_mrr.mean()}')"
      ],
      "execution_count": 27,
      "outputs": [
        {
          "output_type": "stream",
          "text": [
            "The MRR for the neural CF is 0.08722703703618319\n",
            "The MRR for the classic CF is 0.23042754545252622\n"
          ],
          "name": "stdout"
        }
      ]
    },
    {
      "cell_type": "markdown",
      "metadata": {
        "id": "DU1OVKoUfvLk",
        "colab_type": "text"
      },
      "source": [
        "***Neural Models might be unreliable for small datasets so going forward used classic factorization model***"
      ]
    },
    {
      "cell_type": "markdown",
      "metadata": {
        "id": "OPzba4z0hBo3",
        "colab_type": "text"
      },
      "source": [
        "# Run for recommendations"
      ]
    },
    {
      "cell_type": "markdown",
      "metadata": {
        "id": "H_I3pnnoiBb3",
        "colab_type": "text"
      },
      "source": [
        "Single ID Recommendation"
      ]
    },
    {
      "cell_type": "code",
      "metadata": {
        "id": "rKcBkm3pexHW",
        "colab_type": "code",
        "outputId": "ccfdac1c-43d2-4a3c-c15d-a77b93e13a51",
        "colab": {
          "base_uri": "https://localhost:8080/",
          "height": 208,
          "referenced_widgets": [
            "e2dfa1f8a606407c957f90274e798cb1",
            "8be6d5fe7135405db07bccd68b7f9e37",
            "162fa13bac7a4020bfa06dc2b30c20c0",
            "86d83f12f1ac40fba26e31fe2e71ddf7",
            "3035a3bf06e84bddb89aab2a24316818",
            "3efeb3fe55c548f2beec6b1c2e3b63bf",
            "b350a66b9c1e42228d672718113b071c",
            "0fdd9bb2cf1a44db96ab0dbc71d6a3fd"
          ]
        }
      },
      "source": [
        "outfit_recommender(sparse_outfit_matrix, '01DMBRYVA2S5T9W793F4CY41HE')"
      ],
      "execution_count": 28,
      "outputs": [
        {
          "output_type": "display_data",
          "data": {
            "application/vnd.jupyter.widget-view+json": {
              "model_id": "e2dfa1f8a606407c957f90274e798cb1",
              "version_minor": 0,
              "version_major": 2
            },
            "text/plain": [
              "HBox(children=(FloatProgress(value=0.0, max=50.0), HTML(value='')))"
            ]
          },
          "metadata": {
            "tags": []
          }
        },
        {
          "output_type": "stream",
          "text": [
            "\n",
            "---Based on your query, we recommend the following outfit---\n"
          ],
          "name": "stdout"
        },
        {
          "output_type": "execute_result",
          "data": {
            "text/html": [
              "<div>\n",
              "<style scoped>\n",
              "    .dataframe tbody tr th:only-of-type {\n",
              "        vertical-align: middle;\n",
              "    }\n",
              "\n",
              "    .dataframe tbody tr th {\n",
              "        vertical-align: top;\n",
              "    }\n",
              "\n",
              "    .dataframe thead th {\n",
              "        text-align: right;\n",
              "    }\n",
              "</style>\n",
              "<table border=\"1\" class=\"dataframe\">\n",
              "  <thead>\n",
              "    <tr style=\"text-align: right;\">\n",
              "      <th></th>\n",
              "      <th>Brand</th>\n",
              "      <th>Item</th>\n",
              "    </tr>\n",
              "  </thead>\n",
              "  <tbody>\n",
              "    <tr>\n",
              "      <th>accessory</th>\n",
              "      <td>kate spade new york</td>\n",
              "      <td>medium margaux leather satchel</td>\n",
              "    </tr>\n",
              "    <tr>\n",
              "      <th>onepiece</th>\n",
              "      <td>Equipment</td>\n",
              "      <td>Chemelle Midi Dress</td>\n",
              "    </tr>\n",
              "    <tr>\n",
              "      <th>shoe</th>\n",
              "      <td>Tory Burch</td>\n",
              "      <td>Penelope Mid Cap Toe Pump</td>\n",
              "    </tr>\n",
              "  </tbody>\n",
              "</table>\n",
              "</div>"
            ],
            "text/plain": [
              "                         Brand                            Item\n",
              "accessory  kate spade new york  medium margaux leather satchel\n",
              "onepiece             Equipment             Chemelle Midi Dress\n",
              "shoe                Tory Burch       Penelope Mid Cap Toe Pump"
            ]
          },
          "metadata": {
            "tags": []
          },
          "execution_count": 28
        }
      ]
    },
    {
      "cell_type": "code",
      "metadata": {
        "id": "w_13ufokqx-C",
        "colab_type": "code",
        "outputId": "3f90c1b0-9183-4e99-ceb6-fe0961dc91f0",
        "colab": {
          "base_uri": "https://localhost:8080/",
          "height": 239,
          "referenced_widgets": [
            "2805dbbd4da544ee9168b2bf6b445525",
            "d593b2fd97834241a270c2a2cedaa638",
            "b5cc5db727914b6dbd2c09109378cbea",
            "eddf5cda254b4fd4a06f50ceb950c056",
            "bf777b39b3954c1c8b58cca41d3843e2",
            "2df407a3f035412c94b2594667e874fd",
            "90c8b11123b940bfb0b9db8cc77a6b67",
            "feb9569a12114cf2b80026cdb1d3986c"
          ]
        }
      },
      "source": [
        "outfit_recommender(sparse_outfit_matrix, product_ids[8], logisticMF)"
      ],
      "execution_count": 29,
      "outputs": [
        {
          "output_type": "display_data",
          "data": {
            "application/vnd.jupyter.widget-view+json": {
              "model_id": "2805dbbd4da544ee9168b2bf6b445525",
              "version_minor": 0,
              "version_major": 2
            },
            "text/plain": [
              "HBox(children=(FloatProgress(value=0.0, max=50.0), HTML(value='')))"
            ]
          },
          "metadata": {
            "tags": []
          }
        },
        {
          "output_type": "stream",
          "text": [
            "\n",
            "---Based on your query, we recommend the following outfit---\n"
          ],
          "name": "stdout"
        },
        {
          "output_type": "execute_result",
          "data": {
            "text/html": [
              "<div>\n",
              "<style scoped>\n",
              "    .dataframe tbody tr th:only-of-type {\n",
              "        vertical-align: middle;\n",
              "    }\n",
              "\n",
              "    .dataframe tbody tr th {\n",
              "        vertical-align: top;\n",
              "    }\n",
              "\n",
              "    .dataframe thead th {\n",
              "        text-align: right;\n",
              "    }\n",
              "</style>\n",
              "<table border=\"1\" class=\"dataframe\">\n",
              "  <thead>\n",
              "    <tr style=\"text-align: right;\">\n",
              "      <th></th>\n",
              "      <th>Brand</th>\n",
              "      <th>Item</th>\n",
              "    </tr>\n",
              "  </thead>\n",
              "  <tbody>\n",
              "    <tr>\n",
              "      <th>bottom</th>\n",
              "      <td>Reformation</td>\n",
              "      <td>Benson Skirt</td>\n",
              "    </tr>\n",
              "    <tr>\n",
              "      <th>top</th>\n",
              "      <td>Veronica Beard</td>\n",
              "      <td>Ashlynn Blouse</td>\n",
              "    </tr>\n",
              "    <tr>\n",
              "      <th>shoe</th>\n",
              "      <td>J.Crew</td>\n",
              "      <td>Pointed-toe flats in suede</td>\n",
              "    </tr>\n",
              "    <tr>\n",
              "      <th>accessory</th>\n",
              "      <td>J.Crew</td>\n",
              "      <td>Bembien® Jeanne leather woven market tote bag</td>\n",
              "    </tr>\n",
              "  </tbody>\n",
              "</table>\n",
              "</div>"
            ],
            "text/plain": [
              "                    Brand                                           Item\n",
              "bottom        Reformation                                   Benson Skirt\n",
              "top        Veronica Beard                                 Ashlynn Blouse\n",
              "shoe               J.Crew                     Pointed-toe flats in suede\n",
              "accessory          J.Crew  Bembien® Jeanne leather woven market tote bag"
            ]
          },
          "metadata": {
            "tags": []
          },
          "execution_count": 29
        }
      ]
    },
    {
      "cell_type": "markdown",
      "metadata": {
        "id": "EXwYBYRRiEfv",
        "colab_type": "text"
      },
      "source": [
        "Multiple outfits recommendation Demonstration"
      ]
    },
    {
      "cell_type": "code",
      "metadata": {
        "id": "pYfyfAhFdGmo",
        "colab_type": "code",
        "outputId": "34967431-a279-4036-8836-d094347f3bd2",
        "colab": {
          "base_uri": "https://localhost:8080/",
          "height": 453,
          "referenced_widgets": [
            "30efe5cdcd7644409333bf05fbd848bc",
            "488a890b059d447c948775fe5c6fb08d",
            "d736627cb7c74db296f81364c00b9cb1",
            "f4e14de5a33241fda61842616c820bc5",
            "c449d1c33c7d4ab4a134e90abea53a4b",
            "3a73fe3dcd574677a40c8a904a11da83",
            "1acc544f07dc418295c923331e6602d3",
            "eed145dc5f9b46cf83423d5e6acd2147",
            "7472c9711fdb4d5fbc61e1cb3db0bf41",
            "00a5c17275c5471c93b733cf9e180dcc",
            "58b2bfcd538b4b2c8ced6addfeb4d8b8",
            "2699eeab0633471ba5515fd8ae02156e",
            "f71083c443b84e68a40dfc0132abbe29",
            "c3d51f05c8794a458a32372dd677d85e",
            "bf29dcbbe2e74ddb9b08339152f05cd2",
            "65d19635f4a04caf9063bb9f8e6361fc",
            "ea503baa0f174eac951d2defe65492be",
            "a3f4f936560b456f987127ec051effca",
            "c927d84357b84247acdfadcb78a6e634",
            "7124f29d75544bcd952c6b9fa751f754",
            "d6ee542f89a24dafa19b158bdeeb4d57",
            "6be475dc75b543da9178cbd29114ab35",
            "0d4968e005df4c7e8e133351e966e71b",
            "c1d9f6136b0b4adfaa4f6f1d382fbefe"
          ]
        }
      },
      "source": [
        "multiple_outs = multiple_outfits(models, '01DMBRYVA2S5T9W793F4CY41HE')\n",
        "for outfit in multiple_outs:\n",
        "  print(outfit)\n",
        "  print('############################################################################')"
      ],
      "execution_count": 30,
      "outputs": [
        {
          "output_type": "display_data",
          "data": {
            "application/vnd.jupyter.widget-view+json": {
              "model_id": "30efe5cdcd7644409333bf05fbd848bc",
              "version_minor": 0,
              "version_major": 2
            },
            "text/plain": [
              "HBox(children=(FloatProgress(value=0.0, max=50.0), HTML(value='')))"
            ]
          },
          "metadata": {
            "tags": []
          }
        },
        {
          "output_type": "stream",
          "text": [
            "\n"
          ],
          "name": "stdout"
        },
        {
          "output_type": "display_data",
          "data": {
            "application/vnd.jupyter.widget-view+json": {
              "model_id": "7472c9711fdb4d5fbc61e1cb3db0bf41",
              "version_minor": 0,
              "version_major": 2
            },
            "text/plain": [
              "HBox(children=(FloatProgress(value=0.0, max=50.0), HTML(value='')))"
            ]
          },
          "metadata": {
            "tags": []
          }
        },
        {
          "output_type": "stream",
          "text": [
            "\n"
          ],
          "name": "stdout"
        },
        {
          "output_type": "display_data",
          "data": {
            "application/vnd.jupyter.widget-view+json": {
              "model_id": "ea503baa0f174eac951d2defe65492be",
              "version_minor": 0,
              "version_major": 2
            },
            "text/plain": [
              "HBox(children=(FloatProgress(value=0.0, max=50.0), HTML(value='')))"
            ]
          },
          "metadata": {
            "tags": []
          }
        },
        {
          "output_type": "stream",
          "text": [
            "\n",
            "                         Brand                                               Item\n",
            "shoe          Loeffler Randall                                   Goldy Tall Boots\n",
            "onepiece            Zimmermann  Zinnia halterneck polka-dot linen and cotton-b...\n",
            "accessory  kate spade new york                     medium margaux leather satchel\n",
            "############################################################################\n",
            "                         Brand                                               Item\n",
            "bottom            Envelope1976                     Lembongan wool wrap midi skirt\n",
            "top              Eileen Fisher                                 Rib Mock Neck Tank\n",
            "shoe           Common Projects  Special Edition Retro Low Nubuck and Suede Sne...\n",
            "accessory  kate spade new york                     medium margaux leather satchel\n",
            "############################################################################\n",
            "                         Brand                            Item\n",
            "shoe                Tory Burch       Penelope Mid Cap Toe Pump\n",
            "top              Eileen Fisher              Rib Mock Neck Tank\n",
            "bottom           Eileen Fisher                 Slim Knit Skirt\n",
            "accessory  kate spade new york  medium margaux leather satchel\n",
            "############################################################################\n"
          ],
          "name": "stdout"
        }
      ]
    },
    {
      "cell_type": "markdown",
      "metadata": {
        "id": "nX5VDUl6iH36",
        "colab_type": "text"
      },
      "source": [
        "Dynamic input system with product ID spell check Demonstration"
      ]
    },
    {
      "cell_type": "code",
      "metadata": {
        "id": "NRzcBf_nOhC4",
        "colab_type": "code",
        "outputId": "33bed1ad-5772-413f-8e6c-bc1b5481a1ba",
        "colab": {
          "base_uri": "https://localhost:8080/",
          "height": 202,
          "referenced_widgets": [
            "8cc9b60c1c734e298e5a219d88e15334",
            "2c60511380c84b7dad8d44276accd624",
            "3a8a38fa054446cfa002c55651de43d3",
            "a1d2c98dd3a74277a9fc836880ed93a3",
            "723016e9d6d745c89726720f0f0fbe93",
            "f623de2f0b8a404f91db9fcd280685ec",
            "fd84e3abbdda423ab90233a80b81c33e",
            "b602e78d41704fa0b161690a7c49afbd"
          ]
        }
      },
      "source": [
        "user_outfits = product_id_recommender()"
      ],
      "execution_count": 32,
      "outputs": [
        {
          "output_type": "stream",
          "text": [
            "Please enter your product ID to get a recommended fit from us··········\n",
            "Do you want multiple outfits?\n",
            "Y/N··········\n"
          ],
          "name": "stdout"
        },
        {
          "output_type": "display_data",
          "data": {
            "application/vnd.jupyter.widget-view+json": {
              "model_id": "8cc9b60c1c734e298e5a219d88e15334",
              "version_minor": 0,
              "version_major": 2
            },
            "text/plain": [
              "HBox(children=(FloatProgress(value=0.0, max=50.0), HTML(value='')))"
            ]
          },
          "metadata": {
            "tags": []
          }
        },
        {
          "output_type": "stream",
          "text": [
            "\n",
            "---Based on your query, we recommend the following outfit---\n",
            "                         Brand                            Item\n",
            "accessory  kate spade new york  medium margaux leather satchel\n",
            "onepiece             Equipment             Chemelle Midi Dress\n",
            "shoe                Tory Burch       Penelope Mid Cap Toe Pump\n"
          ],
          "name": "stdout"
        }
      ]
    },
    {
      "cell_type": "markdown",
      "metadata": {
        "id": "nBPTGKp_JCvW",
        "colab_type": "text"
      },
      "source": [
        "# Description / Detail / Brand Vectorization"
      ]
    },
    {
      "cell_type": "code",
      "metadata": {
        "id": "VXUBjwaI-H34",
        "colab_type": "code",
        "outputId": "6174e3f1-66ed-4ab5-be94-b259645d661b",
        "colab": {
          "base_uri": "https://localhost:8080/",
          "height": 102
        }
      },
      "source": [
        "# from https://radimrehurek.com/gensim/models/word2vec.html\n",
        "from gensim.test.utils import common_texts, get_tmpfile\n",
        "from gensim.models import Word2Vec\n",
        "from sklearn.metrics.pairwise import cosine_similarity\n",
        "import spacy.cli\n",
        "spacy.cli.download(\"en_core_web_md\")\n",
        "spacy.cli.download(\"en_core_web_sm\")\n",
        "from keras.models import Sequential\n",
        "from keras.layers import Dense\n",
        "from keras.layers.recurrent import SimpleRNN, LSTM\n",
        "from keras.wrappers.scikit_learn import KerasClassifier\n",
        "from keras.utils import np_utils\n",
        "from sklearn.model_selection import cross_val_score\n",
        "from sklearn.model_selection import KFold\n",
        "from sklearn.preprocessing import LabelEncoder\n",
        "from sklearn.pipeline import Pipeline\n",
        "from sklearn.model_selection import train_test_split\n",
        "from sklearn.metrics import classification_report, precision_score, f1_score, accuracy_score, hamming_loss\n",
        "import re"
      ],
      "execution_count": 33,
      "outputs": [
        {
          "output_type": "stream",
          "text": [
            "\u001b[38;5;2m✔ Download and installation successful\u001b[0m\n",
            "You can now load the model via spacy.load('en_core_web_md')\n",
            "\u001b[38;5;2m✔ Download and installation successful\u001b[0m\n",
            "You can now load the model via spacy.load('en_core_web_sm')\n"
          ],
          "name": "stdout"
        },
        {
          "output_type": "stream",
          "text": [
            "Using TensorFlow backend.\n"
          ],
          "name": "stderr"
        }
      ]
    },
    {
      "cell_type": "code",
      "metadata": {
        "id": "S_4k3XrqgkrH",
        "colab_type": "code",
        "colab": {}
      },
      "source": [
        "# grab additional info from full data and join with outfit data\n",
        "full_data = pd.read_csv('full_data.csv')\n",
        "outfit_full_df = outfit_combination_df.merge(full_data,how='left',left_on='product_id',right_on='product_id')"
      ],
      "execution_count": 0,
      "outputs": []
    },
    {
      "cell_type": "code",
      "metadata": {
        "id": "xpi9gh21iww9",
        "colab_type": "code",
        "colab": {}
      },
      "source": [
        "# text preprocessing(lemmatization, stopword removal, lower, strip punctuations)\n",
        "def deep_cleaned(dirty_text, return_tokens=False):\n",
        "  lem = WordNetLemmatizer()\n",
        "  remove_digits = str.maketrans('', '', string.digits)\n",
        "  dirty_text = dirty_text.translate(remove_digits)\n",
        "\n",
        "  dirty_text = dirty_text.lower()\n",
        "  dirty_text = dirty_text.translate(str.maketrans('', '', string.punctuation))\n",
        "  dirty_text = remove_stopwords(dirty_text)\n",
        "  tokens = gensim.utils.tokenize(dirty_text)\n",
        "  lemmed_tokens = [lem.lemmatize(token) for token in tokens]\n",
        "  if return_tokens:\n",
        "    return lemmed_tokens\n",
        "  return ' '.join(lemmed_tokens)\n",
        "\n",
        "outfit_full_df.index = outfit_full_df.product_id"
      ],
      "execution_count": 0,
      "outputs": []
    },
    {
      "cell_type": "markdown",
      "metadata": {
        "id": "pb9KckyCAVS7",
        "colab_type": "text"
      },
      "source": [
        "# Description2Brand"
      ]
    },
    {
      "cell_type": "code",
      "metadata": {
        "id": "NG5IS8DrYkJQ",
        "colab_type": "code",
        "colab": {}
      },
      "source": [
        "# data prep for Description2Brand Classification model. Was not used later so can skip this section\n",
        "nlp = spacy.load('en_core_web_md')\n",
        "description_brand_df = outfit_full_df.set_index('product_id')[['brand_x','description','brand_category']].drop_duplicates().fillna('')\n",
        "X = np.array([nlp(desc).vector for desc in description_brand_df.description]).reshape(-1,1,300)\n",
        "Y = description_brand_df.brand_x.apply(str.lower).values\n",
        "encoder = LabelEncoder()\n",
        "encoder.fit(Y)\n",
        "encoded_Y = encoder.transform(Y)\n",
        "dummy_y = np_utils.to_categorical(encoded_Y)\n",
        "#https://machinelearningmastery.com/multi-class-classification-tutorial-keras-deep-learning-library/"
      ],
      "execution_count": 0,
      "outputs": []
    },
    {
      "cell_type": "code",
      "metadata": {
        "id": "M7uZtl1rKSOJ",
        "colab_type": "code",
        "colab": {}
      },
      "source": [
        "# dectionption 2 x classifier model\n",
        "def Description2x():\n",
        "  model = Sequential()\n",
        "  model.add(LSTM(units=64,input_shape=(1,300)))\n",
        "  model.add(Dense(16, activation='relu'))\n",
        "  model.add(Dense(len(np.unique(Y)), activation='softmax'))\n",
        "  model.compile(loss='categorical_crossentropy', optimizer='adam', metrics=['accuracy'])\n",
        "  return model"
      ],
      "execution_count": 0,
      "outputs": []
    },
    {
      "cell_type": "code",
      "metadata": {
        "id": "-YeV8KkdOesV",
        "colab_type": "code",
        "outputId": "9e5162de-22ec-46f0-8193-96e68abd1d16",
        "colab": {
          "base_uri": "https://localhost:8080/",
          "height": 561
        }
      },
      "source": [
        "# training description 2 brand model\n",
        "X_train, X_test, y_train, y_test = train_test_split(X,dummy_y,test_size=0.1,random_state=24)\n",
        "brandclassifier = KerasClassifier(build_fn=Description2x, validation_split=0.1, epochs=15, batch_size=16, verbose=1)\n",
        "brandclassifier.fit(X_train,y_train)"
      ],
      "execution_count": 38,
      "outputs": [
        {
          "output_type": "stream",
          "text": [
            "Train on 658 samples, validate on 74 samples\n",
            "Epoch 1/15\n",
            "658/658 [==============================] - 1s 1ms/step - loss: 5.6457 - accuracy: 0.0502 - val_loss: 5.6196 - val_accuracy: 0.0946\n",
            "Epoch 2/15\n",
            "658/658 [==============================] - 0s 219us/step - loss: 5.4314 - accuracy: 0.0578 - val_loss: 5.5388 - val_accuracy: 0.0946\n",
            "Epoch 3/15\n",
            "658/658 [==============================] - 0s 203us/step - loss: 5.0888 - accuracy: 0.0532 - val_loss: 5.6555 - val_accuracy: 0.0946\n",
            "Epoch 4/15\n",
            "658/658 [==============================] - 0s 198us/step - loss: 4.9636 - accuracy: 0.0562 - val_loss: 5.8058 - val_accuracy: 0.0946\n",
            "Epoch 5/15\n",
            "658/658 [==============================] - 0s 207us/step - loss: 4.9024 - accuracy: 0.0623 - val_loss: 5.8122 - val_accuracy: 0.0946\n",
            "Epoch 6/15\n",
            "658/658 [==============================] - 0s 216us/step - loss: 4.8396 - accuracy: 0.0653 - val_loss: 5.8125 - val_accuracy: 0.0946\n",
            "Epoch 7/15\n",
            "658/658 [==============================] - 0s 223us/step - loss: 4.7459 - accuracy: 0.0684 - val_loss: 5.7637 - val_accuracy: 0.1081\n",
            "Epoch 8/15\n",
            "658/658 [==============================] - 0s 213us/step - loss: 4.6337 - accuracy: 0.0760 - val_loss: 5.8203 - val_accuracy: 0.1081\n",
            "Epoch 9/15\n",
            "658/658 [==============================] - 0s 206us/step - loss: 4.5200 - accuracy: 0.0790 - val_loss: 5.8833 - val_accuracy: 0.1216\n",
            "Epoch 10/15\n",
            "658/658 [==============================] - 0s 203us/step - loss: 4.4252 - accuracy: 0.0957 - val_loss: 6.0257 - val_accuracy: 0.1081\n",
            "Epoch 11/15\n",
            "658/658 [==============================] - 0s 203us/step - loss: 4.3431 - accuracy: 0.1140 - val_loss: 6.0409 - val_accuracy: 0.1081\n",
            "Epoch 12/15\n",
            "658/658 [==============================] - 0s 202us/step - loss: 4.2614 - accuracy: 0.1292 - val_loss: 6.1471 - val_accuracy: 0.0946\n",
            "Epoch 13/15\n",
            "658/658 [==============================] - 0s 208us/step - loss: 4.1875 - accuracy: 0.1398 - val_loss: 6.2567 - val_accuracy: 0.1081\n",
            "Epoch 14/15\n",
            "658/658 [==============================] - 0s 231us/step - loss: 4.1030 - accuracy: 0.1459 - val_loss: 6.1787 - val_accuracy: 0.1081\n",
            "Epoch 15/15\n",
            "658/658 [==============================] - 0s 207us/step - loss: 4.0208 - accuracy: 0.1550 - val_loss: 6.4457 - val_accuracy: 0.1216\n"
          ],
          "name": "stdout"
        },
        {
          "output_type": "execute_result",
          "data": {
            "text/plain": [
              "<keras.callbacks.callbacks.History at 0x7fe08e03ce80>"
            ]
          },
          "metadata": {
            "tags": []
          },
          "execution_count": 38
        }
      ]
    },
    {
      "cell_type": "code",
      "metadata": {
        "id": "-N6zuBlmR00l",
        "colab_type": "code",
        "outputId": "978455ce-15bc-4784-f6b0-50c19fc4f9ba",
        "colab": {
          "base_uri": "https://localhost:8080/",
          "height": 51
        }
      },
      "source": [
        "# test accurcy\n",
        "y_pred = brandclassifier.predict(X_test)\n",
        "y_test_list = [idx for y in y_test for idx in range(len(y)) if y[idx] == 1]\n",
        "accuracy_score(y_test_list,y_pred)"
      ],
      "execution_count": 39,
      "outputs": [
        {
          "output_type": "stream",
          "text": [
            "82/82 [==============================] - 0s 532us/step\n"
          ],
          "name": "stdout"
        },
        {
          "output_type": "execute_result",
          "data": {
            "text/plain": [
              "0.12195121951219512"
            ]
          },
          "metadata": {
            "tags": []
          },
          "execution_count": 39
        }
      ]
    },
    {
      "cell_type": "code",
      "metadata": {
        "id": "Ho9AuazRlsQB",
        "colab_type": "code",
        "outputId": "3d2de22d-cc52-4c15-d33b-13af77e02802",
        "colab": {
          "base_uri": "https://localhost:8080/",
          "height": 51
        }
      },
      "source": [
        "# prediction demonstration\n",
        "encoder.inverse_transform(brandclassifier.predict(nlp('Beige cashmere Slips on 100% cashmere Dry clea').vector.reshape(-1,1,300)))[0]"
      ],
      "execution_count": 40,
      "outputs": [
        {
          "output_type": "stream",
          "text": [
            "\r1/1 [==============================] - 0s 1ms/step\n"
          ],
          "name": "stdout"
        },
        {
          "output_type": "execute_result",
          "data": {
            "text/plain": [
              "'theory'"
            ]
          },
          "metadata": {
            "tags": []
          },
          "execution_count": 40
        }
      ]
    },
    {
      "cell_type": "markdown",
      "metadata": {
        "id": "mbyr_2-O9b0-",
        "colab_type": "text"
      },
      "source": [
        "# Cleaning brand categories"
      ]
    },
    {
      "cell_type": "code",
      "metadata": {
        "id": "ShEvm-8l9fMu",
        "colab_type": "code",
        "colab": {}
      },
      "source": [
        "#regex cleaning for brand category\n",
        "outfit_full_df.brand_category = outfit_full_df.brand_category.\\\n",
        "                          apply(lambda x: ','.join(pd.Series\\\n",
        "                          (re.findall(r'[/:]?(\\w+[\\s:]\\w+[\\w+:\\w+]*[\\s]\\w*|\\w+[\\s:]\\w+[\\w+:\\w+]*|\\w+)[/:]?', str(x).lower()))\\\n",
        "                          .drop_duplicates().tolist()))"
      ],
      "execution_count": 0,
      "outputs": []
    },
    {
      "cell_type": "code",
      "metadata": {
        "id": "shj5Ao779fG9",
        "colab_type": "code",
        "colab": {}
      },
      "source": [
        "# make a set of all the categories\n",
        "def add_cat(x):\n",
        "  cats = re.findall(r'[,]?(\\w+[\\s]\\w+[\\s]\\w+|\\w+[\\s]?\\w+|\\w+)[,]?',x)\n",
        "  for cat in cats:\n",
        "    categories.add(cat)\n",
        "  return"
      ],
      "execution_count": 0,
      "outputs": []
    },
    {
      "cell_type": "code",
      "metadata": {
        "id": "F6UGZxps9fCL",
        "colab_type": "code",
        "colab": {}
      },
      "source": [
        "#remove duplicates\n",
        "def remove_dupe(alist):\n",
        "  blist = []\n",
        "  for cat in alist:\n",
        "    blist.append(cat.strip())\n",
        "  return ','.join(pd.Series(blist).drop_duplicates().tolist())"
      ],
      "execution_count": 0,
      "outputs": []
    },
    {
      "cell_type": "code",
      "metadata": {
        "id": "5Yxq7AnF9e9k",
        "colab_type": "code",
        "colab": {}
      },
      "source": [
        "#remove duplicates in a single line of brand category\n",
        "remove_digits = str.maketrans('', '', string.digits)\n",
        "outfit_full_df.brand_category = outfit_full_df.brand_category\\\n",
        "                  .apply(lambda x: x.replace(':', ','))\\\n",
        "                  .apply(lambda x: x.translate(remove_digits))\\\n",
        "                  .apply(lambda x: remove_dupe(x.split(',')))"
      ],
      "execution_count": 0,
      "outputs": []
    },
    {
      "cell_type": "code",
      "metadata": {
        "id": "fWtM2NJX9e39",
        "colab_type": "code",
        "colab": {}
      },
      "source": [
        "#merge duplicate categories into ones\n",
        "to_replace = [[r'(\\bt,shirts\\b)','tees'],\n",
        "[r'(\\baccessories\\b|\\baccessory\\b|\\ball_accessories\\b)','accessories'],\n",
        "[r'(\\bbelt bags\\b|\\bbeltbags\\b)','beltbags'],\n",
        "[r'(\\bcoatsjacketswa\\b)','coats_and_jackets'],\n",
        "[r'(\\bcross body\\b|\\bcrossbody\\b)','crossbody'],\n",
        "[r'(\\bflat shoes\\b|\\bflat\\b)','flats'],\n",
        "[r'(\\bhandbagsshoes\\b)','handbags,shoes'],\n",
        "[r'(\\bjacketsvests\\b)','jackets,vests'],\n",
        "[r'(\\bjackets\\b|\\bjacket\\b)','jackets'],\n",
        "[r'(\\bdressesandjumpsuits\\b)','dresses,jumpsuits'],\n",
        "[r'(\\bbolerosjacketsvests\\b)','boleros,jackets,vests'],\n",
        "[r'(\\bapparelaccessories\\b)','apparel,accessories'],\n",
        "[r'(\\blow top\\b|\\blowtop\\b)','lowtop'],\n",
        "[r'(\\bmini bags\\b)','minibags'],\n",
        "[r'(\\bpantsshortsjumpsuits\\b)','pants,shorts,jumpsuits'],\n",
        "[r'(\\bshirts_tops\\b)','shirts,tops'],\n",
        "[r'(\\bshorts\\b)','short'],\n",
        "[r'(\\bshoulder bags\\b|\\bshoulder_bags\\b)','shoulderbags'],\n",
        "[r'(\\bsweatshirts_sweatpants\\b)','sweatshirts,sweatpants'],\n",
        "[r'(\\btshirts_tanktops\\b)','tees,tanktops'],\n",
        "[r'(\\btshirtstanks\\b)','tees,tanktops'],\n",
        "[r'(\\bwomensapparel\\b)','women'],\n",
        "[r'(\\bclutch bags\\b)','clutches'],\n",
        "[r'(\\bjumpsuit\\b)','jumpsuits'],\n",
        "[r'(\\bmidi dresses\\b)','midi'],\n",
        "[r'(\\bromper\\b)','rompers'],\n",
        "[r'(\\bskirt\\b)','skirts'],\n",
        "[r'(\\bsweater\\b)','sweaters'],\n",
        "[r'(\\btote bags\\b)','totes'],\n",
        "[r'(\\btop\\b)','tops']]\n",
        "\n",
        "for replace in to_replace:\n",
        "    outfit_full_df.brand_category = outfit_full_df.brand_category.apply(lambda x: re.sub(replace[0],replace[1], x.lower()))"
      ],
      "execution_count": 0,
      "outputs": []
    },
    {
      "cell_type": "markdown",
      "metadata": {
        "id": "QYVyrJitk4zA",
        "colab_type": "text"
      },
      "source": [
        "# Word2Vec"
      ]
    },
    {
      "cell_type": "code",
      "metadata": {
        "id": "eoMze-nArAIi",
        "colab_type": "code",
        "colab": {}
      },
      "source": [
        "from sklearn.feature_extraction.text import TfidfVectorizer\n",
        "from sklearn.metrics.pairwise import cosine_similarity\n",
        "from gensim.utils import tokenize"
      ],
      "execution_count": 0,
      "outputs": []
    },
    {
      "cell_type": "code",
      "metadata": {
        "id": "iQbyEcYz9_lS",
        "colab_type": "code",
        "outputId": "f9912425-48f3-434f-aa10-89fad4b34657",
        "colab": {
          "base_uri": "https://localhost:8080/",
          "height": 34
        }
      },
      "source": [
        "# data prep for word2vec model\n",
        "description_brand_df = outfit_full_df.set_index('product_id')[['brand_x','product_full_name_x','description','brand_category']].drop_duplicates().fillna('')\n",
        "description_brand_df.columns = ['brand','product_full_name','description','brand_category']\n",
        "all_brands = description_brand_df.brand.str.lower().unique()\n",
        "categories = set()\n",
        "description_brand_df.brand_category.apply(add_cat)\n",
        "for col in description_brand_df.columns:\n",
        "  description_brand_df[col] = description_brand_df[col].apply(deep_cleaned)\n",
        "descriptions_tokens = [[token for token in tokenize(sent)] for sent in description_brand_df.description.drop_duplicates().values]\n",
        "description_model = Word2Vec(descriptions_tokens, size=96, min_count=2)"
      ],
      "execution_count": 47,
      "outputs": [
        {
          "output_type": "stream",
          "text": [
            "WARNING:gensim.models.base_any2vec:under 10 jobs per worker: consider setting a smaller `batch_words' for smoother alpha decay\n"
          ],
          "name": "stderr"
        }
      ]
    },
    {
      "cell_type": "code",
      "metadata": {
        "id": "yC7XB56pr5vH",
        "colab_type": "code",
        "colab": {}
      },
      "source": [
        "def tfidf(series):\n",
        "    vectorizer = TfidfVectorizer(max_df=0.3)\n",
        "    X = vectorizer.fit_transform(series)\n",
        "\n",
        "    tf_idf_lookup_table = pd.DataFrame(X.toarray(), columns=vectorizer.get_feature_names())\n",
        "\n",
        "\n",
        "    DOCUMENT_SUM_COLUMN = \"DOCUMENT_TF_IDF_SUM\"\n",
        "\n",
        "    tf_idf_lookup_table[DOCUMENT_SUM_COLUMN] = tf_idf_lookup_table.sum(axis=1)\n",
        "    available_tf_idf_scores = tf_idf_lookup_table.columns \n",
        "    available_tf_idf_scores = list(map( lambda x: x.lower(), available_tf_idf_scores)) \n",
        "    return tf_idf_lookup_table, available_tf_idf_scores"
      ],
      "execution_count": 0,
      "outputs": []
    },
    {
      "cell_type": "code",
      "metadata": {
        "id": "LmGF1wgsuoGq",
        "colab_type": "code",
        "colab": {}
      },
      "source": [
        "#make embed function cr to Prof Yu Chen\n",
        "def embed(textdf, available_tf_idf_scores, tf_idf_lookup_table, text_only=False):\n",
        "    text_vectors = {}\n",
        "    indices = textdf.index\n",
        "    for idx, text in enumerate(textdf): \n",
        "        tokens = nlp(text)\n",
        "        total_tf_idf_score_per_document = 0\n",
        "\n",
        "        running_total_word_embedding = np.zeros(96) \n",
        "        for token in tokens:\n",
        "            if token.text in description_model.wv.vocab and token.text.lower() in available_tf_idf_scores:\n",
        "\n",
        "                tf_idf_score = tf_idf_lookup_table.loc[idx, token.text.lower()]\n",
        "            \n",
        "                running_total_word_embedding += tf_idf_score * description_model.wv.get_vector(token.text)\n",
        "\n",
        "                total_tf_idf_score_per_document += tf_idf_score\n",
        "\n",
        "        document_embedding = running_total_word_embedding / (total_tf_idf_score_per_document + 1e-6)\n",
        "        if text_only:\n",
        "          return document_embedding\n",
        "        text_vectors[indices[idx]] = document_embedding\n",
        "    return text_vectors"
      ],
      "execution_count": 0,
      "outputs": []
    },
    {
      "cell_type": "markdown",
      "metadata": {
        "id": "hDG6gxKf5iCO",
        "colab_type": "text"
      },
      "source": [
        "# Define final recommender class"
      ]
    },
    {
      "cell_type": "code",
      "metadata": {
        "id": "Mr0pDwrCzYM8",
        "colab_type": "code",
        "colab": {}
      },
      "source": [
        "# fuzzy matching function\n",
        "def fuzzy_match(fuzz_list, query):\n",
        "  fuzz_series = pd.Series(fuzz_list,index=fuzz_list)\n",
        "  for f in fuzz_list:\n",
        "    fuzz_return = fuzz_series.apply(lambda fz: fuzz.partial_ratio(fz.lower(),query.lower())).sort_values(ascending=False)\n",
        "  if fuzz_return.iloc[0] > 85:\n",
        "    return fuzz_return.index[0]\n",
        "  return None"
      ],
      "execution_count": 0,
      "outputs": []
    },
    {
      "cell_type": "code",
      "metadata": {
        "id": "iD9HcTdigFlL",
        "colab_type": "code",
        "colab": {}
      },
      "source": [
        "# final outfits_recommender class\n",
        "class outfits_recommender:\n",
        "  #initialize query\n",
        "  def __init__(self, query):\n",
        "    self.query = deep_cleaned(query)\n",
        "    self.brand = None\n",
        "    self.category = None\n",
        "    self.name = None\n",
        "    self.query_embed = None\n",
        "\n",
        "  # get the closest id description item with given query vector\n",
        "  def closest_id(self, compare_indices, d_text_vector):\n",
        "    closest = 0\n",
        "    closest_product = None\n",
        "    for idx in compare_indices:\n",
        "      closeness = cosine_similarity([d_text_vector[idx],self.query_embed])\n",
        "      if closeness[0][1] > closest:\n",
        "        closest = closeness[0][1]\n",
        "        closest_product = idx\n",
        "    return closest_product\n",
        "\n",
        "  # main freeform seach\n",
        "  def free_form_search(self):\n",
        "    # grab all vectors for all descriotions and query\n",
        "    query_desc_df = description_brand_df.drop_duplicates().description.apply(deep_cleaned).append(pd.Series([self.query],index=['query']))\n",
        "    d_tf_idf_lookup_table, d_available_tf_idf_scores = tfidf(query_desc_df)\n",
        "    d_text_vector = embed(query_desc_df, d_available_tf_idf_scores, d_tf_idf_lookup_table)\n",
        "\n",
        "    # fuzzy match brand, category and name\n",
        "    self.brand = fuzzy_match(all_brands, self.query)\n",
        "    self.category = fuzzy_match(list(categories), self.query)\n",
        "    self.name = fuzzy_match(description_brand_df.product_full_name.drop_duplicates().apply(deep_cleaned).tolist(), self.query)\n",
        "\n",
        "    # setting query vector. if query vector has all vocabs not in our word2vec model, try spacy, if not random initialize\n",
        "    self.query_embed = d_text_vector['query']\n",
        "    if np.count_nonzero(self.query_embed) == 0:\n",
        "      self.query_embed = spacy.load('en_core_web_sm')(self.query).vector\n",
        "    if np.count_nonzero(self.query_embed) == 0:\n",
        "      self.query_embed = np.random.randn(self.query_embed.shape[0])\n",
        "    del d_text_vector['query']\n",
        "\n",
        "    # if the query contains brand and category\n",
        "    if self.brand and self.category and self.name:\n",
        "      return_df = description_brand_df[(description_brand_df.brand==self.brand)&(description_brand_df.brand_category.isin([self.category]))]\n",
        "      if not return_df.empty:\n",
        "        closest_product = self.closest_id(return_df.index,d_text_vector)\n",
        "        return product_id_recommender(input_id=closest_product,called=True)\n",
        "    \n",
        "    # if query contains brand\n",
        "    if self.brand:\n",
        "      return_df = description_brand_df[(description_brand_df.brand==self.brand)]\n",
        "      if not return_df.empty:\n",
        "        closest_product = self.closest_id(return_df.index,d_text_vector)\n",
        "        return product_id_recommender(input_id=closest_product,called=True)\n",
        "    \n",
        "    # if query contains full name\n",
        "    if self.name:\n",
        "      return_df = description_brand_df[(description_brand_df.product_full_name==self.name)]\n",
        "      if not return_df.empty:\n",
        "        closest_product = self.closest_id(return_df.index,d_text_vector)\n",
        "        return product_id_recommender(input_id=closest_product,called=True)\n",
        "\n",
        "    # if query contains category\n",
        "    if self.category:\n",
        "      return_df = description_brand_df[(description_brand_df.brand_category.isin([self.category]))]\n",
        "      if not return_df.empty:\n",
        "        closest_product = self.closest_id(return_df.index,d_text_vector)\n",
        "        return product_id_recommender(input_id=closest_product,called=True)\n",
        "\n",
        "    # none of the above\n",
        "    closest_product = self.closest_id(d_text_vector.keys(),d_text_vector)\n",
        "    return product_id_recommender(input_id=closest_product,called=True)\n",
        "  \n",
        "  # method for doing pure id seach\n",
        "  def product_id_search(self):\n",
        "    return product_id_recommender(input_id=self.query,called=True)"
      ],
      "execution_count": 0,
      "outputs": []
    },
    {
      "cell_type": "markdown",
      "metadata": {
        "id": "uTGGGRqR9YsE",
        "colab_type": "text"
      },
      "source": [
        "# Final Demonstrations"
      ]
    },
    {
      "cell_type": "code",
      "metadata": {
        "id": "vCn8bVrN2emp",
        "colab_type": "code",
        "outputId": "20c34fde-c84e-4725-d977-a3ae046c5312",
        "colab": {
          "base_uri": "https://localhost:8080/",
          "height": 504,
          "referenced_widgets": [
            "1cd3a79b710c4a75abadd0bb9c1da6ab",
            "bfd0a24d10074615847e751e7ceb4279",
            "c227ff0ac9554fbbbb6574f9e1f50b85",
            "a8cc25222a904e3787c058687ee37c2d",
            "930635c0d928400291beaea7830d9398",
            "ce516d9417c3458e8866b53bfcb1ce3f",
            "0d0e5695f6fe4004a5d66c341fd8822a",
            "ed71e1abe6db4ace83d98824e4178c88",
            "20500df762f749c4aed30ff85a0c7ec6",
            "b6eac8899a5c4f2793190c6eedd2ea76",
            "4139ff56b0774badb9df856ffe16f0d6",
            "71fd9400dbe34073b66aff1663fbcada",
            "c4f425453c084d2687ccb5c297c0b17e",
            "5a15e82bf64546ec9bf5046ef768f249",
            "72f00c2970564a1aae7e4490cad57b29",
            "ef16fc103d134cf0b23cb22d7a84e351",
            "83c1dd9e87e14287ab8a6546c8af4066",
            "cdb1fd5fdc7f4b2b8c27db583dcc5bae",
            "9ee2428a682a435d82d47b9a004592ff",
            "e5d71e80bfc04837975c53fe59c9ccdf",
            "d2913931e0ec4aafb70b45c79cd06a4b",
            "3427dddd69844efbb40bae58be4e24b0",
            "be757558a8e3452aa85012445fc6f155",
            "c2cf56e14b884115bb7979c5edd6045f"
          ]
        }
      },
      "source": [
        "# demostrating free-form brand search\n",
        "outfitQ = outfits_recommender('bananarepub')\n",
        "banana_outfits = outfitQ.free_form_search()"
      ],
      "execution_count": 52,
      "outputs": [
        {
          "output_type": "stream",
          "text": [
            "Do you want multiple outfits?\n",
            "Y/N··········\n"
          ],
          "name": "stdout"
        },
        {
          "output_type": "display_data",
          "data": {
            "application/vnd.jupyter.widget-view+json": {
              "model_id": "1cd3a79b710c4a75abadd0bb9c1da6ab",
              "version_minor": 0,
              "version_major": 2
            },
            "text/plain": [
              "HBox(children=(FloatProgress(value=0.0, max=50.0), HTML(value='')))"
            ]
          },
          "metadata": {
            "tags": []
          }
        },
        {
          "output_type": "stream",
          "text": [
            "\n"
          ],
          "name": "stdout"
        },
        {
          "output_type": "display_data",
          "data": {
            "application/vnd.jupyter.widget-view+json": {
              "model_id": "20500df762f749c4aed30ff85a0c7ec6",
              "version_minor": 0,
              "version_major": 2
            },
            "text/plain": [
              "HBox(children=(FloatProgress(value=0.0, max=50.0), HTML(value='')))"
            ]
          },
          "metadata": {
            "tags": []
          }
        },
        {
          "output_type": "stream",
          "text": [
            "\n"
          ],
          "name": "stdout"
        },
        {
          "output_type": "display_data",
          "data": {
            "application/vnd.jupyter.widget-view+json": {
              "model_id": "83c1dd9e87e14287ab8a6546c8af4066",
              "version_minor": 0,
              "version_major": 2
            },
            "text/plain": [
              "HBox(children=(FloatProgress(value=0.0, max=50.0), HTML(value='')))"
            ]
          },
          "metadata": {
            "tags": []
          }
        },
        {
          "output_type": "stream",
          "text": [
            "\n",
            "                     Brand                                           Item\n",
            "accessory  Banana Republic                  Herringbone Wool-Blend  Scarf\n",
            "bottom     Banana Republic  JAPAN EXCLUSIVE Herringbone Midi Pencil Skirt\n",
            "shoe       Banana Republic                    Madison 12-Hour Loafer Pump\n",
            "top           Marissa Webb             Piper Mock Neck Wool-Blend Sweater\n",
            "############################################################################\n",
            "                         Brand                                               Item\n",
            "shoe       Christian Louboutin                          Galativi Mesh Suede Pumps\n",
            "bottom         Banana Republic      JAPAN EXCLUSIVE Herringbone Midi Pencil Skirt\n",
            "top                  Derek Lam  Oversized Draped Silk Blouse With Self Tie Nec...\n",
            "accessory      Banana Republic                     Unlined Double-Faced Maxi Coat\n",
            "############################################################################\n",
            "                     Brand                                           Item\n",
            "bottom     Banana Republic  JAPAN EXCLUSIVE Herringbone Midi Pencil Skirt\n",
            "shoe       Banana Republic                    Madison 12-Hour Loafer Pump\n",
            "top           Marissa Webb             Piper Mock Neck Wool-Blend Sweater\n",
            "accessory  Banana Republic                 Unlined Double-Faced Maxi Coat\n",
            "############################################################################\n"
          ],
          "name": "stdout"
        }
      ]
    },
    {
      "cell_type": "code",
      "metadata": {
        "id": "dl_5TKn05s64",
        "colab_type": "code",
        "outputId": "6e9297bb-4146-4ad9-dbe4-74ee9a857c6f",
        "colab": {
          "base_uri": "https://localhost:8080/",
          "height": 402,
          "referenced_widgets": [
            "6532cbd5b78742d5a90bb2cc2b43e8ed",
            "ef8e103b348c4d9f9730ec089d44d58b",
            "5170d87f5b6a45faa15aeda125c13e9b",
            "2e697ac20c3a4083b27b56fec75f11b4",
            "9b0d348f1c5f418485ea57a65621a8cc",
            "3af7932265d544ecb544a2b7c223c71b",
            "7c018662827c420695a85f96f4a4d803",
            "aed90c5a5f184fff8b3a0e5df6533cf1",
            "888b402a08664facaf9712466c7e05ee",
            "fb1a2c4682c14384b30534164bbe6509",
            "b2dc90f2a78e4aa9aac6119872e829c4",
            "e1e8b240521546e78a1eb8c8b0c6c38a",
            "b2659bda14ad4ea5b82755ef0f309a3e",
            "44006c85f86c4ac1b983e718327d079a",
            "5125b2d0ca5b4d51bdbd61a343c8e49e",
            "c6ec71e4519e4a8cb270a76d8a170f1a",
            "769c9793463e480ead4bb9f5f27810b1",
            "7f166c4187c44d3fb11569d896f8aedb",
            "6b54e6327213415086c8b138cb6509c4",
            "ebeb371478144ae6b893860145a162a2",
            "f0e3a71a31ad4c6486d0717349b9f5b2",
            "a442a4bb291a444f8dd5dd67032d0eae",
            "930c9bd33c2d4131b8e7c3c5422f719c",
            "2e2fe1cf415940dcbff257fbb2f295a2"
          ]
        }
      },
      "source": [
        "# demostrating free-form brand search\n",
        "outfitQ = outfits_recommender('sneakerz')\n",
        "shoes_outfits = outfitQ.free_form_search()"
      ],
      "execution_count": 53,
      "outputs": [
        {
          "output_type": "stream",
          "text": [
            "Do you want multiple outfits?\n",
            "Y/N··········\n"
          ],
          "name": "stdout"
        },
        {
          "output_type": "display_data",
          "data": {
            "application/vnd.jupyter.widget-view+json": {
              "model_id": "6532cbd5b78742d5a90bb2cc2b43e8ed",
              "version_minor": 0,
              "version_major": 2
            },
            "text/plain": [
              "HBox(children=(FloatProgress(value=0.0, max=50.0), HTML(value='')))"
            ]
          },
          "metadata": {
            "tags": []
          }
        },
        {
          "output_type": "stream",
          "text": [
            "\n"
          ],
          "name": "stdout"
        },
        {
          "output_type": "display_data",
          "data": {
            "application/vnd.jupyter.widget-view+json": {
              "model_id": "888b402a08664facaf9712466c7e05ee",
              "version_minor": 0,
              "version_major": 2
            },
            "text/plain": [
              "HBox(children=(FloatProgress(value=0.0, max=50.0), HTML(value='')))"
            ]
          },
          "metadata": {
            "tags": []
          }
        },
        {
          "output_type": "stream",
          "text": [
            "\n"
          ],
          "name": "stdout"
        },
        {
          "output_type": "display_data",
          "data": {
            "application/vnd.jupyter.widget-view+json": {
              "model_id": "769c9793463e480ead4bb9f5f27810b1",
              "version_minor": 0,
              "version_major": 2
            },
            "text/plain": [
              "HBox(children=(FloatProgress(value=0.0, max=50.0), HTML(value='')))"
            ]
          },
          "metadata": {
            "tags": []
          }
        },
        {
          "output_type": "stream",
          "text": [
            "\n",
            "                        Brand                                    Item\n",
            "accessory  Madeleine Thompson  Danny Wool And Cashmere-Blend Cardigan\n",
            "bottom             NILI LOTAN              Paris Cashmere Track Pants\n",
            "shoe           Veronica Beard           Sami Lace-Up Leather Sneakers\n",
            "top                    Khaite                  Viola Cashmere Sweater\n",
            "############################################################################\n",
            "                        Brand                                    Item\n",
            "accessory  Madeleine Thompson  Danny Wool And Cashmere-Blend Cardigan\n",
            "top                NILI LOTAN      Jimi Hendrix Cotton-Jersey T-Shirt\n",
            "bottom             NILI LOTAN              Paris Cashmere Track Pants\n",
            "shoe           Veronica Beard           Sami Lace-Up Leather Sneakers\n",
            "############################################################################\n"
          ],
          "name": "stdout"
        }
      ]
    },
    {
      "cell_type": "code",
      "metadata": {
        "id": "CXNrVoweADow",
        "colab_type": "code",
        "outputId": "1f0b5bf6-32b0-464c-a6b7-a56e39dfdcae",
        "colab": {
          "base_uri": "https://localhost:8080/",
          "height": 504,
          "referenced_widgets": [
            "3f9e9af7a8654eca88242dc35970b531",
            "556b83884ea44b518d199f22d1a79c6c",
            "52865172402e43ffaa14117fa9d9d234",
            "9ccf476805d94e03ab056867168cb0dc",
            "2ea4b2df2fe246a68747bc082dc4d628",
            "2c5d944c8a4c4eab8140b26cbf4856ad",
            "d379855fda724944988135248444ce3f",
            "8d0857d7369546b2aefac76e624ef2a6",
            "10acc039d1dc425ea7ff2dd59ad29d1d",
            "9f2ec35098b24ff9bd947ebcef06eafb",
            "a2402742de8846838a5a3d0f8962c696",
            "f076724269cd49c2a803a6c7d4bd9beb",
            "2e878c0c59f34141932be907459494a5",
            "6427a77a0b7c401587dae545966bc4c3",
            "b8982da28bb14423b55c0b982c321e30",
            "780b2e9d2dda4524a8f6438b6f3eb6eb",
            "560e83b77ec943a49dee55b3a4d4241d",
            "7c449f2ffbd44d648c41f5da741fe73e",
            "a13d79ebc2cd4bb392fc0932d52abac2",
            "a4f1848e801f4988b95699ecea5ff1a8",
            "f97797d1ea784a3d91f40ca1b1ff77e2",
            "c78feaa2331e4c268542b7123692c05d",
            "3de9e0f1cb194c4bb4127ccf9e810a34",
            "e59b907f02b14be990abc163cc04dadf"
          ]
        }
      },
      "source": [
        "# demostrating free-form description search\n",
        "outfitQ = outfits_recommender('Sexy silky, a-line mini skirt zipper Benson skirt')\n",
        "product_id_outfits = outfitQ.free_form_search()"
      ],
      "execution_count": 54,
      "outputs": [
        {
          "output_type": "stream",
          "text": [
            "Do you want multiple outfits?\n",
            "Y/N··········\n"
          ],
          "name": "stdout"
        },
        {
          "output_type": "display_data",
          "data": {
            "application/vnd.jupyter.widget-view+json": {
              "model_id": "3f9e9af7a8654eca88242dc35970b531",
              "version_minor": 0,
              "version_major": 2
            },
            "text/plain": [
              "HBox(children=(FloatProgress(value=0.0, max=50.0), HTML(value='')))"
            ]
          },
          "metadata": {
            "tags": []
          }
        },
        {
          "output_type": "stream",
          "text": [
            "\n"
          ],
          "name": "stdout"
        },
        {
          "output_type": "display_data",
          "data": {
            "application/vnd.jupyter.widget-view+json": {
              "model_id": "10acc039d1dc425ea7ff2dd59ad29d1d",
              "version_minor": 0,
              "version_major": 2
            },
            "text/plain": [
              "HBox(children=(FloatProgress(value=0.0, max=50.0), HTML(value='')))"
            ]
          },
          "metadata": {
            "tags": []
          }
        },
        {
          "output_type": "stream",
          "text": [
            "\n"
          ],
          "name": "stdout"
        },
        {
          "output_type": "display_data",
          "data": {
            "application/vnd.jupyter.widget-view+json": {
              "model_id": "560e83b77ec943a49dee55b3a4d4241d",
              "version_minor": 0,
              "version_major": 2
            },
            "text/plain": [
              "HBox(children=(FloatProgress(value=0.0, max=50.0), HTML(value='')))"
            ]
          },
          "metadata": {
            "tags": []
          }
        },
        {
          "output_type": "stream",
          "text": [
            "\n",
            "                    Brand                       Item\n",
            "top        Veronica Beard             Ashlynn Blouse\n",
            "bottom        Reformation               Benson Skirt\n",
            "shoe            ALLSAINTS         Donita Combat Boot\n",
            "accessory           Frame  Les Second - Medium--NOIR\n",
            "############################################################################\n",
            "                               Brand                                      Item\n",
            "accessory                Sam Edelman  65mm Gradient Oversize Square Sunglasses\n",
            "bottom                   Reformation                              Benson Skirt\n",
            "shoe                Loeffler Randall                          Goldy Tall Boots\n",
            "top        REMAIN Birger Christensen         Halyn pussy-bow silk-satin blouse\n",
            "############################################################################\n",
            "                    Brand                          Item\n",
            "top        Veronica Beard                Ashlynn Blouse\n",
            "bottom        Reformation                  Benson Skirt\n",
            "accessory    Sole Society  Collared Cable Knit Cardigan\n",
            "shoe        SAINT LAURENT              Loulou Knot Mule\n",
            "############################################################################\n"
          ],
          "name": "stdout"
        }
      ]
    },
    {
      "cell_type": "code",
      "metadata": {
        "id": "N8H-wFQi-kCQ",
        "colab_type": "code",
        "outputId": "cfe9680b-5512-4028-c2f7-3eec56b831ce",
        "colab": {
          "base_uri": "https://localhost:8080/",
          "height": 402,
          "referenced_widgets": [
            "5fde5ea3b458449ca17314e15ebb3786",
            "7d804482b7ad493da9c057b5dd91e840",
            "a680c65ee37b47549d4643e62333eafa",
            "44ae1fb0fa6246acb0b4fcfaa6e434dc",
            "ad8f81d2cee348fe8f910070d32115c1",
            "9e0ce3ad064b44b5ba0355f3a7ecb8b3",
            "d3e2cc5f095d4ae784dc71dcd57a74b2",
            "6568e370b7d34d20a1adeab50854f220",
            "25819d9910104f8192463409a3489dca",
            "e43e596000604c7ea86d285c42c52c20",
            "cc29d792ba234fa7a5019f7e6823be89",
            "03e4e89e2d9546f1a9b613937a136b10",
            "092e145b71314fadb5752e0a193b357f",
            "491e6823821140e990310c7bd8e2a767",
            "dffeb05582d84471a4025a9e27887987",
            "f98a03c6d2df4cf7b099c237fb29b893",
            "5f7e3cb6acd84f28ba37020dc0919ef2",
            "71ba6b2e4f5a47b382a71b917a9454dd",
            "3a8b1108510e4d2aa6a08ea0c0335aed",
            "4370bbaceef046c98823500c69d9fae9",
            "0fc526efacab49b4bf2a400a3dae5d44",
            "49a504211b2f4671922e1e049afa7d86",
            "abd6b38e575e44dd9926a6179f9f250d",
            "ebfc4063caa041cfba3cfcaa50006203"
          ]
        }
      },
      "source": [
        "# demostrating free-form brand search\n",
        "outfitQ = outfits_recommender('01E5ZYHZA7186DVWET99Q4D2PM')\n",
        "product_id_outfits = outfitQ.product_id_search()"
      ],
      "execution_count": 58,
      "outputs": [
        {
          "output_type": "stream",
          "text": [
            "Did you mean 01E5ZYHZA7186DVWEJ99Q4D2PM?\n",
            "Y/N··········\n",
            "Do you want multiple outfits?\n",
            "Y/N··········\n"
          ],
          "name": "stdout"
        },
        {
          "output_type": "display_data",
          "data": {
            "application/vnd.jupyter.widget-view+json": {
              "model_id": "5fde5ea3b458449ca17314e15ebb3786",
              "version_minor": 0,
              "version_major": 2
            },
            "text/plain": [
              "HBox(children=(FloatProgress(value=0.0, max=50.0), HTML(value='')))"
            ]
          },
          "metadata": {
            "tags": []
          }
        },
        {
          "output_type": "stream",
          "text": [
            "\n"
          ],
          "name": "stdout"
        },
        {
          "output_type": "display_data",
          "data": {
            "application/vnd.jupyter.widget-view+json": {
              "model_id": "25819d9910104f8192463409a3489dca",
              "version_minor": 0,
              "version_major": 2
            },
            "text/plain": [
              "HBox(children=(FloatProgress(value=0.0, max=50.0), HTML(value='')))"
            ]
          },
          "metadata": {
            "tags": []
          }
        },
        {
          "output_type": "stream",
          "text": [
            "\n"
          ],
          "name": "stdout"
        },
        {
          "output_type": "display_data",
          "data": {
            "application/vnd.jupyter.widget-view+json": {
              "model_id": "5f7e3cb6acd84f28ba37020dc0919ef2",
              "version_minor": 0,
              "version_major": 2
            },
            "text/plain": [
              "HBox(children=(FloatProgress(value=0.0, max=50.0), HTML(value='')))"
            ]
          },
          "metadata": {
            "tags": []
          }
        },
        {
          "output_type": "stream",
          "text": [
            "\n",
            "                 Brand                                      Item\n",
            "accessory  Sam Edelman  65mm Gradient Oversize Square Sunglasses\n",
            "onepiece        Xirena                             Cameron Dress\n",
            "shoe            Khaite                         Suede ankle boots\n",
            "############################################################################\n",
            "                 Brand                                       Item\n",
            "accessory  Sam Edelman   65mm Gradient Oversize Square Sunglasses\n",
            "shoe       DR. MARTENS                Fenimore Triple Buckle Boot\n",
            "onepiece         GANNI  Floral Print Crepe Long Sleeve Shirtdress\n",
            "############################################################################\n"
          ],
          "name": "stdout"
        }
      ]
    },
    {
      "cell_type": "code",
      "metadata": {
        "id": "zgvbJTjYTV53",
        "colab_type": "code",
        "colab": {
          "base_uri": "https://localhost:8080/",
          "height": 402,
          "referenced_widgets": [
            "83649bdcd45841cda3b0c6d5fc992419",
            "9a35303e6ad74431bc3f666c63356c74",
            "85356880224d42adaeb85e822b7ea02f",
            "deea80214bb94fd29c251b3df55116c9",
            "4f4055b9634f41ffa44026419abefe13",
            "cc4723fec6d04eeb9239332ca2aefdb9",
            "0ca8e0c280e147798915f6eeca2edfd9",
            "6f547b89a833417d8beb3222f357bf96",
            "da1ce9feab4848d0a2556e1a07d63df9",
            "6441100a30f44d05a2baf12a76bc77a0",
            "19d253324c9041a5af68a469da658258",
            "d2aae4cf4a6649e49c9a15d140ba264a",
            "6f566ca6011a4277a1a08ab6ae985a44",
            "921638342d5b4a0c9a08a8e5aec2fd3e",
            "ab67cbd9a28647f0a0364abea482be87",
            "8f1a0ddbae094330b838679ecc621445",
            "79d3599edfdd499988cdb864ddef3025",
            "493d467ca86b472ca2a5bec913f2bfc1",
            "4f7cd3db41cc443da0cb979ef3cbca40",
            "3e9bc3e29d0d4e9587a2f874d36b07aa",
            "87ffeaa754bc414a846c39ab1432e04c",
            "f05ea1b0291d48fd81b884256553783c",
            "8bf87fa636ed46788134ffad5e1c25e3",
            "f2f5b6f8d2c64a00b4d80ec9acbc3581"
          ]
        },
        "outputId": "7b31fc4a-4908-4f01-dca8-db2b2584bc22"
      },
      "source": [
        "# Trying for out of vocab search\n",
        "outfitQ = outfits_recommender('Natural Language Processing')\n",
        "product_id_outfits = outfitQ.free_form_search()"
      ],
      "execution_count": 56,
      "outputs": [
        {
          "output_type": "stream",
          "text": [
            "Do you want multiple outfits?\n",
            "Y/N··········\n"
          ],
          "name": "stdout"
        },
        {
          "output_type": "display_data",
          "data": {
            "application/vnd.jupyter.widget-view+json": {
              "model_id": "83649bdcd45841cda3b0c6d5fc992419",
              "version_minor": 0,
              "version_major": 2
            },
            "text/plain": [
              "HBox(children=(FloatProgress(value=0.0, max=50.0), HTML(value='')))"
            ]
          },
          "metadata": {
            "tags": []
          }
        },
        {
          "output_type": "stream",
          "text": [
            "\n"
          ],
          "name": "stdout"
        },
        {
          "output_type": "display_data",
          "data": {
            "application/vnd.jupyter.widget-view+json": {
              "model_id": "da1ce9feab4848d0a2556e1a07d63df9",
              "version_minor": 0,
              "version_major": 2
            },
            "text/plain": [
              "HBox(children=(FloatProgress(value=0.0, max=50.0), HTML(value='')))"
            ]
          },
          "metadata": {
            "tags": []
          }
        },
        {
          "output_type": "stream",
          "text": [
            "\n"
          ],
          "name": "stdout"
        },
        {
          "output_type": "display_data",
          "data": {
            "application/vnd.jupyter.widget-view+json": {
              "model_id": "79d3599edfdd499988cdb864ddef3025",
              "version_minor": 0,
              "version_major": 2
            },
            "text/plain": [
              "HBox(children=(FloatProgress(value=0.0, max=50.0), HTML(value='')))"
            ]
          },
          "metadata": {
            "tags": []
          }
        },
        {
          "output_type": "stream",
          "text": [
            "\n",
            "                    Brand                                          Item\n",
            "bottom     Veronica Beard  Beverly stretch-cotton corduroy flared pants\n",
            "accessory      Rag & Bone                            CLASSIC WOOL SCARF\n",
            "top                  Joie                    Dreamy Crewneck Sweatshirt\n",
            "shoe                Chloé        Rylee snake-effect leather ankle boots\n",
            "############################################################################\n",
            "                Brand                                              Item\n",
            "bottom     Nili Lotan  Arliss cropped Lyocell-blend twill tapered pants\n",
            "accessory  Rag & Bone                                CLASSIC WOOL SCARF\n",
            "shoe            Chloé            Rylee snake-effect leather ankle boots\n",
            "top         The Great  The Painter's Smock checked cotton-flannel shirt\n",
            "############################################################################\n"
          ],
          "name": "stdout"
        }
      ]
    },
    {
      "cell_type": "code",
      "metadata": {
        "id": "MLKKj4SGNCqh",
        "colab_type": "code",
        "colab": {
          "base_uri": "https://localhost:8080/",
          "height": 504,
          "referenced_widgets": [
            "958642e01a684dbabf13a3a1e33ed989",
            "c85fb85a63824e1e88faaab729094b5b",
            "d66e367cb780418a8f0b5f0309329791",
            "747bbd2ecf0f4e8684c979f2fa4d8a8e",
            "92c92e4500904c5286dde7ddc1219535",
            "a36379324d994615afee31dc4642ad05",
            "6658b4f4e8584f8aaec8aa2dff3f288a",
            "a6e5018065c64d48b3a6c72f902efc31",
            "9f40ed58e7f64f249a02304ee2c8534e",
            "32ecdfb1d2384bb9ad7bba3ebe658843",
            "caa24f18f0c44d40b2120dcfbd7c222d",
            "5e0fea8f76c94980aa794f3cc2b76f89",
            "ccf29683193b4489aa846229fbbc4d00",
            "71cfa740cffd472496f08e8b834de084",
            "d61bf81161d24a4a9ee0b289721974af",
            "dde26c44d49c4e8f8f1edbd04c6c31e4",
            "892cba2683a741e198c1896e863e7955",
            "bcc5e239f4a44cffb7c7f67fccdfbb9f",
            "1436acd9f1ad4d6a81cbf45d8e3faf46",
            "0c29823179a243538dfad674ec979163",
            "5f2887b646204158aa8c71e2aaa9aff5",
            "db2510cef9084d61a1a31f7e9d745a2b",
            "2e31ac3b5b2a40efafe57e99852ed71c",
            "62ca61bbf40649f5be07e30a392f91b0"
          ]
        },
        "outputId": "cd819f9d-7c76-4c24-b564-9d1b9279c288"
      },
      "source": [
        "# Another free-form search\n",
        "outfitQ = outfits_recommender('silky trousers classic tight fit')\n",
        "product_id_outfits = outfitQ.free_form_search()"
      ],
      "execution_count": 65,
      "outputs": [
        {
          "output_type": "stream",
          "text": [
            "Do you want multiple outfits?\n",
            "Y/N··········\n"
          ],
          "name": "stdout"
        },
        {
          "output_type": "display_data",
          "data": {
            "application/vnd.jupyter.widget-view+json": {
              "model_id": "958642e01a684dbabf13a3a1e33ed989",
              "version_minor": 0,
              "version_major": 2
            },
            "text/plain": [
              "HBox(children=(FloatProgress(value=0.0, max=50.0), HTML(value='')))"
            ]
          },
          "metadata": {
            "tags": []
          }
        },
        {
          "output_type": "stream",
          "text": [
            "\n"
          ],
          "name": "stdout"
        },
        {
          "output_type": "display_data",
          "data": {
            "application/vnd.jupyter.widget-view+json": {
              "model_id": "9f40ed58e7f64f249a02304ee2c8534e",
              "version_minor": 0,
              "version_major": 2
            },
            "text/plain": [
              "HBox(children=(FloatProgress(value=0.0, max=50.0), HTML(value='')))"
            ]
          },
          "metadata": {
            "tags": []
          }
        },
        {
          "output_type": "stream",
          "text": [
            "\n"
          ],
          "name": "stdout"
        },
        {
          "output_type": "display_data",
          "data": {
            "application/vnd.jupyter.widget-view+json": {
              "model_id": "892cba2683a741e198c1896e863e7955",
              "version_minor": 0,
              "version_major": 2
            },
            "text/plain": [
              "HBox(children=(FloatProgress(value=0.0, max=50.0), HTML(value='')))"
            ]
          },
          "metadata": {
            "tags": []
          }
        },
        {
          "output_type": "stream",
          "text": [
            "\n",
            "                  Brand                           Item\n",
            "top         Reformation                       Anne Top\n",
            "accessory  Sole Society                     Chusy Tote\n",
            "shoe             J.Crew              Lucie suede pumps\n",
            "bottom            Frame  Plaid Cropped Perfect Trouser\n",
            "############################################################################\n",
            "                                 Brand                            Item\n",
            "accessory  Aleksandre Akhalkatsishvili  Breast Cut Faux Leather Blazer\n",
            "bottom                           Frame   Plaid Cropped Perfect Trouser\n",
            "shoe             SARTO BY FRANCO SARTO                       Visa Mule\n",
            "top                              Vince           Wool-Cashmere Sweater\n",
            "############################################################################\n",
            "                     Brand                           Item\n",
            "shoe              MADEWELL    Boardwalk Post Slide Sandal\n",
            "accessory     Sole Society                     Chusy Tote\n",
            "top        ENGLISH FACTORY              Eyelet Border Top\n",
            "bottom               Frame  Plaid Cropped Perfect Trouser\n",
            "############################################################################\n"
          ],
          "name": "stdout"
        }
      ]
    },
    {
      "cell_type": "code",
      "metadata": {
        "id": "w6jZqZIXZDOB",
        "colab_type": "code",
        "colab": {
          "base_uri": "https://localhost:8080/",
          "height": 281
        },
        "outputId": "6f4af979-4e77-49f7-c437-66567ac94126"
      },
      "source": [
        "outfit_full_df[outfit_full_df.product_full_name_x=='Plaid Cropped Perfect Trouser']"
      ],
      "execution_count": 67,
      "outputs": [
        {
          "output_type": "execute_result",
          "data": {
            "text/html": [
              "<div>\n",
              "<style scoped>\n",
              "    .dataframe tbody tr th:only-of-type {\n",
              "        vertical-align: middle;\n",
              "    }\n",
              "\n",
              "    .dataframe tbody tr th {\n",
              "        vertical-align: top;\n",
              "    }\n",
              "\n",
              "    .dataframe thead th {\n",
              "        text-align: right;\n",
              "    }\n",
              "</style>\n",
              "<table border=\"1\" class=\"dataframe\">\n",
              "  <thead>\n",
              "    <tr style=\"text-align: right;\">\n",
              "      <th></th>\n",
              "      <th>Unnamed: 0</th>\n",
              "      <th>outfit_id</th>\n",
              "      <th>product_id</th>\n",
              "      <th>outfit_item_type</th>\n",
              "      <th>brand_x</th>\n",
              "      <th>product_full_name_x</th>\n",
              "      <th>brand_y</th>\n",
              "      <th>mpn</th>\n",
              "      <th>product_full_name_y</th>\n",
              "      <th>description</th>\n",
              "      <th>brand_category</th>\n",
              "      <th>created_at</th>\n",
              "      <th>updated_at</th>\n",
              "      <th>deleted_at</th>\n",
              "      <th>brand_canonical_url</th>\n",
              "      <th>details</th>\n",
              "      <th>labels</th>\n",
              "      <th>bc_product_id</th>\n",
              "    </tr>\n",
              "    <tr>\n",
              "      <th>product_id</th>\n",
              "      <th></th>\n",
              "      <th></th>\n",
              "      <th></th>\n",
              "      <th></th>\n",
              "      <th></th>\n",
              "      <th></th>\n",
              "      <th></th>\n",
              "      <th></th>\n",
              "      <th></th>\n",
              "      <th></th>\n",
              "      <th></th>\n",
              "      <th></th>\n",
              "      <th></th>\n",
              "      <th></th>\n",
              "      <th></th>\n",
              "      <th></th>\n",
              "      <th></th>\n",
              "      <th></th>\n",
              "    </tr>\n",
              "  </thead>\n",
              "  <tbody>\n",
              "    <tr>\n",
              "      <th>01DPGV9PFVQBXZQ8BKT0EVK2DB</th>\n",
              "      <td>53</td>\n",
              "      <td>01DQBBXQ5N8TBD77VCRTR9NF8H</td>\n",
              "      <td>01DPGV9PFVQBXZQ8BKT0EVK2DB</td>\n",
              "      <td>bottom</td>\n",
              "      <td>Frame</td>\n",
              "      <td>Plaid Cropped Perfect Trouser</td>\n",
              "      <td>Frame</td>\n",
              "      <td>LWWB0374</td>\n",
              "      <td>Plaid Cropped Perfect Trouser</td>\n",
              "      <td>Versatile And Sleek, These Classic Crop Trouse...</td>\n",
              "      <td>pants</td>\n",
              "      <td>2019-10-06 15:34:07.094000+00:00</td>\n",
              "      <td>2020-03-25 23:20:37.543000+00:00</td>\n",
              "      <td>2020-03-23 19:44:45.158000+00:00</td>\n",
              "      <td>https://frame-store.com/products/plaid-cropped...</td>\n",
              "      <td>NaN</td>\n",
              "      <td>[]</td>\n",
              "      <td>191.0</td>\n",
              "    </tr>\n",
              "    <tr>\n",
              "      <th>01DPGV9PFVQBXZQ8BKT0EVK2DB</th>\n",
              "      <td>53</td>\n",
              "      <td>01DQBBXQ5N8TBD77VCRTR9NF8H</td>\n",
              "      <td>01DPGV9PFVQBXZQ8BKT0EVK2DB</td>\n",
              "      <td>bottom</td>\n",
              "      <td>Frame</td>\n",
              "      <td>Plaid Cropped Perfect Trouser</td>\n",
              "      <td>Frame</td>\n",
              "      <td>LWWB0374</td>\n",
              "      <td>Plaid Cropped Perfect Trouser</td>\n",
              "      <td>Versatile And Sleek, These Classic Crop Trouse...</td>\n",
              "      <td>pants</td>\n",
              "      <td>2019-10-06 15:34:07.094925+00</td>\n",
              "      <td>2019-12-19 20:40:30.786144+00</td>\n",
              "      <td>NaN</td>\n",
              "      <td>https://frame-store.com/products/plaid-cropped...</td>\n",
              "      <td>NaN</td>\n",
              "      <td>{\"Needs Attributes\"}</td>\n",
              "      <td>NaN</td>\n",
              "    </tr>\n",
              "  </tbody>\n",
              "</table>\n",
              "</div>"
            ],
            "text/plain": [
              "                            Unnamed: 0  ... bc_product_id\n",
              "product_id                              ...              \n",
              "01DPGV9PFVQBXZQ8BKT0EVK2DB          53  ...         191.0\n",
              "01DPGV9PFVQBXZQ8BKT0EVK2DB          53  ...           NaN\n",
              "\n",
              "[2 rows x 18 columns]"
            ]
          },
          "metadata": {
            "tags": []
          },
          "execution_count": 67
        }
      ]
    },
    {
      "cell_type": "code",
      "metadata": {
        "id": "Cvi25QyKaGh4",
        "colab_type": "code",
        "colab": {}
      },
      "source": [
        ""
      ],
      "execution_count": 0,
      "outputs": []
    }
  ]
}