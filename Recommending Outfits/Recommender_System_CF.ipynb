{
  "nbformat": 4,
  "nbformat_minor": 0,
  "metadata": {
    "kernelspec": {
      "display_name": "Python 3",
      "language": "python",
      "name": "python3"
    },
    "language_info": {
      "codemirror_mode": {
        "name": "ipython",
        "version": 3
      },
      "file_extension": ".py",
      "mimetype": "text/x-python",
      "name": "python",
      "nbconvert_exporter": "python",
      "pygments_lexer": "ipython3",
      "version": "3.7.6"
    },
    "colab": {
      "name": "Recommender System CF.ipynb",
      "provenance": [],
      "collapsed_sections": [
        "pb9KckyCAVS7"
      ]
    },
    "widgets": {
      "application/vnd.jupyter.widget-state+json": {
        "44a390af95df48b7a23c4f8bd8f8698b": {
          "model_module": "@jupyter-widgets/controls",
          "model_name": "HBoxModel",
          "state": {
            "_view_name": "HBoxView",
            "_dom_classes": [],
            "_model_name": "HBoxModel",
            "_view_module": "@jupyter-widgets/controls",
            "_model_module_version": "1.5.0",
            "_view_count": null,
            "_view_module_version": "1.5.0",
            "box_style": "",
            "layout": "IPY_MODEL_7c083eca5af2466ba473a61cf3403f15",
            "_model_module": "@jupyter-widgets/controls",
            "children": [
              "IPY_MODEL_ac3e909df9ff4862b09de3af65c94b7c",
              "IPY_MODEL_bdb19aa443214b5493082768124c674a"
            ]
          }
        },
        "7c083eca5af2466ba473a61cf3403f15": {
          "model_module": "@jupyter-widgets/base",
          "model_name": "LayoutModel",
          "state": {
            "_view_name": "LayoutView",
            "grid_template_rows": null,
            "right": null,
            "justify_content": null,
            "_view_module": "@jupyter-widgets/base",
            "overflow": null,
            "_model_module_version": "1.2.0",
            "_view_count": null,
            "flex_flow": null,
            "width": null,
            "min_width": null,
            "border": null,
            "align_items": null,
            "bottom": null,
            "_model_module": "@jupyter-widgets/base",
            "top": null,
            "grid_column": null,
            "overflow_y": null,
            "overflow_x": null,
            "grid_auto_flow": null,
            "grid_area": null,
            "grid_template_columns": null,
            "flex": null,
            "_model_name": "LayoutModel",
            "justify_items": null,
            "grid_row": null,
            "max_height": null,
            "align_content": null,
            "visibility": null,
            "align_self": null,
            "height": null,
            "min_height": null,
            "padding": null,
            "grid_auto_rows": null,
            "grid_gap": null,
            "max_width": null,
            "order": null,
            "_view_module_version": "1.2.0",
            "grid_template_areas": null,
            "object_position": null,
            "object_fit": null,
            "grid_auto_columns": null,
            "margin": null,
            "display": null,
            "left": null
          }
        },
        "ac3e909df9ff4862b09de3af65c94b7c": {
          "model_module": "@jupyter-widgets/controls",
          "model_name": "FloatProgressModel",
          "state": {
            "_view_name": "ProgressView",
            "style": "IPY_MODEL_541d71a9ce86444ea598a4dd28e51b9b",
            "_dom_classes": [],
            "description": "100%",
            "_model_name": "FloatProgressModel",
            "bar_style": "success",
            "max": 50,
            "_view_module": "@jupyter-widgets/controls",
            "_model_module_version": "1.5.0",
            "value": 50,
            "_view_count": null,
            "_view_module_version": "1.5.0",
            "orientation": "horizontal",
            "min": 0,
            "description_tooltip": null,
            "_model_module": "@jupyter-widgets/controls",
            "layout": "IPY_MODEL_f61ab17b29b848ad806cb483dc8edba6"
          }
        },
        "bdb19aa443214b5493082768124c674a": {
          "model_module": "@jupyter-widgets/controls",
          "model_name": "HTMLModel",
          "state": {
            "_view_name": "HTMLView",
            "style": "IPY_MODEL_28de599e0f5843f4a4da7571e45e660e",
            "_dom_classes": [],
            "description": "",
            "_model_name": "HTMLModel",
            "placeholder": "​",
            "_view_module": "@jupyter-widgets/controls",
            "_model_module_version": "1.5.0",
            "value": " 50/50 [00:22&lt;00:00,  2.18it/s]",
            "_view_count": null,
            "_view_module_version": "1.5.0",
            "description_tooltip": null,
            "_model_module": "@jupyter-widgets/controls",
            "layout": "IPY_MODEL_bc749170111e46abb346521001372f63"
          }
        },
        "541d71a9ce86444ea598a4dd28e51b9b": {
          "model_module": "@jupyter-widgets/controls",
          "model_name": "ProgressStyleModel",
          "state": {
            "_view_name": "StyleView",
            "_model_name": "ProgressStyleModel",
            "description_width": "initial",
            "_view_module": "@jupyter-widgets/base",
            "_model_module_version": "1.5.0",
            "_view_count": null,
            "_view_module_version": "1.2.0",
            "bar_color": null,
            "_model_module": "@jupyter-widgets/controls"
          }
        },
        "f61ab17b29b848ad806cb483dc8edba6": {
          "model_module": "@jupyter-widgets/base",
          "model_name": "LayoutModel",
          "state": {
            "_view_name": "LayoutView",
            "grid_template_rows": null,
            "right": null,
            "justify_content": null,
            "_view_module": "@jupyter-widgets/base",
            "overflow": null,
            "_model_module_version": "1.2.0",
            "_view_count": null,
            "flex_flow": null,
            "width": null,
            "min_width": null,
            "border": null,
            "align_items": null,
            "bottom": null,
            "_model_module": "@jupyter-widgets/base",
            "top": null,
            "grid_column": null,
            "overflow_y": null,
            "overflow_x": null,
            "grid_auto_flow": null,
            "grid_area": null,
            "grid_template_columns": null,
            "flex": null,
            "_model_name": "LayoutModel",
            "justify_items": null,
            "grid_row": null,
            "max_height": null,
            "align_content": null,
            "visibility": null,
            "align_self": null,
            "height": null,
            "min_height": null,
            "padding": null,
            "grid_auto_rows": null,
            "grid_gap": null,
            "max_width": null,
            "order": null,
            "_view_module_version": "1.2.0",
            "grid_template_areas": null,
            "object_position": null,
            "object_fit": null,
            "grid_auto_columns": null,
            "margin": null,
            "display": null,
            "left": null
          }
        },
        "28de599e0f5843f4a4da7571e45e660e": {
          "model_module": "@jupyter-widgets/controls",
          "model_name": "DescriptionStyleModel",
          "state": {
            "_view_name": "StyleView",
            "_model_name": "DescriptionStyleModel",
            "description_width": "",
            "_view_module": "@jupyter-widgets/base",
            "_model_module_version": "1.5.0",
            "_view_count": null,
            "_view_module_version": "1.2.0",
            "_model_module": "@jupyter-widgets/controls"
          }
        },
        "bc749170111e46abb346521001372f63": {
          "model_module": "@jupyter-widgets/base",
          "model_name": "LayoutModel",
          "state": {
            "_view_name": "LayoutView",
            "grid_template_rows": null,
            "right": null,
            "justify_content": null,
            "_view_module": "@jupyter-widgets/base",
            "overflow": null,
            "_model_module_version": "1.2.0",
            "_view_count": null,
            "flex_flow": null,
            "width": null,
            "min_width": null,
            "border": null,
            "align_items": null,
            "bottom": null,
            "_model_module": "@jupyter-widgets/base",
            "top": null,
            "grid_column": null,
            "overflow_y": null,
            "overflow_x": null,
            "grid_auto_flow": null,
            "grid_area": null,
            "grid_template_columns": null,
            "flex": null,
            "_model_name": "LayoutModel",
            "justify_items": null,
            "grid_row": null,
            "max_height": null,
            "align_content": null,
            "visibility": null,
            "align_self": null,
            "height": null,
            "min_height": null,
            "padding": null,
            "grid_auto_rows": null,
            "grid_gap": null,
            "max_width": null,
            "order": null,
            "_view_module_version": "1.2.0",
            "grid_template_areas": null,
            "object_position": null,
            "object_fit": null,
            "grid_auto_columns": null,
            "margin": null,
            "display": null,
            "left": null
          }
        },
        "3d90141c0f024bd09b363396ec73f36e": {
          "model_module": "@jupyter-widgets/controls",
          "model_name": "HBoxModel",
          "state": {
            "_view_name": "HBoxView",
            "_dom_classes": [],
            "_model_name": "HBoxModel",
            "_view_module": "@jupyter-widgets/controls",
            "_model_module_version": "1.5.0",
            "_view_count": null,
            "_view_module_version": "1.5.0",
            "box_style": "",
            "layout": "IPY_MODEL_53aa89b0050946438f06e97804feacf4",
            "_model_module": "@jupyter-widgets/controls",
            "children": [
              "IPY_MODEL_9e61bc8c8e5646bdbfbc76ba46403893",
              "IPY_MODEL_1bf96da0cc524381957e5c10ced8572b"
            ]
          }
        },
        "53aa89b0050946438f06e97804feacf4": {
          "model_module": "@jupyter-widgets/base",
          "model_name": "LayoutModel",
          "state": {
            "_view_name": "LayoutView",
            "grid_template_rows": null,
            "right": null,
            "justify_content": null,
            "_view_module": "@jupyter-widgets/base",
            "overflow": null,
            "_model_module_version": "1.2.0",
            "_view_count": null,
            "flex_flow": null,
            "width": null,
            "min_width": null,
            "border": null,
            "align_items": null,
            "bottom": null,
            "_model_module": "@jupyter-widgets/base",
            "top": null,
            "grid_column": null,
            "overflow_y": null,
            "overflow_x": null,
            "grid_auto_flow": null,
            "grid_area": null,
            "grid_template_columns": null,
            "flex": null,
            "_model_name": "LayoutModel",
            "justify_items": null,
            "grid_row": null,
            "max_height": null,
            "align_content": null,
            "visibility": null,
            "align_self": null,
            "height": null,
            "min_height": null,
            "padding": null,
            "grid_auto_rows": null,
            "grid_gap": null,
            "max_width": null,
            "order": null,
            "_view_module_version": "1.2.0",
            "grid_template_areas": null,
            "object_position": null,
            "object_fit": null,
            "grid_auto_columns": null,
            "margin": null,
            "display": null,
            "left": null
          }
        },
        "9e61bc8c8e5646bdbfbc76ba46403893": {
          "model_module": "@jupyter-widgets/controls",
          "model_name": "FloatProgressModel",
          "state": {
            "_view_name": "ProgressView",
            "style": "IPY_MODEL_e6aa748821b54865b1a4b71bda20edef",
            "_dom_classes": [],
            "description": "100%",
            "_model_name": "FloatProgressModel",
            "bar_style": "success",
            "max": 50,
            "_view_module": "@jupyter-widgets/controls",
            "_model_module_version": "1.5.0",
            "value": 50,
            "_view_count": null,
            "_view_module_version": "1.5.0",
            "orientation": "horizontal",
            "min": 0,
            "description_tooltip": null,
            "_model_module": "@jupyter-widgets/controls",
            "layout": "IPY_MODEL_0aa1e38c7b864f9db1c2896a668f94a9"
          }
        },
        "1bf96da0cc524381957e5c10ced8572b": {
          "model_module": "@jupyter-widgets/controls",
          "model_name": "HTMLModel",
          "state": {
            "_view_name": "HTMLView",
            "style": "IPY_MODEL_a63ebcbb9f6f4cf3ad666c69a572e4ee",
            "_dom_classes": [],
            "description": "",
            "_model_name": "HTMLModel",
            "placeholder": "​",
            "_view_module": "@jupyter-widgets/controls",
            "_model_module_version": "1.5.0",
            "value": " 50/50 [00:09&lt;00:00,  5.40it/s]",
            "_view_count": null,
            "_view_module_version": "1.5.0",
            "description_tooltip": null,
            "_model_module": "@jupyter-widgets/controls",
            "layout": "IPY_MODEL_878f6690032a4dccbc77df407cbedf85"
          }
        },
        "e6aa748821b54865b1a4b71bda20edef": {
          "model_module": "@jupyter-widgets/controls",
          "model_name": "ProgressStyleModel",
          "state": {
            "_view_name": "StyleView",
            "_model_name": "ProgressStyleModel",
            "description_width": "initial",
            "_view_module": "@jupyter-widgets/base",
            "_model_module_version": "1.5.0",
            "_view_count": null,
            "_view_module_version": "1.2.0",
            "bar_color": null,
            "_model_module": "@jupyter-widgets/controls"
          }
        },
        "0aa1e38c7b864f9db1c2896a668f94a9": {
          "model_module": "@jupyter-widgets/base",
          "model_name": "LayoutModel",
          "state": {
            "_view_name": "LayoutView",
            "grid_template_rows": null,
            "right": null,
            "justify_content": null,
            "_view_module": "@jupyter-widgets/base",
            "overflow": null,
            "_model_module_version": "1.2.0",
            "_view_count": null,
            "flex_flow": null,
            "width": null,
            "min_width": null,
            "border": null,
            "align_items": null,
            "bottom": null,
            "_model_module": "@jupyter-widgets/base",
            "top": null,
            "grid_column": null,
            "overflow_y": null,
            "overflow_x": null,
            "grid_auto_flow": null,
            "grid_area": null,
            "grid_template_columns": null,
            "flex": null,
            "_model_name": "LayoutModel",
            "justify_items": null,
            "grid_row": null,
            "max_height": null,
            "align_content": null,
            "visibility": null,
            "align_self": null,
            "height": null,
            "min_height": null,
            "padding": null,
            "grid_auto_rows": null,
            "grid_gap": null,
            "max_width": null,
            "order": null,
            "_view_module_version": "1.2.0",
            "grid_template_areas": null,
            "object_position": null,
            "object_fit": null,
            "grid_auto_columns": null,
            "margin": null,
            "display": null,
            "left": null
          }
        },
        "a63ebcbb9f6f4cf3ad666c69a572e4ee": {
          "model_module": "@jupyter-widgets/controls",
          "model_name": "DescriptionStyleModel",
          "state": {
            "_view_name": "StyleView",
            "_model_name": "DescriptionStyleModel",
            "description_width": "",
            "_view_module": "@jupyter-widgets/base",
            "_model_module_version": "1.5.0",
            "_view_count": null,
            "_view_module_version": "1.2.0",
            "_model_module": "@jupyter-widgets/controls"
          }
        },
        "878f6690032a4dccbc77df407cbedf85": {
          "model_module": "@jupyter-widgets/base",
          "model_name": "LayoutModel",
          "state": {
            "_view_name": "LayoutView",
            "grid_template_rows": null,
            "right": null,
            "justify_content": null,
            "_view_module": "@jupyter-widgets/base",
            "overflow": null,
            "_model_module_version": "1.2.0",
            "_view_count": null,
            "flex_flow": null,
            "width": null,
            "min_width": null,
            "border": null,
            "align_items": null,
            "bottom": null,
            "_model_module": "@jupyter-widgets/base",
            "top": null,
            "grid_column": null,
            "overflow_y": null,
            "overflow_x": null,
            "grid_auto_flow": null,
            "grid_area": null,
            "grid_template_columns": null,
            "flex": null,
            "_model_name": "LayoutModel",
            "justify_items": null,
            "grid_row": null,
            "max_height": null,
            "align_content": null,
            "visibility": null,
            "align_self": null,
            "height": null,
            "min_height": null,
            "padding": null,
            "grid_auto_rows": null,
            "grid_gap": null,
            "max_width": null,
            "order": null,
            "_view_module_version": "1.2.0",
            "grid_template_areas": null,
            "object_position": null,
            "object_fit": null,
            "grid_auto_columns": null,
            "margin": null,
            "display": null,
            "left": null
          }
        },
        "7ab0e467b5ae4bdba57b0c1f85fee2bc": {
          "model_module": "@jupyter-widgets/controls",
          "model_name": "HBoxModel",
          "state": {
            "_view_name": "HBoxView",
            "_dom_classes": [],
            "_model_name": "HBoxModel",
            "_view_module": "@jupyter-widgets/controls",
            "_model_module_version": "1.5.0",
            "_view_count": null,
            "_view_module_version": "1.5.0",
            "box_style": "",
            "layout": "IPY_MODEL_e8861f39c81a4eddba742a8e1574ec69",
            "_model_module": "@jupyter-widgets/controls",
            "children": [
              "IPY_MODEL_139f2c0937164eb189d683941bf1d08e",
              "IPY_MODEL_328bfc408af64765b5f1366093a5cc73"
            ]
          }
        },
        "e8861f39c81a4eddba742a8e1574ec69": {
          "model_module": "@jupyter-widgets/base",
          "model_name": "LayoutModel",
          "state": {
            "_view_name": "LayoutView",
            "grid_template_rows": null,
            "right": null,
            "justify_content": null,
            "_view_module": "@jupyter-widgets/base",
            "overflow": null,
            "_model_module_version": "1.2.0",
            "_view_count": null,
            "flex_flow": null,
            "width": null,
            "min_width": null,
            "border": null,
            "align_items": null,
            "bottom": null,
            "_model_module": "@jupyter-widgets/base",
            "top": null,
            "grid_column": null,
            "overflow_y": null,
            "overflow_x": null,
            "grid_auto_flow": null,
            "grid_area": null,
            "grid_template_columns": null,
            "flex": null,
            "_model_name": "LayoutModel",
            "justify_items": null,
            "grid_row": null,
            "max_height": null,
            "align_content": null,
            "visibility": null,
            "align_self": null,
            "height": null,
            "min_height": null,
            "padding": null,
            "grid_auto_rows": null,
            "grid_gap": null,
            "max_width": null,
            "order": null,
            "_view_module_version": "1.2.0",
            "grid_template_areas": null,
            "object_position": null,
            "object_fit": null,
            "grid_auto_columns": null,
            "margin": null,
            "display": null,
            "left": null
          }
        },
        "139f2c0937164eb189d683941bf1d08e": {
          "model_module": "@jupyter-widgets/controls",
          "model_name": "FloatProgressModel",
          "state": {
            "_view_name": "ProgressView",
            "style": "IPY_MODEL_0e88f628d41e4e5692e8d44a90c0d929",
            "_dom_classes": [],
            "description": "100%",
            "_model_name": "FloatProgressModel",
            "bar_style": "success",
            "max": 50,
            "_view_module": "@jupyter-widgets/controls",
            "_model_module_version": "1.5.0",
            "value": 50,
            "_view_count": null,
            "_view_module_version": "1.5.0",
            "orientation": "horizontal",
            "min": 0,
            "description_tooltip": null,
            "_model_module": "@jupyter-widgets/controls",
            "layout": "IPY_MODEL_d3a52e2116ab4a148c4a834b4ea6d26c"
          }
        },
        "328bfc408af64765b5f1366093a5cc73": {
          "model_module": "@jupyter-widgets/controls",
          "model_name": "HTMLModel",
          "state": {
            "_view_name": "HTMLView",
            "style": "IPY_MODEL_6ad269e894ed4dc0a7b2b4ae85497eb0",
            "_dom_classes": [],
            "description": "",
            "_model_name": "HTMLModel",
            "placeholder": "​",
            "_view_module": "@jupyter-widgets/controls",
            "_model_module_version": "1.5.0",
            "value": " 50/50 [00:00&lt;00:00, 57.85it/s]",
            "_view_count": null,
            "_view_module_version": "1.5.0",
            "description_tooltip": null,
            "_model_module": "@jupyter-widgets/controls",
            "layout": "IPY_MODEL_00fc3b7a68694d97921674316338f61e"
          }
        },
        "0e88f628d41e4e5692e8d44a90c0d929": {
          "model_module": "@jupyter-widgets/controls",
          "model_name": "ProgressStyleModel",
          "state": {
            "_view_name": "StyleView",
            "_model_name": "ProgressStyleModel",
            "description_width": "initial",
            "_view_module": "@jupyter-widgets/base",
            "_model_module_version": "1.5.0",
            "_view_count": null,
            "_view_module_version": "1.2.0",
            "bar_color": null,
            "_model_module": "@jupyter-widgets/controls"
          }
        },
        "d3a52e2116ab4a148c4a834b4ea6d26c": {
          "model_module": "@jupyter-widgets/base",
          "model_name": "LayoutModel",
          "state": {
            "_view_name": "LayoutView",
            "grid_template_rows": null,
            "right": null,
            "justify_content": null,
            "_view_module": "@jupyter-widgets/base",
            "overflow": null,
            "_model_module_version": "1.2.0",
            "_view_count": null,
            "flex_flow": null,
            "width": null,
            "min_width": null,
            "border": null,
            "align_items": null,
            "bottom": null,
            "_model_module": "@jupyter-widgets/base",
            "top": null,
            "grid_column": null,
            "overflow_y": null,
            "overflow_x": null,
            "grid_auto_flow": null,
            "grid_area": null,
            "grid_template_columns": null,
            "flex": null,
            "_model_name": "LayoutModel",
            "justify_items": null,
            "grid_row": null,
            "max_height": null,
            "align_content": null,
            "visibility": null,
            "align_self": null,
            "height": null,
            "min_height": null,
            "padding": null,
            "grid_auto_rows": null,
            "grid_gap": null,
            "max_width": null,
            "order": null,
            "_view_module_version": "1.2.0",
            "grid_template_areas": null,
            "object_position": null,
            "object_fit": null,
            "grid_auto_columns": null,
            "margin": null,
            "display": null,
            "left": null
          }
        },
        "6ad269e894ed4dc0a7b2b4ae85497eb0": {
          "model_module": "@jupyter-widgets/controls",
          "model_name": "DescriptionStyleModel",
          "state": {
            "_view_name": "StyleView",
            "_model_name": "DescriptionStyleModel",
            "description_width": "",
            "_view_module": "@jupyter-widgets/base",
            "_model_module_version": "1.5.0",
            "_view_count": null,
            "_view_module_version": "1.2.0",
            "_model_module": "@jupyter-widgets/controls"
          }
        },
        "00fc3b7a68694d97921674316338f61e": {
          "model_module": "@jupyter-widgets/base",
          "model_name": "LayoutModel",
          "state": {
            "_view_name": "LayoutView",
            "grid_template_rows": null,
            "right": null,
            "justify_content": null,
            "_view_module": "@jupyter-widgets/base",
            "overflow": null,
            "_model_module_version": "1.2.0",
            "_view_count": null,
            "flex_flow": null,
            "width": null,
            "min_width": null,
            "border": null,
            "align_items": null,
            "bottom": null,
            "_model_module": "@jupyter-widgets/base",
            "top": null,
            "grid_column": null,
            "overflow_y": null,
            "overflow_x": null,
            "grid_auto_flow": null,
            "grid_area": null,
            "grid_template_columns": null,
            "flex": null,
            "_model_name": "LayoutModel",
            "justify_items": null,
            "grid_row": null,
            "max_height": null,
            "align_content": null,
            "visibility": null,
            "align_self": null,
            "height": null,
            "min_height": null,
            "padding": null,
            "grid_auto_rows": null,
            "grid_gap": null,
            "max_width": null,
            "order": null,
            "_view_module_version": "1.2.0",
            "grid_template_areas": null,
            "object_position": null,
            "object_fit": null,
            "grid_auto_columns": null,
            "margin": null,
            "display": null,
            "left": null
          }
        },
        "2c3317bcab8842f68b141c3ee7634808": {
          "model_module": "@jupyter-widgets/controls",
          "model_name": "HBoxModel",
          "state": {
            "_view_name": "HBoxView",
            "_dom_classes": [],
            "_model_name": "HBoxModel",
            "_view_module": "@jupyter-widgets/controls",
            "_model_module_version": "1.5.0",
            "_view_count": null,
            "_view_module_version": "1.5.0",
            "box_style": "",
            "layout": "IPY_MODEL_b211f2758e1b4ad3815ec5b3891cc2f1",
            "_model_module": "@jupyter-widgets/controls",
            "children": [
              "IPY_MODEL_41e935060e324610a623f01ada5d2d99",
              "IPY_MODEL_f7e03f2649d04bd3956db741530a260c"
            ]
          }
        },
        "b211f2758e1b4ad3815ec5b3891cc2f1": {
          "model_module": "@jupyter-widgets/base",
          "model_name": "LayoutModel",
          "state": {
            "_view_name": "LayoutView",
            "grid_template_rows": null,
            "right": null,
            "justify_content": null,
            "_view_module": "@jupyter-widgets/base",
            "overflow": null,
            "_model_module_version": "1.2.0",
            "_view_count": null,
            "flex_flow": null,
            "width": null,
            "min_width": null,
            "border": null,
            "align_items": null,
            "bottom": null,
            "_model_module": "@jupyter-widgets/base",
            "top": null,
            "grid_column": null,
            "overflow_y": null,
            "overflow_x": null,
            "grid_auto_flow": null,
            "grid_area": null,
            "grid_template_columns": null,
            "flex": null,
            "_model_name": "LayoutModel",
            "justify_items": null,
            "grid_row": null,
            "max_height": null,
            "align_content": null,
            "visibility": null,
            "align_self": null,
            "height": null,
            "min_height": null,
            "padding": null,
            "grid_auto_rows": null,
            "grid_gap": null,
            "max_width": null,
            "order": null,
            "_view_module_version": "1.2.0",
            "grid_template_areas": null,
            "object_position": null,
            "object_fit": null,
            "grid_auto_columns": null,
            "margin": null,
            "display": null,
            "left": null
          }
        },
        "41e935060e324610a623f01ada5d2d99": {
          "model_module": "@jupyter-widgets/controls",
          "model_name": "FloatProgressModel",
          "state": {
            "_view_name": "ProgressView",
            "style": "IPY_MODEL_26b7368b162b4a60939221c9bc76f52e",
            "_dom_classes": [],
            "description": "100%",
            "_model_name": "FloatProgressModel",
            "bar_style": "success",
            "max": 50,
            "_view_module": "@jupyter-widgets/controls",
            "_model_module_version": "1.5.0",
            "value": 50,
            "_view_count": null,
            "_view_module_version": "1.5.0",
            "orientation": "horizontal",
            "min": 0,
            "description_tooltip": null,
            "_model_module": "@jupyter-widgets/controls",
            "layout": "IPY_MODEL_503b28c47ee148c5a0b6ef3fc8df2b46"
          }
        },
        "f7e03f2649d04bd3956db741530a260c": {
          "model_module": "@jupyter-widgets/controls",
          "model_name": "HTMLModel",
          "state": {
            "_view_name": "HTMLView",
            "style": "IPY_MODEL_c7ad8d9c6e3b49c68cbc22db87074d27",
            "_dom_classes": [],
            "description": "",
            "_model_name": "HTMLModel",
            "placeholder": "​",
            "_view_module": "@jupyter-widgets/controls",
            "_model_module_version": "1.5.0",
            "value": " 50/50 [00:10&lt;00:00,  4.69it/s]",
            "_view_count": null,
            "_view_module_version": "1.5.0",
            "description_tooltip": null,
            "_model_module": "@jupyter-widgets/controls",
            "layout": "IPY_MODEL_49acc809afc64f64852c8c2a34546640"
          }
        },
        "26b7368b162b4a60939221c9bc76f52e": {
          "model_module": "@jupyter-widgets/controls",
          "model_name": "ProgressStyleModel",
          "state": {
            "_view_name": "StyleView",
            "_model_name": "ProgressStyleModel",
            "description_width": "initial",
            "_view_module": "@jupyter-widgets/base",
            "_model_module_version": "1.5.0",
            "_view_count": null,
            "_view_module_version": "1.2.0",
            "bar_color": null,
            "_model_module": "@jupyter-widgets/controls"
          }
        },
        "503b28c47ee148c5a0b6ef3fc8df2b46": {
          "model_module": "@jupyter-widgets/base",
          "model_name": "LayoutModel",
          "state": {
            "_view_name": "LayoutView",
            "grid_template_rows": null,
            "right": null,
            "justify_content": null,
            "_view_module": "@jupyter-widgets/base",
            "overflow": null,
            "_model_module_version": "1.2.0",
            "_view_count": null,
            "flex_flow": null,
            "width": null,
            "min_width": null,
            "border": null,
            "align_items": null,
            "bottom": null,
            "_model_module": "@jupyter-widgets/base",
            "top": null,
            "grid_column": null,
            "overflow_y": null,
            "overflow_x": null,
            "grid_auto_flow": null,
            "grid_area": null,
            "grid_template_columns": null,
            "flex": null,
            "_model_name": "LayoutModel",
            "justify_items": null,
            "grid_row": null,
            "max_height": null,
            "align_content": null,
            "visibility": null,
            "align_self": null,
            "height": null,
            "min_height": null,
            "padding": null,
            "grid_auto_rows": null,
            "grid_gap": null,
            "max_width": null,
            "order": null,
            "_view_module_version": "1.2.0",
            "grid_template_areas": null,
            "object_position": null,
            "object_fit": null,
            "grid_auto_columns": null,
            "margin": null,
            "display": null,
            "left": null
          }
        },
        "c7ad8d9c6e3b49c68cbc22db87074d27": {
          "model_module": "@jupyter-widgets/controls",
          "model_name": "DescriptionStyleModel",
          "state": {
            "_view_name": "StyleView",
            "_model_name": "DescriptionStyleModel",
            "description_width": "",
            "_view_module": "@jupyter-widgets/base",
            "_model_module_version": "1.5.0",
            "_view_count": null,
            "_view_module_version": "1.2.0",
            "_model_module": "@jupyter-widgets/controls"
          }
        },
        "49acc809afc64f64852c8c2a34546640": {
          "model_module": "@jupyter-widgets/base",
          "model_name": "LayoutModel",
          "state": {
            "_view_name": "LayoutView",
            "grid_template_rows": null,
            "right": null,
            "justify_content": null,
            "_view_module": "@jupyter-widgets/base",
            "overflow": null,
            "_model_module_version": "1.2.0",
            "_view_count": null,
            "flex_flow": null,
            "width": null,
            "min_width": null,
            "border": null,
            "align_items": null,
            "bottom": null,
            "_model_module": "@jupyter-widgets/base",
            "top": null,
            "grid_column": null,
            "overflow_y": null,
            "overflow_x": null,
            "grid_auto_flow": null,
            "grid_area": null,
            "grid_template_columns": null,
            "flex": null,
            "_model_name": "LayoutModel",
            "justify_items": null,
            "grid_row": null,
            "max_height": null,
            "align_content": null,
            "visibility": null,
            "align_self": null,
            "height": null,
            "min_height": null,
            "padding": null,
            "grid_auto_rows": null,
            "grid_gap": null,
            "max_width": null,
            "order": null,
            "_view_module_version": "1.2.0",
            "grid_template_areas": null,
            "object_position": null,
            "object_fit": null,
            "grid_auto_columns": null,
            "margin": null,
            "display": null,
            "left": null
          }
        },
        "3a0367bfece941dca06aa11b74929508": {
          "model_module": "@jupyter-widgets/controls",
          "model_name": "HBoxModel",
          "state": {
            "_view_name": "HBoxView",
            "_dom_classes": [],
            "_model_name": "HBoxModel",
            "_view_module": "@jupyter-widgets/controls",
            "_model_module_version": "1.5.0",
            "_view_count": null,
            "_view_module_version": "1.5.0",
            "box_style": "",
            "layout": "IPY_MODEL_c0ea43af8a6f4dc2bae2919a1d20d8bf",
            "_model_module": "@jupyter-widgets/controls",
            "children": [
              "IPY_MODEL_00a2bf48208844c1bc7032947a9f2074",
              "IPY_MODEL_0d6efcc07e514ec1b226a06852f95305"
            ]
          }
        },
        "c0ea43af8a6f4dc2bae2919a1d20d8bf": {
          "model_module": "@jupyter-widgets/base",
          "model_name": "LayoutModel",
          "state": {
            "_view_name": "LayoutView",
            "grid_template_rows": null,
            "right": null,
            "justify_content": null,
            "_view_module": "@jupyter-widgets/base",
            "overflow": null,
            "_model_module_version": "1.2.0",
            "_view_count": null,
            "flex_flow": null,
            "width": null,
            "min_width": null,
            "border": null,
            "align_items": null,
            "bottom": null,
            "_model_module": "@jupyter-widgets/base",
            "top": null,
            "grid_column": null,
            "overflow_y": null,
            "overflow_x": null,
            "grid_auto_flow": null,
            "grid_area": null,
            "grid_template_columns": null,
            "flex": null,
            "_model_name": "LayoutModel",
            "justify_items": null,
            "grid_row": null,
            "max_height": null,
            "align_content": null,
            "visibility": null,
            "align_self": null,
            "height": null,
            "min_height": null,
            "padding": null,
            "grid_auto_rows": null,
            "grid_gap": null,
            "max_width": null,
            "order": null,
            "_view_module_version": "1.2.0",
            "grid_template_areas": null,
            "object_position": null,
            "object_fit": null,
            "grid_auto_columns": null,
            "margin": null,
            "display": null,
            "left": null
          }
        },
        "00a2bf48208844c1bc7032947a9f2074": {
          "model_module": "@jupyter-widgets/controls",
          "model_name": "FloatProgressModel",
          "state": {
            "_view_name": "ProgressView",
            "style": "IPY_MODEL_a671068e0f8d42698e1512bdad6458be",
            "_dom_classes": [],
            "description": "100%",
            "_model_name": "FloatProgressModel",
            "bar_style": "success",
            "max": 50,
            "_view_module": "@jupyter-widgets/controls",
            "_model_module_version": "1.5.0",
            "value": 50,
            "_view_count": null,
            "_view_module_version": "1.5.0",
            "orientation": "horizontal",
            "min": 0,
            "description_tooltip": null,
            "_model_module": "@jupyter-widgets/controls",
            "layout": "IPY_MODEL_7604aa70e66741b1b64010b7a20c7dc2"
          }
        },
        "0d6efcc07e514ec1b226a06852f95305": {
          "model_module": "@jupyter-widgets/controls",
          "model_name": "HTMLModel",
          "state": {
            "_view_name": "HTMLView",
            "style": "IPY_MODEL_c17b8a0d418d4dd29e3bac08727dcf53",
            "_dom_classes": [],
            "description": "",
            "_model_name": "HTMLModel",
            "placeholder": "​",
            "_view_module": "@jupyter-widgets/controls",
            "_model_module_version": "1.5.0",
            "value": " 50/50 [00:01&lt;00:00, 35.65it/s, correct=50.70%, skipped=0.98%]",
            "_view_count": null,
            "_view_module_version": "1.5.0",
            "description_tooltip": null,
            "_model_module": "@jupyter-widgets/controls",
            "layout": "IPY_MODEL_9a823e32dd0a4ac2995b257a0c44ffea"
          }
        },
        "a671068e0f8d42698e1512bdad6458be": {
          "model_module": "@jupyter-widgets/controls",
          "model_name": "ProgressStyleModel",
          "state": {
            "_view_name": "StyleView",
            "_model_name": "ProgressStyleModel",
            "description_width": "initial",
            "_view_module": "@jupyter-widgets/base",
            "_model_module_version": "1.5.0",
            "_view_count": null,
            "_view_module_version": "1.2.0",
            "bar_color": null,
            "_model_module": "@jupyter-widgets/controls"
          }
        },
        "7604aa70e66741b1b64010b7a20c7dc2": {
          "model_module": "@jupyter-widgets/base",
          "model_name": "LayoutModel",
          "state": {
            "_view_name": "LayoutView",
            "grid_template_rows": null,
            "right": null,
            "justify_content": null,
            "_view_module": "@jupyter-widgets/base",
            "overflow": null,
            "_model_module_version": "1.2.0",
            "_view_count": null,
            "flex_flow": null,
            "width": null,
            "min_width": null,
            "border": null,
            "align_items": null,
            "bottom": null,
            "_model_module": "@jupyter-widgets/base",
            "top": null,
            "grid_column": null,
            "overflow_y": null,
            "overflow_x": null,
            "grid_auto_flow": null,
            "grid_area": null,
            "grid_template_columns": null,
            "flex": null,
            "_model_name": "LayoutModel",
            "justify_items": null,
            "grid_row": null,
            "max_height": null,
            "align_content": null,
            "visibility": null,
            "align_self": null,
            "height": null,
            "min_height": null,
            "padding": null,
            "grid_auto_rows": null,
            "grid_gap": null,
            "max_width": null,
            "order": null,
            "_view_module_version": "1.2.0",
            "grid_template_areas": null,
            "object_position": null,
            "object_fit": null,
            "grid_auto_columns": null,
            "margin": null,
            "display": null,
            "left": null
          }
        },
        "c17b8a0d418d4dd29e3bac08727dcf53": {
          "model_module": "@jupyter-widgets/controls",
          "model_name": "DescriptionStyleModel",
          "state": {
            "_view_name": "StyleView",
            "_model_name": "DescriptionStyleModel",
            "description_width": "",
            "_view_module": "@jupyter-widgets/base",
            "_model_module_version": "1.5.0",
            "_view_count": null,
            "_view_module_version": "1.2.0",
            "_model_module": "@jupyter-widgets/controls"
          }
        },
        "9a823e32dd0a4ac2995b257a0c44ffea": {
          "model_module": "@jupyter-widgets/base",
          "model_name": "LayoutModel",
          "state": {
            "_view_name": "LayoutView",
            "grid_template_rows": null,
            "right": null,
            "justify_content": null,
            "_view_module": "@jupyter-widgets/base",
            "overflow": null,
            "_model_module_version": "1.2.0",
            "_view_count": null,
            "flex_flow": null,
            "width": null,
            "min_width": null,
            "border": null,
            "align_items": null,
            "bottom": null,
            "_model_module": "@jupyter-widgets/base",
            "top": null,
            "grid_column": null,
            "overflow_y": null,
            "overflow_x": null,
            "grid_auto_flow": null,
            "grid_area": null,
            "grid_template_columns": null,
            "flex": null,
            "_model_name": "LayoutModel",
            "justify_items": null,
            "grid_row": null,
            "max_height": null,
            "align_content": null,
            "visibility": null,
            "align_self": null,
            "height": null,
            "min_height": null,
            "padding": null,
            "grid_auto_rows": null,
            "grid_gap": null,
            "max_width": null,
            "order": null,
            "_view_module_version": "1.2.0",
            "grid_template_areas": null,
            "object_position": null,
            "object_fit": null,
            "grid_auto_columns": null,
            "margin": null,
            "display": null,
            "left": null
          }
        },
        "bdc0476e252d4a26a2d5b41ccc73b381": {
          "model_module": "@jupyter-widgets/controls",
          "model_name": "HBoxModel",
          "state": {
            "_view_name": "HBoxView",
            "_dom_classes": [],
            "_model_name": "HBoxModel",
            "_view_module": "@jupyter-widgets/controls",
            "_model_module_version": "1.5.0",
            "_view_count": null,
            "_view_module_version": "1.5.0",
            "box_style": "",
            "layout": "IPY_MODEL_d14c4e6b6e3742be96e29194314a2035",
            "_model_module": "@jupyter-widgets/controls",
            "children": [
              "IPY_MODEL_d5f2dd74602b4f1d821d0b85e216a3ca",
              "IPY_MODEL_93f25b1cc347472c8123ac7b9193c11d"
            ]
          }
        },
        "d14c4e6b6e3742be96e29194314a2035": {
          "model_module": "@jupyter-widgets/base",
          "model_name": "LayoutModel",
          "state": {
            "_view_name": "LayoutView",
            "grid_template_rows": null,
            "right": null,
            "justify_content": null,
            "_view_module": "@jupyter-widgets/base",
            "overflow": null,
            "_model_module_version": "1.2.0",
            "_view_count": null,
            "flex_flow": null,
            "width": null,
            "min_width": null,
            "border": null,
            "align_items": null,
            "bottom": null,
            "_model_module": "@jupyter-widgets/base",
            "top": null,
            "grid_column": null,
            "overflow_y": null,
            "overflow_x": null,
            "grid_auto_flow": null,
            "grid_area": null,
            "grid_template_columns": null,
            "flex": null,
            "_model_name": "LayoutModel",
            "justify_items": null,
            "grid_row": null,
            "max_height": null,
            "align_content": null,
            "visibility": null,
            "align_self": null,
            "height": null,
            "min_height": null,
            "padding": null,
            "grid_auto_rows": null,
            "grid_gap": null,
            "max_width": null,
            "order": null,
            "_view_module_version": "1.2.0",
            "grid_template_areas": null,
            "object_position": null,
            "object_fit": null,
            "grid_auto_columns": null,
            "margin": null,
            "display": null,
            "left": null
          }
        },
        "d5f2dd74602b4f1d821d0b85e216a3ca": {
          "model_module": "@jupyter-widgets/controls",
          "model_name": "FloatProgressModel",
          "state": {
            "_view_name": "ProgressView",
            "style": "IPY_MODEL_f550d349eb9340eaa94198754d41fac6",
            "_dom_classes": [],
            "description": "100%",
            "_model_name": "FloatProgressModel",
            "bar_style": "success",
            "max": 50,
            "_view_module": "@jupyter-widgets/controls",
            "_model_module_version": "1.5.0",
            "value": 50,
            "_view_count": null,
            "_view_module_version": "1.5.0",
            "orientation": "horizontal",
            "min": 0,
            "description_tooltip": null,
            "_model_module": "@jupyter-widgets/controls",
            "layout": "IPY_MODEL_9c965652fb9c47ba839a7ddf61e2ae5c"
          }
        },
        "93f25b1cc347472c8123ac7b9193c11d": {
          "model_module": "@jupyter-widgets/controls",
          "model_name": "HTMLModel",
          "state": {
            "_view_name": "HTMLView",
            "style": "IPY_MODEL_61e0431f2dd64d91a3a0394ae0246257",
            "_dom_classes": [],
            "description": "",
            "_model_name": "HTMLModel",
            "placeholder": "​",
            "_view_module": "@jupyter-widgets/controls",
            "_model_module_version": "1.5.0",
            "value": " 50/50 [00:01&lt;00:00, 45.28it/s]",
            "_view_count": null,
            "_view_module_version": "1.5.0",
            "description_tooltip": null,
            "_model_module": "@jupyter-widgets/controls",
            "layout": "IPY_MODEL_eb7f0b910092430da97bd6be18be7a99"
          }
        },
        "f550d349eb9340eaa94198754d41fac6": {
          "model_module": "@jupyter-widgets/controls",
          "model_name": "ProgressStyleModel",
          "state": {
            "_view_name": "StyleView",
            "_model_name": "ProgressStyleModel",
            "description_width": "initial",
            "_view_module": "@jupyter-widgets/base",
            "_model_module_version": "1.5.0",
            "_view_count": null,
            "_view_module_version": "1.2.0",
            "bar_color": null,
            "_model_module": "@jupyter-widgets/controls"
          }
        },
        "9c965652fb9c47ba839a7ddf61e2ae5c": {
          "model_module": "@jupyter-widgets/base",
          "model_name": "LayoutModel",
          "state": {
            "_view_name": "LayoutView",
            "grid_template_rows": null,
            "right": null,
            "justify_content": null,
            "_view_module": "@jupyter-widgets/base",
            "overflow": null,
            "_model_module_version": "1.2.0",
            "_view_count": null,
            "flex_flow": null,
            "width": null,
            "min_width": null,
            "border": null,
            "align_items": null,
            "bottom": null,
            "_model_module": "@jupyter-widgets/base",
            "top": null,
            "grid_column": null,
            "overflow_y": null,
            "overflow_x": null,
            "grid_auto_flow": null,
            "grid_area": null,
            "grid_template_columns": null,
            "flex": null,
            "_model_name": "LayoutModel",
            "justify_items": null,
            "grid_row": null,
            "max_height": null,
            "align_content": null,
            "visibility": null,
            "align_self": null,
            "height": null,
            "min_height": null,
            "padding": null,
            "grid_auto_rows": null,
            "grid_gap": null,
            "max_width": null,
            "order": null,
            "_view_module_version": "1.2.0",
            "grid_template_areas": null,
            "object_position": null,
            "object_fit": null,
            "grid_auto_columns": null,
            "margin": null,
            "display": null,
            "left": null
          }
        },
        "61e0431f2dd64d91a3a0394ae0246257": {
          "model_module": "@jupyter-widgets/controls",
          "model_name": "DescriptionStyleModel",
          "state": {
            "_view_name": "StyleView",
            "_model_name": "DescriptionStyleModel",
            "description_width": "",
            "_view_module": "@jupyter-widgets/base",
            "_model_module_version": "1.5.0",
            "_view_count": null,
            "_view_module_version": "1.2.0",
            "_model_module": "@jupyter-widgets/controls"
          }
        },
        "eb7f0b910092430da97bd6be18be7a99": {
          "model_module": "@jupyter-widgets/base",
          "model_name": "LayoutModel",
          "state": {
            "_view_name": "LayoutView",
            "grid_template_rows": null,
            "right": null,
            "justify_content": null,
            "_view_module": "@jupyter-widgets/base",
            "overflow": null,
            "_model_module_version": "1.2.0",
            "_view_count": null,
            "flex_flow": null,
            "width": null,
            "min_width": null,
            "border": null,
            "align_items": null,
            "bottom": null,
            "_model_module": "@jupyter-widgets/base",
            "top": null,
            "grid_column": null,
            "overflow_y": null,
            "overflow_x": null,
            "grid_auto_flow": null,
            "grid_area": null,
            "grid_template_columns": null,
            "flex": null,
            "_model_name": "LayoutModel",
            "justify_items": null,
            "grid_row": null,
            "max_height": null,
            "align_content": null,
            "visibility": null,
            "align_self": null,
            "height": null,
            "min_height": null,
            "padding": null,
            "grid_auto_rows": null,
            "grid_gap": null,
            "max_width": null,
            "order": null,
            "_view_module_version": "1.2.0",
            "grid_template_areas": null,
            "object_position": null,
            "object_fit": null,
            "grid_auto_columns": null,
            "margin": null,
            "display": null,
            "left": null
          }
        },
        "ce5ec98a4a4e40e8acd5ba8326d07e4b": {
          "model_module": "@jupyter-widgets/controls",
          "model_name": "HBoxModel",
          "state": {
            "_view_name": "HBoxView",
            "_dom_classes": [],
            "_model_name": "HBoxModel",
            "_view_module": "@jupyter-widgets/controls",
            "_model_module_version": "1.5.0",
            "_view_count": null,
            "_view_module_version": "1.5.0",
            "box_style": "",
            "layout": "IPY_MODEL_aba455dc0d2043499adedd26a73faf43",
            "_model_module": "@jupyter-widgets/controls",
            "children": [
              "IPY_MODEL_6b8f9452d03b4fa5a1d9e84ecf466f2a",
              "IPY_MODEL_271c333338fb41359c598b8d87b71dbb"
            ]
          }
        },
        "aba455dc0d2043499adedd26a73faf43": {
          "model_module": "@jupyter-widgets/base",
          "model_name": "LayoutModel",
          "state": {
            "_view_name": "LayoutView",
            "grid_template_rows": null,
            "right": null,
            "justify_content": null,
            "_view_module": "@jupyter-widgets/base",
            "overflow": null,
            "_model_module_version": "1.2.0",
            "_view_count": null,
            "flex_flow": null,
            "width": null,
            "min_width": null,
            "border": null,
            "align_items": null,
            "bottom": null,
            "_model_module": "@jupyter-widgets/base",
            "top": null,
            "grid_column": null,
            "overflow_y": null,
            "overflow_x": null,
            "grid_auto_flow": null,
            "grid_area": null,
            "grid_template_columns": null,
            "flex": null,
            "_model_name": "LayoutModel",
            "justify_items": null,
            "grid_row": null,
            "max_height": null,
            "align_content": null,
            "visibility": null,
            "align_self": null,
            "height": null,
            "min_height": null,
            "padding": null,
            "grid_auto_rows": null,
            "grid_gap": null,
            "max_width": null,
            "order": null,
            "_view_module_version": "1.2.0",
            "grid_template_areas": null,
            "object_position": null,
            "object_fit": null,
            "grid_auto_columns": null,
            "margin": null,
            "display": null,
            "left": null
          }
        },
        "6b8f9452d03b4fa5a1d9e84ecf466f2a": {
          "model_module": "@jupyter-widgets/controls",
          "model_name": "FloatProgressModel",
          "state": {
            "_view_name": "ProgressView",
            "style": "IPY_MODEL_a54edf5c3c13489798045439da993532",
            "_dom_classes": [],
            "description": "100%",
            "_model_name": "FloatProgressModel",
            "bar_style": "success",
            "max": 50,
            "_view_module": "@jupyter-widgets/controls",
            "_model_module_version": "1.5.0",
            "value": 50,
            "_view_count": null,
            "_view_module_version": "1.5.0",
            "orientation": "horizontal",
            "min": 0,
            "description_tooltip": null,
            "_model_module": "@jupyter-widgets/controls",
            "layout": "IPY_MODEL_c01f7b45f56b4165909377aa08f02140"
          }
        },
        "271c333338fb41359c598b8d87b71dbb": {
          "model_module": "@jupyter-widgets/controls",
          "model_name": "HTMLModel",
          "state": {
            "_view_name": "HTMLView",
            "style": "IPY_MODEL_b06ca5e16cec4d729b24ff5d3bd89e38",
            "_dom_classes": [],
            "description": "",
            "_model_name": "HTMLModel",
            "placeholder": "​",
            "_view_module": "@jupyter-widgets/controls",
            "_model_module_version": "1.5.0",
            "value": " 50/50 [00:10&lt;00:00,  4.82it/s]",
            "_view_count": null,
            "_view_module_version": "1.5.0",
            "description_tooltip": null,
            "_model_module": "@jupyter-widgets/controls",
            "layout": "IPY_MODEL_6846953c40d046c3bac78a4364bc4497"
          }
        },
        "a54edf5c3c13489798045439da993532": {
          "model_module": "@jupyter-widgets/controls",
          "model_name": "ProgressStyleModel",
          "state": {
            "_view_name": "StyleView",
            "_model_name": "ProgressStyleModel",
            "description_width": "initial",
            "_view_module": "@jupyter-widgets/base",
            "_model_module_version": "1.5.0",
            "_view_count": null,
            "_view_module_version": "1.2.0",
            "bar_color": null,
            "_model_module": "@jupyter-widgets/controls"
          }
        },
        "c01f7b45f56b4165909377aa08f02140": {
          "model_module": "@jupyter-widgets/base",
          "model_name": "LayoutModel",
          "state": {
            "_view_name": "LayoutView",
            "grid_template_rows": null,
            "right": null,
            "justify_content": null,
            "_view_module": "@jupyter-widgets/base",
            "overflow": null,
            "_model_module_version": "1.2.0",
            "_view_count": null,
            "flex_flow": null,
            "width": null,
            "min_width": null,
            "border": null,
            "align_items": null,
            "bottom": null,
            "_model_module": "@jupyter-widgets/base",
            "top": null,
            "grid_column": null,
            "overflow_y": null,
            "overflow_x": null,
            "grid_auto_flow": null,
            "grid_area": null,
            "grid_template_columns": null,
            "flex": null,
            "_model_name": "LayoutModel",
            "justify_items": null,
            "grid_row": null,
            "max_height": null,
            "align_content": null,
            "visibility": null,
            "align_self": null,
            "height": null,
            "min_height": null,
            "padding": null,
            "grid_auto_rows": null,
            "grid_gap": null,
            "max_width": null,
            "order": null,
            "_view_module_version": "1.2.0",
            "grid_template_areas": null,
            "object_position": null,
            "object_fit": null,
            "grid_auto_columns": null,
            "margin": null,
            "display": null,
            "left": null
          }
        },
        "b06ca5e16cec4d729b24ff5d3bd89e38": {
          "model_module": "@jupyter-widgets/controls",
          "model_name": "DescriptionStyleModel",
          "state": {
            "_view_name": "StyleView",
            "_model_name": "DescriptionStyleModel",
            "description_width": "",
            "_view_module": "@jupyter-widgets/base",
            "_model_module_version": "1.5.0",
            "_view_count": null,
            "_view_module_version": "1.2.0",
            "_model_module": "@jupyter-widgets/controls"
          }
        },
        "6846953c40d046c3bac78a4364bc4497": {
          "model_module": "@jupyter-widgets/base",
          "model_name": "LayoutModel",
          "state": {
            "_view_name": "LayoutView",
            "grid_template_rows": null,
            "right": null,
            "justify_content": null,
            "_view_module": "@jupyter-widgets/base",
            "overflow": null,
            "_model_module_version": "1.2.0",
            "_view_count": null,
            "flex_flow": null,
            "width": null,
            "min_width": null,
            "border": null,
            "align_items": null,
            "bottom": null,
            "_model_module": "@jupyter-widgets/base",
            "top": null,
            "grid_column": null,
            "overflow_y": null,
            "overflow_x": null,
            "grid_auto_flow": null,
            "grid_area": null,
            "grid_template_columns": null,
            "flex": null,
            "_model_name": "LayoutModel",
            "justify_items": null,
            "grid_row": null,
            "max_height": null,
            "align_content": null,
            "visibility": null,
            "align_self": null,
            "height": null,
            "min_height": null,
            "padding": null,
            "grid_auto_rows": null,
            "grid_gap": null,
            "max_width": null,
            "order": null,
            "_view_module_version": "1.2.0",
            "grid_template_areas": null,
            "object_position": null,
            "object_fit": null,
            "grid_auto_columns": null,
            "margin": null,
            "display": null,
            "left": null
          }
        },
        "4d2d1a970ac948d690e69c9fdc445689": {
          "model_module": "@jupyter-widgets/controls",
          "model_name": "HBoxModel",
          "state": {
            "_view_name": "HBoxView",
            "_dom_classes": [],
            "_model_name": "HBoxModel",
            "_view_module": "@jupyter-widgets/controls",
            "_model_module_version": "1.5.0",
            "_view_count": null,
            "_view_module_version": "1.5.0",
            "box_style": "",
            "layout": "IPY_MODEL_faf18fb2c178437798d19d64f8ba8917",
            "_model_module": "@jupyter-widgets/controls",
            "children": [
              "IPY_MODEL_a3c47bede76b4840913ad4891af79460",
              "IPY_MODEL_5170f5e3a0034dc3a876e5957c115650"
            ]
          }
        },
        "faf18fb2c178437798d19d64f8ba8917": {
          "model_module": "@jupyter-widgets/base",
          "model_name": "LayoutModel",
          "state": {
            "_view_name": "LayoutView",
            "grid_template_rows": null,
            "right": null,
            "justify_content": null,
            "_view_module": "@jupyter-widgets/base",
            "overflow": null,
            "_model_module_version": "1.2.0",
            "_view_count": null,
            "flex_flow": null,
            "width": null,
            "min_width": null,
            "border": null,
            "align_items": null,
            "bottom": null,
            "_model_module": "@jupyter-widgets/base",
            "top": null,
            "grid_column": null,
            "overflow_y": null,
            "overflow_x": null,
            "grid_auto_flow": null,
            "grid_area": null,
            "grid_template_columns": null,
            "flex": null,
            "_model_name": "LayoutModel",
            "justify_items": null,
            "grid_row": null,
            "max_height": null,
            "align_content": null,
            "visibility": null,
            "align_self": null,
            "height": null,
            "min_height": null,
            "padding": null,
            "grid_auto_rows": null,
            "grid_gap": null,
            "max_width": null,
            "order": null,
            "_view_module_version": "1.2.0",
            "grid_template_areas": null,
            "object_position": null,
            "object_fit": null,
            "grid_auto_columns": null,
            "margin": null,
            "display": null,
            "left": null
          }
        },
        "a3c47bede76b4840913ad4891af79460": {
          "model_module": "@jupyter-widgets/controls",
          "model_name": "FloatProgressModel",
          "state": {
            "_view_name": "ProgressView",
            "style": "IPY_MODEL_77ccfdf891cb4246a61320b285642fef",
            "_dom_classes": [],
            "description": "100%",
            "_model_name": "FloatProgressModel",
            "bar_style": "success",
            "max": 50,
            "_view_module": "@jupyter-widgets/controls",
            "_model_module_version": "1.5.0",
            "value": 50,
            "_view_count": null,
            "_view_module_version": "1.5.0",
            "orientation": "horizontal",
            "min": 0,
            "description_tooltip": null,
            "_model_module": "@jupyter-widgets/controls",
            "layout": "IPY_MODEL_a2abd23fe1c24f3a9250dc631a14fe87"
          }
        },
        "5170f5e3a0034dc3a876e5957c115650": {
          "model_module": "@jupyter-widgets/controls",
          "model_name": "HTMLModel",
          "state": {
            "_view_name": "HTMLView",
            "style": "IPY_MODEL_38857c4ef69044138688550dfe2c5a0f",
            "_dom_classes": [],
            "description": "",
            "_model_name": "HTMLModel",
            "placeholder": "​",
            "_view_module": "@jupyter-widgets/controls",
            "_model_module_version": "1.5.0",
            "value": " 50/50 [00:12&lt;00:00,  3.93it/s]",
            "_view_count": null,
            "_view_module_version": "1.5.0",
            "description_tooltip": null,
            "_model_module": "@jupyter-widgets/controls",
            "layout": "IPY_MODEL_4e394923b22d45e1939baf6fca911100"
          }
        },
        "77ccfdf891cb4246a61320b285642fef": {
          "model_module": "@jupyter-widgets/controls",
          "model_name": "ProgressStyleModel",
          "state": {
            "_view_name": "StyleView",
            "_model_name": "ProgressStyleModel",
            "description_width": "initial",
            "_view_module": "@jupyter-widgets/base",
            "_model_module_version": "1.5.0",
            "_view_count": null,
            "_view_module_version": "1.2.0",
            "bar_color": null,
            "_model_module": "@jupyter-widgets/controls"
          }
        },
        "a2abd23fe1c24f3a9250dc631a14fe87": {
          "model_module": "@jupyter-widgets/base",
          "model_name": "LayoutModel",
          "state": {
            "_view_name": "LayoutView",
            "grid_template_rows": null,
            "right": null,
            "justify_content": null,
            "_view_module": "@jupyter-widgets/base",
            "overflow": null,
            "_model_module_version": "1.2.0",
            "_view_count": null,
            "flex_flow": null,
            "width": null,
            "min_width": null,
            "border": null,
            "align_items": null,
            "bottom": null,
            "_model_module": "@jupyter-widgets/base",
            "top": null,
            "grid_column": null,
            "overflow_y": null,
            "overflow_x": null,
            "grid_auto_flow": null,
            "grid_area": null,
            "grid_template_columns": null,
            "flex": null,
            "_model_name": "LayoutModel",
            "justify_items": null,
            "grid_row": null,
            "max_height": null,
            "align_content": null,
            "visibility": null,
            "align_self": null,
            "height": null,
            "min_height": null,
            "padding": null,
            "grid_auto_rows": null,
            "grid_gap": null,
            "max_width": null,
            "order": null,
            "_view_module_version": "1.2.0",
            "grid_template_areas": null,
            "object_position": null,
            "object_fit": null,
            "grid_auto_columns": null,
            "margin": null,
            "display": null,
            "left": null
          }
        },
        "38857c4ef69044138688550dfe2c5a0f": {
          "model_module": "@jupyter-widgets/controls",
          "model_name": "DescriptionStyleModel",
          "state": {
            "_view_name": "StyleView",
            "_model_name": "DescriptionStyleModel",
            "description_width": "",
            "_view_module": "@jupyter-widgets/base",
            "_model_module_version": "1.5.0",
            "_view_count": null,
            "_view_module_version": "1.2.0",
            "_model_module": "@jupyter-widgets/controls"
          }
        },
        "4e394923b22d45e1939baf6fca911100": {
          "model_module": "@jupyter-widgets/base",
          "model_name": "LayoutModel",
          "state": {
            "_view_name": "LayoutView",
            "grid_template_rows": null,
            "right": null,
            "justify_content": null,
            "_view_module": "@jupyter-widgets/base",
            "overflow": null,
            "_model_module_version": "1.2.0",
            "_view_count": null,
            "flex_flow": null,
            "width": null,
            "min_width": null,
            "border": null,
            "align_items": null,
            "bottom": null,
            "_model_module": "@jupyter-widgets/base",
            "top": null,
            "grid_column": null,
            "overflow_y": null,
            "overflow_x": null,
            "grid_auto_flow": null,
            "grid_area": null,
            "grid_template_columns": null,
            "flex": null,
            "_model_name": "LayoutModel",
            "justify_items": null,
            "grid_row": null,
            "max_height": null,
            "align_content": null,
            "visibility": null,
            "align_self": null,
            "height": null,
            "min_height": null,
            "padding": null,
            "grid_auto_rows": null,
            "grid_gap": null,
            "max_width": null,
            "order": null,
            "_view_module_version": "1.2.0",
            "grid_template_areas": null,
            "object_position": null,
            "object_fit": null,
            "grid_auto_columns": null,
            "margin": null,
            "display": null,
            "left": null
          }
        },
        "b67f8cadf8114feca3964e7e60d718f9": {
          "model_module": "@jupyter-widgets/controls",
          "model_name": "HBoxModel",
          "state": {
            "_view_name": "HBoxView",
            "_dom_classes": [],
            "_model_name": "HBoxModel",
            "_view_module": "@jupyter-widgets/controls",
            "_model_module_version": "1.5.0",
            "_view_count": null,
            "_view_module_version": "1.5.0",
            "box_style": "",
            "layout": "IPY_MODEL_083a638a61034f8fa45e4fa7cbc60983",
            "_model_module": "@jupyter-widgets/controls",
            "children": [
              "IPY_MODEL_f868063a82e44f009aaf8cbfc334f368",
              "IPY_MODEL_624438108bc44f4d8cd418a034f60203"
            ]
          }
        },
        "083a638a61034f8fa45e4fa7cbc60983": {
          "model_module": "@jupyter-widgets/base",
          "model_name": "LayoutModel",
          "state": {
            "_view_name": "LayoutView",
            "grid_template_rows": null,
            "right": null,
            "justify_content": null,
            "_view_module": "@jupyter-widgets/base",
            "overflow": null,
            "_model_module_version": "1.2.0",
            "_view_count": null,
            "flex_flow": null,
            "width": null,
            "min_width": null,
            "border": null,
            "align_items": null,
            "bottom": null,
            "_model_module": "@jupyter-widgets/base",
            "top": null,
            "grid_column": null,
            "overflow_y": null,
            "overflow_x": null,
            "grid_auto_flow": null,
            "grid_area": null,
            "grid_template_columns": null,
            "flex": null,
            "_model_name": "LayoutModel",
            "justify_items": null,
            "grid_row": null,
            "max_height": null,
            "align_content": null,
            "visibility": null,
            "align_self": null,
            "height": null,
            "min_height": null,
            "padding": null,
            "grid_auto_rows": null,
            "grid_gap": null,
            "max_width": null,
            "order": null,
            "_view_module_version": "1.2.0",
            "grid_template_areas": null,
            "object_position": null,
            "object_fit": null,
            "grid_auto_columns": null,
            "margin": null,
            "display": null,
            "left": null
          }
        },
        "f868063a82e44f009aaf8cbfc334f368": {
          "model_module": "@jupyter-widgets/controls",
          "model_name": "FloatProgressModel",
          "state": {
            "_view_name": "ProgressView",
            "style": "IPY_MODEL_c15beb9bb12c4614af273ed64aa29c7d",
            "_dom_classes": [],
            "description": "100%",
            "_model_name": "FloatProgressModel",
            "bar_style": "success",
            "max": 50,
            "_view_module": "@jupyter-widgets/controls",
            "_model_module_version": "1.5.0",
            "value": 50,
            "_view_count": null,
            "_view_module_version": "1.5.0",
            "orientation": "horizontal",
            "min": 0,
            "description_tooltip": null,
            "_model_module": "@jupyter-widgets/controls",
            "layout": "IPY_MODEL_c133e60d9a6b48efb19b12e9c5b26a9d"
          }
        },
        "624438108bc44f4d8cd418a034f60203": {
          "model_module": "@jupyter-widgets/controls",
          "model_name": "HTMLModel",
          "state": {
            "_view_name": "HTMLView",
            "style": "IPY_MODEL_58db7cc04c5040c4850cdab49517f448",
            "_dom_classes": [],
            "description": "",
            "_model_name": "HTMLModel",
            "placeholder": "​",
            "_view_module": "@jupyter-widgets/controls",
            "_model_module_version": "1.5.0",
            "value": " 50/50 [00:01&lt;00:00, 32.07it/s, correct=76.33%, skipped=1.02%]",
            "_view_count": null,
            "_view_module_version": "1.5.0",
            "description_tooltip": null,
            "_model_module": "@jupyter-widgets/controls",
            "layout": "IPY_MODEL_698ed9f819414f3098c4d3aaefa14caa"
          }
        },
        "c15beb9bb12c4614af273ed64aa29c7d": {
          "model_module": "@jupyter-widgets/controls",
          "model_name": "ProgressStyleModel",
          "state": {
            "_view_name": "StyleView",
            "_model_name": "ProgressStyleModel",
            "description_width": "initial",
            "_view_module": "@jupyter-widgets/base",
            "_model_module_version": "1.5.0",
            "_view_count": null,
            "_view_module_version": "1.2.0",
            "bar_color": null,
            "_model_module": "@jupyter-widgets/controls"
          }
        },
        "c133e60d9a6b48efb19b12e9c5b26a9d": {
          "model_module": "@jupyter-widgets/base",
          "model_name": "LayoutModel",
          "state": {
            "_view_name": "LayoutView",
            "grid_template_rows": null,
            "right": null,
            "justify_content": null,
            "_view_module": "@jupyter-widgets/base",
            "overflow": null,
            "_model_module_version": "1.2.0",
            "_view_count": null,
            "flex_flow": null,
            "width": null,
            "min_width": null,
            "border": null,
            "align_items": null,
            "bottom": null,
            "_model_module": "@jupyter-widgets/base",
            "top": null,
            "grid_column": null,
            "overflow_y": null,
            "overflow_x": null,
            "grid_auto_flow": null,
            "grid_area": null,
            "grid_template_columns": null,
            "flex": null,
            "_model_name": "LayoutModel",
            "justify_items": null,
            "grid_row": null,
            "max_height": null,
            "align_content": null,
            "visibility": null,
            "align_self": null,
            "height": null,
            "min_height": null,
            "padding": null,
            "grid_auto_rows": null,
            "grid_gap": null,
            "max_width": null,
            "order": null,
            "_view_module_version": "1.2.0",
            "grid_template_areas": null,
            "object_position": null,
            "object_fit": null,
            "grid_auto_columns": null,
            "margin": null,
            "display": null,
            "left": null
          }
        },
        "58db7cc04c5040c4850cdab49517f448": {
          "model_module": "@jupyter-widgets/controls",
          "model_name": "DescriptionStyleModel",
          "state": {
            "_view_name": "StyleView",
            "_model_name": "DescriptionStyleModel",
            "description_width": "",
            "_view_module": "@jupyter-widgets/base",
            "_model_module_version": "1.5.0",
            "_view_count": null,
            "_view_module_version": "1.2.0",
            "_model_module": "@jupyter-widgets/controls"
          }
        },
        "698ed9f819414f3098c4d3aaefa14caa": {
          "model_module": "@jupyter-widgets/base",
          "model_name": "LayoutModel",
          "state": {
            "_view_name": "LayoutView",
            "grid_template_rows": null,
            "right": null,
            "justify_content": null,
            "_view_module": "@jupyter-widgets/base",
            "overflow": null,
            "_model_module_version": "1.2.0",
            "_view_count": null,
            "flex_flow": null,
            "width": null,
            "min_width": null,
            "border": null,
            "align_items": null,
            "bottom": null,
            "_model_module": "@jupyter-widgets/base",
            "top": null,
            "grid_column": null,
            "overflow_y": null,
            "overflow_x": null,
            "grid_auto_flow": null,
            "grid_area": null,
            "grid_template_columns": null,
            "flex": null,
            "_model_name": "LayoutModel",
            "justify_items": null,
            "grid_row": null,
            "max_height": null,
            "align_content": null,
            "visibility": null,
            "align_self": null,
            "height": null,
            "min_height": null,
            "padding": null,
            "grid_auto_rows": null,
            "grid_gap": null,
            "max_width": null,
            "order": null,
            "_view_module_version": "1.2.0",
            "grid_template_areas": null,
            "object_position": null,
            "object_fit": null,
            "grid_auto_columns": null,
            "margin": null,
            "display": null,
            "left": null
          }
        },
        "faa8168c15da42229f0795ce9aae3cbe": {
          "model_module": "@jupyter-widgets/controls",
          "model_name": "HBoxModel",
          "state": {
            "_view_name": "HBoxView",
            "_dom_classes": [],
            "_model_name": "HBoxModel",
            "_view_module": "@jupyter-widgets/controls",
            "_model_module_version": "1.5.0",
            "_view_count": null,
            "_view_module_version": "1.5.0",
            "box_style": "",
            "layout": "IPY_MODEL_1b78e0505a1e4be3906b5354baace802",
            "_model_module": "@jupyter-widgets/controls",
            "children": [
              "IPY_MODEL_2bb778f940164cf58bac943fca334067",
              "IPY_MODEL_fa0a141527e64500934de437dd3df723"
            ]
          }
        },
        "1b78e0505a1e4be3906b5354baace802": {
          "model_module": "@jupyter-widgets/base",
          "model_name": "LayoutModel",
          "state": {
            "_view_name": "LayoutView",
            "grid_template_rows": null,
            "right": null,
            "justify_content": null,
            "_view_module": "@jupyter-widgets/base",
            "overflow": null,
            "_model_module_version": "1.2.0",
            "_view_count": null,
            "flex_flow": null,
            "width": null,
            "min_width": null,
            "border": null,
            "align_items": null,
            "bottom": null,
            "_model_module": "@jupyter-widgets/base",
            "top": null,
            "grid_column": null,
            "overflow_y": null,
            "overflow_x": null,
            "grid_auto_flow": null,
            "grid_area": null,
            "grid_template_columns": null,
            "flex": null,
            "_model_name": "LayoutModel",
            "justify_items": null,
            "grid_row": null,
            "max_height": null,
            "align_content": null,
            "visibility": null,
            "align_self": null,
            "height": null,
            "min_height": null,
            "padding": null,
            "grid_auto_rows": null,
            "grid_gap": null,
            "max_width": null,
            "order": null,
            "_view_module_version": "1.2.0",
            "grid_template_areas": null,
            "object_position": null,
            "object_fit": null,
            "grid_auto_columns": null,
            "margin": null,
            "display": null,
            "left": null
          }
        },
        "2bb778f940164cf58bac943fca334067": {
          "model_module": "@jupyter-widgets/controls",
          "model_name": "FloatProgressModel",
          "state": {
            "_view_name": "ProgressView",
            "style": "IPY_MODEL_bdf7a1ddf3aa47c98d9fa9aeaa9052a9",
            "_dom_classes": [],
            "description": "100%",
            "_model_name": "FloatProgressModel",
            "bar_style": "success",
            "max": 50,
            "_view_module": "@jupyter-widgets/controls",
            "_model_module_version": "1.5.0",
            "value": 50,
            "_view_count": null,
            "_view_module_version": "1.5.0",
            "orientation": "horizontal",
            "min": 0,
            "description_tooltip": null,
            "_model_module": "@jupyter-widgets/controls",
            "layout": "IPY_MODEL_050acfd38a724526bed3c925ccc4513a"
          }
        },
        "fa0a141527e64500934de437dd3df723": {
          "model_module": "@jupyter-widgets/controls",
          "model_name": "HTMLModel",
          "state": {
            "_view_name": "HTMLView",
            "style": "IPY_MODEL_bad0d060854c40d488bff03e2da2ba31",
            "_dom_classes": [],
            "description": "",
            "_model_name": "HTMLModel",
            "placeholder": "​",
            "_view_module": "@jupyter-widgets/controls",
            "_model_module_version": "1.5.0",
            "value": " 50/50 [00:01&lt;00:00, 47.17it/s]",
            "_view_count": null,
            "_view_module_version": "1.5.0",
            "description_tooltip": null,
            "_model_module": "@jupyter-widgets/controls",
            "layout": "IPY_MODEL_4b007e22a71d42f5bcacfdeee2a21c16"
          }
        },
        "bdf7a1ddf3aa47c98d9fa9aeaa9052a9": {
          "model_module": "@jupyter-widgets/controls",
          "model_name": "ProgressStyleModel",
          "state": {
            "_view_name": "StyleView",
            "_model_name": "ProgressStyleModel",
            "description_width": "initial",
            "_view_module": "@jupyter-widgets/base",
            "_model_module_version": "1.5.0",
            "_view_count": null,
            "_view_module_version": "1.2.0",
            "bar_color": null,
            "_model_module": "@jupyter-widgets/controls"
          }
        },
        "050acfd38a724526bed3c925ccc4513a": {
          "model_module": "@jupyter-widgets/base",
          "model_name": "LayoutModel",
          "state": {
            "_view_name": "LayoutView",
            "grid_template_rows": null,
            "right": null,
            "justify_content": null,
            "_view_module": "@jupyter-widgets/base",
            "overflow": null,
            "_model_module_version": "1.2.0",
            "_view_count": null,
            "flex_flow": null,
            "width": null,
            "min_width": null,
            "border": null,
            "align_items": null,
            "bottom": null,
            "_model_module": "@jupyter-widgets/base",
            "top": null,
            "grid_column": null,
            "overflow_y": null,
            "overflow_x": null,
            "grid_auto_flow": null,
            "grid_area": null,
            "grid_template_columns": null,
            "flex": null,
            "_model_name": "LayoutModel",
            "justify_items": null,
            "grid_row": null,
            "max_height": null,
            "align_content": null,
            "visibility": null,
            "align_self": null,
            "height": null,
            "min_height": null,
            "padding": null,
            "grid_auto_rows": null,
            "grid_gap": null,
            "max_width": null,
            "order": null,
            "_view_module_version": "1.2.0",
            "grid_template_areas": null,
            "object_position": null,
            "object_fit": null,
            "grid_auto_columns": null,
            "margin": null,
            "display": null,
            "left": null
          }
        },
        "bad0d060854c40d488bff03e2da2ba31": {
          "model_module": "@jupyter-widgets/controls",
          "model_name": "DescriptionStyleModel",
          "state": {
            "_view_name": "StyleView",
            "_model_name": "DescriptionStyleModel",
            "description_width": "",
            "_view_module": "@jupyter-widgets/base",
            "_model_module_version": "1.5.0",
            "_view_count": null,
            "_view_module_version": "1.2.0",
            "_model_module": "@jupyter-widgets/controls"
          }
        },
        "4b007e22a71d42f5bcacfdeee2a21c16": {
          "model_module": "@jupyter-widgets/base",
          "model_name": "LayoutModel",
          "state": {
            "_view_name": "LayoutView",
            "grid_template_rows": null,
            "right": null,
            "justify_content": null,
            "_view_module": "@jupyter-widgets/base",
            "overflow": null,
            "_model_module_version": "1.2.0",
            "_view_count": null,
            "flex_flow": null,
            "width": null,
            "min_width": null,
            "border": null,
            "align_items": null,
            "bottom": null,
            "_model_module": "@jupyter-widgets/base",
            "top": null,
            "grid_column": null,
            "overflow_y": null,
            "overflow_x": null,
            "grid_auto_flow": null,
            "grid_area": null,
            "grid_template_columns": null,
            "flex": null,
            "_model_name": "LayoutModel",
            "justify_items": null,
            "grid_row": null,
            "max_height": null,
            "align_content": null,
            "visibility": null,
            "align_self": null,
            "height": null,
            "min_height": null,
            "padding": null,
            "grid_auto_rows": null,
            "grid_gap": null,
            "max_width": null,
            "order": null,
            "_view_module_version": "1.2.0",
            "grid_template_areas": null,
            "object_position": null,
            "object_fit": null,
            "grid_auto_columns": null,
            "margin": null,
            "display": null,
            "left": null
          }
        },
        "22efda0259c04bd187459c32ddacdf4b": {
          "model_module": "@jupyter-widgets/controls",
          "model_name": "HBoxModel",
          "state": {
            "_view_name": "HBoxView",
            "_dom_classes": [],
            "_model_name": "HBoxModel",
            "_view_module": "@jupyter-widgets/controls",
            "_model_module_version": "1.5.0",
            "_view_count": null,
            "_view_module_version": "1.5.0",
            "box_style": "",
            "layout": "IPY_MODEL_17aef271193e4ed2aca9454d17a10f3d",
            "_model_module": "@jupyter-widgets/controls",
            "children": [
              "IPY_MODEL_4ea81934d281420bb213c8ec12f92040",
              "IPY_MODEL_a72541789a8f491e8c7dbd5ab122cbcc"
            ]
          }
        },
        "17aef271193e4ed2aca9454d17a10f3d": {
          "model_module": "@jupyter-widgets/base",
          "model_name": "LayoutModel",
          "state": {
            "_view_name": "LayoutView",
            "grid_template_rows": null,
            "right": null,
            "justify_content": null,
            "_view_module": "@jupyter-widgets/base",
            "overflow": null,
            "_model_module_version": "1.2.0",
            "_view_count": null,
            "flex_flow": null,
            "width": null,
            "min_width": null,
            "border": null,
            "align_items": null,
            "bottom": null,
            "_model_module": "@jupyter-widgets/base",
            "top": null,
            "grid_column": null,
            "overflow_y": null,
            "overflow_x": null,
            "grid_auto_flow": null,
            "grid_area": null,
            "grid_template_columns": null,
            "flex": null,
            "_model_name": "LayoutModel",
            "justify_items": null,
            "grid_row": null,
            "max_height": null,
            "align_content": null,
            "visibility": null,
            "align_self": null,
            "height": null,
            "min_height": null,
            "padding": null,
            "grid_auto_rows": null,
            "grid_gap": null,
            "max_width": null,
            "order": null,
            "_view_module_version": "1.2.0",
            "grid_template_areas": null,
            "object_position": null,
            "object_fit": null,
            "grid_auto_columns": null,
            "margin": null,
            "display": null,
            "left": null
          }
        },
        "4ea81934d281420bb213c8ec12f92040": {
          "model_module": "@jupyter-widgets/controls",
          "model_name": "FloatProgressModel",
          "state": {
            "_view_name": "ProgressView",
            "style": "IPY_MODEL_ef32c5da21f74473b9e2142e7a5b9db5",
            "_dom_classes": [],
            "description": "100%",
            "_model_name": "FloatProgressModel",
            "bar_style": "success",
            "max": 50,
            "_view_module": "@jupyter-widgets/controls",
            "_model_module_version": "1.5.0",
            "value": 50,
            "_view_count": null,
            "_view_module_version": "1.5.0",
            "orientation": "horizontal",
            "min": 0,
            "description_tooltip": null,
            "_model_module": "@jupyter-widgets/controls",
            "layout": "IPY_MODEL_761cf157dac64590805d7b944242cf1c"
          }
        },
        "a72541789a8f491e8c7dbd5ab122cbcc": {
          "model_module": "@jupyter-widgets/controls",
          "model_name": "HTMLModel",
          "state": {
            "_view_name": "HTMLView",
            "style": "IPY_MODEL_a0e234226aac462ba5063598651ac736",
            "_dom_classes": [],
            "description": "",
            "_model_name": "HTMLModel",
            "placeholder": "​",
            "_view_module": "@jupyter-widgets/controls",
            "_model_module_version": "1.5.0",
            "value": " 50/50 [00:10&lt;00:00,  4.67it/s]",
            "_view_count": null,
            "_view_module_version": "1.5.0",
            "description_tooltip": null,
            "_model_module": "@jupyter-widgets/controls",
            "layout": "IPY_MODEL_ceca887549cb4c6f821bb906f0bcb131"
          }
        },
        "ef32c5da21f74473b9e2142e7a5b9db5": {
          "model_module": "@jupyter-widgets/controls",
          "model_name": "ProgressStyleModel",
          "state": {
            "_view_name": "StyleView",
            "_model_name": "ProgressStyleModel",
            "description_width": "initial",
            "_view_module": "@jupyter-widgets/base",
            "_model_module_version": "1.5.0",
            "_view_count": null,
            "_view_module_version": "1.2.0",
            "bar_color": null,
            "_model_module": "@jupyter-widgets/controls"
          }
        },
        "761cf157dac64590805d7b944242cf1c": {
          "model_module": "@jupyter-widgets/base",
          "model_name": "LayoutModel",
          "state": {
            "_view_name": "LayoutView",
            "grid_template_rows": null,
            "right": null,
            "justify_content": null,
            "_view_module": "@jupyter-widgets/base",
            "overflow": null,
            "_model_module_version": "1.2.0",
            "_view_count": null,
            "flex_flow": null,
            "width": null,
            "min_width": null,
            "border": null,
            "align_items": null,
            "bottom": null,
            "_model_module": "@jupyter-widgets/base",
            "top": null,
            "grid_column": null,
            "overflow_y": null,
            "overflow_x": null,
            "grid_auto_flow": null,
            "grid_area": null,
            "grid_template_columns": null,
            "flex": null,
            "_model_name": "LayoutModel",
            "justify_items": null,
            "grid_row": null,
            "max_height": null,
            "align_content": null,
            "visibility": null,
            "align_self": null,
            "height": null,
            "min_height": null,
            "padding": null,
            "grid_auto_rows": null,
            "grid_gap": null,
            "max_width": null,
            "order": null,
            "_view_module_version": "1.2.0",
            "grid_template_areas": null,
            "object_position": null,
            "object_fit": null,
            "grid_auto_columns": null,
            "margin": null,
            "display": null,
            "left": null
          }
        },
        "a0e234226aac462ba5063598651ac736": {
          "model_module": "@jupyter-widgets/controls",
          "model_name": "DescriptionStyleModel",
          "state": {
            "_view_name": "StyleView",
            "_model_name": "DescriptionStyleModel",
            "description_width": "",
            "_view_module": "@jupyter-widgets/base",
            "_model_module_version": "1.5.0",
            "_view_count": null,
            "_view_module_version": "1.2.0",
            "_model_module": "@jupyter-widgets/controls"
          }
        },
        "ceca887549cb4c6f821bb906f0bcb131": {
          "model_module": "@jupyter-widgets/base",
          "model_name": "LayoutModel",
          "state": {
            "_view_name": "LayoutView",
            "grid_template_rows": null,
            "right": null,
            "justify_content": null,
            "_view_module": "@jupyter-widgets/base",
            "overflow": null,
            "_model_module_version": "1.2.0",
            "_view_count": null,
            "flex_flow": null,
            "width": null,
            "min_width": null,
            "border": null,
            "align_items": null,
            "bottom": null,
            "_model_module": "@jupyter-widgets/base",
            "top": null,
            "grid_column": null,
            "overflow_y": null,
            "overflow_x": null,
            "grid_auto_flow": null,
            "grid_area": null,
            "grid_template_columns": null,
            "flex": null,
            "_model_name": "LayoutModel",
            "justify_items": null,
            "grid_row": null,
            "max_height": null,
            "align_content": null,
            "visibility": null,
            "align_self": null,
            "height": null,
            "min_height": null,
            "padding": null,
            "grid_auto_rows": null,
            "grid_gap": null,
            "max_width": null,
            "order": null,
            "_view_module_version": "1.2.0",
            "grid_template_areas": null,
            "object_position": null,
            "object_fit": null,
            "grid_auto_columns": null,
            "margin": null,
            "display": null,
            "left": null
          }
        },
        "fed3e8b78f1d45b8867782e8dc52835e": {
          "model_module": "@jupyter-widgets/controls",
          "model_name": "HBoxModel",
          "state": {
            "_view_name": "HBoxView",
            "_dom_classes": [],
            "_model_name": "HBoxModel",
            "_view_module": "@jupyter-widgets/controls",
            "_model_module_version": "1.5.0",
            "_view_count": null,
            "_view_module_version": "1.5.0",
            "box_style": "",
            "layout": "IPY_MODEL_ac81c1e70edb41f0aa3b56b72ee87e74",
            "_model_module": "@jupyter-widgets/controls",
            "children": [
              "IPY_MODEL_8a30fba041da4398bde1ae6a3a34b59b",
              "IPY_MODEL_00818ef5b9104464a7c2f0d0fb0633a9"
            ]
          }
        },
        "ac81c1e70edb41f0aa3b56b72ee87e74": {
          "model_module": "@jupyter-widgets/base",
          "model_name": "LayoutModel",
          "state": {
            "_view_name": "LayoutView",
            "grid_template_rows": null,
            "right": null,
            "justify_content": null,
            "_view_module": "@jupyter-widgets/base",
            "overflow": null,
            "_model_module_version": "1.2.0",
            "_view_count": null,
            "flex_flow": null,
            "width": null,
            "min_width": null,
            "border": null,
            "align_items": null,
            "bottom": null,
            "_model_module": "@jupyter-widgets/base",
            "top": null,
            "grid_column": null,
            "overflow_y": null,
            "overflow_x": null,
            "grid_auto_flow": null,
            "grid_area": null,
            "grid_template_columns": null,
            "flex": null,
            "_model_name": "LayoutModel",
            "justify_items": null,
            "grid_row": null,
            "max_height": null,
            "align_content": null,
            "visibility": null,
            "align_self": null,
            "height": null,
            "min_height": null,
            "padding": null,
            "grid_auto_rows": null,
            "grid_gap": null,
            "max_width": null,
            "order": null,
            "_view_module_version": "1.2.0",
            "grid_template_areas": null,
            "object_position": null,
            "object_fit": null,
            "grid_auto_columns": null,
            "margin": null,
            "display": null,
            "left": null
          }
        },
        "8a30fba041da4398bde1ae6a3a34b59b": {
          "model_module": "@jupyter-widgets/controls",
          "model_name": "FloatProgressModel",
          "state": {
            "_view_name": "ProgressView",
            "style": "IPY_MODEL_99fc74670bd6414dba8fa2526edc95af",
            "_dom_classes": [],
            "description": "100%",
            "_model_name": "FloatProgressModel",
            "bar_style": "success",
            "max": 50,
            "_view_module": "@jupyter-widgets/controls",
            "_model_module_version": "1.5.0",
            "value": 50,
            "_view_count": null,
            "_view_module_version": "1.5.0",
            "orientation": "horizontal",
            "min": 0,
            "description_tooltip": null,
            "_model_module": "@jupyter-widgets/controls",
            "layout": "IPY_MODEL_b748c7705e044916b6837603bbdf2458"
          }
        },
        "00818ef5b9104464a7c2f0d0fb0633a9": {
          "model_module": "@jupyter-widgets/controls",
          "model_name": "HTMLModel",
          "state": {
            "_view_name": "HTMLView",
            "style": "IPY_MODEL_7c0c2580bfe94266aa316e7f076aa207",
            "_dom_classes": [],
            "description": "",
            "_model_name": "HTMLModel",
            "placeholder": "​",
            "_view_module": "@jupyter-widgets/controls",
            "_model_module_version": "1.5.0",
            "value": " 50/50 [00:01&lt;00:00, 34.82it/s, correct=96.88%, skipped=0.90%]",
            "_view_count": null,
            "_view_module_version": "1.5.0",
            "description_tooltip": null,
            "_model_module": "@jupyter-widgets/controls",
            "layout": "IPY_MODEL_178b3e9cb22045ddbfaf63958217f9c2"
          }
        },
        "99fc74670bd6414dba8fa2526edc95af": {
          "model_module": "@jupyter-widgets/controls",
          "model_name": "ProgressStyleModel",
          "state": {
            "_view_name": "StyleView",
            "_model_name": "ProgressStyleModel",
            "description_width": "initial",
            "_view_module": "@jupyter-widgets/base",
            "_model_module_version": "1.5.0",
            "_view_count": null,
            "_view_module_version": "1.2.0",
            "bar_color": null,
            "_model_module": "@jupyter-widgets/controls"
          }
        },
        "b748c7705e044916b6837603bbdf2458": {
          "model_module": "@jupyter-widgets/base",
          "model_name": "LayoutModel",
          "state": {
            "_view_name": "LayoutView",
            "grid_template_rows": null,
            "right": null,
            "justify_content": null,
            "_view_module": "@jupyter-widgets/base",
            "overflow": null,
            "_model_module_version": "1.2.0",
            "_view_count": null,
            "flex_flow": null,
            "width": null,
            "min_width": null,
            "border": null,
            "align_items": null,
            "bottom": null,
            "_model_module": "@jupyter-widgets/base",
            "top": null,
            "grid_column": null,
            "overflow_y": null,
            "overflow_x": null,
            "grid_auto_flow": null,
            "grid_area": null,
            "grid_template_columns": null,
            "flex": null,
            "_model_name": "LayoutModel",
            "justify_items": null,
            "grid_row": null,
            "max_height": null,
            "align_content": null,
            "visibility": null,
            "align_self": null,
            "height": null,
            "min_height": null,
            "padding": null,
            "grid_auto_rows": null,
            "grid_gap": null,
            "max_width": null,
            "order": null,
            "_view_module_version": "1.2.0",
            "grid_template_areas": null,
            "object_position": null,
            "object_fit": null,
            "grid_auto_columns": null,
            "margin": null,
            "display": null,
            "left": null
          }
        },
        "7c0c2580bfe94266aa316e7f076aa207": {
          "model_module": "@jupyter-widgets/controls",
          "model_name": "DescriptionStyleModel",
          "state": {
            "_view_name": "StyleView",
            "_model_name": "DescriptionStyleModel",
            "description_width": "",
            "_view_module": "@jupyter-widgets/base",
            "_model_module_version": "1.5.0",
            "_view_count": null,
            "_view_module_version": "1.2.0",
            "_model_module": "@jupyter-widgets/controls"
          }
        },
        "178b3e9cb22045ddbfaf63958217f9c2": {
          "model_module": "@jupyter-widgets/base",
          "model_name": "LayoutModel",
          "state": {
            "_view_name": "LayoutView",
            "grid_template_rows": null,
            "right": null,
            "justify_content": null,
            "_view_module": "@jupyter-widgets/base",
            "overflow": null,
            "_model_module_version": "1.2.0",
            "_view_count": null,
            "flex_flow": null,
            "width": null,
            "min_width": null,
            "border": null,
            "align_items": null,
            "bottom": null,
            "_model_module": "@jupyter-widgets/base",
            "top": null,
            "grid_column": null,
            "overflow_y": null,
            "overflow_x": null,
            "grid_auto_flow": null,
            "grid_area": null,
            "grid_template_columns": null,
            "flex": null,
            "_model_name": "LayoutModel",
            "justify_items": null,
            "grid_row": null,
            "max_height": null,
            "align_content": null,
            "visibility": null,
            "align_self": null,
            "height": null,
            "min_height": null,
            "padding": null,
            "grid_auto_rows": null,
            "grid_gap": null,
            "max_width": null,
            "order": null,
            "_view_module_version": "1.2.0",
            "grid_template_areas": null,
            "object_position": null,
            "object_fit": null,
            "grid_auto_columns": null,
            "margin": null,
            "display": null,
            "left": null
          }
        },
        "d430a8f910da4652bd7653b1420bb2ca": {
          "model_module": "@jupyter-widgets/controls",
          "model_name": "HBoxModel",
          "state": {
            "_view_name": "HBoxView",
            "_dom_classes": [],
            "_model_name": "HBoxModel",
            "_view_module": "@jupyter-widgets/controls",
            "_model_module_version": "1.5.0",
            "_view_count": null,
            "_view_module_version": "1.5.0",
            "box_style": "",
            "layout": "IPY_MODEL_df4ad0a260a540a19ea7c49d6157b4f6",
            "_model_module": "@jupyter-widgets/controls",
            "children": [
              "IPY_MODEL_0ec6f9cbea644caf9d7684231cbbbb37",
              "IPY_MODEL_b037ba5e36174647956e2d982f9b0e0f"
            ]
          }
        },
        "df4ad0a260a540a19ea7c49d6157b4f6": {
          "model_module": "@jupyter-widgets/base",
          "model_name": "LayoutModel",
          "state": {
            "_view_name": "LayoutView",
            "grid_template_rows": null,
            "right": null,
            "justify_content": null,
            "_view_module": "@jupyter-widgets/base",
            "overflow": null,
            "_model_module_version": "1.2.0",
            "_view_count": null,
            "flex_flow": null,
            "width": null,
            "min_width": null,
            "border": null,
            "align_items": null,
            "bottom": null,
            "_model_module": "@jupyter-widgets/base",
            "top": null,
            "grid_column": null,
            "overflow_y": null,
            "overflow_x": null,
            "grid_auto_flow": null,
            "grid_area": null,
            "grid_template_columns": null,
            "flex": null,
            "_model_name": "LayoutModel",
            "justify_items": null,
            "grid_row": null,
            "max_height": null,
            "align_content": null,
            "visibility": null,
            "align_self": null,
            "height": null,
            "min_height": null,
            "padding": null,
            "grid_auto_rows": null,
            "grid_gap": null,
            "max_width": null,
            "order": null,
            "_view_module_version": "1.2.0",
            "grid_template_areas": null,
            "object_position": null,
            "object_fit": null,
            "grid_auto_columns": null,
            "margin": null,
            "display": null,
            "left": null
          }
        },
        "0ec6f9cbea644caf9d7684231cbbbb37": {
          "model_module": "@jupyter-widgets/controls",
          "model_name": "FloatProgressModel",
          "state": {
            "_view_name": "ProgressView",
            "style": "IPY_MODEL_4391522ad83a4ca5a63f8a22d5680c2a",
            "_dom_classes": [],
            "description": "100%",
            "_model_name": "FloatProgressModel",
            "bar_style": "success",
            "max": 50,
            "_view_module": "@jupyter-widgets/controls",
            "_model_module_version": "1.5.0",
            "value": 50,
            "_view_count": null,
            "_view_module_version": "1.5.0",
            "orientation": "horizontal",
            "min": 0,
            "description_tooltip": null,
            "_model_module": "@jupyter-widgets/controls",
            "layout": "IPY_MODEL_356f7bc36f3b4c419243be0c8c39c564"
          }
        },
        "b037ba5e36174647956e2d982f9b0e0f": {
          "model_module": "@jupyter-widgets/controls",
          "model_name": "HTMLModel",
          "state": {
            "_view_name": "HTMLView",
            "style": "IPY_MODEL_8aff06e903bc4eaf9db3c71b34ad9e58",
            "_dom_classes": [],
            "description": "",
            "_model_name": "HTMLModel",
            "placeholder": "​",
            "_view_module": "@jupyter-widgets/controls",
            "_model_module_version": "1.5.0",
            "value": " 50/50 [00:01&lt;00:00, 48.61it/s]",
            "_view_count": null,
            "_view_module_version": "1.5.0",
            "description_tooltip": null,
            "_model_module": "@jupyter-widgets/controls",
            "layout": "IPY_MODEL_12f0b5a73ba44ee8ab92e2268bd3dd64"
          }
        },
        "4391522ad83a4ca5a63f8a22d5680c2a": {
          "model_module": "@jupyter-widgets/controls",
          "model_name": "ProgressStyleModel",
          "state": {
            "_view_name": "StyleView",
            "_model_name": "ProgressStyleModel",
            "description_width": "initial",
            "_view_module": "@jupyter-widgets/base",
            "_model_module_version": "1.5.0",
            "_view_count": null,
            "_view_module_version": "1.2.0",
            "bar_color": null,
            "_model_module": "@jupyter-widgets/controls"
          }
        },
        "356f7bc36f3b4c419243be0c8c39c564": {
          "model_module": "@jupyter-widgets/base",
          "model_name": "LayoutModel",
          "state": {
            "_view_name": "LayoutView",
            "grid_template_rows": null,
            "right": null,
            "justify_content": null,
            "_view_module": "@jupyter-widgets/base",
            "overflow": null,
            "_model_module_version": "1.2.0",
            "_view_count": null,
            "flex_flow": null,
            "width": null,
            "min_width": null,
            "border": null,
            "align_items": null,
            "bottom": null,
            "_model_module": "@jupyter-widgets/base",
            "top": null,
            "grid_column": null,
            "overflow_y": null,
            "overflow_x": null,
            "grid_auto_flow": null,
            "grid_area": null,
            "grid_template_columns": null,
            "flex": null,
            "_model_name": "LayoutModel",
            "justify_items": null,
            "grid_row": null,
            "max_height": null,
            "align_content": null,
            "visibility": null,
            "align_self": null,
            "height": null,
            "min_height": null,
            "padding": null,
            "grid_auto_rows": null,
            "grid_gap": null,
            "max_width": null,
            "order": null,
            "_view_module_version": "1.2.0",
            "grid_template_areas": null,
            "object_position": null,
            "object_fit": null,
            "grid_auto_columns": null,
            "margin": null,
            "display": null,
            "left": null
          }
        },
        "8aff06e903bc4eaf9db3c71b34ad9e58": {
          "model_module": "@jupyter-widgets/controls",
          "model_name": "DescriptionStyleModel",
          "state": {
            "_view_name": "StyleView",
            "_model_name": "DescriptionStyleModel",
            "description_width": "",
            "_view_module": "@jupyter-widgets/base",
            "_model_module_version": "1.5.0",
            "_view_count": null,
            "_view_module_version": "1.2.0",
            "_model_module": "@jupyter-widgets/controls"
          }
        },
        "12f0b5a73ba44ee8ab92e2268bd3dd64": {
          "model_module": "@jupyter-widgets/base",
          "model_name": "LayoutModel",
          "state": {
            "_view_name": "LayoutView",
            "grid_template_rows": null,
            "right": null,
            "justify_content": null,
            "_view_module": "@jupyter-widgets/base",
            "overflow": null,
            "_model_module_version": "1.2.0",
            "_view_count": null,
            "flex_flow": null,
            "width": null,
            "min_width": null,
            "border": null,
            "align_items": null,
            "bottom": null,
            "_model_module": "@jupyter-widgets/base",
            "top": null,
            "grid_column": null,
            "overflow_y": null,
            "overflow_x": null,
            "grid_auto_flow": null,
            "grid_area": null,
            "grid_template_columns": null,
            "flex": null,
            "_model_name": "LayoutModel",
            "justify_items": null,
            "grid_row": null,
            "max_height": null,
            "align_content": null,
            "visibility": null,
            "align_self": null,
            "height": null,
            "min_height": null,
            "padding": null,
            "grid_auto_rows": null,
            "grid_gap": null,
            "max_width": null,
            "order": null,
            "_view_module_version": "1.2.0",
            "grid_template_areas": null,
            "object_position": null,
            "object_fit": null,
            "grid_auto_columns": null,
            "margin": null,
            "display": null,
            "left": null
          }
        },
        "1b3e0d13b3ea4468b381f4f73a8ba8ba": {
          "model_module": "@jupyter-widgets/controls",
          "model_name": "HBoxModel",
          "state": {
            "_view_name": "HBoxView",
            "_dom_classes": [],
            "_model_name": "HBoxModel",
            "_view_module": "@jupyter-widgets/controls",
            "_model_module_version": "1.5.0",
            "_view_count": null,
            "_view_module_version": "1.5.0",
            "box_style": "",
            "layout": "IPY_MODEL_6513a7beb9a84357b2b6a4ccbf35f5bd",
            "_model_module": "@jupyter-widgets/controls",
            "children": [
              "IPY_MODEL_df3a340aebb94e0f8132e0a4997e50d6",
              "IPY_MODEL_b60c57de210a43b3b880ebae19320ecd"
            ]
          }
        },
        "6513a7beb9a84357b2b6a4ccbf35f5bd": {
          "model_module": "@jupyter-widgets/base",
          "model_name": "LayoutModel",
          "state": {
            "_view_name": "LayoutView",
            "grid_template_rows": null,
            "right": null,
            "justify_content": null,
            "_view_module": "@jupyter-widgets/base",
            "overflow": null,
            "_model_module_version": "1.2.0",
            "_view_count": null,
            "flex_flow": null,
            "width": null,
            "min_width": null,
            "border": null,
            "align_items": null,
            "bottom": null,
            "_model_module": "@jupyter-widgets/base",
            "top": null,
            "grid_column": null,
            "overflow_y": null,
            "overflow_x": null,
            "grid_auto_flow": null,
            "grid_area": null,
            "grid_template_columns": null,
            "flex": null,
            "_model_name": "LayoutModel",
            "justify_items": null,
            "grid_row": null,
            "max_height": null,
            "align_content": null,
            "visibility": null,
            "align_self": null,
            "height": null,
            "min_height": null,
            "padding": null,
            "grid_auto_rows": null,
            "grid_gap": null,
            "max_width": null,
            "order": null,
            "_view_module_version": "1.2.0",
            "grid_template_areas": null,
            "object_position": null,
            "object_fit": null,
            "grid_auto_columns": null,
            "margin": null,
            "display": null,
            "left": null
          }
        },
        "df3a340aebb94e0f8132e0a4997e50d6": {
          "model_module": "@jupyter-widgets/controls",
          "model_name": "FloatProgressModel",
          "state": {
            "_view_name": "ProgressView",
            "style": "IPY_MODEL_9a641e1737064891af3c386f52082326",
            "_dom_classes": [],
            "description": "100%",
            "_model_name": "FloatProgressModel",
            "bar_style": "success",
            "max": 50,
            "_view_module": "@jupyter-widgets/controls",
            "_model_module_version": "1.5.0",
            "value": 50,
            "_view_count": null,
            "_view_module_version": "1.5.0",
            "orientation": "horizontal",
            "min": 0,
            "description_tooltip": null,
            "_model_module": "@jupyter-widgets/controls",
            "layout": "IPY_MODEL_4fff7653932f4ddeba510c3760156e46"
          }
        },
        "b60c57de210a43b3b880ebae19320ecd": {
          "model_module": "@jupyter-widgets/controls",
          "model_name": "HTMLModel",
          "state": {
            "_view_name": "HTMLView",
            "style": "IPY_MODEL_7ba63429f90d41ce8fec626854e31f3c",
            "_dom_classes": [],
            "description": "",
            "_model_name": "HTMLModel",
            "placeholder": "​",
            "_view_module": "@jupyter-widgets/controls",
            "_model_module_version": "1.5.0",
            "value": " 50/50 [00:10&lt;00:00,  4.99it/s]",
            "_view_count": null,
            "_view_module_version": "1.5.0",
            "description_tooltip": null,
            "_model_module": "@jupyter-widgets/controls",
            "layout": "IPY_MODEL_555ff464cbae47ed9fa7b06d2e582336"
          }
        },
        "9a641e1737064891af3c386f52082326": {
          "model_module": "@jupyter-widgets/controls",
          "model_name": "ProgressStyleModel",
          "state": {
            "_view_name": "StyleView",
            "_model_name": "ProgressStyleModel",
            "description_width": "initial",
            "_view_module": "@jupyter-widgets/base",
            "_model_module_version": "1.5.0",
            "_view_count": null,
            "_view_module_version": "1.2.0",
            "bar_color": null,
            "_model_module": "@jupyter-widgets/controls"
          }
        },
        "4fff7653932f4ddeba510c3760156e46": {
          "model_module": "@jupyter-widgets/base",
          "model_name": "LayoutModel",
          "state": {
            "_view_name": "LayoutView",
            "grid_template_rows": null,
            "right": null,
            "justify_content": null,
            "_view_module": "@jupyter-widgets/base",
            "overflow": null,
            "_model_module_version": "1.2.0",
            "_view_count": null,
            "flex_flow": null,
            "width": null,
            "min_width": null,
            "border": null,
            "align_items": null,
            "bottom": null,
            "_model_module": "@jupyter-widgets/base",
            "top": null,
            "grid_column": null,
            "overflow_y": null,
            "overflow_x": null,
            "grid_auto_flow": null,
            "grid_area": null,
            "grid_template_columns": null,
            "flex": null,
            "_model_name": "LayoutModel",
            "justify_items": null,
            "grid_row": null,
            "max_height": null,
            "align_content": null,
            "visibility": null,
            "align_self": null,
            "height": null,
            "min_height": null,
            "padding": null,
            "grid_auto_rows": null,
            "grid_gap": null,
            "max_width": null,
            "order": null,
            "_view_module_version": "1.2.0",
            "grid_template_areas": null,
            "object_position": null,
            "object_fit": null,
            "grid_auto_columns": null,
            "margin": null,
            "display": null,
            "left": null
          }
        },
        "7ba63429f90d41ce8fec626854e31f3c": {
          "model_module": "@jupyter-widgets/controls",
          "model_name": "DescriptionStyleModel",
          "state": {
            "_view_name": "StyleView",
            "_model_name": "DescriptionStyleModel",
            "description_width": "",
            "_view_module": "@jupyter-widgets/base",
            "_model_module_version": "1.5.0",
            "_view_count": null,
            "_view_module_version": "1.2.0",
            "_model_module": "@jupyter-widgets/controls"
          }
        },
        "555ff464cbae47ed9fa7b06d2e582336": {
          "model_module": "@jupyter-widgets/base",
          "model_name": "LayoutModel",
          "state": {
            "_view_name": "LayoutView",
            "grid_template_rows": null,
            "right": null,
            "justify_content": null,
            "_view_module": "@jupyter-widgets/base",
            "overflow": null,
            "_model_module_version": "1.2.0",
            "_view_count": null,
            "flex_flow": null,
            "width": null,
            "min_width": null,
            "border": null,
            "align_items": null,
            "bottom": null,
            "_model_module": "@jupyter-widgets/base",
            "top": null,
            "grid_column": null,
            "overflow_y": null,
            "overflow_x": null,
            "grid_auto_flow": null,
            "grid_area": null,
            "grid_template_columns": null,
            "flex": null,
            "_model_name": "LayoutModel",
            "justify_items": null,
            "grid_row": null,
            "max_height": null,
            "align_content": null,
            "visibility": null,
            "align_self": null,
            "height": null,
            "min_height": null,
            "padding": null,
            "grid_auto_rows": null,
            "grid_gap": null,
            "max_width": null,
            "order": null,
            "_view_module_version": "1.2.0",
            "grid_template_areas": null,
            "object_position": null,
            "object_fit": null,
            "grid_auto_columns": null,
            "margin": null,
            "display": null,
            "left": null
          }
        },
        "4f65edd25e5845368c6b31fb6941b706": {
          "model_module": "@jupyter-widgets/controls",
          "model_name": "HBoxModel",
          "state": {
            "_view_name": "HBoxView",
            "_dom_classes": [],
            "_model_name": "HBoxModel",
            "_view_module": "@jupyter-widgets/controls",
            "_model_module_version": "1.5.0",
            "_view_count": null,
            "_view_module_version": "1.5.0",
            "box_style": "",
            "layout": "IPY_MODEL_7aa2f5bd5c664efca30731d82131751e",
            "_model_module": "@jupyter-widgets/controls",
            "children": [
              "IPY_MODEL_58f3eb359d3e4ceb8163bfbad958d7f6",
              "IPY_MODEL_f335527c14e041d18febc37f9372f50c"
            ]
          }
        },
        "7aa2f5bd5c664efca30731d82131751e": {
          "model_module": "@jupyter-widgets/base",
          "model_name": "LayoutModel",
          "state": {
            "_view_name": "LayoutView",
            "grid_template_rows": null,
            "right": null,
            "justify_content": null,
            "_view_module": "@jupyter-widgets/base",
            "overflow": null,
            "_model_module_version": "1.2.0",
            "_view_count": null,
            "flex_flow": null,
            "width": null,
            "min_width": null,
            "border": null,
            "align_items": null,
            "bottom": null,
            "_model_module": "@jupyter-widgets/base",
            "top": null,
            "grid_column": null,
            "overflow_y": null,
            "overflow_x": null,
            "grid_auto_flow": null,
            "grid_area": null,
            "grid_template_columns": null,
            "flex": null,
            "_model_name": "LayoutModel",
            "justify_items": null,
            "grid_row": null,
            "max_height": null,
            "align_content": null,
            "visibility": null,
            "align_self": null,
            "height": null,
            "min_height": null,
            "padding": null,
            "grid_auto_rows": null,
            "grid_gap": null,
            "max_width": null,
            "order": null,
            "_view_module_version": "1.2.0",
            "grid_template_areas": null,
            "object_position": null,
            "object_fit": null,
            "grid_auto_columns": null,
            "margin": null,
            "display": null,
            "left": null
          }
        },
        "58f3eb359d3e4ceb8163bfbad958d7f6": {
          "model_module": "@jupyter-widgets/controls",
          "model_name": "FloatProgressModel",
          "state": {
            "_view_name": "ProgressView",
            "style": "IPY_MODEL_b287d425c0c04859bb27411293db3943",
            "_dom_classes": [],
            "description": "100%",
            "_model_name": "FloatProgressModel",
            "bar_style": "success",
            "max": 50,
            "_view_module": "@jupyter-widgets/controls",
            "_model_module_version": "1.5.0",
            "value": 50,
            "_view_count": null,
            "_view_module_version": "1.5.0",
            "orientation": "horizontal",
            "min": 0,
            "description_tooltip": null,
            "_model_module": "@jupyter-widgets/controls",
            "layout": "IPY_MODEL_19a8814d367f45368bbf56a1e2eb780b"
          }
        },
        "f335527c14e041d18febc37f9372f50c": {
          "model_module": "@jupyter-widgets/controls",
          "model_name": "HTMLModel",
          "state": {
            "_view_name": "HTMLView",
            "style": "IPY_MODEL_15e91cab03264482acc11be48a658431",
            "_dom_classes": [],
            "description": "",
            "_model_name": "HTMLModel",
            "placeholder": "​",
            "_view_module": "@jupyter-widgets/controls",
            "_model_module_version": "1.5.0",
            "value": " 50/50 [00:14&lt;00:00,  3.38it/s]",
            "_view_count": null,
            "_view_module_version": "1.5.0",
            "description_tooltip": null,
            "_model_module": "@jupyter-widgets/controls",
            "layout": "IPY_MODEL_5c292d75a44e4425b53bc66309e296b1"
          }
        },
        "b287d425c0c04859bb27411293db3943": {
          "model_module": "@jupyter-widgets/controls",
          "model_name": "ProgressStyleModel",
          "state": {
            "_view_name": "StyleView",
            "_model_name": "ProgressStyleModel",
            "description_width": "initial",
            "_view_module": "@jupyter-widgets/base",
            "_model_module_version": "1.5.0",
            "_view_count": null,
            "_view_module_version": "1.2.0",
            "bar_color": null,
            "_model_module": "@jupyter-widgets/controls"
          }
        },
        "19a8814d367f45368bbf56a1e2eb780b": {
          "model_module": "@jupyter-widgets/base",
          "model_name": "LayoutModel",
          "state": {
            "_view_name": "LayoutView",
            "grid_template_rows": null,
            "right": null,
            "justify_content": null,
            "_view_module": "@jupyter-widgets/base",
            "overflow": null,
            "_model_module_version": "1.2.0",
            "_view_count": null,
            "flex_flow": null,
            "width": null,
            "min_width": null,
            "border": null,
            "align_items": null,
            "bottom": null,
            "_model_module": "@jupyter-widgets/base",
            "top": null,
            "grid_column": null,
            "overflow_y": null,
            "overflow_x": null,
            "grid_auto_flow": null,
            "grid_area": null,
            "grid_template_columns": null,
            "flex": null,
            "_model_name": "LayoutModel",
            "justify_items": null,
            "grid_row": null,
            "max_height": null,
            "align_content": null,
            "visibility": null,
            "align_self": null,
            "height": null,
            "min_height": null,
            "padding": null,
            "grid_auto_rows": null,
            "grid_gap": null,
            "max_width": null,
            "order": null,
            "_view_module_version": "1.2.0",
            "grid_template_areas": null,
            "object_position": null,
            "object_fit": null,
            "grid_auto_columns": null,
            "margin": null,
            "display": null,
            "left": null
          }
        },
        "15e91cab03264482acc11be48a658431": {
          "model_module": "@jupyter-widgets/controls",
          "model_name": "DescriptionStyleModel",
          "state": {
            "_view_name": "StyleView",
            "_model_name": "DescriptionStyleModel",
            "description_width": "",
            "_view_module": "@jupyter-widgets/base",
            "_model_module_version": "1.5.0",
            "_view_count": null,
            "_view_module_version": "1.2.0",
            "_model_module": "@jupyter-widgets/controls"
          }
        },
        "5c292d75a44e4425b53bc66309e296b1": {
          "model_module": "@jupyter-widgets/base",
          "model_name": "LayoutModel",
          "state": {
            "_view_name": "LayoutView",
            "grid_template_rows": null,
            "right": null,
            "justify_content": null,
            "_view_module": "@jupyter-widgets/base",
            "overflow": null,
            "_model_module_version": "1.2.0",
            "_view_count": null,
            "flex_flow": null,
            "width": null,
            "min_width": null,
            "border": null,
            "align_items": null,
            "bottom": null,
            "_model_module": "@jupyter-widgets/base",
            "top": null,
            "grid_column": null,
            "overflow_y": null,
            "overflow_x": null,
            "grid_auto_flow": null,
            "grid_area": null,
            "grid_template_columns": null,
            "flex": null,
            "_model_name": "LayoutModel",
            "justify_items": null,
            "grid_row": null,
            "max_height": null,
            "align_content": null,
            "visibility": null,
            "align_self": null,
            "height": null,
            "min_height": null,
            "padding": null,
            "grid_auto_rows": null,
            "grid_gap": null,
            "max_width": null,
            "order": null,
            "_view_module_version": "1.2.0",
            "grid_template_areas": null,
            "object_position": null,
            "object_fit": null,
            "grid_auto_columns": null,
            "margin": null,
            "display": null,
            "left": null
          }
        },
        "2e54529aa3034dcb85c19010a6508641": {
          "model_module": "@jupyter-widgets/controls",
          "model_name": "HBoxModel",
          "state": {
            "_view_name": "HBoxView",
            "_dom_classes": [],
            "_model_name": "HBoxModel",
            "_view_module": "@jupyter-widgets/controls",
            "_model_module_version": "1.5.0",
            "_view_count": null,
            "_view_module_version": "1.5.0",
            "box_style": "",
            "layout": "IPY_MODEL_8ed7d30632d048a495efa79eaaacfa84",
            "_model_module": "@jupyter-widgets/controls",
            "children": [
              "IPY_MODEL_42e45c1d62144e1ebd180ba7991e5e6e",
              "IPY_MODEL_a71781da35944a3a9391cc6b7e913670"
            ]
          }
        },
        "8ed7d30632d048a495efa79eaaacfa84": {
          "model_module": "@jupyter-widgets/base",
          "model_name": "LayoutModel",
          "state": {
            "_view_name": "LayoutView",
            "grid_template_rows": null,
            "right": null,
            "justify_content": null,
            "_view_module": "@jupyter-widgets/base",
            "overflow": null,
            "_model_module_version": "1.2.0",
            "_view_count": null,
            "flex_flow": null,
            "width": null,
            "min_width": null,
            "border": null,
            "align_items": null,
            "bottom": null,
            "_model_module": "@jupyter-widgets/base",
            "top": null,
            "grid_column": null,
            "overflow_y": null,
            "overflow_x": null,
            "grid_auto_flow": null,
            "grid_area": null,
            "grid_template_columns": null,
            "flex": null,
            "_model_name": "LayoutModel",
            "justify_items": null,
            "grid_row": null,
            "max_height": null,
            "align_content": null,
            "visibility": null,
            "align_self": null,
            "height": null,
            "min_height": null,
            "padding": null,
            "grid_auto_rows": null,
            "grid_gap": null,
            "max_width": null,
            "order": null,
            "_view_module_version": "1.2.0",
            "grid_template_areas": null,
            "object_position": null,
            "object_fit": null,
            "grid_auto_columns": null,
            "margin": null,
            "display": null,
            "left": null
          }
        },
        "42e45c1d62144e1ebd180ba7991e5e6e": {
          "model_module": "@jupyter-widgets/controls",
          "model_name": "FloatProgressModel",
          "state": {
            "_view_name": "ProgressView",
            "style": "IPY_MODEL_d4f8952229734ca3acd3234405035a9e",
            "_dom_classes": [],
            "description": "100%",
            "_model_name": "FloatProgressModel",
            "bar_style": "success",
            "max": 50,
            "_view_module": "@jupyter-widgets/controls",
            "_model_module_version": "1.5.0",
            "value": 50,
            "_view_count": null,
            "_view_module_version": "1.5.0",
            "orientation": "horizontal",
            "min": 0,
            "description_tooltip": null,
            "_model_module": "@jupyter-widgets/controls",
            "layout": "IPY_MODEL_2ec7d0cde1764bcbad1f2a098be95387"
          }
        },
        "a71781da35944a3a9391cc6b7e913670": {
          "model_module": "@jupyter-widgets/controls",
          "model_name": "HTMLModel",
          "state": {
            "_view_name": "HTMLView",
            "style": "IPY_MODEL_5fddb7c1cca24b7c86dffe78f6df7c82",
            "_dom_classes": [],
            "description": "",
            "_model_name": "HTMLModel",
            "placeholder": "​",
            "_view_module": "@jupyter-widgets/controls",
            "_model_module_version": "1.5.0",
            "value": " 50/50 [00:09&lt;00:00,  5.29it/s]",
            "_view_count": null,
            "_view_module_version": "1.5.0",
            "description_tooltip": null,
            "_model_module": "@jupyter-widgets/controls",
            "layout": "IPY_MODEL_270c667ccf954cd0a42e6c0bc57e02fa"
          }
        },
        "d4f8952229734ca3acd3234405035a9e": {
          "model_module": "@jupyter-widgets/controls",
          "model_name": "ProgressStyleModel",
          "state": {
            "_view_name": "StyleView",
            "_model_name": "ProgressStyleModel",
            "description_width": "initial",
            "_view_module": "@jupyter-widgets/base",
            "_model_module_version": "1.5.0",
            "_view_count": null,
            "_view_module_version": "1.2.0",
            "bar_color": null,
            "_model_module": "@jupyter-widgets/controls"
          }
        },
        "2ec7d0cde1764bcbad1f2a098be95387": {
          "model_module": "@jupyter-widgets/base",
          "model_name": "LayoutModel",
          "state": {
            "_view_name": "LayoutView",
            "grid_template_rows": null,
            "right": null,
            "justify_content": null,
            "_view_module": "@jupyter-widgets/base",
            "overflow": null,
            "_model_module_version": "1.2.0",
            "_view_count": null,
            "flex_flow": null,
            "width": null,
            "min_width": null,
            "border": null,
            "align_items": null,
            "bottom": null,
            "_model_module": "@jupyter-widgets/base",
            "top": null,
            "grid_column": null,
            "overflow_y": null,
            "overflow_x": null,
            "grid_auto_flow": null,
            "grid_area": null,
            "grid_template_columns": null,
            "flex": null,
            "_model_name": "LayoutModel",
            "justify_items": null,
            "grid_row": null,
            "max_height": null,
            "align_content": null,
            "visibility": null,
            "align_self": null,
            "height": null,
            "min_height": null,
            "padding": null,
            "grid_auto_rows": null,
            "grid_gap": null,
            "max_width": null,
            "order": null,
            "_view_module_version": "1.2.0",
            "grid_template_areas": null,
            "object_position": null,
            "object_fit": null,
            "grid_auto_columns": null,
            "margin": null,
            "display": null,
            "left": null
          }
        },
        "5fddb7c1cca24b7c86dffe78f6df7c82": {
          "model_module": "@jupyter-widgets/controls",
          "model_name": "DescriptionStyleModel",
          "state": {
            "_view_name": "StyleView",
            "_model_name": "DescriptionStyleModel",
            "description_width": "",
            "_view_module": "@jupyter-widgets/base",
            "_model_module_version": "1.5.0",
            "_view_count": null,
            "_view_module_version": "1.2.0",
            "_model_module": "@jupyter-widgets/controls"
          }
        },
        "270c667ccf954cd0a42e6c0bc57e02fa": {
          "model_module": "@jupyter-widgets/base",
          "model_name": "LayoutModel",
          "state": {
            "_view_name": "LayoutView",
            "grid_template_rows": null,
            "right": null,
            "justify_content": null,
            "_view_module": "@jupyter-widgets/base",
            "overflow": null,
            "_model_module_version": "1.2.0",
            "_view_count": null,
            "flex_flow": null,
            "width": null,
            "min_width": null,
            "border": null,
            "align_items": null,
            "bottom": null,
            "_model_module": "@jupyter-widgets/base",
            "top": null,
            "grid_column": null,
            "overflow_y": null,
            "overflow_x": null,
            "grid_auto_flow": null,
            "grid_area": null,
            "grid_template_columns": null,
            "flex": null,
            "_model_name": "LayoutModel",
            "justify_items": null,
            "grid_row": null,
            "max_height": null,
            "align_content": null,
            "visibility": null,
            "align_self": null,
            "height": null,
            "min_height": null,
            "padding": null,
            "grid_auto_rows": null,
            "grid_gap": null,
            "max_width": null,
            "order": null,
            "_view_module_version": "1.2.0",
            "grid_template_areas": null,
            "object_position": null,
            "object_fit": null,
            "grid_auto_columns": null,
            "margin": null,
            "display": null,
            "left": null
          }
        },
        "0f1a8963a48c4fea8c9385b0ca6416ea": {
          "model_module": "@jupyter-widgets/controls",
          "model_name": "HBoxModel",
          "state": {
            "_view_name": "HBoxView",
            "_dom_classes": [],
            "_model_name": "HBoxModel",
            "_view_module": "@jupyter-widgets/controls",
            "_model_module_version": "1.5.0",
            "_view_count": null,
            "_view_module_version": "1.5.0",
            "box_style": "",
            "layout": "IPY_MODEL_adefe3c1331e43458a384b78725bab85",
            "_model_module": "@jupyter-widgets/controls",
            "children": [
              "IPY_MODEL_eebfad82abc74467863fcf6c6916241c",
              "IPY_MODEL_bb8bbf39884440f9b33ff50cd840f040"
            ]
          }
        },
        "adefe3c1331e43458a384b78725bab85": {
          "model_module": "@jupyter-widgets/base",
          "model_name": "LayoutModel",
          "state": {
            "_view_name": "LayoutView",
            "grid_template_rows": null,
            "right": null,
            "justify_content": null,
            "_view_module": "@jupyter-widgets/base",
            "overflow": null,
            "_model_module_version": "1.2.0",
            "_view_count": null,
            "flex_flow": null,
            "width": null,
            "min_width": null,
            "border": null,
            "align_items": null,
            "bottom": null,
            "_model_module": "@jupyter-widgets/base",
            "top": null,
            "grid_column": null,
            "overflow_y": null,
            "overflow_x": null,
            "grid_auto_flow": null,
            "grid_area": null,
            "grid_template_columns": null,
            "flex": null,
            "_model_name": "LayoutModel",
            "justify_items": null,
            "grid_row": null,
            "max_height": null,
            "align_content": null,
            "visibility": null,
            "align_self": null,
            "height": null,
            "min_height": null,
            "padding": null,
            "grid_auto_rows": null,
            "grid_gap": null,
            "max_width": null,
            "order": null,
            "_view_module_version": "1.2.0",
            "grid_template_areas": null,
            "object_position": null,
            "object_fit": null,
            "grid_auto_columns": null,
            "margin": null,
            "display": null,
            "left": null
          }
        },
        "eebfad82abc74467863fcf6c6916241c": {
          "model_module": "@jupyter-widgets/controls",
          "model_name": "FloatProgressModel",
          "state": {
            "_view_name": "ProgressView",
            "style": "IPY_MODEL_249e824acba5466fad726341ba992599",
            "_dom_classes": [],
            "description": "100%",
            "_model_name": "FloatProgressModel",
            "bar_style": "success",
            "max": 50,
            "_view_module": "@jupyter-widgets/controls",
            "_model_module_version": "1.5.0",
            "value": 50,
            "_view_count": null,
            "_view_module_version": "1.5.0",
            "orientation": "horizontal",
            "min": 0,
            "description_tooltip": null,
            "_model_module": "@jupyter-widgets/controls",
            "layout": "IPY_MODEL_ac9a8f2434c643c2bd29998135346bc6"
          }
        },
        "bb8bbf39884440f9b33ff50cd840f040": {
          "model_module": "@jupyter-widgets/controls",
          "model_name": "HTMLModel",
          "state": {
            "_view_name": "HTMLView",
            "style": "IPY_MODEL_69f2eced3d0b49d28c77b4b442d47b36",
            "_dom_classes": [],
            "description": "",
            "_model_name": "HTMLModel",
            "placeholder": "​",
            "_view_module": "@jupyter-widgets/controls",
            "_model_module_version": "1.5.0",
            "value": " 50/50 [00:01&lt;00:00, 30.96it/s, correct=98.93%, skipped=1.15%]",
            "_view_count": null,
            "_view_module_version": "1.5.0",
            "description_tooltip": null,
            "_model_module": "@jupyter-widgets/controls",
            "layout": "IPY_MODEL_fd02bdbea72e44cba9ca5cf9b614de1b"
          }
        },
        "249e824acba5466fad726341ba992599": {
          "model_module": "@jupyter-widgets/controls",
          "model_name": "ProgressStyleModel",
          "state": {
            "_view_name": "StyleView",
            "_model_name": "ProgressStyleModel",
            "description_width": "initial",
            "_view_module": "@jupyter-widgets/base",
            "_model_module_version": "1.5.0",
            "_view_count": null,
            "_view_module_version": "1.2.0",
            "bar_color": null,
            "_model_module": "@jupyter-widgets/controls"
          }
        },
        "ac9a8f2434c643c2bd29998135346bc6": {
          "model_module": "@jupyter-widgets/base",
          "model_name": "LayoutModel",
          "state": {
            "_view_name": "LayoutView",
            "grid_template_rows": null,
            "right": null,
            "justify_content": null,
            "_view_module": "@jupyter-widgets/base",
            "overflow": null,
            "_model_module_version": "1.2.0",
            "_view_count": null,
            "flex_flow": null,
            "width": null,
            "min_width": null,
            "border": null,
            "align_items": null,
            "bottom": null,
            "_model_module": "@jupyter-widgets/base",
            "top": null,
            "grid_column": null,
            "overflow_y": null,
            "overflow_x": null,
            "grid_auto_flow": null,
            "grid_area": null,
            "grid_template_columns": null,
            "flex": null,
            "_model_name": "LayoutModel",
            "justify_items": null,
            "grid_row": null,
            "max_height": null,
            "align_content": null,
            "visibility": null,
            "align_self": null,
            "height": null,
            "min_height": null,
            "padding": null,
            "grid_auto_rows": null,
            "grid_gap": null,
            "max_width": null,
            "order": null,
            "_view_module_version": "1.2.0",
            "grid_template_areas": null,
            "object_position": null,
            "object_fit": null,
            "grid_auto_columns": null,
            "margin": null,
            "display": null,
            "left": null
          }
        },
        "69f2eced3d0b49d28c77b4b442d47b36": {
          "model_module": "@jupyter-widgets/controls",
          "model_name": "DescriptionStyleModel",
          "state": {
            "_view_name": "StyleView",
            "_model_name": "DescriptionStyleModel",
            "description_width": "",
            "_view_module": "@jupyter-widgets/base",
            "_model_module_version": "1.5.0",
            "_view_count": null,
            "_view_module_version": "1.2.0",
            "_model_module": "@jupyter-widgets/controls"
          }
        },
        "fd02bdbea72e44cba9ca5cf9b614de1b": {
          "model_module": "@jupyter-widgets/base",
          "model_name": "LayoutModel",
          "state": {
            "_view_name": "LayoutView",
            "grid_template_rows": null,
            "right": null,
            "justify_content": null,
            "_view_module": "@jupyter-widgets/base",
            "overflow": null,
            "_model_module_version": "1.2.0",
            "_view_count": null,
            "flex_flow": null,
            "width": null,
            "min_width": null,
            "border": null,
            "align_items": null,
            "bottom": null,
            "_model_module": "@jupyter-widgets/base",
            "top": null,
            "grid_column": null,
            "overflow_y": null,
            "overflow_x": null,
            "grid_auto_flow": null,
            "grid_area": null,
            "grid_template_columns": null,
            "flex": null,
            "_model_name": "LayoutModel",
            "justify_items": null,
            "grid_row": null,
            "max_height": null,
            "align_content": null,
            "visibility": null,
            "align_self": null,
            "height": null,
            "min_height": null,
            "padding": null,
            "grid_auto_rows": null,
            "grid_gap": null,
            "max_width": null,
            "order": null,
            "_view_module_version": "1.2.0",
            "grid_template_areas": null,
            "object_position": null,
            "object_fit": null,
            "grid_auto_columns": null,
            "margin": null,
            "display": null,
            "left": null
          }
        },
        "0dee8ce1ea2b4edab59ea17abe7b2e4d": {
          "model_module": "@jupyter-widgets/controls",
          "model_name": "HBoxModel",
          "state": {
            "_view_name": "HBoxView",
            "_dom_classes": [],
            "_model_name": "HBoxModel",
            "_view_module": "@jupyter-widgets/controls",
            "_model_module_version": "1.5.0",
            "_view_count": null,
            "_view_module_version": "1.5.0",
            "box_style": "",
            "layout": "IPY_MODEL_ee2eca6f4bc14d1591872f3ee93cd001",
            "_model_module": "@jupyter-widgets/controls",
            "children": [
              "IPY_MODEL_a3e5be7c67ab4c189a155cf6662603c7",
              "IPY_MODEL_a812a4b8d7a946ee8413701e1c90cf76"
            ]
          }
        },
        "ee2eca6f4bc14d1591872f3ee93cd001": {
          "model_module": "@jupyter-widgets/base",
          "model_name": "LayoutModel",
          "state": {
            "_view_name": "LayoutView",
            "grid_template_rows": null,
            "right": null,
            "justify_content": null,
            "_view_module": "@jupyter-widgets/base",
            "overflow": null,
            "_model_module_version": "1.2.0",
            "_view_count": null,
            "flex_flow": null,
            "width": null,
            "min_width": null,
            "border": null,
            "align_items": null,
            "bottom": null,
            "_model_module": "@jupyter-widgets/base",
            "top": null,
            "grid_column": null,
            "overflow_y": null,
            "overflow_x": null,
            "grid_auto_flow": null,
            "grid_area": null,
            "grid_template_columns": null,
            "flex": null,
            "_model_name": "LayoutModel",
            "justify_items": null,
            "grid_row": null,
            "max_height": null,
            "align_content": null,
            "visibility": null,
            "align_self": null,
            "height": null,
            "min_height": null,
            "padding": null,
            "grid_auto_rows": null,
            "grid_gap": null,
            "max_width": null,
            "order": null,
            "_view_module_version": "1.2.0",
            "grid_template_areas": null,
            "object_position": null,
            "object_fit": null,
            "grid_auto_columns": null,
            "margin": null,
            "display": null,
            "left": null
          }
        },
        "a3e5be7c67ab4c189a155cf6662603c7": {
          "model_module": "@jupyter-widgets/controls",
          "model_name": "FloatProgressModel",
          "state": {
            "_view_name": "ProgressView",
            "style": "IPY_MODEL_002b91dc1a434bc6b7add5487e93a44f",
            "_dom_classes": [],
            "description": "100%",
            "_model_name": "FloatProgressModel",
            "bar_style": "success",
            "max": 50,
            "_view_module": "@jupyter-widgets/controls",
            "_model_module_version": "1.5.0",
            "value": 50,
            "_view_count": null,
            "_view_module_version": "1.5.0",
            "orientation": "horizontal",
            "min": 0,
            "description_tooltip": null,
            "_model_module": "@jupyter-widgets/controls",
            "layout": "IPY_MODEL_5e64837ffd194bfc8170fb29cabcce86"
          }
        },
        "a812a4b8d7a946ee8413701e1c90cf76": {
          "model_module": "@jupyter-widgets/controls",
          "model_name": "HTMLModel",
          "state": {
            "_view_name": "HTMLView",
            "style": "IPY_MODEL_43293894333e4de499420c64cf160f97",
            "_dom_classes": [],
            "description": "",
            "_model_name": "HTMLModel",
            "placeholder": "​",
            "_view_module": "@jupyter-widgets/controls",
            "_model_module_version": "1.5.0",
            "value": " 50/50 [00:01&lt;00:00, 46.17it/s]",
            "_view_count": null,
            "_view_module_version": "1.5.0",
            "description_tooltip": null,
            "_model_module": "@jupyter-widgets/controls",
            "layout": "IPY_MODEL_5718678e7bee4f16b6bfa06400ff34e8"
          }
        },
        "002b91dc1a434bc6b7add5487e93a44f": {
          "model_module": "@jupyter-widgets/controls",
          "model_name": "ProgressStyleModel",
          "state": {
            "_view_name": "StyleView",
            "_model_name": "ProgressStyleModel",
            "description_width": "initial",
            "_view_module": "@jupyter-widgets/base",
            "_model_module_version": "1.5.0",
            "_view_count": null,
            "_view_module_version": "1.2.0",
            "bar_color": null,
            "_model_module": "@jupyter-widgets/controls"
          }
        },
        "5e64837ffd194bfc8170fb29cabcce86": {
          "model_module": "@jupyter-widgets/base",
          "model_name": "LayoutModel",
          "state": {
            "_view_name": "LayoutView",
            "grid_template_rows": null,
            "right": null,
            "justify_content": null,
            "_view_module": "@jupyter-widgets/base",
            "overflow": null,
            "_model_module_version": "1.2.0",
            "_view_count": null,
            "flex_flow": null,
            "width": null,
            "min_width": null,
            "border": null,
            "align_items": null,
            "bottom": null,
            "_model_module": "@jupyter-widgets/base",
            "top": null,
            "grid_column": null,
            "overflow_y": null,
            "overflow_x": null,
            "grid_auto_flow": null,
            "grid_area": null,
            "grid_template_columns": null,
            "flex": null,
            "_model_name": "LayoutModel",
            "justify_items": null,
            "grid_row": null,
            "max_height": null,
            "align_content": null,
            "visibility": null,
            "align_self": null,
            "height": null,
            "min_height": null,
            "padding": null,
            "grid_auto_rows": null,
            "grid_gap": null,
            "max_width": null,
            "order": null,
            "_view_module_version": "1.2.0",
            "grid_template_areas": null,
            "object_position": null,
            "object_fit": null,
            "grid_auto_columns": null,
            "margin": null,
            "display": null,
            "left": null
          }
        },
        "43293894333e4de499420c64cf160f97": {
          "model_module": "@jupyter-widgets/controls",
          "model_name": "DescriptionStyleModel",
          "state": {
            "_view_name": "StyleView",
            "_model_name": "DescriptionStyleModel",
            "description_width": "",
            "_view_module": "@jupyter-widgets/base",
            "_model_module_version": "1.5.0",
            "_view_count": null,
            "_view_module_version": "1.2.0",
            "_model_module": "@jupyter-widgets/controls"
          }
        },
        "5718678e7bee4f16b6bfa06400ff34e8": {
          "model_module": "@jupyter-widgets/base",
          "model_name": "LayoutModel",
          "state": {
            "_view_name": "LayoutView",
            "grid_template_rows": null,
            "right": null,
            "justify_content": null,
            "_view_module": "@jupyter-widgets/base",
            "overflow": null,
            "_model_module_version": "1.2.0",
            "_view_count": null,
            "flex_flow": null,
            "width": null,
            "min_width": null,
            "border": null,
            "align_items": null,
            "bottom": null,
            "_model_module": "@jupyter-widgets/base",
            "top": null,
            "grid_column": null,
            "overflow_y": null,
            "overflow_x": null,
            "grid_auto_flow": null,
            "grid_area": null,
            "grid_template_columns": null,
            "flex": null,
            "_model_name": "LayoutModel",
            "justify_items": null,
            "grid_row": null,
            "max_height": null,
            "align_content": null,
            "visibility": null,
            "align_self": null,
            "height": null,
            "min_height": null,
            "padding": null,
            "grid_auto_rows": null,
            "grid_gap": null,
            "max_width": null,
            "order": null,
            "_view_module_version": "1.2.0",
            "grid_template_areas": null,
            "object_position": null,
            "object_fit": null,
            "grid_auto_columns": null,
            "margin": null,
            "display": null,
            "left": null
          }
        },
        "45615a8708ee4c61bed6f94023f35945": {
          "model_module": "@jupyter-widgets/controls",
          "model_name": "HBoxModel",
          "state": {
            "_view_name": "HBoxView",
            "_dom_classes": [],
            "_model_name": "HBoxModel",
            "_view_module": "@jupyter-widgets/controls",
            "_model_module_version": "1.5.0",
            "_view_count": null,
            "_view_module_version": "1.5.0",
            "box_style": "",
            "layout": "IPY_MODEL_810ea69bf46648ae92e23f9c2ec9cf5a",
            "_model_module": "@jupyter-widgets/controls",
            "children": [
              "IPY_MODEL_8e73040eda464859a0e6c813f877cfe7",
              "IPY_MODEL_3d7b6f58bbe4442ca848d921b50b9632"
            ]
          }
        },
        "810ea69bf46648ae92e23f9c2ec9cf5a": {
          "model_module": "@jupyter-widgets/base",
          "model_name": "LayoutModel",
          "state": {
            "_view_name": "LayoutView",
            "grid_template_rows": null,
            "right": null,
            "justify_content": null,
            "_view_module": "@jupyter-widgets/base",
            "overflow": null,
            "_model_module_version": "1.2.0",
            "_view_count": null,
            "flex_flow": null,
            "width": null,
            "min_width": null,
            "border": null,
            "align_items": null,
            "bottom": null,
            "_model_module": "@jupyter-widgets/base",
            "top": null,
            "grid_column": null,
            "overflow_y": null,
            "overflow_x": null,
            "grid_auto_flow": null,
            "grid_area": null,
            "grid_template_columns": null,
            "flex": null,
            "_model_name": "LayoutModel",
            "justify_items": null,
            "grid_row": null,
            "max_height": null,
            "align_content": null,
            "visibility": null,
            "align_self": null,
            "height": null,
            "min_height": null,
            "padding": null,
            "grid_auto_rows": null,
            "grid_gap": null,
            "max_width": null,
            "order": null,
            "_view_module_version": "1.2.0",
            "grid_template_areas": null,
            "object_position": null,
            "object_fit": null,
            "grid_auto_columns": null,
            "margin": null,
            "display": null,
            "left": null
          }
        },
        "8e73040eda464859a0e6c813f877cfe7": {
          "model_module": "@jupyter-widgets/controls",
          "model_name": "FloatProgressModel",
          "state": {
            "_view_name": "ProgressView",
            "style": "IPY_MODEL_af9b12d1c7014f479dd340853475b9b5",
            "_dom_classes": [],
            "description": "100%",
            "_model_name": "FloatProgressModel",
            "bar_style": "success",
            "max": 50,
            "_view_module": "@jupyter-widgets/controls",
            "_model_module_version": "1.5.0",
            "value": 50,
            "_view_count": null,
            "_view_module_version": "1.5.0",
            "orientation": "horizontal",
            "min": 0,
            "description_tooltip": null,
            "_model_module": "@jupyter-widgets/controls",
            "layout": "IPY_MODEL_78d0e1c7f50c44639705b4a19fc6c807"
          }
        },
        "3d7b6f58bbe4442ca848d921b50b9632": {
          "model_module": "@jupyter-widgets/controls",
          "model_name": "HTMLModel",
          "state": {
            "_view_name": "HTMLView",
            "style": "IPY_MODEL_74f93e35edb54aac837c78db0b4234cf",
            "_dom_classes": [],
            "description": "",
            "_model_name": "HTMLModel",
            "placeholder": "​",
            "_view_module": "@jupyter-widgets/controls",
            "_model_module_version": "1.5.0",
            "value": " 50/50 [00:21&lt;00:00,  2.37it/s]",
            "_view_count": null,
            "_view_module_version": "1.5.0",
            "description_tooltip": null,
            "_model_module": "@jupyter-widgets/controls",
            "layout": "IPY_MODEL_388c94c9cd164dfa9b9ca78f5c3b3a06"
          }
        },
        "af9b12d1c7014f479dd340853475b9b5": {
          "model_module": "@jupyter-widgets/controls",
          "model_name": "ProgressStyleModel",
          "state": {
            "_view_name": "StyleView",
            "_model_name": "ProgressStyleModel",
            "description_width": "initial",
            "_view_module": "@jupyter-widgets/base",
            "_model_module_version": "1.5.0",
            "_view_count": null,
            "_view_module_version": "1.2.0",
            "bar_color": null,
            "_model_module": "@jupyter-widgets/controls"
          }
        },
        "78d0e1c7f50c44639705b4a19fc6c807": {
          "model_module": "@jupyter-widgets/base",
          "model_name": "LayoutModel",
          "state": {
            "_view_name": "LayoutView",
            "grid_template_rows": null,
            "right": null,
            "justify_content": null,
            "_view_module": "@jupyter-widgets/base",
            "overflow": null,
            "_model_module_version": "1.2.0",
            "_view_count": null,
            "flex_flow": null,
            "width": null,
            "min_width": null,
            "border": null,
            "align_items": null,
            "bottom": null,
            "_model_module": "@jupyter-widgets/base",
            "top": null,
            "grid_column": null,
            "overflow_y": null,
            "overflow_x": null,
            "grid_auto_flow": null,
            "grid_area": null,
            "grid_template_columns": null,
            "flex": null,
            "_model_name": "LayoutModel",
            "justify_items": null,
            "grid_row": null,
            "max_height": null,
            "align_content": null,
            "visibility": null,
            "align_self": null,
            "height": null,
            "min_height": null,
            "padding": null,
            "grid_auto_rows": null,
            "grid_gap": null,
            "max_width": null,
            "order": null,
            "_view_module_version": "1.2.0",
            "grid_template_areas": null,
            "object_position": null,
            "object_fit": null,
            "grid_auto_columns": null,
            "margin": null,
            "display": null,
            "left": null
          }
        },
        "74f93e35edb54aac837c78db0b4234cf": {
          "model_module": "@jupyter-widgets/controls",
          "model_name": "DescriptionStyleModel",
          "state": {
            "_view_name": "StyleView",
            "_model_name": "DescriptionStyleModel",
            "description_width": "",
            "_view_module": "@jupyter-widgets/base",
            "_model_module_version": "1.5.0",
            "_view_count": null,
            "_view_module_version": "1.2.0",
            "_model_module": "@jupyter-widgets/controls"
          }
        },
        "388c94c9cd164dfa9b9ca78f5c3b3a06": {
          "model_module": "@jupyter-widgets/base",
          "model_name": "LayoutModel",
          "state": {
            "_view_name": "LayoutView",
            "grid_template_rows": null,
            "right": null,
            "justify_content": null,
            "_view_module": "@jupyter-widgets/base",
            "overflow": null,
            "_model_module_version": "1.2.0",
            "_view_count": null,
            "flex_flow": null,
            "width": null,
            "min_width": null,
            "border": null,
            "align_items": null,
            "bottom": null,
            "_model_module": "@jupyter-widgets/base",
            "top": null,
            "grid_column": null,
            "overflow_y": null,
            "overflow_x": null,
            "grid_auto_flow": null,
            "grid_area": null,
            "grid_template_columns": null,
            "flex": null,
            "_model_name": "LayoutModel",
            "justify_items": null,
            "grid_row": null,
            "max_height": null,
            "align_content": null,
            "visibility": null,
            "align_self": null,
            "height": null,
            "min_height": null,
            "padding": null,
            "grid_auto_rows": null,
            "grid_gap": null,
            "max_width": null,
            "order": null,
            "_view_module_version": "1.2.0",
            "grid_template_areas": null,
            "object_position": null,
            "object_fit": null,
            "grid_auto_columns": null,
            "margin": null,
            "display": null,
            "left": null
          }
        },
        "39472689e873408690a6c3fbccff4358": {
          "model_module": "@jupyter-widgets/controls",
          "model_name": "HBoxModel",
          "state": {
            "_view_name": "HBoxView",
            "_dom_classes": [],
            "_model_name": "HBoxModel",
            "_view_module": "@jupyter-widgets/controls",
            "_model_module_version": "1.5.0",
            "_view_count": null,
            "_view_module_version": "1.5.0",
            "box_style": "",
            "layout": "IPY_MODEL_a2bbf02ed8824173b5a228d7d6bc5410",
            "_model_module": "@jupyter-widgets/controls",
            "children": [
              "IPY_MODEL_c0a67b13c4174c2aa7a5a8166596b35c",
              "IPY_MODEL_367099944a164866931b2cea14553e62"
            ]
          }
        },
        "a2bbf02ed8824173b5a228d7d6bc5410": {
          "model_module": "@jupyter-widgets/base",
          "model_name": "LayoutModel",
          "state": {
            "_view_name": "LayoutView",
            "grid_template_rows": null,
            "right": null,
            "justify_content": null,
            "_view_module": "@jupyter-widgets/base",
            "overflow": null,
            "_model_module_version": "1.2.0",
            "_view_count": null,
            "flex_flow": null,
            "width": null,
            "min_width": null,
            "border": null,
            "align_items": null,
            "bottom": null,
            "_model_module": "@jupyter-widgets/base",
            "top": null,
            "grid_column": null,
            "overflow_y": null,
            "overflow_x": null,
            "grid_auto_flow": null,
            "grid_area": null,
            "grid_template_columns": null,
            "flex": null,
            "_model_name": "LayoutModel",
            "justify_items": null,
            "grid_row": null,
            "max_height": null,
            "align_content": null,
            "visibility": null,
            "align_self": null,
            "height": null,
            "min_height": null,
            "padding": null,
            "grid_auto_rows": null,
            "grid_gap": null,
            "max_width": null,
            "order": null,
            "_view_module_version": "1.2.0",
            "grid_template_areas": null,
            "object_position": null,
            "object_fit": null,
            "grid_auto_columns": null,
            "margin": null,
            "display": null,
            "left": null
          }
        },
        "c0a67b13c4174c2aa7a5a8166596b35c": {
          "model_module": "@jupyter-widgets/controls",
          "model_name": "FloatProgressModel",
          "state": {
            "_view_name": "ProgressView",
            "style": "IPY_MODEL_6a305ef1497d4f47ab27f861517b9f3a",
            "_dom_classes": [],
            "description": "100%",
            "_model_name": "FloatProgressModel",
            "bar_style": "success",
            "max": 50,
            "_view_module": "@jupyter-widgets/controls",
            "_model_module_version": "1.5.0",
            "value": 50,
            "_view_count": null,
            "_view_module_version": "1.5.0",
            "orientation": "horizontal",
            "min": 0,
            "description_tooltip": null,
            "_model_module": "@jupyter-widgets/controls",
            "layout": "IPY_MODEL_007af66e1db24a96ac14a71d5ead7677"
          }
        },
        "367099944a164866931b2cea14553e62": {
          "model_module": "@jupyter-widgets/controls",
          "model_name": "HTMLModel",
          "state": {
            "_view_name": "HTMLView",
            "style": "IPY_MODEL_1a13a56eb57a4af3a774dc6a1ae10466",
            "_dom_classes": [],
            "description": "",
            "_model_name": "HTMLModel",
            "placeholder": "​",
            "_view_module": "@jupyter-widgets/controls",
            "_model_module_version": "1.5.0",
            "value": " 50/50 [00:11&lt;00:00,  4.25it/s, correct=99.16%, skipped=1.31%]",
            "_view_count": null,
            "_view_module_version": "1.5.0",
            "description_tooltip": null,
            "_model_module": "@jupyter-widgets/controls",
            "layout": "IPY_MODEL_8cf6fd9dfcdb416eb94118b2bd4bed59"
          }
        },
        "6a305ef1497d4f47ab27f861517b9f3a": {
          "model_module": "@jupyter-widgets/controls",
          "model_name": "ProgressStyleModel",
          "state": {
            "_view_name": "StyleView",
            "_model_name": "ProgressStyleModel",
            "description_width": "initial",
            "_view_module": "@jupyter-widgets/base",
            "_model_module_version": "1.5.0",
            "_view_count": null,
            "_view_module_version": "1.2.0",
            "bar_color": null,
            "_model_module": "@jupyter-widgets/controls"
          }
        },
        "007af66e1db24a96ac14a71d5ead7677": {
          "model_module": "@jupyter-widgets/base",
          "model_name": "LayoutModel",
          "state": {
            "_view_name": "LayoutView",
            "grid_template_rows": null,
            "right": null,
            "justify_content": null,
            "_view_module": "@jupyter-widgets/base",
            "overflow": null,
            "_model_module_version": "1.2.0",
            "_view_count": null,
            "flex_flow": null,
            "width": null,
            "min_width": null,
            "border": null,
            "align_items": null,
            "bottom": null,
            "_model_module": "@jupyter-widgets/base",
            "top": null,
            "grid_column": null,
            "overflow_y": null,
            "overflow_x": null,
            "grid_auto_flow": null,
            "grid_area": null,
            "grid_template_columns": null,
            "flex": null,
            "_model_name": "LayoutModel",
            "justify_items": null,
            "grid_row": null,
            "max_height": null,
            "align_content": null,
            "visibility": null,
            "align_self": null,
            "height": null,
            "min_height": null,
            "padding": null,
            "grid_auto_rows": null,
            "grid_gap": null,
            "max_width": null,
            "order": null,
            "_view_module_version": "1.2.0",
            "grid_template_areas": null,
            "object_position": null,
            "object_fit": null,
            "grid_auto_columns": null,
            "margin": null,
            "display": null,
            "left": null
          }
        },
        "1a13a56eb57a4af3a774dc6a1ae10466": {
          "model_module": "@jupyter-widgets/controls",
          "model_name": "DescriptionStyleModel",
          "state": {
            "_view_name": "StyleView",
            "_model_name": "DescriptionStyleModel",
            "description_width": "",
            "_view_module": "@jupyter-widgets/base",
            "_model_module_version": "1.5.0",
            "_view_count": null,
            "_view_module_version": "1.2.0",
            "_model_module": "@jupyter-widgets/controls"
          }
        },
        "8cf6fd9dfcdb416eb94118b2bd4bed59": {
          "model_module": "@jupyter-widgets/base",
          "model_name": "LayoutModel",
          "state": {
            "_view_name": "LayoutView",
            "grid_template_rows": null,
            "right": null,
            "justify_content": null,
            "_view_module": "@jupyter-widgets/base",
            "overflow": null,
            "_model_module_version": "1.2.0",
            "_view_count": null,
            "flex_flow": null,
            "width": null,
            "min_width": null,
            "border": null,
            "align_items": null,
            "bottom": null,
            "_model_module": "@jupyter-widgets/base",
            "top": null,
            "grid_column": null,
            "overflow_y": null,
            "overflow_x": null,
            "grid_auto_flow": null,
            "grid_area": null,
            "grid_template_columns": null,
            "flex": null,
            "_model_name": "LayoutModel",
            "justify_items": null,
            "grid_row": null,
            "max_height": null,
            "align_content": null,
            "visibility": null,
            "align_self": null,
            "height": null,
            "min_height": null,
            "padding": null,
            "grid_auto_rows": null,
            "grid_gap": null,
            "max_width": null,
            "order": null,
            "_view_module_version": "1.2.0",
            "grid_template_areas": null,
            "object_position": null,
            "object_fit": null,
            "grid_auto_columns": null,
            "margin": null,
            "display": null,
            "left": null
          }
        },
        "a02b33fa9e00461d852657cd8107bde7": {
          "model_module": "@jupyter-widgets/controls",
          "model_name": "HBoxModel",
          "state": {
            "_view_name": "HBoxView",
            "_dom_classes": [],
            "_model_name": "HBoxModel",
            "_view_module": "@jupyter-widgets/controls",
            "_model_module_version": "1.5.0",
            "_view_count": null,
            "_view_module_version": "1.5.0",
            "box_style": "",
            "layout": "IPY_MODEL_e3cb970ccc4d46ceafe550aa2b55df41",
            "_model_module": "@jupyter-widgets/controls",
            "children": [
              "IPY_MODEL_54632fea4b4e4014878361082363de90",
              "IPY_MODEL_5b4de2ff91164c39a9a319a5acdb9483"
            ]
          }
        },
        "e3cb970ccc4d46ceafe550aa2b55df41": {
          "model_module": "@jupyter-widgets/base",
          "model_name": "LayoutModel",
          "state": {
            "_view_name": "LayoutView",
            "grid_template_rows": null,
            "right": null,
            "justify_content": null,
            "_view_module": "@jupyter-widgets/base",
            "overflow": null,
            "_model_module_version": "1.2.0",
            "_view_count": null,
            "flex_flow": null,
            "width": null,
            "min_width": null,
            "border": null,
            "align_items": null,
            "bottom": null,
            "_model_module": "@jupyter-widgets/base",
            "top": null,
            "grid_column": null,
            "overflow_y": null,
            "overflow_x": null,
            "grid_auto_flow": null,
            "grid_area": null,
            "grid_template_columns": null,
            "flex": null,
            "_model_name": "LayoutModel",
            "justify_items": null,
            "grid_row": null,
            "max_height": null,
            "align_content": null,
            "visibility": null,
            "align_self": null,
            "height": null,
            "min_height": null,
            "padding": null,
            "grid_auto_rows": null,
            "grid_gap": null,
            "max_width": null,
            "order": null,
            "_view_module_version": "1.2.0",
            "grid_template_areas": null,
            "object_position": null,
            "object_fit": null,
            "grid_auto_columns": null,
            "margin": null,
            "display": null,
            "left": null
          }
        },
        "54632fea4b4e4014878361082363de90": {
          "model_module": "@jupyter-widgets/controls",
          "model_name": "FloatProgressModel",
          "state": {
            "_view_name": "ProgressView",
            "style": "IPY_MODEL_ab4c03ba972e4588aa43cd6010f87488",
            "_dom_classes": [],
            "description": "100%",
            "_model_name": "FloatProgressModel",
            "bar_style": "success",
            "max": 50,
            "_view_module": "@jupyter-widgets/controls",
            "_model_module_version": "1.5.0",
            "value": 50,
            "_view_count": null,
            "_view_module_version": "1.5.0",
            "orientation": "horizontal",
            "min": 0,
            "description_tooltip": null,
            "_model_module": "@jupyter-widgets/controls",
            "layout": "IPY_MODEL_44884f54d09a4db3b13f01bbc896a23f"
          }
        },
        "5b4de2ff91164c39a9a319a5acdb9483": {
          "model_module": "@jupyter-widgets/controls",
          "model_name": "HTMLModel",
          "state": {
            "_view_name": "HTMLView",
            "style": "IPY_MODEL_cfd4a38e32294d668c958feb3c3df54b",
            "_dom_classes": [],
            "description": "",
            "_model_name": "HTMLModel",
            "placeholder": "​",
            "_view_module": "@jupyter-widgets/controls",
            "_model_module_version": "1.5.0",
            "value": " 50/50 [00:11&lt;00:00,  4.41it/s]",
            "_view_count": null,
            "_view_module_version": "1.5.0",
            "description_tooltip": null,
            "_model_module": "@jupyter-widgets/controls",
            "layout": "IPY_MODEL_c576fbe2649346318b568fc72d2d05bd"
          }
        },
        "ab4c03ba972e4588aa43cd6010f87488": {
          "model_module": "@jupyter-widgets/controls",
          "model_name": "ProgressStyleModel",
          "state": {
            "_view_name": "StyleView",
            "_model_name": "ProgressStyleModel",
            "description_width": "initial",
            "_view_module": "@jupyter-widgets/base",
            "_model_module_version": "1.5.0",
            "_view_count": null,
            "_view_module_version": "1.2.0",
            "bar_color": null,
            "_model_module": "@jupyter-widgets/controls"
          }
        },
        "44884f54d09a4db3b13f01bbc896a23f": {
          "model_module": "@jupyter-widgets/base",
          "model_name": "LayoutModel",
          "state": {
            "_view_name": "LayoutView",
            "grid_template_rows": null,
            "right": null,
            "justify_content": null,
            "_view_module": "@jupyter-widgets/base",
            "overflow": null,
            "_model_module_version": "1.2.0",
            "_view_count": null,
            "flex_flow": null,
            "width": null,
            "min_width": null,
            "border": null,
            "align_items": null,
            "bottom": null,
            "_model_module": "@jupyter-widgets/base",
            "top": null,
            "grid_column": null,
            "overflow_y": null,
            "overflow_x": null,
            "grid_auto_flow": null,
            "grid_area": null,
            "grid_template_columns": null,
            "flex": null,
            "_model_name": "LayoutModel",
            "justify_items": null,
            "grid_row": null,
            "max_height": null,
            "align_content": null,
            "visibility": null,
            "align_self": null,
            "height": null,
            "min_height": null,
            "padding": null,
            "grid_auto_rows": null,
            "grid_gap": null,
            "max_width": null,
            "order": null,
            "_view_module_version": "1.2.0",
            "grid_template_areas": null,
            "object_position": null,
            "object_fit": null,
            "grid_auto_columns": null,
            "margin": null,
            "display": null,
            "left": null
          }
        },
        "cfd4a38e32294d668c958feb3c3df54b": {
          "model_module": "@jupyter-widgets/controls",
          "model_name": "DescriptionStyleModel",
          "state": {
            "_view_name": "StyleView",
            "_model_name": "DescriptionStyleModel",
            "description_width": "",
            "_view_module": "@jupyter-widgets/base",
            "_model_module_version": "1.5.0",
            "_view_count": null,
            "_view_module_version": "1.2.0",
            "_model_module": "@jupyter-widgets/controls"
          }
        },
        "c576fbe2649346318b568fc72d2d05bd": {
          "model_module": "@jupyter-widgets/base",
          "model_name": "LayoutModel",
          "state": {
            "_view_name": "LayoutView",
            "grid_template_rows": null,
            "right": null,
            "justify_content": null,
            "_view_module": "@jupyter-widgets/base",
            "overflow": null,
            "_model_module_version": "1.2.0",
            "_view_count": null,
            "flex_flow": null,
            "width": null,
            "min_width": null,
            "border": null,
            "align_items": null,
            "bottom": null,
            "_model_module": "@jupyter-widgets/base",
            "top": null,
            "grid_column": null,
            "overflow_y": null,
            "overflow_x": null,
            "grid_auto_flow": null,
            "grid_area": null,
            "grid_template_columns": null,
            "flex": null,
            "_model_name": "LayoutModel",
            "justify_items": null,
            "grid_row": null,
            "max_height": null,
            "align_content": null,
            "visibility": null,
            "align_self": null,
            "height": null,
            "min_height": null,
            "padding": null,
            "grid_auto_rows": null,
            "grid_gap": null,
            "max_width": null,
            "order": null,
            "_view_module_version": "1.2.0",
            "grid_template_areas": null,
            "object_position": null,
            "object_fit": null,
            "grid_auto_columns": null,
            "margin": null,
            "display": null,
            "left": null
          }
        }
      }
    }
  },
  "cells": [
    {
      "cell_type": "markdown",
      "metadata": {
        "id": "JF0s60hchGLu",
        "colab_type": "text"
      },
      "source": [
        "# Outfit Recommendation For USERS (Collaborative Filtering)"
      ]
    },
    {
      "cell_type": "markdown",
      "metadata": {
        "id": "oX0JBm-uhLlH",
        "colab_type": "text"
      },
      "source": [
        "# Cleaning + Exploration"
      ]
    },
    {
      "cell_type": "code",
      "metadata": {
        "id": "MLbGKRSgatoC",
        "colab_type": "code",
        "outputId": "92789f91-48a7-4936-f5d2-4c8c4e624d06",
        "colab": {
          "base_uri": "https://localhost:8080/",
          "height": 394
        }
      },
      "source": [
        "import pandas as pd\n",
        "import numpy as np\n",
        "import scipy.sparse as sparse\n",
        "!pip install implicit\n",
        "import implicit\n",
        "from sklearn.utils.extmath import randomized_svd\n",
        "\n",
        "import string\n",
        "from nltk.stem import WordNetLemmatizer\n",
        "import nltk\n",
        "nltk.download('wordnet')\n",
        "import gensim\n",
        "from gensim.test.utils import common_texts\n",
        "from gensim.models.doc2vec import Doc2Vec, TaggedDocument\n",
        "from gensim.parsing.preprocessing import remove_stopwords\n",
        "from sklearn.metrics.pairwise import cosine_similarity\n",
        "!pip install fuzzywuzzy\n",
        "from fuzzywuzzy import fuzz"
      ],
      "execution_count": 1,
      "outputs": [
        {
          "output_type": "stream",
          "text": [
            "Collecting implicit\n",
            "\u001b[?25l  Downloading https://files.pythonhosted.org/packages/5a/d8/6b4f1374ffa2647b72ac76960c71b984c6f3238090359fb419d03827d87a/implicit-0.4.2.tar.gz (1.1MB)\n",
            "\u001b[K     |████████████████████████████████| 1.1MB 7.3MB/s \n",
            "\u001b[?25hRequirement already satisfied: numpy in /usr/local/lib/python3.6/dist-packages (from implicit) (1.18.4)\n",
            "Requirement already satisfied: scipy>=0.16 in /usr/local/lib/python3.6/dist-packages (from implicit) (1.4.1)\n",
            "Requirement already satisfied: tqdm>=4.27 in /usr/local/lib/python3.6/dist-packages (from implicit) (4.41.1)\n",
            "Building wheels for collected packages: implicit\n",
            "  Building wheel for implicit (setup.py) ... \u001b[?25l\u001b[?25hdone\n",
            "  Created wheel for implicit: filename=implicit-0.4.2-cp36-cp36m-linux_x86_64.whl size=3468704 sha256=6ef227028e30171e90dc12c991b83dad6d215439f6235f4023ae62f7904db136\n",
            "  Stored in directory: /root/.cache/pip/wheels/1b/48/b1/1aebe3acc3afb5589e72d3e7c3ffc3f637dc4721c1a974dff7\n",
            "Successfully built implicit\n",
            "Installing collected packages: implicit\n",
            "Successfully installed implicit-0.4.2\n",
            "[nltk_data] Downloading package wordnet to /root/nltk_data...\n",
            "[nltk_data]   Unzipping corpora/wordnet.zip.\n",
            "Collecting fuzzywuzzy\n",
            "  Downloading https://files.pythonhosted.org/packages/43/ff/74f23998ad2f93b945c0309f825be92e04e0348e062026998b5eefef4c33/fuzzywuzzy-0.18.0-py2.py3-none-any.whl\n",
            "Installing collected packages: fuzzywuzzy\n",
            "Successfully installed fuzzywuzzy-0.18.0\n"
          ],
          "name": "stdout"
        },
        {
          "output_type": "stream",
          "text": [
            "/usr/local/lib/python3.6/dist-packages/fuzzywuzzy/fuzz.py:11: UserWarning: Using slow pure-python SequenceMatcher. Install python-Levenshtein to remove this warning\n",
            "  warnings.warn('Using slow pure-python SequenceMatcher. Install python-Levenshtein to remove this warning')\n"
          ],
          "name": "stderr"
        }
      ]
    },
    {
      "cell_type": "code",
      "metadata": {
        "id": "MqRvTLa_atoG",
        "colab_type": "code",
        "outputId": "2cb267d5-66b2-4645-cea2-9c927d8d2605",
        "colab": {
          "base_uri": "https://localhost:8080/",
          "height": 669
        }
      },
      "source": [
        "outfit_combination_df = pd.read_csv('outfit_combinations_clean_type.csv')\n",
        "outfit_combination_df.head(20)"
      ],
      "execution_count": 2,
      "outputs": [
        {
          "output_type": "execute_result",
          "data": {
            "text/html": [
              "<div>\n",
              "<style scoped>\n",
              "    .dataframe tbody tr th:only-of-type {\n",
              "        vertical-align: middle;\n",
              "    }\n",
              "\n",
              "    .dataframe tbody tr th {\n",
              "        vertical-align: top;\n",
              "    }\n",
              "\n",
              "    .dataframe thead th {\n",
              "        text-align: right;\n",
              "    }\n",
              "</style>\n",
              "<table border=\"1\" class=\"dataframe\">\n",
              "  <thead>\n",
              "    <tr style=\"text-align: right;\">\n",
              "      <th></th>\n",
              "      <th>Unnamed: 0</th>\n",
              "      <th>outfit_id</th>\n",
              "      <th>product_id</th>\n",
              "      <th>outfit_item_type</th>\n",
              "      <th>brand</th>\n",
              "      <th>product_full_name</th>\n",
              "    </tr>\n",
              "  </thead>\n",
              "  <tbody>\n",
              "    <tr>\n",
              "      <th>0</th>\n",
              "      <td>0</td>\n",
              "      <td>01DDBHC62ES5K80P0KYJ56AM2T</td>\n",
              "      <td>01DMBRYVA2P5H24WK0HTK4R0A1</td>\n",
              "      <td>bottom</td>\n",
              "      <td>Eileen Fisher</td>\n",
              "      <td>Slim Knit Skirt</td>\n",
              "    </tr>\n",
              "    <tr>\n",
              "      <th>1</th>\n",
              "      <td>1</td>\n",
              "      <td>01DDBHC62ES5K80P0KYJ56AM2T</td>\n",
              "      <td>01DMBRYVA2PEPWFTT7RMP5AA1T</td>\n",
              "      <td>top</td>\n",
              "      <td>Eileen Fisher</td>\n",
              "      <td>Rib Mock Neck Tank</td>\n",
              "    </tr>\n",
              "    <tr>\n",
              "      <th>2</th>\n",
              "      <td>2</td>\n",
              "      <td>01DDBHC62ES5K80P0KYJ56AM2T</td>\n",
              "      <td>01DMBRYVA2S5T9W793F4CY41HE</td>\n",
              "      <td>accessory</td>\n",
              "      <td>kate spade new york</td>\n",
              "      <td>medium margaux leather satchel</td>\n",
              "    </tr>\n",
              "    <tr>\n",
              "      <th>3</th>\n",
              "      <td>3</td>\n",
              "      <td>01DDBHC62ES5K80P0KYJ56AM2T</td>\n",
              "      <td>01DMBRYVA2ZFDYRYY5TRQZJTBD</td>\n",
              "      <td>shoe</td>\n",
              "      <td>Tory Burch</td>\n",
              "      <td>Penelope Mid Cap Toe Pump</td>\n",
              "    </tr>\n",
              "    <tr>\n",
              "      <th>4</th>\n",
              "      <td>4</td>\n",
              "      <td>01DMHCX50CFX5YNG99F3Y65GQW</td>\n",
              "      <td>01DMBRYVA2P5H24WK0HTK4R0A1</td>\n",
              "      <td>bottom</td>\n",
              "      <td>Eileen Fisher</td>\n",
              "      <td>Slim Knit Skirt</td>\n",
              "    </tr>\n",
              "    <tr>\n",
              "      <th>5</th>\n",
              "      <td>5</td>\n",
              "      <td>01DMHCX50CFX5YNG99F3Y65GQW</td>\n",
              "      <td>01DMBRYVA2PEPWFTT7RMP5AA1T</td>\n",
              "      <td>top</td>\n",
              "      <td>Eileen Fisher</td>\n",
              "      <td>Rib Mock Neck Tank</td>\n",
              "    </tr>\n",
              "    <tr>\n",
              "      <th>6</th>\n",
              "      <td>6</td>\n",
              "      <td>01DMHCX50CFX5YNG99F3Y65GQW</td>\n",
              "      <td>01DMBRYVA2ZFDYRYY5TRQZJTBD</td>\n",
              "      <td>shoe</td>\n",
              "      <td>Tory Burch</td>\n",
              "      <td>Penelope Mid Cap Toe Pump</td>\n",
              "    </tr>\n",
              "    <tr>\n",
              "      <th>7</th>\n",
              "      <td>7</td>\n",
              "      <td>01DMHCX50CFX5YNG99F3Y65GQW</td>\n",
              "      <td>01DMHCNT41E14QWP503V7CT9G6</td>\n",
              "      <td>accessory</td>\n",
              "      <td>Nina</td>\n",
              "      <td>Crystal Clutch</td>\n",
              "    </tr>\n",
              "    <tr>\n",
              "      <th>8</th>\n",
              "      <td>8</td>\n",
              "      <td>01DMHRX35M2DPVYVQ1PNER4S4B</td>\n",
              "      <td>01DMBRYVA2Q2ST7MNYR6EEY4TK</td>\n",
              "      <td>onepiece</td>\n",
              "      <td>Equipment</td>\n",
              "      <td>Chemelle Midi Dress</td>\n",
              "    </tr>\n",
              "    <tr>\n",
              "      <th>9</th>\n",
              "      <td>9</td>\n",
              "      <td>01DMHRX35M2DPVYVQ1PNER4S4B</td>\n",
              "      <td>01DMBRYVA2ZFDYRYY5TRQZJTBD</td>\n",
              "      <td>shoe</td>\n",
              "      <td>Tory Burch</td>\n",
              "      <td>Penelope Mid Cap Toe Pump</td>\n",
              "    </tr>\n",
              "    <tr>\n",
              "      <th>10</th>\n",
              "      <td>10</td>\n",
              "      <td>01DMHRX35M2DPVYVQ1PNER4S4B</td>\n",
              "      <td>01DMHCNT41E14QWP503V7CT9G6</td>\n",
              "      <td>accessory</td>\n",
              "      <td>Nina</td>\n",
              "      <td>Crystal Clutch</td>\n",
              "    </tr>\n",
              "    <tr>\n",
              "      <th>11</th>\n",
              "      <td>11</td>\n",
              "      <td>01DMHRYZDTF2NBJ13ZEARKHA3T</td>\n",
              "      <td>01DMBRYVA2Q2ST7MNYR6EEY4TK</td>\n",
              "      <td>onepiece</td>\n",
              "      <td>Equipment</td>\n",
              "      <td>Chemelle Midi Dress</td>\n",
              "    </tr>\n",
              "    <tr>\n",
              "      <th>12</th>\n",
              "      <td>12</td>\n",
              "      <td>01DMHRYZDTF2NBJ13ZEARKHA3T</td>\n",
              "      <td>01DMBRYVA2S5T9W793F4CY41HE</td>\n",
              "      <td>accessory</td>\n",
              "      <td>kate spade new york</td>\n",
              "      <td>medium margaux leather satchel</td>\n",
              "    </tr>\n",
              "    <tr>\n",
              "      <th>13</th>\n",
              "      <td>13</td>\n",
              "      <td>01DMHRYZDTF2NBJ13ZEARKHA3T</td>\n",
              "      <td>01DMBRYVA2ZFDYRYY5TRQZJTBD</td>\n",
              "      <td>shoe</td>\n",
              "      <td>Tory Burch</td>\n",
              "      <td>Penelope Mid Cap Toe Pump</td>\n",
              "    </tr>\n",
              "    <tr>\n",
              "      <th>14</th>\n",
              "      <td>14</td>\n",
              "      <td>01DQ63P636Q4BQVCKT6Z4S41G5</td>\n",
              "      <td>01DPCRZWX4S2Z8Q5HYDFM4HNEG</td>\n",
              "      <td>shoe</td>\n",
              "      <td>J.Crew</td>\n",
              "      <td>Pointed-toe flats in suede</td>\n",
              "    </tr>\n",
              "    <tr>\n",
              "      <th>15</th>\n",
              "      <td>15</td>\n",
              "      <td>01DQ63P636Q4BQVCKT6Z4S41G5</td>\n",
              "      <td>01DPET2NWSA221STZF740BZ9SW</td>\n",
              "      <td>top</td>\n",
              "      <td>Veronica Beard</td>\n",
              "      <td>Ashlynn Blouse</td>\n",
              "    </tr>\n",
              "    <tr>\n",
              "      <th>16</th>\n",
              "      <td>16</td>\n",
              "      <td>01DQ63P636Q4BQVCKT6Z4S41G5</td>\n",
              "      <td>01DPKMGJ33SDFXM7XHGPQJWQ12</td>\n",
              "      <td>bottom</td>\n",
              "      <td>Reformation</td>\n",
              "      <td>Benson Skirt</td>\n",
              "    </tr>\n",
              "    <tr>\n",
              "      <th>17</th>\n",
              "      <td>17</td>\n",
              "      <td>01DQ86EH3GMXAVKNECH2Z6FCSV</td>\n",
              "      <td>01DPGTXH6QTM161M660N9W7C3S</td>\n",
              "      <td>shoe</td>\n",
              "      <td>J.Crew</td>\n",
              "      <td>Block-heel pumps in suede</td>\n",
              "    </tr>\n",
              "    <tr>\n",
              "      <th>18</th>\n",
              "      <td>18</td>\n",
              "      <td>01DQ86EH3GMXAVKNECH2Z6FCSV</td>\n",
              "      <td>01DPGWYTS97KK213K1QNJV6610</td>\n",
              "      <td>accessory</td>\n",
              "      <td>J.Crew</td>\n",
              "      <td>Bembien® Jeanne leather woven market tote bag</td>\n",
              "    </tr>\n",
              "    <tr>\n",
              "      <th>19</th>\n",
              "      <td>19</td>\n",
              "      <td>01DQ86EH3GMXAVKNECH2Z6FCSV</td>\n",
              "      <td>01DPKNJ6J1NQPQ1D3DBKWK5ARS</td>\n",
              "      <td>onepiece</td>\n",
              "      <td>Reformation</td>\n",
              "      <td>Rosamund Dress</td>\n",
              "    </tr>\n",
              "  </tbody>\n",
              "</table>\n",
              "</div>"
            ],
            "text/plain": [
              "    Unnamed: 0  ...                              product_full_name\n",
              "0            0  ...                                Slim Knit Skirt\n",
              "1            1  ...                             Rib Mock Neck Tank\n",
              "2            2  ...                 medium margaux leather satchel\n",
              "3            3  ...                      Penelope Mid Cap Toe Pump\n",
              "4            4  ...                                Slim Knit Skirt\n",
              "5            5  ...                             Rib Mock Neck Tank\n",
              "6            6  ...                      Penelope Mid Cap Toe Pump\n",
              "7            7  ...                                 Crystal Clutch\n",
              "8            8  ...                            Chemelle Midi Dress\n",
              "9            9  ...                      Penelope Mid Cap Toe Pump\n",
              "10          10  ...                                 Crystal Clutch\n",
              "11          11  ...                            Chemelle Midi Dress\n",
              "12          12  ...                 medium margaux leather satchel\n",
              "13          13  ...                      Penelope Mid Cap Toe Pump\n",
              "14          14  ...                     Pointed-toe flats in suede\n",
              "15          15  ...                                 Ashlynn Blouse\n",
              "16          16  ...                                   Benson Skirt\n",
              "17          17  ...                      Block-heel pumps in suede\n",
              "18          18  ...  Bembien® Jeanne leather woven market tote bag\n",
              "19          19  ...                                 Rosamund Dress\n",
              "\n",
              "[20 rows x 6 columns]"
            ]
          },
          "metadata": {
            "tags": []
          },
          "execution_count": 2
        }
      ]
    },
    {
      "cell_type": "code",
      "metadata": {
        "id": "QIaNGmaLatoJ",
        "colab_type": "code",
        "outputId": "e31fc936-b7f2-4e72-84a8-9f4bba46c825",
        "colab": {
          "base_uri": "https://localhost:8080/",
          "height": 34
        }
      },
      "source": [
        "# check for unique item types\n",
        "outfit_combination_df.outfit_item_type.unique()"
      ],
      "execution_count": 3,
      "outputs": [
        {
          "output_type": "execute_result",
          "data": {
            "text/plain": [
              "array(['bottom', 'top', 'accessory', 'shoe', 'onepiece'], dtype=object)"
            ]
          },
          "metadata": {
            "tags": []
          },
          "execution_count": 3
        }
      ]
    },
    {
      "cell_type": "code",
      "metadata": {
        "id": "plugR3LMatoL",
        "colab_type": "code",
        "outputId": "756b2d38-2f91-4b4e-8454-9e15d3a0daf6",
        "colab": {
          "base_uri": "https://localhost:8080/",
          "height": 34
        }
      },
      "source": [
        "# check for duplicated recommendations\n",
        "outfit_combination_df.duplicated().sum()"
      ],
      "execution_count": 4,
      "outputs": [
        {
          "output_type": "execute_result",
          "data": {
            "text/plain": [
              "0"
            ]
          },
          "metadata": {
            "tags": []
          },
          "execution_count": 4
        }
      ]
    },
    {
      "cell_type": "code",
      "metadata": {
        "id": "VjwBWG8batoP",
        "colab_type": "code",
        "colab": {}
      },
      "source": [
        "# create lookup tables/dicts\n",
        "item_lookup_tb = outfit_combination_df[['product_id', 'outfit_item_type', 'brand', 'product_full_name']].drop_duplicates()\n",
        "outfit_ids = {num:outfit_id for num, outfit_id in enumerate(outfit_combination_df.outfit_id.unique())}\n",
        "product_ids = {num:product_id for num, product_id in enumerate(outfit_combination_df.product_id.unique())}\n",
        "product_ids_num = {product_id:num for num, product_id in enumerate(outfit_combination_df.product_id.unique())}\n",
        "product_type_lookup = outfit_combination_df[['product_id', 'outfit_item_type']].drop_duplicates().set_index('product_id')['outfit_item_type']\n",
        "product_name_lookup = outfit_combination_df[['product_id', 'product_full_name']].drop_duplicates().set_index('product_id')['product_full_name'].to_dict()\n",
        "product_brand_lookup = outfit_combination_df[['product_id', 'brand']].drop_duplicates().set_index('product_id')['brand'].to_dict()"
      ],
      "execution_count": 0,
      "outputs": []
    },
    {
      "cell_type": "code",
      "metadata": {
        "id": "PWFtHgI3RdYU",
        "colab_type": "code",
        "colab": {}
      },
      "source": [
        "def factorize(outfit):\n",
        "    products = outfit_combination_df[outfit_combination_df.outfit_id == outfit.name].product_id\n",
        "    for product in products:\n",
        "        outfit.loc[product] = 1\n",
        "    return outfit"
      ],
      "execution_count": 0,
      "outputs": []
    },
    {
      "cell_type": "code",
      "metadata": {
        "id": "5oNGgOkZatoV",
        "colab_type": "code",
        "colab": {}
      },
      "source": [
        "# construct sparse matrix\n",
        "sparse_outfit_matrix = pd.DataFrame(\n",
        "    0,\n",
        "    columns=product_ids.values(),\n",
        "    index=outfit_ids.values()).apply(factorize,axis=1).T"
      ],
      "execution_count": 0,
      "outputs": []
    },
    {
      "cell_type": "code",
      "metadata": {
        "id": "_luncRgDatoX",
        "colab_type": "code",
        "outputId": "950bb07d-346f-4d3a-bc11-8a21a40e8d81",
        "colab": {
          "base_uri": "https://localhost:8080/",
          "height": 34
        }
      },
      "source": [
        "#sanity check\n",
        "sparse_outfit_matrix.loc['01DMBRYVA2P5H24WK0HTK4R0A1','01DMHCX50CFX5YNG99F3Y65GQW']"
      ],
      "execution_count": 8,
      "outputs": [
        {
          "output_type": "execute_result",
          "data": {
            "text/plain": [
              "1"
            ]
          },
          "metadata": {
            "tags": []
          },
          "execution_count": 8
        }
      ]
    },
    {
      "cell_type": "code",
      "metadata": {
        "id": "CKqpu4WGeOlM",
        "colab_type": "code",
        "outputId": "26f06389-c0b3-483c-9e6a-86476c429dc2",
        "colab": {
          "base_uri": "https://localhost:8080/",
          "height": 34
        }
      },
      "source": [
        "# check for sparsity\n",
        "print('Sparsity: {:4.3f}%'.format(float(sparse_outfit_matrix.shape[0])/float(len(outfit_ids)*len(product_ids))*100))"
      ],
      "execution_count": 9,
      "outputs": [
        {
          "output_type": "stream",
          "text": [
            "Sparsity: 0.088%\n"
          ],
          "name": "stdout"
        }
      ]
    },
    {
      "cell_type": "markdown",
      "metadata": {
        "id": "idZ6W7cUhQQq",
        "colab_type": "text"
      },
      "source": [
        "# Classic Factorization Models"
      ]
    },
    {
      "cell_type": "code",
      "metadata": {
        "id": "rdxPgp2BatoZ",
        "colab_type": "code",
        "colab": {}
      },
      "source": [
        "# def create_SVD_dfs(df, n_components=50):\n",
        "#     U, sig, V = randomized_svd(np.array(df), n_components=n_components)\n",
        "#     U_df = pd.DataFrame(U, index=df.index)\n",
        "#     V_df = pd.DataFrame(V, columns=df.columns)\n",
        "#     return U_df, sig, V_df.T\n",
        "# outfits_df, sig, products_df = create_SVD_dfs(sparse_outfit_matrix)"
      ],
      "execution_count": 0,
      "outputs": []
    },
    {
      "cell_type": "code",
      "metadata": {
        "id": "_p1_2boQ5K_s",
        "colab_type": "code",
        "colab": {}
      },
      "source": [
        "# recommend for items given 1 product id\n",
        "def recommend_products(recommended_products, recommendations, outfits):\n",
        "  for rec in recommendations:\n",
        "    onepiece, bottom_top = True, True\n",
        "    if 'bottom' in recommended_products or 'top' in recommended_products:\n",
        "      onepiece = False\n",
        "    if 'onepiece' in recommended_products:\n",
        "      bottom_top = False\n",
        "    if (len(recommended_products) == 3 and onepiece) | \\\n",
        "        (len(recommended_products) == 4 and bottom_top):\n",
        "      return recommended_products\n",
        "    if product_type_lookup.loc[product_ids[rec[0]]] in recommended_products:\n",
        "      continue\n",
        "    if (product_type_lookup.loc[product_ids[rec[0]]] in ['bottom', 'top'] and not bottom_top) | \\\n",
        "        (product_type_lookup.loc[product_ids[rec[0]]] == 'onepiece' and not onepiece):\n",
        "      continue\n",
        "    recommended_products[product_type_lookup.loc[product_ids[rec[0]]]] = product_ids[rec[0]]"
      ],
      "execution_count": 0,
      "outputs": []
    },
    {
      "cell_type": "code",
      "metadata": {
        "id": "1cgp6zm07b65",
        "colab_type": "code",
        "colab": {}
      },
      "source": [
        "def beautify_output(recommended_output):\n",
        "  recommended_out_df = pd.DataFrame(\n",
        "      [[product_brand_lookup[item_id], product_name_lookup[item_id]] for item_id in recommended_output.values()], \n",
        "      index=recommended_output.keys(),\n",
        "      columns=['Brand','Item'])\n",
        "  return recommended_out_df"
      ],
      "execution_count": 0,
      "outputs": []
    },
    {
      "cell_type": "code",
      "metadata": {
        "id": "joksuT5kz74s",
        "colab_type": "code",
        "outputId": "76d8ec33-1b47-4270-9b17-6fac3b93760f",
        "colab": {
          "base_uri": "https://localhost:8080/",
          "height": 34
        }
      },
      "source": [
        "# single id recommender. default model is ALS\n",
        "def outfit_recommender(\n",
        "    sparse_outfit_matrix, \n",
        "    item_id, \n",
        "    model=implicit.als.AlternatingLeastSquares(factors=50, regularization=0.1, iterations=50, use_gpu=False),\n",
        "    verbose=True,\n",
        "    N=100):\n",
        "  sparse_outfit_matrix = sparse.csr_matrix(sparse_outfit_matrix)\n",
        "  model.fit(sparse_outfit_matrix)\n",
        "  recommendations = model.similar_items(product_ids_num[item_id], N=N)\n",
        "  input_type = product_type_lookup.loc[item_id]\n",
        "  outfits = product_type_lookup.unique().tolist()\n",
        "  recommended_products = {input_type:item_id}\n",
        "  recommended_output = recommend_products(recommended_products, recommendations, outfits)\n",
        "  if verbose:\n",
        "    print('---Based on your query, we recommend the following outfit---')\n",
        "  return beautify_output(recommended_output)"
      ],
      "execution_count": 13,
      "outputs": [
        {
          "output_type": "stream",
          "text": [
            "WARNING:root:OpenBLAS detected. Its highly recommend to set the environment variable 'export OPENBLAS_NUM_THREADS=1' to disable its internal multithreading\n"
          ],
          "name": "stderr"
        }
      ]
    },
    {
      "cell_type": "code",
      "metadata": {
        "id": "gAShTapnb7a2",
        "colab_type": "code",
        "colab": {}
      },
      "source": [
        "# different recommendation models from implicit package\n",
        "ALS = implicit.als.AlternatingLeastSquares(factors=50, iterations=50, use_gpu=False)\n",
        "baysian_ranking = implicit.bpr.BayesianPersonalizedRanking(factors=50, iterations=50, use_gpu=False)\n",
        "logisticMF = implicit.lmf.LogisticMatrixFactorization(factors=50, iterations=50, use_gpu=False)\n",
        "models = [ALS, baysian_ranking, logisticMF]"
      ],
      "execution_count": 0,
      "outputs": []
    },
    {
      "cell_type": "code",
      "metadata": {
        "id": "C5rB9_XUdVrS",
        "colab_type": "code",
        "colab": {}
      },
      "source": [
        "# recommend multiple outfits given the same 1 unique item id\n",
        "def multiple_outfits(models, item_id):\n",
        "  outfits = []\n",
        "  for model in models:\n",
        "    outfit = outfit_recommender(sparse_outfit_matrix, item_id, model, verbose=False)\n",
        "    outfits.append(outfit)\n",
        "  output_outfits = [pd.DataFrame(), pd.DataFrame()]\n",
        "  for outfit in outfits:\n",
        "    if outfit.sort_values('Item').equals(output_outfits[-1]) | outfit.sort_values('Item').equals(output_outfits[-2]):\n",
        "      continue\n",
        "    output_outfits.append(outfit.sort_values('Item'))\n",
        "  return output_outfits[2:]"
      ],
      "execution_count": 0,
      "outputs": []
    },
    {
      "cell_type": "code",
      "metadata": {
        "id": "TpjtuMHHJWNk",
        "colab_type": "code",
        "colab": {}
      },
      "source": [
        "# dynamic user prompts product_id_recommender with built in id spell correction and prompt user for multiple for single recommendation\n",
        "def product_id_recommender(input_id=None,called=False):\n",
        "  \"\"\"\n",
        "  Please input the correct Product ID and the system will recommend outfit(s) based on your query\n",
        "  \"\"\"\n",
        "  import getpass\n",
        "  sparse_outfit_matrix = pd.DataFrame(\n",
        "    0,\n",
        "    columns=product_ids.values(),\n",
        "    index=outfit_ids.values()).apply(factorize,axis=1).T\n",
        "  swapped = True\n",
        "  if not called:\n",
        "    input_id = str(getpass.getpass('Please enter your product ID to get a recommended fit from us'))\n",
        "  if input_id not in product_ids_num:\n",
        "    swapped = False\n",
        "    suggested_ids = pd.Series(list(product_ids_num.keys()),index=product_ids_num.keys()).\\\n",
        "          apply(lambda idx: fuzz.ratio(idx.lower(),input_id.lower())).\\\n",
        "          sort_values(ascending=False)\n",
        "    for i in range(3):\n",
        "      switch_id = str(getpass.getpass(f'Did you mean {suggested_ids.index[i]}?\\nY/N'))\n",
        "      if switch_id.lower() == 'y':\n",
        "        input_id = suggested_ids.index[i]\n",
        "        swapped = True\n",
        "        break\n",
        "  if not swapped:\n",
        "    return 'Could not find the item you were looking for'\n",
        "  \n",
        "  multiple_fits = str(getpass.getpass('Do you want multiple outfits?\\nY/N'))\n",
        "  if multiple_fits.lower() == 'y':\n",
        "    multiple_outs = multiple_outfits(models, input_id)\n",
        "    for outfit in multiple_outs:\n",
        "      print(outfit)\n",
        "      print('############################################################################')\n",
        "    return multiple_outs\n",
        "  final_outfit = outfit_recommender(sparse_outfit_matrix, input_id)\n",
        "  print(final_outfit)\n",
        "  return final_outfit"
      ],
      "execution_count": 0,
      "outputs": []
    },
    {
      "cell_type": "code",
      "metadata": {
        "id": "JaGoRNjOEGPj",
        "colab_type": "code",
        "outputId": "2c2c5902-23b6-4beb-f4e2-fa30133cbfea",
        "colab": {
          "base_uri": "https://localhost:8080/",
          "height": 208,
          "referenced_widgets": [
            "44a390af95df48b7a23c4f8bd8f8698b",
            "7c083eca5af2466ba473a61cf3403f15",
            "ac3e909df9ff4862b09de3af65c94b7c",
            "bdb19aa443214b5493082768124c674a",
            "541d71a9ce86444ea598a4dd28e51b9b",
            "f61ab17b29b848ad806cb483dc8edba6",
            "28de599e0f5843f4a4da7571e45e660e",
            "bc749170111e46abb346521001372f63"
          ]
        }
      },
      "source": [
        "outfit_recommender(sparse_outfit_matrix, '01DPCWEJRBVWZE397FMF9QXBBY')"
      ],
      "execution_count": 17,
      "outputs": [
        {
          "output_type": "display_data",
          "data": {
            "application/vnd.jupyter.widget-view+json": {
              "model_id": "44a390af95df48b7a23c4f8bd8f8698b",
              "version_minor": 0,
              "version_major": 2
            },
            "text/plain": [
              "HBox(children=(FloatProgress(value=0.0, max=50.0), HTML(value='')))"
            ]
          },
          "metadata": {
            "tags": []
          }
        },
        {
          "output_type": "stream",
          "text": [
            "\n",
            "---Based on your query, we recommend the following outfit---\n"
          ],
          "name": "stdout"
        },
        {
          "output_type": "execute_result",
          "data": {
            "text/html": [
              "<div>\n",
              "<style scoped>\n",
              "    .dataframe tbody tr th:only-of-type {\n",
              "        vertical-align: middle;\n",
              "    }\n",
              "\n",
              "    .dataframe tbody tr th {\n",
              "        vertical-align: top;\n",
              "    }\n",
              "\n",
              "    .dataframe thead th {\n",
              "        text-align: right;\n",
              "    }\n",
              "</style>\n",
              "<table border=\"1\" class=\"dataframe\">\n",
              "  <thead>\n",
              "    <tr style=\"text-align: right;\">\n",
              "      <th></th>\n",
              "      <th>Brand</th>\n",
              "      <th>Item</th>\n",
              "    </tr>\n",
              "  </thead>\n",
              "  <tbody>\n",
              "    <tr>\n",
              "      <th>onepiece</th>\n",
              "      <td>J.Crew</td>\n",
              "      <td>Gingham button-front midi dress with ruffle he...</td>\n",
              "    </tr>\n",
              "    <tr>\n",
              "      <th>accessory</th>\n",
              "      <td>Veronica Beard</td>\n",
              "      <td>Theron Jacket</td>\n",
              "    </tr>\n",
              "    <tr>\n",
              "      <th>shoe</th>\n",
              "      <td>MANOLO BLAHNIK</td>\n",
              "      <td>Kalita Strappy Slide Sandal</td>\n",
              "    </tr>\n",
              "  </tbody>\n",
              "</table>\n",
              "</div>"
            ],
            "text/plain": [
              "                    Brand                                               Item\n",
              "onepiece           J.Crew  Gingham button-front midi dress with ruffle he...\n",
              "accessory  Veronica Beard                                      Theron Jacket\n",
              "shoe       MANOLO BLAHNIK                        Kalita Strappy Slide Sandal"
            ]
          },
          "metadata": {
            "tags": []
          },
          "execution_count": 17
        }
      ]
    },
    {
      "cell_type": "markdown",
      "metadata": {
        "id": "olDU3YX9JOmR",
        "colab_type": "text"
      },
      "source": [
        "# Neural CF"
      ]
    },
    {
      "cell_type": "code",
      "metadata": {
        "id": "xgNwRVbnJQVE",
        "colab_type": "code",
        "outputId": "4c1b9124-7f6a-4e84-9718-6d764c25cc40",
        "colab": {
          "base_uri": "https://localhost:8080/",
          "height": 238
        }
      },
      "source": [
        "!pip install git+https://github.com/maciejkula/spotlight.git\n",
        "from spotlight.interactions import Interactions\n",
        "from spotlight.factorization.implicit import ImplicitFactorizationModel\n",
        "from spotlight.cross_validation import random_train_test_split\n",
        "from spotlight.evaluation import rmse_score, mrr_score, precision_recall_score\n",
        "from spotlight.factorization.representations import BilinearNet\n",
        "from spotlight.layers import BloomEmbedding, ScaledEmbedding"
      ],
      "execution_count": 18,
      "outputs": [
        {
          "output_type": "stream",
          "text": [
            "Collecting git+https://github.com/maciejkula/spotlight.git\n",
            "  Cloning https://github.com/maciejkula/spotlight.git to /tmp/pip-req-build-46mquyez\n",
            "  Running command git clone -q https://github.com/maciejkula/spotlight.git /tmp/pip-req-build-46mquyez\n",
            "Requirement already satisfied: torch>=0.4.0 in /usr/local/lib/python3.6/dist-packages (from spotlight==0.1.6) (1.5.0+cu101)\n",
            "Requirement already satisfied: numpy in /usr/local/lib/python3.6/dist-packages (from torch>=0.4.0->spotlight==0.1.6) (1.18.4)\n",
            "Requirement already satisfied: future in /usr/local/lib/python3.6/dist-packages (from torch>=0.4.0->spotlight==0.1.6) (0.16.0)\n",
            "Building wheels for collected packages: spotlight\n",
            "  Building wheel for spotlight (setup.py) ... \u001b[?25l\u001b[?25hdone\n",
            "  Created wheel for spotlight: filename=spotlight-0.1.6-cp36-none-any.whl size=33920 sha256=c11d85b525a242cc00c913d9cc9e3fd54f158b1f43aa085c1023e7abb613983a\n",
            "  Stored in directory: /tmp/pip-ephem-wheel-cache-6ay7ct93/wheels/0a/33/c8/e8510ea648aaacf6031e128dfa92bcd3750f02db2aaf0922fe\n",
            "Successfully built spotlight\n",
            "Installing collected packages: spotlight\n",
            "Successfully installed spotlight-0.1.6\n"
          ],
          "name": "stdout"
        }
      ]
    },
    {
      "cell_type": "markdown",
      "metadata": {
        "id": "r9dzgMvFU-k-",
        "colab_type": "text"
      },
      "source": [
        "Testing implicit model"
      ]
    },
    {
      "cell_type": "code",
      "metadata": {
        "id": "xhMJZmvfT3a5",
        "colab_type": "code",
        "colab": {}
      },
      "source": [
        "# look up tables\n",
        "product_ids_num = {product_id:num for num, product_id in enumerate(outfit_combination_df.product_id.unique())}\n",
        "outfit_ids_num = {outfit_id:num for num, outfit_id in enumerate(outfit_combination_df.outfit_id.unique())}\n",
        "outfit_num = outfit_combination_df.outfit_id.map(outfit_ids_num)\n",
        "product_num = outfit_combination_df.product_id.map(product_ids_num)"
      ],
      "execution_count": 0,
      "outputs": []
    },
    {
      "cell_type": "code",
      "metadata": {
        "id": "ocU1VMquJQRC",
        "colab_type": "code",
        "colab": {}
      },
      "source": [
        "# dataset prep and train test split\n",
        "implicit_interactions = Interactions(np.array(outfit_num),np.array(product_num))\n",
        "train, validation = random_train_test_split(implicit_interactions,test_percentage=0.1)\n",
        "validation, test = random_train_test_split(validation,test_percentage=0.5)"
      ],
      "execution_count": 0,
      "outputs": []
    },
    {
      "cell_type": "code",
      "metadata": {
        "id": "TsOqMHbhX4LU",
        "colab_type": "code",
        "outputId": "17337313-711a-4dcc-85dd-f52a23316b4e",
        "colab": {
          "base_uri": "https://localhost:8080/",
          "height": 34
        }
      },
      "source": [
        "# testing out performance of classic factorization model\n",
        "implicit_factorization_model = ImplicitFactorizationModel()\n",
        "implicit_factorization_model.fit(train)\n",
        "mrr_score(implicit_factorization_model,test).mean()"
      ],
      "execution_count": 21,
      "outputs": [
        {
          "output_type": "execute_result",
          "data": {
            "text/plain": [
              "0.2384876377506978"
            ]
          },
          "metadata": {
            "tags": []
          },
          "execution_count": 21
        }
      ]
    },
    {
      "cell_type": "markdown",
      "metadata": {
        "id": "xPkgYImfYBJJ",
        "colab_type": "text"
      },
      "source": [
        "Neural CF"
      ]
    },
    {
      "cell_type": "code",
      "metadata": {
        "id": "HmwXMpBfX_WV",
        "colab_type": "code",
        "colab": {}
      },
      "source": [
        "#Cred to https://github.com/maciejkula/spotlight/blob/master/examples/bloom_embeddings/example.py"
      ],
      "execution_count": 0,
      "outputs": []
    },
    {
      "cell_type": "code",
      "metadata": {
        "id": "jlY8kmvvX_TN",
        "colab_type": "code",
        "colab": {}
      },
      "source": [
        "# neural cf model\n",
        "def get_neural_model(train):\n",
        "\n",
        "    item_embeddings = BloomEmbedding(train.num_items, 100,\n",
        "                    compression_ratio=1,\n",
        "                    num_hash_functions=4,\n",
        "                    padding_idx=0)\n",
        "    user_embeddings = BloomEmbedding(train.num_users, 100,\n",
        "                    compression_ratio=1,\n",
        "                    num_hash_functions=4,\n",
        "                    padding_idx=0)\n",
        "\n",
        "    network = BilinearNet(train.num_users,\n",
        "                train.num_items,\n",
        "                user_embedding_layer=user_embeddings,\n",
        "                item_embedding_layer=item_embeddings)\n",
        "\n",
        "    model = ImplicitFactorizationModel(n_iter=10,\n",
        "                      l2=0,\n",
        "                      representation=network)\n",
        "\n",
        "    return model"
      ],
      "execution_count": 0,
      "outputs": []
    },
    {
      "cell_type": "code",
      "metadata": {
        "id": "YqM-oZnLX_PT",
        "colab_type": "code",
        "colab": {}
      },
      "source": [
        "# evaluate recommendation models\n",
        "def evaluate_model(model, train, test, validation):\n",
        "    model.fit(train, verbose=True)\n",
        "\n",
        "    test_mrr = mrr_score(model, test)\n",
        "    val_mrr = mrr_score(model, test.tocsr() + validation.tocsr())\n",
        "\n",
        "    return test_mrr, val_mrr"
      ],
      "execution_count": 0,
      "outputs": []
    },
    {
      "cell_type": "code",
      "metadata": {
        "id": "yW4uCgdPX_Mr",
        "colab_type": "code",
        "outputId": "dccc780c-814c-461c-85dc-07e812d72435",
        "colab": {
          "base_uri": "https://localhost:8080/",
          "height": 187
        }
      },
      "source": [
        "# training and testing neural model\n",
        "neural_model = get_neural_model(train)\n",
        "neural_test_mrr, neural_val_mrr = evaluate_model(neural_model, train, test, validation) "
      ],
      "execution_count": 25,
      "outputs": [
        {
          "output_type": "stream",
          "text": [
            "Epoch 0: loss 0.9849692143891987\n",
            "Epoch 1: loss 0.7173971972967449\n",
            "Epoch 2: loss 0.40512082764976903\n",
            "Epoch 3: loss 0.21935483734858663\n",
            "Epoch 4: loss 0.13076911788237722\n",
            "Epoch 5: loss 0.08908096896974664\n",
            "Epoch 6: loss 0.07525593865858882\n",
            "Epoch 7: loss 0.059878584193555934\n",
            "Epoch 8: loss 0.05272255563422253\n",
            "Epoch 9: loss 0.04478968797545684\n"
          ],
          "name": "stdout"
        }
      ]
    },
    {
      "cell_type": "code",
      "metadata": {
        "id": "TFA6u6xMX_CO",
        "colab_type": "code",
        "outputId": "88b4cd25-0a82-4357-f975-3c44e49ab9e8",
        "colab": {
          "base_uri": "https://localhost:8080/",
          "height": 187
        }
      },
      "source": [
        "# testing factorization model\n",
        "factorization_test_mrr, factorization_mrr = evaluate_model(implicit_factorization_model, train, test, validation)"
      ],
      "execution_count": 26,
      "outputs": [
        {
          "output_type": "stream",
          "text": [
            "Epoch 0: loss 0.26513716029493434\n",
            "Epoch 1: loss 0.23739634218968844\n",
            "Epoch 2: loss 0.22579862098944814\n",
            "Epoch 3: loss 0.1996096505930549\n",
            "Epoch 4: loss 0.18474272364064268\n",
            "Epoch 5: loss 0.1729472601100018\n",
            "Epoch 6: loss 0.15915112667962125\n",
            "Epoch 7: loss 0.14706619397590034\n",
            "Epoch 8: loss 0.1338037581820237\n",
            "Epoch 9: loss 0.12567073773396642\n"
          ],
          "name": "stdout"
        }
      ]
    },
    {
      "cell_type": "code",
      "metadata": {
        "id": "2hu_8c0ZdzeY",
        "colab_type": "code",
        "outputId": "c5e831d5-f63f-41ec-86d2-898474774059",
        "colab": {
          "base_uri": "https://localhost:8080/",
          "height": 51
        }
      },
      "source": [
        "print(f'The MRR for the neural CF is {neural_test_mrr.mean()}')\n",
        "print(f'The MRR for the classic CF is {factorization_mrr.mean()}')"
      ],
      "execution_count": 27,
      "outputs": [
        {
          "output_type": "stream",
          "text": [
            "The MRR for the neural CF is 0.08933238450346542\n",
            "The MRR for the classic CF is 0.24873351182396486\n"
          ],
          "name": "stdout"
        }
      ]
    },
    {
      "cell_type": "markdown",
      "metadata": {
        "id": "DU1OVKoUfvLk",
        "colab_type": "text"
      },
      "source": [
        "***Neural Models did not outperform classical factorization models, probably because the number of observations is too few***"
      ]
    },
    {
      "cell_type": "markdown",
      "metadata": {
        "id": "Q_v3V98mh6J5",
        "colab_type": "text"
      },
      "source": [
        "Since neural CF method did not perform well, we will stick with the classical approaches."
      ]
    },
    {
      "cell_type": "markdown",
      "metadata": {
        "id": "OPzba4z0hBo3",
        "colab_type": "text"
      },
      "source": [
        "# Run for recommendations"
      ]
    },
    {
      "cell_type": "markdown",
      "metadata": {
        "id": "H_I3pnnoiBb3",
        "colab_type": "text"
      },
      "source": [
        "Single ID Recommendation"
      ]
    },
    {
      "cell_type": "code",
      "metadata": {
        "id": "rKcBkm3pexHW",
        "colab_type": "code",
        "outputId": "83940b7b-4368-4c3a-decb-65c2f222444c",
        "colab": {
          "base_uri": "https://localhost:8080/",
          "height": 208,
          "referenced_widgets": [
            "3d90141c0f024bd09b363396ec73f36e",
            "53aa89b0050946438f06e97804feacf4",
            "9e61bc8c8e5646bdbfbc76ba46403893",
            "1bf96da0cc524381957e5c10ced8572b",
            "e6aa748821b54865b1a4b71bda20edef",
            "0aa1e38c7b864f9db1c2896a668f94a9",
            "a63ebcbb9f6f4cf3ad666c69a572e4ee",
            "878f6690032a4dccbc77df407cbedf85"
          ]
        }
      },
      "source": [
        "outfit_recommender(sparse_outfit_matrix, '01DMBRYVA2S5T9W793F4CY41HE')"
      ],
      "execution_count": 28,
      "outputs": [
        {
          "output_type": "display_data",
          "data": {
            "application/vnd.jupyter.widget-view+json": {
              "model_id": "3d90141c0f024bd09b363396ec73f36e",
              "version_minor": 0,
              "version_major": 2
            },
            "text/plain": [
              "HBox(children=(FloatProgress(value=0.0, max=50.0), HTML(value='')))"
            ]
          },
          "metadata": {
            "tags": []
          }
        },
        {
          "output_type": "stream",
          "text": [
            "\n",
            "---Based on your query, we recommend the following outfit---\n"
          ],
          "name": "stdout"
        },
        {
          "output_type": "execute_result",
          "data": {
            "text/html": [
              "<div>\n",
              "<style scoped>\n",
              "    .dataframe tbody tr th:only-of-type {\n",
              "        vertical-align: middle;\n",
              "    }\n",
              "\n",
              "    .dataframe tbody tr th {\n",
              "        vertical-align: top;\n",
              "    }\n",
              "\n",
              "    .dataframe thead th {\n",
              "        text-align: right;\n",
              "    }\n",
              "</style>\n",
              "<table border=\"1\" class=\"dataframe\">\n",
              "  <thead>\n",
              "    <tr style=\"text-align: right;\">\n",
              "      <th></th>\n",
              "      <th>Brand</th>\n",
              "      <th>Item</th>\n",
              "    </tr>\n",
              "  </thead>\n",
              "  <tbody>\n",
              "    <tr>\n",
              "      <th>accessory</th>\n",
              "      <td>kate spade new york</td>\n",
              "      <td>medium margaux leather satchel</td>\n",
              "    </tr>\n",
              "    <tr>\n",
              "      <th>onepiece</th>\n",
              "      <td>Equipment</td>\n",
              "      <td>Chemelle Midi Dress</td>\n",
              "    </tr>\n",
              "    <tr>\n",
              "      <th>shoe</th>\n",
              "      <td>Tory Burch</td>\n",
              "      <td>Penelope Mid Cap Toe Pump</td>\n",
              "    </tr>\n",
              "  </tbody>\n",
              "</table>\n",
              "</div>"
            ],
            "text/plain": [
              "                         Brand                            Item\n",
              "accessory  kate spade new york  medium margaux leather satchel\n",
              "onepiece             Equipment             Chemelle Midi Dress\n",
              "shoe                Tory Burch       Penelope Mid Cap Toe Pump"
            ]
          },
          "metadata": {
            "tags": []
          },
          "execution_count": 28
        }
      ]
    },
    {
      "cell_type": "code",
      "metadata": {
        "id": "w_13ufokqx-C",
        "colab_type": "code",
        "outputId": "e63ecd4c-4af4-4516-aff4-dcce3872cd4d",
        "colab": {
          "base_uri": "https://localhost:8080/",
          "height": 239,
          "referenced_widgets": [
            "7ab0e467b5ae4bdba57b0c1f85fee2bc",
            "e8861f39c81a4eddba742a8e1574ec69",
            "139f2c0937164eb189d683941bf1d08e",
            "328bfc408af64765b5f1366093a5cc73",
            "0e88f628d41e4e5692e8d44a90c0d929",
            "d3a52e2116ab4a148c4a834b4ea6d26c",
            "6ad269e894ed4dc0a7b2b4ae85497eb0",
            "00fc3b7a68694d97921674316338f61e"
          ]
        }
      },
      "source": [
        "outfit_recommender(sparse_outfit_matrix, product_ids[8], logisticMF)"
      ],
      "execution_count": 29,
      "outputs": [
        {
          "output_type": "display_data",
          "data": {
            "application/vnd.jupyter.widget-view+json": {
              "model_id": "7ab0e467b5ae4bdba57b0c1f85fee2bc",
              "version_minor": 0,
              "version_major": 2
            },
            "text/plain": [
              "HBox(children=(FloatProgress(value=0.0, max=50.0), HTML(value='')))"
            ]
          },
          "metadata": {
            "tags": []
          }
        },
        {
          "output_type": "stream",
          "text": [
            "\n",
            "---Based on your query, we recommend the following outfit---\n"
          ],
          "name": "stdout"
        },
        {
          "output_type": "execute_result",
          "data": {
            "text/html": [
              "<div>\n",
              "<style scoped>\n",
              "    .dataframe tbody tr th:only-of-type {\n",
              "        vertical-align: middle;\n",
              "    }\n",
              "\n",
              "    .dataframe tbody tr th {\n",
              "        vertical-align: top;\n",
              "    }\n",
              "\n",
              "    .dataframe thead th {\n",
              "        text-align: right;\n",
              "    }\n",
              "</style>\n",
              "<table border=\"1\" class=\"dataframe\">\n",
              "  <thead>\n",
              "    <tr style=\"text-align: right;\">\n",
              "      <th></th>\n",
              "      <th>Brand</th>\n",
              "      <th>Item</th>\n",
              "    </tr>\n",
              "  </thead>\n",
              "  <tbody>\n",
              "    <tr>\n",
              "      <th>bottom</th>\n",
              "      <td>Reformation</td>\n",
              "      <td>Benson Skirt</td>\n",
              "    </tr>\n",
              "    <tr>\n",
              "      <th>top</th>\n",
              "      <td>Veronica Beard</td>\n",
              "      <td>Ashlynn Blouse</td>\n",
              "    </tr>\n",
              "    <tr>\n",
              "      <th>shoe</th>\n",
              "      <td>J.Crew</td>\n",
              "      <td>Pointed-toe flats in suede</td>\n",
              "    </tr>\n",
              "    <tr>\n",
              "      <th>accessory</th>\n",
              "      <td>Veronica Beard</td>\n",
              "      <td>Theron Jacket</td>\n",
              "    </tr>\n",
              "  </tbody>\n",
              "</table>\n",
              "</div>"
            ],
            "text/plain": [
              "                    Brand                        Item\n",
              "bottom        Reformation                Benson Skirt\n",
              "top        Veronica Beard              Ashlynn Blouse\n",
              "shoe               J.Crew  Pointed-toe flats in suede\n",
              "accessory  Veronica Beard               Theron Jacket"
            ]
          },
          "metadata": {
            "tags": []
          },
          "execution_count": 29
        }
      ]
    },
    {
      "cell_type": "markdown",
      "metadata": {
        "id": "EXwYBYRRiEfv",
        "colab_type": "text"
      },
      "source": [
        "Multiple outfits recommendation Demonstration"
      ]
    },
    {
      "cell_type": "code",
      "metadata": {
        "id": "pYfyfAhFdGmo",
        "colab_type": "code",
        "outputId": "b8adc4dc-eb98-4ba9-b4b0-bc57d0073519",
        "colab": {
          "base_uri": "https://localhost:8080/",
          "height": 453,
          "referenced_widgets": [
            "2c3317bcab8842f68b141c3ee7634808",
            "b211f2758e1b4ad3815ec5b3891cc2f1",
            "41e935060e324610a623f01ada5d2d99",
            "f7e03f2649d04bd3956db741530a260c",
            "26b7368b162b4a60939221c9bc76f52e",
            "503b28c47ee148c5a0b6ef3fc8df2b46",
            "c7ad8d9c6e3b49c68cbc22db87074d27",
            "49acc809afc64f64852c8c2a34546640",
            "3a0367bfece941dca06aa11b74929508",
            "c0ea43af8a6f4dc2bae2919a1d20d8bf",
            "00a2bf48208844c1bc7032947a9f2074",
            "0d6efcc07e514ec1b226a06852f95305",
            "a671068e0f8d42698e1512bdad6458be",
            "7604aa70e66741b1b64010b7a20c7dc2",
            "c17b8a0d418d4dd29e3bac08727dcf53",
            "9a823e32dd0a4ac2995b257a0c44ffea",
            "bdc0476e252d4a26a2d5b41ccc73b381",
            "d14c4e6b6e3742be96e29194314a2035",
            "d5f2dd74602b4f1d821d0b85e216a3ca",
            "93f25b1cc347472c8123ac7b9193c11d",
            "f550d349eb9340eaa94198754d41fac6",
            "9c965652fb9c47ba839a7ddf61e2ae5c",
            "61e0431f2dd64d91a3a0394ae0246257",
            "eb7f0b910092430da97bd6be18be7a99"
          ]
        }
      },
      "source": [
        "multiple_outs = multiple_outfits(models, '01DMBRYVA2S5T9W793F4CY41HE')\n",
        "for outfit in multiple_outs:\n",
        "  print(outfit)\n",
        "  print('############################################################################')"
      ],
      "execution_count": 30,
      "outputs": [
        {
          "output_type": "display_data",
          "data": {
            "application/vnd.jupyter.widget-view+json": {
              "model_id": "2c3317bcab8842f68b141c3ee7634808",
              "version_minor": 0,
              "version_major": 2
            },
            "text/plain": [
              "HBox(children=(FloatProgress(value=0.0, max=50.0), HTML(value='')))"
            ]
          },
          "metadata": {
            "tags": []
          }
        },
        {
          "output_type": "stream",
          "text": [
            "\n"
          ],
          "name": "stdout"
        },
        {
          "output_type": "display_data",
          "data": {
            "application/vnd.jupyter.widget-view+json": {
              "model_id": "3a0367bfece941dca06aa11b74929508",
              "version_minor": 0,
              "version_major": 2
            },
            "text/plain": [
              "HBox(children=(FloatProgress(value=0.0, max=50.0), HTML(value='')))"
            ]
          },
          "metadata": {
            "tags": []
          }
        },
        {
          "output_type": "stream",
          "text": [
            "\n"
          ],
          "name": "stdout"
        },
        {
          "output_type": "display_data",
          "data": {
            "application/vnd.jupyter.widget-view+json": {
              "model_id": "bdc0476e252d4a26a2d5b41ccc73b381",
              "version_minor": 0,
              "version_major": 2
            },
            "text/plain": [
              "HBox(children=(FloatProgress(value=0.0, max=50.0), HTML(value='')))"
            ]
          },
          "metadata": {
            "tags": []
          }
        },
        {
          "output_type": "stream",
          "text": [
            "\n",
            "                         Brand                            Item\n",
            "shoe                Tory Burch       Penelope Mid Cap Toe Pump\n",
            "top              Eileen Fisher              Rib Mock Neck Tank\n",
            "bottom           Eileen Fisher                 Slim Knit Skirt\n",
            "accessory  kate spade new york  medium margaux leather satchel\n",
            "############################################################################\n",
            "                         Brand                                               Item\n",
            "bottom                 Matteau                        Gathered Linen Cotton Skirt\n",
            "top                    Bassike                 Oversized cotton-fleece sweatshirt\n",
            "shoe                    J.Crew  Sea Star Beachwear® Beachcomber espadrille wat...\n",
            "accessory  kate spade new york                     medium margaux leather satchel\n",
            "############################################################################\n",
            "                         Brand                            Item\n",
            "onepiece             Equipment             Chemelle Midi Dress\n",
            "shoe                Tory Burch       Penelope Mid Cap Toe Pump\n",
            "accessory  kate spade new york  medium margaux leather satchel\n",
            "############################################################################\n"
          ],
          "name": "stdout"
        }
      ]
    },
    {
      "cell_type": "markdown",
      "metadata": {
        "id": "nX5VDUl6iH36",
        "colab_type": "text"
      },
      "source": [
        "Dynamic input system with product ID spell check Demonstration"
      ]
    },
    {
      "cell_type": "code",
      "metadata": {
        "id": "NRzcBf_nOhC4",
        "colab_type": "code",
        "outputId": "2fe2b49d-0fc2-4081-d52a-278c7917fed9",
        "colab": {
          "base_uri": "https://localhost:8080/",
          "height": 202,
          "referenced_widgets": [
            "ce5ec98a4a4e40e8acd5ba8326d07e4b",
            "aba455dc0d2043499adedd26a73faf43",
            "6b8f9452d03b4fa5a1d9e84ecf466f2a",
            "271c333338fb41359c598b8d87b71dbb",
            "a54edf5c3c13489798045439da993532",
            "c01f7b45f56b4165909377aa08f02140",
            "b06ca5e16cec4d729b24ff5d3bd89e38",
            "6846953c40d046c3bac78a4364bc4497"
          ]
        }
      },
      "source": [
        "user_outfits = product_id_recommender()"
      ],
      "execution_count": 31,
      "outputs": [
        {
          "output_type": "stream",
          "text": [
            "Please enter your product ID to get a recommended fit from us··········\n",
            "Do you want multiple outfits?\n",
            "Y/N··········\n"
          ],
          "name": "stdout"
        },
        {
          "output_type": "display_data",
          "data": {
            "application/vnd.jupyter.widget-view+json": {
              "model_id": "ce5ec98a4a4e40e8acd5ba8326d07e4b",
              "version_minor": 0,
              "version_major": 2
            },
            "text/plain": [
              "HBox(children=(FloatProgress(value=0.0, max=50.0), HTML(value='')))"
            ]
          },
          "metadata": {
            "tags": []
          }
        },
        {
          "output_type": "stream",
          "text": [
            "\n",
            "---Based on your query, we recommend the following outfit---\n",
            "                         Brand                            Item\n",
            "accessory  kate spade new york  medium margaux leather satchel\n",
            "onepiece             Equipment             Chemelle Midi Dress\n",
            "shoe                Tory Burch       Penelope Mid Cap Toe Pump\n"
          ],
          "name": "stdout"
        }
      ]
    },
    {
      "cell_type": "markdown",
      "metadata": {
        "id": "nBPTGKp_JCvW",
        "colab_type": "text"
      },
      "source": [
        "# Description / Detail / Brand Vectorization"
      ]
    },
    {
      "cell_type": "code",
      "metadata": {
        "id": "VXUBjwaI-H34",
        "colab_type": "code",
        "outputId": "c74e9609-4fc2-4d29-b4a9-f709bcd45bb8",
        "colab": {
          "base_uri": "https://localhost:8080/",
          "height": 102
        }
      },
      "source": [
        "# from https://radimrehurek.com/gensim/models/word2vec.html\n",
        "from gensim.test.utils import common_texts, get_tmpfile\n",
        "from gensim.models import Word2Vec\n",
        "from sklearn.metrics.pairwise import cosine_similarity\n",
        "import spacy.cli\n",
        "spacy.cli.download(\"en_core_web_md\")\n",
        "spacy.cli.download(\"en_core_web_sm\")\n",
        "from keras.models import Sequential\n",
        "from keras.layers import Dense\n",
        "from keras.layers.recurrent import SimpleRNN, LSTM\n",
        "from keras.wrappers.scikit_learn import KerasClassifier\n",
        "from keras.utils import np_utils\n",
        "from sklearn.model_selection import cross_val_score\n",
        "from sklearn.model_selection import KFold\n",
        "from sklearn.preprocessing import LabelEncoder\n",
        "from sklearn.pipeline import Pipeline\n",
        "from sklearn.model_selection import train_test_split\n",
        "from sklearn.metrics import classification_report, precision_score, f1_score, accuracy_score, hamming_loss\n",
        "import re"
      ],
      "execution_count": 32,
      "outputs": [
        {
          "output_type": "stream",
          "text": [
            "\u001b[38;5;2m✔ Download and installation successful\u001b[0m\n",
            "You can now load the model via spacy.load('en_core_web_md')\n",
            "\u001b[38;5;2m✔ Download and installation successful\u001b[0m\n",
            "You can now load the model via spacy.load('en_core_web_sm')\n"
          ],
          "name": "stdout"
        },
        {
          "output_type": "stream",
          "text": [
            "Using TensorFlow backend.\n"
          ],
          "name": "stderr"
        }
      ]
    },
    {
      "cell_type": "code",
      "metadata": {
        "id": "S_4k3XrqgkrH",
        "colab_type": "code",
        "colab": {}
      },
      "source": [
        "# grab additional info from full data and join with outfit data\n",
        "full_data = pd.read_csv('full_data.csv')\n",
        "outfit_full_df = outfit_combination_df.merge(full_data,how='left',left_on='product_id',right_on='product_id')"
      ],
      "execution_count": 0,
      "outputs": []
    },
    {
      "cell_type": "code",
      "metadata": {
        "id": "xpi9gh21iww9",
        "colab_type": "code",
        "colab": {}
      },
      "source": [
        "# text preprocessing(lemmatization, stopword removal, lower, strip punctuations)\n",
        "def deep_cleaned(dirty_text, return_tokens=False):\n",
        "  lem = WordNetLemmatizer()\n",
        "  remove_digits = str.maketrans('', '', string.digits)\n",
        "  dirty_text = dirty_text.translate(remove_digits)\n",
        "\n",
        "  dirty_text = dirty_text.lower()\n",
        "  dirty_text = dirty_text.translate(str.maketrans('', '', string.punctuation))\n",
        "  dirty_text = remove_stopwords(dirty_text)\n",
        "  tokens = gensim.utils.tokenize(dirty_text)\n",
        "  lemmed_tokens = [lem.lemmatize(token) for token in tokens]\n",
        "  if return_tokens:\n",
        "    return lemmed_tokens\n",
        "  return ' '.join(lemmed_tokens)\n",
        "\n",
        "outfit_full_df.index = outfit_full_df.product_id"
      ],
      "execution_count": 0,
      "outputs": []
    },
    {
      "cell_type": "markdown",
      "metadata": {
        "id": "pb9KckyCAVS7",
        "colab_type": "text"
      },
      "source": [
        "# Description2Brand"
      ]
    },
    {
      "cell_type": "code",
      "metadata": {
        "id": "NG5IS8DrYkJQ",
        "colab_type": "code",
        "colab": {}
      },
      "source": [
        "# data prep for Description2Brand Classification model. Was not used later so can skip this section\n",
        "nlp = spacy.load('en_core_web_md')\n",
        "description_brand_df = outfit_full_df.set_index('product_id')[['brand_x','description','brand_category']].drop_duplicates().fillna('')\n",
        "X = np.array([nlp(desc).vector for desc in description_brand_df.description]).reshape(-1,1,300)\n",
        "Y = description_brand_df.brand_x.apply(str.lower).values\n",
        "encoder = LabelEncoder()\n",
        "encoder.fit(Y)\n",
        "encoded_Y = encoder.transform(Y)\n",
        "dummy_y = np_utils.to_categorical(encoded_Y)\n",
        "#https://machinelearningmastery.com/multi-class-classification-tutorial-keras-deep-learning-library/"
      ],
      "execution_count": 0,
      "outputs": []
    },
    {
      "cell_type": "code",
      "metadata": {
        "id": "M7uZtl1rKSOJ",
        "colab_type": "code",
        "colab": {}
      },
      "source": [
        "# dectionption 2 x classifier model\n",
        "def Description2x():\n",
        "  model = Sequential()\n",
        "  model.add(LSTM(units=64,input_shape=(1,300)))\n",
        "  model.add(Dense(16, activation='relu'))\n",
        "  model.add(Dense(len(np.unique(Y)), activation='softmax'))\n",
        "  model.compile(loss='categorical_crossentropy', optimizer='adam', metrics=['accuracy'])\n",
        "  return model"
      ],
      "execution_count": 0,
      "outputs": []
    },
    {
      "cell_type": "code",
      "metadata": {
        "id": "-YeV8KkdOesV",
        "colab_type": "code",
        "outputId": "c749b4b0-36fc-466e-c008-6abc5bb76ca2",
        "colab": {
          "base_uri": "https://localhost:8080/",
          "height": 0
        }
      },
      "source": [
        "# training description 2 brand model\n",
        "X_train, X_test, y_train, y_test = train_test_split(X,dummy_y,test_size=0.1,random_state=24)\n",
        "brandclassifier = KerasClassifier(build_fn=Description2x, validation_split=0.1, epochs=15, batch_size=16, verbose=1)\n",
        "brandclassifier.fit(X_train,y_train)"
      ],
      "execution_count": 37,
      "outputs": [
        {
          "output_type": "stream",
          "text": [
            "Train on 658 samples, validate on 74 samples\n",
            "Epoch 1/15\n",
            "658/658 [==============================] - 1s 1ms/step - loss: 5.6395 - accuracy: 0.0213 - val_loss: 5.6036 - val_accuracy: 0.0135\n",
            "Epoch 2/15\n",
            "658/658 [==============================] - 0s 206us/step - loss: 5.4079 - accuracy: 0.0653 - val_loss: 5.5439 - val_accuracy: 0.0946\n",
            "Epoch 3/15\n",
            "658/658 [==============================] - 0s 201us/step - loss: 5.0846 - accuracy: 0.0593 - val_loss: 5.6738 - val_accuracy: 0.0946\n",
            "Epoch 4/15\n",
            "658/658 [==============================] - 0s 195us/step - loss: 4.9840 - accuracy: 0.0578 - val_loss: 5.6780 - val_accuracy: 0.0946\n",
            "Epoch 5/15\n",
            "658/658 [==============================] - 0s 195us/step - loss: 4.9227 - accuracy: 0.0593 - val_loss: 5.7446 - val_accuracy: 0.0946\n",
            "Epoch 6/15\n",
            "658/658 [==============================] - 0s 209us/step - loss: 4.8390 - accuracy: 0.0775 - val_loss: 5.8146 - val_accuracy: 0.0946\n",
            "Epoch 7/15\n",
            "658/658 [==============================] - 0s 205us/step - loss: 4.7481 - accuracy: 0.0881 - val_loss: 5.7807 - val_accuracy: 0.0946\n",
            "Epoch 8/15\n",
            "658/658 [==============================] - 0s 200us/step - loss: 4.6579 - accuracy: 0.0927 - val_loss: 5.8550 - val_accuracy: 0.0946\n",
            "Epoch 9/15\n",
            "658/658 [==============================] - 0s 204us/step - loss: 4.5692 - accuracy: 0.0988 - val_loss: 5.8974 - val_accuracy: 0.0946\n",
            "Epoch 10/15\n",
            "658/658 [==============================] - 0s 199us/step - loss: 4.4726 - accuracy: 0.1094 - val_loss: 5.9868 - val_accuracy: 0.1081\n",
            "Epoch 11/15\n",
            "658/658 [==============================] - 0s 198us/step - loss: 4.3702 - accuracy: 0.1140 - val_loss: 5.8681 - val_accuracy: 0.1081\n",
            "Epoch 12/15\n",
            "658/658 [==============================] - 0s 197us/step - loss: 4.2736 - accuracy: 0.1170 - val_loss: 5.9762 - val_accuracy: 0.0946\n",
            "Epoch 13/15\n",
            "658/658 [==============================] - 0s 214us/step - loss: 4.1812 - accuracy: 0.1322 - val_loss: 6.1414 - val_accuracy: 0.0946\n",
            "Epoch 14/15\n",
            "658/658 [==============================] - 0s 212us/step - loss: 4.1012 - accuracy: 0.1368 - val_loss: 6.0026 - val_accuracy: 0.0946\n",
            "Epoch 15/15\n",
            "658/658 [==============================] - 0s 204us/step - loss: 4.0227 - accuracy: 0.1444 - val_loss: 6.2006 - val_accuracy: 0.0946\n"
          ],
          "name": "stdout"
        },
        {
          "output_type": "execute_result",
          "data": {
            "text/plain": [
              "<keras.callbacks.callbacks.History at 0x7f9ff1c63d68>"
            ]
          },
          "metadata": {
            "tags": []
          },
          "execution_count": 37
        }
      ]
    },
    {
      "cell_type": "code",
      "metadata": {
        "id": "-N6zuBlmR00l",
        "colab_type": "code",
        "outputId": "7a32e428-3f16-4fb4-937a-8d3dbae74cb6",
        "colab": {
          "base_uri": "https://localhost:8080/",
          "height": 0
        }
      },
      "source": [
        "# test accurcy\n",
        "y_pred = brandclassifier.predict(X_test)\n",
        "y_test_list = [idx for y in y_test for idx in range(len(y)) if y[idx] == 1]\n",
        "accuracy_score(y_test_list,y_pred)"
      ],
      "execution_count": 38,
      "outputs": [
        {
          "output_type": "stream",
          "text": [
            "82/82 [==============================] - 0s 499us/step\n"
          ],
          "name": "stdout"
        },
        {
          "output_type": "execute_result",
          "data": {
            "text/plain": [
              "0.0975609756097561"
            ]
          },
          "metadata": {
            "tags": []
          },
          "execution_count": 38
        }
      ]
    },
    {
      "cell_type": "code",
      "metadata": {
        "id": "Ho9AuazRlsQB",
        "colab_type": "code",
        "outputId": "e601d4de-4118-4aca-d77f-5c35ce88d732",
        "colab": {
          "base_uri": "https://localhost:8080/",
          "height": 0
        }
      },
      "source": [
        "# prediction demonstration\n",
        "encoder.inverse_transform(brandclassifier.predict(nlp('Beige cashmere Slips on 100% cashmere Dry clea').vector.reshape(-1,1,300)))[0]"
      ],
      "execution_count": 39,
      "outputs": [
        {
          "output_type": "stream",
          "text": [
            "\r1/1 [==============================] - 0s 1ms/step\n"
          ],
          "name": "stdout"
        },
        {
          "output_type": "execute_result",
          "data": {
            "text/plain": [
              "'remain birger christensen'"
            ]
          },
          "metadata": {
            "tags": []
          },
          "execution_count": 39
        }
      ]
    },
    {
      "cell_type": "markdown",
      "metadata": {
        "id": "mbyr_2-O9b0-",
        "colab_type": "text"
      },
      "source": [
        "# Cleaning brand categories"
      ]
    },
    {
      "cell_type": "code",
      "metadata": {
        "id": "ShEvm-8l9fMu",
        "colab_type": "code",
        "colab": {}
      },
      "source": [
        "#regex cleaning for brand category\n",
        "outfit_full_df.brand_category = outfit_full_df.brand_category.\\\n",
        "                          apply(lambda x: ','.join(pd.Series\\\n",
        "                          (re.findall(r'[/:]?(\\w+[\\s:]\\w+[\\w+:\\w+]*[\\s]\\w*|\\w+[\\s:]\\w+[\\w+:\\w+]*|\\w+)[/:]?', str(x).lower()))\\\n",
        "                          .drop_duplicates().tolist()))"
      ],
      "execution_count": 0,
      "outputs": []
    },
    {
      "cell_type": "code",
      "metadata": {
        "id": "shj5Ao779fG9",
        "colab_type": "code",
        "colab": {}
      },
      "source": [
        "# make a set of all the categories\n",
        "def add_cat(x):\n",
        "  cats = re.findall(r'[,]?(\\w+[\\s]\\w+[\\s]\\w+|\\w+[\\s]?\\w+|\\w+)[,]?',x)\n",
        "  for cat in cats:\n",
        "    categories.add(cat)\n",
        "  return"
      ],
      "execution_count": 0,
      "outputs": []
    },
    {
      "cell_type": "code",
      "metadata": {
        "id": "F6UGZxps9fCL",
        "colab_type": "code",
        "colab": {}
      },
      "source": [
        "#remove duplicates\n",
        "def remove_dupe(alist):\n",
        "  blist = []\n",
        "  for cat in alist:\n",
        "    blist.append(cat.strip())\n",
        "  return ','.join(pd.Series(blist).drop_duplicates().tolist())"
      ],
      "execution_count": 0,
      "outputs": []
    },
    {
      "cell_type": "code",
      "metadata": {
        "id": "5Yxq7AnF9e9k",
        "colab_type": "code",
        "colab": {}
      },
      "source": [
        "#remove duplicates in a single line of brand category\n",
        "remove_digits = str.maketrans('', '', string.digits)\n",
        "outfit_full_df.brand_category = outfit_full_df.brand_category\\\n",
        "                  .apply(lambda x: x.replace(':', ','))\\\n",
        "                  .apply(lambda x: x.translate(remove_digits))\\\n",
        "                  .apply(lambda x: remove_dupe(x.split(',')))"
      ],
      "execution_count": 0,
      "outputs": []
    },
    {
      "cell_type": "code",
      "metadata": {
        "id": "fWtM2NJX9e39",
        "colab_type": "code",
        "colab": {}
      },
      "source": [
        "#merge duplicate categories into ones\n",
        "to_replace = [[r'(\\bt,shirts\\b)','tees'],\n",
        "[r'(\\baccessories\\b|\\baccessory\\b|\\ball_accessories\\b)','accessories'],\n",
        "[r'(\\bbelt bags\\b|\\bbeltbags\\b)','beltbags'],\n",
        "[r'(\\bcoatsjacketswa\\b)','coats_and_jackets'],\n",
        "[r'(\\bcross body\\b|\\bcrossbody\\b)','crossbody'],\n",
        "[r'(\\bflat shoes\\b|\\bflat\\b)','flats'],\n",
        "[r'(\\bhandbagsshoes\\b)','handbags,shoes'],\n",
        "[r'(\\bjacketsvests\\b)','jackets,vests'],\n",
        "[r'(\\bjackets\\b|\\bjacket\\b)','jackets'],\n",
        "[r'(\\bdressesandjumpsuits\\b)','dresses,jumpsuits'],\n",
        "[r'(\\bbolerosjacketsvests\\b)','boleros,jackets,vests'],\n",
        "[r'(\\bapparelaccessories\\b)','apparel,accessories'],\n",
        "[r'(\\blow top\\b|\\blowtop\\b)','lowtop'],\n",
        "[r'(\\bmini bags\\b)','minibags'],\n",
        "[r'(\\bpantsshortsjumpsuits\\b)','pants,shorts,jumpsuits'],\n",
        "[r'(\\bshirts_tops\\b)','shirts,tops'],\n",
        "[r'(\\bshorts\\b)','short'],\n",
        "[r'(\\bshoulder bags\\b|\\bshoulder_bags\\b)','shoulderbags'],\n",
        "[r'(\\bsweatshirts_sweatpants\\b)','sweatshirts,sweatpants'],\n",
        "[r'(\\btshirts_tanktops\\b)','tees,tanktops'],\n",
        "[r'(\\btshirtstanks\\b)','tees,tanktops'],\n",
        "[r'(\\bwomensapparel\\b)','women'],\n",
        "[r'(\\bclutch bags\\b)','clutches'],\n",
        "[r'(\\bjumpsuit\\b)','jumpsuits'],\n",
        "[r'(\\bmidi dresses\\b)','midi'],\n",
        "[r'(\\bromper\\b)','rompers'],\n",
        "[r'(\\bskirt\\b)','skirts'],\n",
        "[r'(\\bsweater\\b)','sweaters'],\n",
        "[r'(\\btote bags\\b)','totes'],\n",
        "[r'(\\btop\\b)','tops']]\n",
        "\n",
        "for replace in to_replace:\n",
        "    outfit_full_df.brand_category = outfit_full_df.brand_category.apply(lambda x: re.sub(replace[0],replace[1], x.lower()))"
      ],
      "execution_count": 0,
      "outputs": []
    },
    {
      "cell_type": "markdown",
      "metadata": {
        "id": "QYVyrJitk4zA",
        "colab_type": "text"
      },
      "source": [
        "# Word2Vec"
      ]
    },
    {
      "cell_type": "code",
      "metadata": {
        "id": "eoMze-nArAIi",
        "colab_type": "code",
        "colab": {}
      },
      "source": [
        "from sklearn.feature_extraction.text import TfidfVectorizer\n",
        "from sklearn.metrics.pairwise import cosine_similarity\n",
        "from gensim.utils import tokenize"
      ],
      "execution_count": 0,
      "outputs": []
    },
    {
      "cell_type": "code",
      "metadata": {
        "id": "iQbyEcYz9_lS",
        "colab_type": "code",
        "outputId": "d7f728c4-d1bf-4716-ec20-6c5279aae643",
        "colab": {
          "base_uri": "https://localhost:8080/",
          "height": 34
        }
      },
      "source": [
        "# data prep for word2vec model\n",
        "description_brand_df = outfit_full_df.set_index('product_id')[['brand_x','product_full_name_x','description','brand_category']].drop_duplicates().fillna('')\n",
        "description_brand_df.columns = ['brand','product_full_name','description','brand_category']\n",
        "all_brands = description_brand_df.brand.str.lower().unique()\n",
        "categories = set()\n",
        "description_brand_df.brand_category.apply(add_cat)\n",
        "for col in description_brand_df.columns:\n",
        "  description_brand_df[col] = description_brand_df[col].apply(deep_cleaned)\n",
        "descriptions_tokens = [[token for token in tokenize(sent)] for sent in description_brand_df.description.drop_duplicates().values]\n",
        "description_model = Word2Vec(descriptions_tokens, size=96, min_count=2)"
      ],
      "execution_count": 46,
      "outputs": [
        {
          "output_type": "stream",
          "text": [
            "WARNING:gensim.models.base_any2vec:under 10 jobs per worker: consider setting a smaller `batch_words' for smoother alpha decay\n"
          ],
          "name": "stderr"
        }
      ]
    },
    {
      "cell_type": "code",
      "metadata": {
        "id": "yC7XB56pr5vH",
        "colab_type": "code",
        "colab": {}
      },
      "source": [
        "def tfidf(series):\n",
        "    vectorizer = TfidfVectorizer(max_df=0.3)\n",
        "    X = vectorizer.fit_transform(series)\n",
        "\n",
        "    tf_idf_lookup_table = pd.DataFrame(X.toarray(), columns=vectorizer.get_feature_names())\n",
        "\n",
        "\n",
        "    DOCUMENT_SUM_COLUMN = \"DOCUMENT_TF_IDF_SUM\"\n",
        "\n",
        "    tf_idf_lookup_table[DOCUMENT_SUM_COLUMN] = tf_idf_lookup_table.sum(axis=1)\n",
        "    available_tf_idf_scores = tf_idf_lookup_table.columns \n",
        "    available_tf_idf_scores = list(map( lambda x: x.lower(), available_tf_idf_scores)) \n",
        "    return tf_idf_lookup_table, available_tf_idf_scores"
      ],
      "execution_count": 0,
      "outputs": []
    },
    {
      "cell_type": "code",
      "metadata": {
        "id": "LmGF1wgsuoGq",
        "colab_type": "code",
        "colab": {}
      },
      "source": [
        "#make embed function cr to Prof Yu Chen\n",
        "def embed(textdf, available_tf_idf_scores, tf_idf_lookup_table, text_only=False):\n",
        "    text_vectors = {}\n",
        "    indices = textdf.index\n",
        "    for idx, text in enumerate(textdf): \n",
        "        tokens = nlp(text)\n",
        "        total_tf_idf_score_per_document = 0\n",
        "\n",
        "        running_total_word_embedding = np.zeros(96) \n",
        "        for token in tokens:\n",
        "            if token.text in description_model.wv.vocab and token.text.lower() in available_tf_idf_scores:\n",
        "\n",
        "                tf_idf_score = tf_idf_lookup_table.loc[idx, token.text.lower()]\n",
        "            \n",
        "                running_total_word_embedding += tf_idf_score * description_model.wv.get_vector(token.text)\n",
        "\n",
        "                total_tf_idf_score_per_document += tf_idf_score\n",
        "\n",
        "        document_embedding = running_total_word_embedding / (total_tf_idf_score_per_document + 1e-6)\n",
        "        if text_only:\n",
        "          return document_embedding\n",
        "        text_vectors[indices[idx]] = document_embedding\n",
        "    return text_vectors"
      ],
      "execution_count": 0,
      "outputs": []
    },
    {
      "cell_type": "markdown",
      "metadata": {
        "id": "hDG6gxKf5iCO",
        "colab_type": "text"
      },
      "source": [
        "# Define final recommender class"
      ]
    },
    {
      "cell_type": "code",
      "metadata": {
        "id": "Mr0pDwrCzYM8",
        "colab_type": "code",
        "colab": {}
      },
      "source": [
        "# fuzzy matching function\n",
        "def fuzzy_match(fuzz_list, query):\n",
        "  fuzz_series = pd.Series(fuzz_list,index=fuzz_list)\n",
        "  for f in fuzz_list:\n",
        "    fuzz_return = fuzz_series.apply(lambda fz: fuzz.partial_ratio(fz.lower(),query.lower())).sort_values(ascending=False)\n",
        "  if fuzz_return.iloc[0] > 85:\n",
        "    return fuzz_return.index[0]\n",
        "  return None"
      ],
      "execution_count": 0,
      "outputs": []
    },
    {
      "cell_type": "code",
      "metadata": {
        "id": "iD9HcTdigFlL",
        "colab_type": "code",
        "colab": {}
      },
      "source": [
        "# final outfits_recommender class\n",
        "class outfits_recommender:\n",
        "  #initialize query\n",
        "  def __init__(self, query):\n",
        "    self.query = deep_cleaned(query)\n",
        "    self.brand = None\n",
        "    self.category = None\n",
        "    self.name = None\n",
        "    self.query_embed = None\n",
        "\n",
        "  # get the closest id description item with given query vector\n",
        "  def closest_id(self, compare_indices, d_text_vector):\n",
        "    closest = -float('inf')\n",
        "    closest_product = None\n",
        "    for idx in compare_indices:\n",
        "      closeness = cosine_similarity([d_text_vector[idx],self.query_embed])\n",
        "      if closeness[0][1] > closest:\n",
        "        closest = closeness[0][1]\n",
        "        closest_product = idx\n",
        "    return closest_product\n",
        "\n",
        "  # main freeform seach\n",
        "  def free_form_search(self):\n",
        "    # grab all vectors for all descriotions and query\n",
        "    query_desc_df = description_brand_df.drop_duplicates().description.apply(deep_cleaned).append(pd.Series([self.query],index=['query']))\n",
        "    d_tf_idf_lookup_table, d_available_tf_idf_scores = tfidf(query_desc_df)\n",
        "    d_text_vector = embed(query_desc_df, d_available_tf_idf_scores, d_tf_idf_lookup_table)\n",
        "\n",
        "    # fuzzy match brand, category and name\n",
        "    self.brand = fuzzy_match(all_brands, self.query)\n",
        "    self.category = fuzzy_match(list(categories), self.query)\n",
        "    self.name = fuzzy_match(description_brand_df.product_full_name.drop_duplicates().apply(deep_cleaned).tolist(), self.query)\n",
        "\n",
        "    # setting query vector. if query vector has vocabs not in our word2vec model, try spacy, if not random initialize\n",
        "    self.query_embed = d_text_vector['query']\n",
        "    if np.count_nonzero(self.query_embed) == 0:\n",
        "      self.query_embed = spacy.load('en_core_web_sm')(self.query).vector\n",
        "    if np.count_nonzero(self.query_embed) == 0:\n",
        "      self.query_embed = np.random.randn(self.query_embed.shape[0])\n",
        "    del d_text_vector['query']\n",
        "\n",
        "    # if the query contains brand and category\n",
        "    if self.brand and self.category:\n",
        "      return_df = description_brand_df[(description_brand_df.brand==self.brand)&(description_brand_df.brand_category.isin([self.category]))]\n",
        "      if not return_df.empty:\n",
        "        closest_product = self.closest_id(return_df.index,d_text_vector)\n",
        "        return product_id_recommender(input_id=closest_product,called=True)\n",
        "    \n",
        "    # if query contains brand\n",
        "    if self.brand:\n",
        "      return_df = description_brand_df[(description_brand_df.brand==self.brand)]\n",
        "      if not return_df.empty:\n",
        "        closest_product = self.closest_id(return_df.index,d_text_vector)\n",
        "        return product_id_recommender(input_id=closest_product,called=True)\n",
        "    \n",
        "    # if query contains category\n",
        "    if self.category:\n",
        "      return_df = description_brand_df[(description_brand_df.brand_category.isin([self.category]))]\n",
        "      if not return_df.empty:\n",
        "        closest_product = self.closest_id(return_df.index,d_text_vector)\n",
        "        return product_id_recommender(input_id=closest_product,called=True)\n",
        "    \n",
        "    # if query contains full name\n",
        "    if self.name:\n",
        "      return_df = description_brand_df[(description_brand_df.product_full_name==self.name)]\n",
        "      if not return_df.empty:\n",
        "        closest_product = self.closest_id(return_df.index,d_text_vector)\n",
        "        return product_id_recommender(input_id=closest_product,called=True)\n",
        "\n",
        "    # none of the above\n",
        "    closest_product = self.closest_id(d_text_vector.keys(),d_text_vector)\n",
        "    return product_id_recommender(input_id=closest_product,called=True)\n",
        "  \n",
        "  # method for doing pure id seach\n",
        "  def product_id_search(self):\n",
        "    return product_id_recommender(input_id=self.query,called=True)"
      ],
      "execution_count": 0,
      "outputs": []
    },
    {
      "cell_type": "markdown",
      "metadata": {
        "id": "uTGGGRqR9YsE",
        "colab_type": "text"
      },
      "source": [
        "# Final Demonstrations"
      ]
    },
    {
      "cell_type": "code",
      "metadata": {
        "id": "vCn8bVrN2emp",
        "colab_type": "code",
        "outputId": "c4e401f2-65ac-423f-f39f-99d6fac7671a",
        "colab": {
          "base_uri": "https://localhost:8080/",
          "height": 402,
          "referenced_widgets": [
            "4d2d1a970ac948d690e69c9fdc445689",
            "faf18fb2c178437798d19d64f8ba8917",
            "a3c47bede76b4840913ad4891af79460",
            "5170f5e3a0034dc3a876e5957c115650",
            "77ccfdf891cb4246a61320b285642fef",
            "a2abd23fe1c24f3a9250dc631a14fe87",
            "38857c4ef69044138688550dfe2c5a0f",
            "4e394923b22d45e1939baf6fca911100",
            "b67f8cadf8114feca3964e7e60d718f9",
            "083a638a61034f8fa45e4fa7cbc60983",
            "f868063a82e44f009aaf8cbfc334f368",
            "624438108bc44f4d8cd418a034f60203",
            "c15beb9bb12c4614af273ed64aa29c7d",
            "c133e60d9a6b48efb19b12e9c5b26a9d",
            "58db7cc04c5040c4850cdab49517f448",
            "698ed9f819414f3098c4d3aaefa14caa",
            "faa8168c15da42229f0795ce9aae3cbe",
            "1b78e0505a1e4be3906b5354baace802",
            "2bb778f940164cf58bac943fca334067",
            "fa0a141527e64500934de437dd3df723",
            "bdf7a1ddf3aa47c98d9fa9aeaa9052a9",
            "050acfd38a724526bed3c925ccc4513a",
            "bad0d060854c40d488bff03e2da2ba31",
            "4b007e22a71d42f5bcacfdeee2a21c16"
          ]
        }
      },
      "source": [
        "# demostrating free-form brand search\n",
        "outfitQ = outfits_recommender('bananarepub')\n",
        "banana_outfits = outfitQ.free_form_search()"
      ],
      "execution_count": 51,
      "outputs": [
        {
          "output_type": "stream",
          "text": [
            "Do you want multiple outfits?\n",
            "Y/N··········\n"
          ],
          "name": "stdout"
        },
        {
          "output_type": "display_data",
          "data": {
            "application/vnd.jupyter.widget-view+json": {
              "model_id": "4d2d1a970ac948d690e69c9fdc445689",
              "version_minor": 0,
              "version_major": 2
            },
            "text/plain": [
              "HBox(children=(FloatProgress(value=0.0, max=50.0), HTML(value='')))"
            ]
          },
          "metadata": {
            "tags": []
          }
        },
        {
          "output_type": "stream",
          "text": [
            "\n"
          ],
          "name": "stdout"
        },
        {
          "output_type": "display_data",
          "data": {
            "application/vnd.jupyter.widget-view+json": {
              "model_id": "b67f8cadf8114feca3964e7e60d718f9",
              "version_minor": 0,
              "version_major": 2
            },
            "text/plain": [
              "HBox(children=(FloatProgress(value=0.0, max=50.0), HTML(value='')))"
            ]
          },
          "metadata": {
            "tags": []
          }
        },
        {
          "output_type": "stream",
          "text": [
            "\n"
          ],
          "name": "stdout"
        },
        {
          "output_type": "display_data",
          "data": {
            "application/vnd.jupyter.widget-view+json": {
              "model_id": "faa8168c15da42229f0795ce9aae3cbe",
              "version_minor": 0,
              "version_major": 2
            },
            "text/plain": [
              "HBox(children=(FloatProgress(value=0.0, max=50.0), HTML(value='')))"
            ]
          },
          "metadata": {
            "tags": []
          }
        },
        {
          "output_type": "stream",
          "text": [
            "\n",
            "                     Brand                                           Item\n",
            "accessory  Banana Republic                  Herringbone Wool-Blend  Scarf\n",
            "bottom     Banana Republic  JAPAN EXCLUSIVE Herringbone Midi Pencil Skirt\n",
            "shoe       Banana Republic                    Madison 12-Hour Loafer Pump\n",
            "top           Marissa Webb             Piper Mock Neck Wool-Blend Sweater\n",
            "############################################################################\n",
            "                         Brand                                               Item\n",
            "shoe       Christian Louboutin                          Galativi Mesh Suede Pumps\n",
            "accessory      Banana Republic                      Herringbone Wool-Blend  Scarf\n",
            "bottom        Carolina Herrera  High-Waisted Checked Silk And Wool Wide-Leg Pants\n",
            "top                  Derek Lam  Oversized Draped Silk Blouse With Self Tie Nec...\n",
            "############################################################################\n"
          ],
          "name": "stdout"
        }
      ]
    },
    {
      "cell_type": "code",
      "metadata": {
        "id": "dl_5TKn05s64",
        "colab_type": "code",
        "colab": {
          "base_uri": "https://localhost:8080/",
          "height": 504,
          "referenced_widgets": [
            "22efda0259c04bd187459c32ddacdf4b",
            "17aef271193e4ed2aca9454d17a10f3d",
            "4ea81934d281420bb213c8ec12f92040",
            "a72541789a8f491e8c7dbd5ab122cbcc",
            "ef32c5da21f74473b9e2142e7a5b9db5",
            "761cf157dac64590805d7b944242cf1c",
            "a0e234226aac462ba5063598651ac736",
            "ceca887549cb4c6f821bb906f0bcb131",
            "fed3e8b78f1d45b8867782e8dc52835e",
            "ac81c1e70edb41f0aa3b56b72ee87e74",
            "8a30fba041da4398bde1ae6a3a34b59b",
            "00818ef5b9104464a7c2f0d0fb0633a9",
            "99fc74670bd6414dba8fa2526edc95af",
            "b748c7705e044916b6837603bbdf2458",
            "7c0c2580bfe94266aa316e7f076aa207",
            "178b3e9cb22045ddbfaf63958217f9c2",
            "d430a8f910da4652bd7653b1420bb2ca",
            "df4ad0a260a540a19ea7c49d6157b4f6",
            "0ec6f9cbea644caf9d7684231cbbbb37",
            "b037ba5e36174647956e2d982f9b0e0f",
            "4391522ad83a4ca5a63f8a22d5680c2a",
            "356f7bc36f3b4c419243be0c8c39c564",
            "8aff06e903bc4eaf9db3c71b34ad9e58",
            "12f0b5a73ba44ee8ab92e2268bd3dd64"
          ]
        },
        "outputId": "0fa8f334-5946-473f-9e04-33b30604da10"
      },
      "source": [
        "# demostrating free-form category search\n",
        "outfitQ = outfits_recommender('sneakerz')\n",
        "shoes_outfits = outfitQ.free_form_search()"
      ],
      "execution_count": 52,
      "outputs": [
        {
          "output_type": "stream",
          "text": [
            "Do you want multiple outfits?\n",
            "Y/N··········\n"
          ],
          "name": "stdout"
        },
        {
          "output_type": "display_data",
          "data": {
            "application/vnd.jupyter.widget-view+json": {
              "model_id": "22efda0259c04bd187459c32ddacdf4b",
              "version_minor": 0,
              "version_major": 2
            },
            "text/plain": [
              "HBox(children=(FloatProgress(value=0.0, max=50.0), HTML(value='')))"
            ]
          },
          "metadata": {
            "tags": []
          }
        },
        {
          "output_type": "stream",
          "text": [
            "\n"
          ],
          "name": "stdout"
        },
        {
          "output_type": "display_data",
          "data": {
            "application/vnd.jupyter.widget-view+json": {
              "model_id": "fed3e8b78f1d45b8867782e8dc52835e",
              "version_minor": 0,
              "version_major": 2
            },
            "text/plain": [
              "HBox(children=(FloatProgress(value=0.0, max=50.0), HTML(value='')))"
            ]
          },
          "metadata": {
            "tags": []
          }
        },
        {
          "output_type": "stream",
          "text": [
            "\n"
          ],
          "name": "stdout"
        },
        {
          "output_type": "display_data",
          "data": {
            "application/vnd.jupyter.widget-view+json": {
              "model_id": "d430a8f910da4652bd7653b1420bb2ca",
              "version_minor": 0,
              "version_major": 2
            },
            "text/plain": [
              "HBox(children=(FloatProgress(value=0.0, max=50.0), HTML(value='')))"
            ]
          },
          "metadata": {
            "tags": []
          }
        },
        {
          "output_type": "stream",
          "text": [
            "\n",
            "                        Brand                                    Item\n",
            "accessory  Madeleine Thompson  Danny Wool And Cashmere-Blend Cardigan\n",
            "top                NILI LOTAN      Jimi Hendrix Cotton-Jersey T-Shirt\n",
            "bottom             NILI LOTAN              Paris Cashmere Track Pants\n",
            "shoe           Veronica Beard           Sami Lace-Up Leather Sneakers\n",
            "############################################################################\n",
            "                        Brand                                    Item\n",
            "accessory  Madeleine Thompson  Danny Wool And Cashmere-Blend Cardigan\n",
            "bottom                Re/done   Double Needle Mid-Rise Slim-Leg Jeans\n",
            "shoe           Veronica Beard           Sami Lace-Up Leather Sneakers\n",
            "top                    Khaite                  Viola Cashmere Sweater\n",
            "############################################################################\n",
            "                         Brand                           Item\n",
            "bottom              NILI LOTAN     Paris Cashmere Track Pants\n",
            "shoe            Veronica Beard  Sami Lace-Up Leather Sneakers\n",
            "accessory  Herschel Supply Co.      Studio Dawson XL Backpack\n",
            "top                     Khaite         Viola Cashmere Sweater\n",
            "############################################################################\n"
          ],
          "name": "stdout"
        }
      ]
    },
    {
      "cell_type": "code",
      "metadata": {
        "id": "CXNrVoweADow",
        "colab_type": "code",
        "colab": {
          "base_uri": "https://localhost:8080/",
          "height": 202,
          "referenced_widgets": [
            "1b3e0d13b3ea4468b381f4f73a8ba8ba",
            "6513a7beb9a84357b2b6a4ccbf35f5bd",
            "df3a340aebb94e0f8132e0a4997e50d6",
            "b60c57de210a43b3b880ebae19320ecd",
            "9a641e1737064891af3c386f52082326",
            "4fff7653932f4ddeba510c3760156e46",
            "7ba63429f90d41ce8fec626854e31f3c",
            "555ff464cbae47ed9fa7b06d2e582336"
          ]
        },
        "outputId": "9e2c2b6e-e768-4c5e-83d0-654eb474e65b"
      },
      "source": [
        "# demostrating free-form description search\n",
        "outfitQ = outfits_recommender('Sexy silky, a-line mini skirt zipper Benson skirt')\n",
        "product_id_outfits = outfitQ.free_form_search()"
      ],
      "execution_count": 54,
      "outputs": [
        {
          "output_type": "stream",
          "text": [
            "Do you want multiple outfits?\n",
            "Y/N··········\n"
          ],
          "name": "stdout"
        },
        {
          "output_type": "display_data",
          "data": {
            "application/vnd.jupyter.widget-view+json": {
              "model_id": "1b3e0d13b3ea4468b381f4f73a8ba8ba",
              "version_minor": 0,
              "version_major": 2
            },
            "text/plain": [
              "HBox(children=(FloatProgress(value=0.0, max=50.0), HTML(value='')))"
            ]
          },
          "metadata": {
            "tags": []
          }
        },
        {
          "output_type": "stream",
          "text": [
            "\n",
            "---Based on your query, we recommend the following outfit---\n",
            "                    Brand                        Item\n",
            "bottom        Reformation                Benson Skirt\n",
            "shoe               J.Crew  Pointed-toe flats in suede\n",
            "top        Veronica Beard              Ashlynn Blouse\n",
            "accessory           Loewe    T embossed leather pouch\n"
          ],
          "name": "stdout"
        }
      ]
    },
    {
      "cell_type": "code",
      "metadata": {
        "id": "N8H-wFQi-kCQ",
        "colab_type": "code",
        "colab": {
          "base_uri": "https://localhost:8080/",
          "height": 219,
          "referenced_widgets": [
            "4f65edd25e5845368c6b31fb6941b706",
            "7aa2f5bd5c664efca30731d82131751e",
            "58f3eb359d3e4ceb8163bfbad958d7f6",
            "f335527c14e041d18febc37f9372f50c",
            "b287d425c0c04859bb27411293db3943",
            "19a8814d367f45368bbf56a1e2eb780b",
            "15e91cab03264482acc11be48a658431",
            "5c292d75a44e4425b53bc66309e296b1"
          ]
        },
        "outputId": "cfc90b47-fb29-45d2-d0dc-113317c5d44f"
      },
      "source": [
        "# demostrating id search\n",
        "outfitQ = outfits_recommender('01E5ZYHZA7186DVWET99Q4D2PM')\n",
        "product_id_outfits = outfitQ.product_id_search()"
      ],
      "execution_count": 59,
      "outputs": [
        {
          "output_type": "stream",
          "text": [
            "Did you mean 01E5ZYHZA7186DVWEJ99Q4D2PM?\n",
            "Y/N··········\n",
            "Do you want multiple outfits?\n",
            "Y/N··········\n"
          ],
          "name": "stdout"
        },
        {
          "output_type": "display_data",
          "data": {
            "application/vnd.jupyter.widget-view+json": {
              "model_id": "4f65edd25e5845368c6b31fb6941b706",
              "version_minor": 0,
              "version_major": 2
            },
            "text/plain": [
              "HBox(children=(FloatProgress(value=0.0, max=50.0), HTML(value='')))"
            ]
          },
          "metadata": {
            "tags": []
          }
        },
        {
          "output_type": "stream",
          "text": [
            "\n",
            "---Based on your query, we recommend the following outfit---\n",
            "                 Brand                                      Item\n",
            "accessory  Sam Edelman  65mm Gradient Oversize Square Sunglasses\n",
            "shoe       DR. MARTENS               Fenimore Triple Buckle Boot\n",
            "onepiece    ANINE BING                               Darcy Dress\n"
          ],
          "name": "stdout"
        }
      ]
    },
    {
      "cell_type": "code",
      "metadata": {
        "id": "nWgephsU3MBp",
        "colab_type": "code",
        "colab": {
          "base_uri": "https://localhost:8080/",
          "height": 402,
          "referenced_widgets": [
            "2e54529aa3034dcb85c19010a6508641",
            "8ed7d30632d048a495efa79eaaacfa84",
            "42e45c1d62144e1ebd180ba7991e5e6e",
            "a71781da35944a3a9391cc6b7e913670",
            "d4f8952229734ca3acd3234405035a9e",
            "2ec7d0cde1764bcbad1f2a098be95387",
            "5fddb7c1cca24b7c86dffe78f6df7c82",
            "270c667ccf954cd0a42e6c0bc57e02fa",
            "0f1a8963a48c4fea8c9385b0ca6416ea",
            "adefe3c1331e43458a384b78725bab85",
            "eebfad82abc74467863fcf6c6916241c",
            "bb8bbf39884440f9b33ff50cd840f040",
            "249e824acba5466fad726341ba992599",
            "ac9a8f2434c643c2bd29998135346bc6",
            "69f2eced3d0b49d28c77b4b442d47b36",
            "fd02bdbea72e44cba9ca5cf9b614de1b",
            "0dee8ce1ea2b4edab59ea17abe7b2e4d",
            "ee2eca6f4bc14d1591872f3ee93cd001",
            "a3e5be7c67ab4c189a155cf6662603c7",
            "a812a4b8d7a946ee8413701e1c90cf76",
            "002b91dc1a434bc6b7add5487e93a44f",
            "5e64837ffd194bfc8170fb29cabcce86",
            "43293894333e4de499420c64cf160f97",
            "5718678e7bee4f16b6bfa06400ff34e8"
          ]
        },
        "outputId": "6de20708-a553-4e75-9aa7-f7415791c85e"
      },
      "source": [
        "# Trying for out of vocab search\n",
        "outfitQ = outfits_recommender('Natural Language Processing')\n",
        "random_outfits = outfitQ.free_form_search()"
      ],
      "execution_count": 56,
      "outputs": [
        {
          "output_type": "stream",
          "text": [
            "Do you want multiple outfits?\n",
            "Y/N··········\n"
          ],
          "name": "stdout"
        },
        {
          "output_type": "display_data",
          "data": {
            "application/vnd.jupyter.widget-view+json": {
              "model_id": "2e54529aa3034dcb85c19010a6508641",
              "version_minor": 0,
              "version_major": 2
            },
            "text/plain": [
              "HBox(children=(FloatProgress(value=0.0, max=50.0), HTML(value='')))"
            ]
          },
          "metadata": {
            "tags": []
          }
        },
        {
          "output_type": "stream",
          "text": [
            "\n"
          ],
          "name": "stdout"
        },
        {
          "output_type": "display_data",
          "data": {
            "application/vnd.jupyter.widget-view+json": {
              "model_id": "0f1a8963a48c4fea8c9385b0ca6416ea",
              "version_minor": 0,
              "version_major": 2
            },
            "text/plain": [
              "HBox(children=(FloatProgress(value=0.0, max=50.0), HTML(value='')))"
            ]
          },
          "metadata": {
            "tags": []
          }
        },
        {
          "output_type": "stream",
          "text": [
            "\n"
          ],
          "name": "stdout"
        },
        {
          "output_type": "display_data",
          "data": {
            "application/vnd.jupyter.widget-view+json": {
              "model_id": "0dee8ce1ea2b4edab59ea17abe7b2e4d",
              "version_minor": 0,
              "version_major": 2
            },
            "text/plain": [
              "HBox(children=(FloatProgress(value=0.0, max=50.0), HTML(value='')))"
            ]
          },
          "metadata": {
            "tags": []
          }
        },
        {
          "output_type": "stream",
          "text": [
            "\n",
            "              Brand                                    Item\n",
            "bottom        Vince             Belted Crepe Wide-Leg Pants\n",
            "shoe         BY FAR  Gabriella Leopard Print Slingback Pump\n",
            "accessory   Wandler            Georgia Leather Shoulder Bag\n",
            "top        L'Agence            Nina Chain Print Silk Blouse\n",
            "############################################################################\n",
            "              Brand                                    Item\n",
            "shoe         BY FAR  Gabriella Leopard Print Slingback Pump\n",
            "accessory   Wandler            Georgia Leather Shoulder Bag\n",
            "top        L'Agence            Nina Chain Print Silk Blouse\n",
            "bottom        Vince                              Slip Skirt\n",
            "############################################################################\n"
          ],
          "name": "stdout"
        }
      ]
    },
    {
      "cell_type": "code",
      "metadata": {
        "id": "hVMKAJUC3aaY",
        "colab_type": "code",
        "colab": {
          "base_uri": "https://localhost:8080/",
          "height": 504,
          "referenced_widgets": [
            "45615a8708ee4c61bed6f94023f35945",
            "810ea69bf46648ae92e23f9c2ec9cf5a",
            "8e73040eda464859a0e6c813f877cfe7",
            "3d7b6f58bbe4442ca848d921b50b9632",
            "af9b12d1c7014f479dd340853475b9b5",
            "78d0e1c7f50c44639705b4a19fc6c807",
            "74f93e35edb54aac837c78db0b4234cf",
            "388c94c9cd164dfa9b9ca78f5c3b3a06",
            "39472689e873408690a6c3fbccff4358",
            "a2bbf02ed8824173b5a228d7d6bc5410",
            "c0a67b13c4174c2aa7a5a8166596b35c",
            "367099944a164866931b2cea14553e62",
            "6a305ef1497d4f47ab27f861517b9f3a",
            "007af66e1db24a96ac14a71d5ead7677",
            "1a13a56eb57a4af3a774dc6a1ae10466",
            "8cf6fd9dfcdb416eb94118b2bd4bed59",
            "a02b33fa9e00461d852657cd8107bde7",
            "e3cb970ccc4d46ceafe550aa2b55df41",
            "54632fea4b4e4014878361082363de90",
            "5b4de2ff91164c39a9a319a5acdb9483",
            "ab4c03ba972e4588aa43cd6010f87488",
            "44884f54d09a4db3b13f01bbc896a23f",
            "cfd4a38e32294d668c958feb3c3df54b",
            "c576fbe2649346318b568fc72d2d05bd"
          ]
        },
        "outputId": "ba16499d-67a5-40ba-d4ff-8b9cc03e3c00"
      },
      "source": [
        "# Another free-form search\n",
        "outfitQ = outfits_recommender('silky trousers classic tight fit')\n",
        "silky_pants_outfits = outfitQ.free_form_search()"
      ],
      "execution_count": 57,
      "outputs": [
        {
          "output_type": "stream",
          "text": [
            "Do you want multiple outfits?\n",
            "Y/N··········\n"
          ],
          "name": "stdout"
        },
        {
          "output_type": "display_data",
          "data": {
            "application/vnd.jupyter.widget-view+json": {
              "model_id": "45615a8708ee4c61bed6f94023f35945",
              "version_minor": 0,
              "version_major": 2
            },
            "text/plain": [
              "HBox(children=(FloatProgress(value=0.0, max=50.0), HTML(value='')))"
            ]
          },
          "metadata": {
            "tags": []
          }
        },
        {
          "output_type": "stream",
          "text": [
            "\n"
          ],
          "name": "stdout"
        },
        {
          "output_type": "display_data",
          "data": {
            "application/vnd.jupyter.widget-view+json": {
              "model_id": "39472689e873408690a6c3fbccff4358",
              "version_minor": 0,
              "version_major": 2
            },
            "text/plain": [
              "HBox(children=(FloatProgress(value=0.0, max=50.0), HTML(value='')))"
            ]
          },
          "metadata": {
            "tags": []
          }
        },
        {
          "output_type": "stream",
          "text": [
            "\n"
          ],
          "name": "stdout"
        },
        {
          "output_type": "display_data",
          "data": {
            "application/vnd.jupyter.widget-view+json": {
              "model_id": "a02b33fa9e00461d852657cd8107bde7",
              "version_minor": 0,
              "version_major": 2
            },
            "text/plain": [
              "HBox(children=(FloatProgress(value=0.0, max=50.0), HTML(value='')))"
            ]
          },
          "metadata": {
            "tags": []
          }
        },
        {
          "output_type": "stream",
          "text": [
            "\n",
            "                  Brand                           Item\n",
            "top         Reformation                       Anne Top\n",
            "accessory  Sole Society                     Chusy Tote\n",
            "shoe             J.Crew              Lucie suede pumps\n",
            "bottom            Frame  Plaid Cropped Perfect Trouser\n",
            "############################################################################\n",
            "                 Brand                                  Item\n",
            "shoe            LEGRES                01 leather ankle boots\n",
            "top        Reformation                          Jane Sweater\n",
            "bottom           Frame         Plaid Cropped Perfect Trouser\n",
            "accessory        Loewe  Woven Fringe Open-Knit Wool Cardigan\n",
            "############################################################################\n",
            "                    Brand                                     Item\n",
            "top        VERONICA BEARD  Ashlynn Stripe & Spot Print Silk Blouse\n",
            "accessory    Sole Society                               Chusy Tote\n",
            "shoe       Veronica Beard                           Loretta Bootie\n",
            "bottom              Frame            Plaid Cropped Perfect Trouser\n",
            "############################################################################\n"
          ],
          "name": "stdout"
        }
      ]
    },
    {
      "cell_type": "code",
      "metadata": {
        "id": "WkgkvgPc9Ao7",
        "colab_type": "code",
        "colab": {
          "base_uri": "https://localhost:8080/",
          "height": 54
        },
        "outputId": "2d1e7b15-d05b-42a7-e28c-788c03f9d67e"
      },
      "source": [
        "outfit_full_df[outfit_full_df.product_full_name_x=='Plaid Cropped Perfect Trouser'].iloc[0].description"
      ],
      "execution_count": 61,
      "outputs": [
        {
          "output_type": "execute_result",
          "data": {
            "text/plain": [
              "'Versatile And Sleek, These Classic Crop Trousers Are Designed In A Flattering Slim Fit. Wears Yours With Everything From Silk Blouses To Your Favorite Knits.\\xa0'"
            ]
          },
          "metadata": {
            "tags": []
          },
          "execution_count": 61
        }
      ]
    },
    {
      "cell_type": "code",
      "metadata": {
        "id": "E1nBIk1v9K_6",
        "colab_type": "code",
        "colab": {}
      },
      "source": [
        ""
      ],
      "execution_count": 0,
      "outputs": []
    }
  ]
}
