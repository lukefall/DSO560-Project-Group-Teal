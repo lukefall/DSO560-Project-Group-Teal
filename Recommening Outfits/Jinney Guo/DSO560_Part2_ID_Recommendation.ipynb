{
 "cells": [
  {
   "cell_type": "code",
   "execution_count": 34,
   "metadata": {},
   "outputs": [],
   "source": [
    "import pandas as pd\n",
    "import numpy as np\n",
    "from fuzzywuzzy import fuzz \n",
    "from fuzzywuzzy import process"
   ]
  },
  {
   "cell_type": "code",
   "execution_count": 4,
   "metadata": {},
   "outputs": [],
   "source": [
    "outfit_df = pd.read_csv('outfit_combinations_clean_type.csv', index_col=0)"
   ]
  },
  {
   "cell_type": "code",
   "execution_count": 21,
   "metadata": {},
   "outputs": [],
   "source": [
    "def id_based_recommendation(product_id):\n",
    "    #fuzzywuzzy matching the product id if there is typo\n",
    "    product_id=process.extractOne(product_id, outfit_df['product_id'].values)[0]\n",
    "    outfit_recommend_group=outfit_df.loc[outfit_df['product_id']==product_id]['outfit_id'].unique()\n",
    "    \n",
    "    #if a product belongs to multiple outfit combination, randomly choose one\n",
    "    #so that different combincations of suitable items all have chance be picked up by customer\n",
    "    #this algorithm can also handle if a product only belong to one outfit group\n",
    "    outfit_recommend=np.random.choice(outfit_recommend_group, 1, replace=False)[0] \n",
    "    outfit_combination=outfit_df.loc[outfit_df['outfit_id']==outfit_recommend]\n",
    "    return outfit_combination"
   ]
  },
  {
   "cell_type": "code",
   "execution_count": 35,
   "metadata": {},
   "outputs": [
    {
     "data": {
      "text/html": [
       "<div>\n",
       "<style scoped>\n",
       "    .dataframe tbody tr th:only-of-type {\n",
       "        vertical-align: middle;\n",
       "    }\n",
       "\n",
       "    .dataframe tbody tr th {\n",
       "        vertical-align: top;\n",
       "    }\n",
       "\n",
       "    .dataframe thead th {\n",
       "        text-align: right;\n",
       "    }\n",
       "</style>\n",
       "<table border=\"1\" class=\"dataframe\">\n",
       "  <thead>\n",
       "    <tr style=\"text-align: right;\">\n",
       "      <th></th>\n",
       "      <th>outfit_id</th>\n",
       "      <th>product_id</th>\n",
       "      <th>outfit_item_type</th>\n",
       "      <th>brand</th>\n",
       "      <th>product_full_name</th>\n",
       "    </tr>\n",
       "  </thead>\n",
       "  <tbody>\n",
       "    <tr>\n",
       "      <th>4</th>\n",
       "      <td>01DMHCX50CFX5YNG99F3Y65GQW</td>\n",
       "      <td>01DMBRYVA2P5H24WK0HTK4R0A1</td>\n",
       "      <td>bottom</td>\n",
       "      <td>Eileen Fisher</td>\n",
       "      <td>Slim Knit Skirt</td>\n",
       "    </tr>\n",
       "    <tr>\n",
       "      <th>5</th>\n",
       "      <td>01DMHCX50CFX5YNG99F3Y65GQW</td>\n",
       "      <td>01DMBRYVA2PEPWFTT7RMP5AA1T</td>\n",
       "      <td>top</td>\n",
       "      <td>Eileen Fisher</td>\n",
       "      <td>Rib Mock Neck Tank</td>\n",
       "    </tr>\n",
       "    <tr>\n",
       "      <th>6</th>\n",
       "      <td>01DMHCX50CFX5YNG99F3Y65GQW</td>\n",
       "      <td>01DMBRYVA2ZFDYRYY5TRQZJTBD</td>\n",
       "      <td>shoe</td>\n",
       "      <td>Tory Burch</td>\n",
       "      <td>Penelope Mid Cap Toe Pump</td>\n",
       "    </tr>\n",
       "    <tr>\n",
       "      <th>7</th>\n",
       "      <td>01DMHCX50CFX5YNG99F3Y65GQW</td>\n",
       "      <td>01DMHCNT41E14QWP503V7CT9G6</td>\n",
       "      <td>accessory</td>\n",
       "      <td>Nina</td>\n",
       "      <td>Crystal Clutch</td>\n",
       "    </tr>\n",
       "  </tbody>\n",
       "</table>\n",
       "</div>"
      ],
      "text/plain": [
       "                    outfit_id                  product_id outfit_item_type  \\\n",
       "4  01DMHCX50CFX5YNG99F3Y65GQW  01DMBRYVA2P5H24WK0HTK4R0A1           bottom   \n",
       "5  01DMHCX50CFX5YNG99F3Y65GQW  01DMBRYVA2PEPWFTT7RMP5AA1T              top   \n",
       "6  01DMHCX50CFX5YNG99F3Y65GQW  01DMBRYVA2ZFDYRYY5TRQZJTBD             shoe   \n",
       "7  01DMHCX50CFX5YNG99F3Y65GQW  01DMHCNT41E14QWP503V7CT9G6        accessory   \n",
       "\n",
       "           brand          product_full_name  \n",
       "4  Eileen Fisher            Slim Knit Skirt  \n",
       "5  Eileen Fisher         Rib Mock Neck Tank  \n",
       "6     Tory Burch  Penelope Mid Cap Toe Pump  \n",
       "7           Nina             Crystal Clutch  "
      ]
     },
     "execution_count": 35,
     "metadata": {},
     "output_type": "execute_result"
    }
   ],
   "source": [
    "#using the correct productid '01DMBRYVA2ZFDYRYY5TRQZJTBD'\n",
    "# '01DMBRYVA2ZFDYRYY5TRQZJTBD' belongs to 4 different outfit group\n",
    "# so it is reasonable that the output could be different every time\n",
    "id_based_recommendation('01DMBRYVA2ZFDYRYY5TRQZJTBD')"
   ]
  },
  {
   "cell_type": "code",
   "execution_count": 28,
   "metadata": {},
   "outputs": [
    {
     "data": {
      "text/html": [
       "<div>\n",
       "<style scoped>\n",
       "    .dataframe tbody tr th:only-of-type {\n",
       "        vertical-align: middle;\n",
       "    }\n",
       "\n",
       "    .dataframe tbody tr th {\n",
       "        vertical-align: top;\n",
       "    }\n",
       "\n",
       "    .dataframe thead th {\n",
       "        text-align: right;\n",
       "    }\n",
       "</style>\n",
       "<table border=\"1\" class=\"dataframe\">\n",
       "  <thead>\n",
       "    <tr style=\"text-align: right;\">\n",
       "      <th></th>\n",
       "      <th>outfit_id</th>\n",
       "      <th>product_id</th>\n",
       "      <th>outfit_item_type</th>\n",
       "      <th>brand</th>\n",
       "      <th>product_full_name</th>\n",
       "    </tr>\n",
       "  </thead>\n",
       "  <tbody>\n",
       "    <tr>\n",
       "      <th>11</th>\n",
       "      <td>01DMHRYZDTF2NBJ13ZEARKHA3T</td>\n",
       "      <td>01DMBRYVA2Q2ST7MNYR6EEY4TK</td>\n",
       "      <td>onepiece</td>\n",
       "      <td>Equipment</td>\n",
       "      <td>Chemelle Midi Dress</td>\n",
       "    </tr>\n",
       "    <tr>\n",
       "      <th>12</th>\n",
       "      <td>01DMHRYZDTF2NBJ13ZEARKHA3T</td>\n",
       "      <td>01DMBRYVA2S5T9W793F4CY41HE</td>\n",
       "      <td>accessory</td>\n",
       "      <td>kate spade new york</td>\n",
       "      <td>medium margaux leather satchel</td>\n",
       "    </tr>\n",
       "    <tr>\n",
       "      <th>13</th>\n",
       "      <td>01DMHRYZDTF2NBJ13ZEARKHA3T</td>\n",
       "      <td>01DMBRYVA2ZFDYRYY5TRQZJTBD</td>\n",
       "      <td>shoe</td>\n",
       "      <td>Tory Burch</td>\n",
       "      <td>Penelope Mid Cap Toe Pump</td>\n",
       "    </tr>\n",
       "  </tbody>\n",
       "</table>\n",
       "</div>"
      ],
      "text/plain": [
       "                     outfit_id                  product_id outfit_item_type  \\\n",
       "11  01DMHRYZDTF2NBJ13ZEARKHA3T  01DMBRYVA2Q2ST7MNYR6EEY4TK         onepiece   \n",
       "12  01DMHRYZDTF2NBJ13ZEARKHA3T  01DMBRYVA2S5T9W793F4CY41HE        accessory   \n",
       "13  01DMHRYZDTF2NBJ13ZEARKHA3T  01DMBRYVA2ZFDYRYY5TRQZJTBD             shoe   \n",
       "\n",
       "                  brand               product_full_name  \n",
       "11            Equipment             Chemelle Midi Dress  \n",
       "12  kate spade new york  medium margaux leather satchel  \n",
       "13           Tory Burch       Penelope Mid Cap Toe Pump  "
      ]
     },
     "execution_count": 28,
     "metadata": {},
     "output_type": "execute_result"
    }
   ],
   "source": [
    "#using '01DMBRYVA2ZFDYRYY5TRQZJTB\"A\"' instead of the correct '01DMBRYVA2ZFDYRYY5TRQZJTB\"D\"'\n",
    "id_based_recommendation('01DMBRYVA2ZFDYRYY5TRQZJTBA')"
   ]
  },
  {
   "cell_type": "code",
   "execution_count": null,
   "metadata": {},
   "outputs": [],
   "source": []
  }
 ],
 "metadata": {
  "kernelspec": {
   "display_name": "Python 3",
   "language": "python",
   "name": "python3"
  },
  "language_info": {
   "codemirror_mode": {
    "name": "ipython",
    "version": 3
   },
   "file_extension": ".py",
   "mimetype": "text/x-python",
   "name": "python",
   "nbconvert_exporter": "python",
   "pygments_lexer": "ipython3",
   "version": "3.7.3"
  }
 },
 "nbformat": 4,
 "nbformat_minor": 2
}
